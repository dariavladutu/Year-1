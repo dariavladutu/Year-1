{
 "cells": [
  {
   "cell_type": "markdown",
   "metadata": {},
   "source": [
    "## Getting started with neural networks"
   ]
  },
  {
   "cell_type": "markdown",
   "metadata": {},
   "source": [
    "### Classifying movie reviews: A binary classification example"
   ]
  },
  {
   "cell_type": "code",
   "execution_count": 3,
   "metadata": {},
   "outputs": [],
   "source": [
    "# Load the IMDB dataset\n",
    "from tensorflow.keras.datasets import imdb\n",
    "(train_data, train_labels), (test_data, test_labels) = imdb.load_data(num_words=10000)"
   ]
  },
  {
   "cell_type": "code",
   "execution_count": 4,
   "metadata": {},
   "outputs": [],
   "source": [
    "# Decode the integer sequences via multi-hot encoding\n",
    "import numpy as np\n",
    "def vectorize_sequences(sequences, dimension=10000):\n",
    "    results = np.zeros((len(sequences), dimension))\n",
    "    for i, sequence in enumerate(sequences):\n",
    "        results[i, sequence] = 1.\n",
    "    return results\n",
    "\n",
    "# Vectorize the training and test data\n",
    "x_train = vectorize_sequences(train_data)\n",
    "x_test = vectorize_sequences(test_data)\n",
    "\n",
    "# Vectorize the training and test labels\n",
    "y_train = np.asarray(train_labels).astype('float32')\n",
    "y_test = np.asarray(test_labels).astype('float32')"
   ]
  },
  {
   "cell_type": "code",
   "execution_count": 5,
   "metadata": {},
   "outputs": [],
   "source": [
    "# Model definition\n",
    "from tensorflow import keras\n",
    "from tensorflow.keras import layers\n",
    "\n",
    "model = keras.Sequential([\n",
    "    layers.Dense(16, activation='relu'),\n",
    "    layers.Dense(16, activation='relu'),\n",
    "    layers.Dense(1, activation='sigmoid')\n",
    "])\n",
    "\n",
    "# Compile the model\n",
    "model.compile(optimizer= 'rmsprop',\n",
    "              loss = 'binary_crossentropy',\n",
    "              metrics = ['accuracy'])"
   ]
  },
  {
   "cell_type": "code",
   "execution_count": 6,
   "metadata": {},
   "outputs": [
    {
     "name": "stdout",
     "output_type": "stream",
     "text": [
      "Epoch 1/20\n"
     ]
    },
    {
     "name": "stderr",
     "output_type": "stream",
     "text": [
      "2024-02-28 17:47:43.365859: W tensorflow/tsl/platform/profile_utils/cpu_utils.cc:128] Failed to get CPU frequency: 0 Hz\n"
     ]
    },
    {
     "name": "stdout",
     "output_type": "stream",
     "text": [
      "30/30 [==============================] - 1s 28ms/step - loss: 0.5710 - accuracy: 0.7654 - val_loss: 0.4598 - val_accuracy: 0.8401\n",
      "Epoch 2/20\n",
      "30/30 [==============================] - 0s 10ms/step - loss: 0.3819 - accuracy: 0.8854 - val_loss: 0.3585 - val_accuracy: 0.8763\n",
      "Epoch 3/20\n",
      "30/30 [==============================] - 0s 13ms/step - loss: 0.2843 - accuracy: 0.9113 - val_loss: 0.3060 - val_accuracy: 0.8834\n",
      "Epoch 4/20\n",
      "30/30 [==============================] - 0s 10ms/step - loss: 0.2266 - accuracy: 0.9268 - val_loss: 0.2884 - val_accuracy: 0.8859\n",
      "Epoch 5/20\n",
      "30/30 [==============================] - 0s 8ms/step - loss: 0.1905 - accuracy: 0.9379 - val_loss: 0.3277 - val_accuracy: 0.8660\n",
      "Epoch 6/20\n",
      "30/30 [==============================] - 0s 8ms/step - loss: 0.1634 - accuracy: 0.9461 - val_loss: 0.2899 - val_accuracy: 0.8841\n",
      "Epoch 7/20\n",
      "30/30 [==============================] - 0s 8ms/step - loss: 0.1410 - accuracy: 0.9557 - val_loss: 0.2930 - val_accuracy: 0.8848\n",
      "Epoch 8/20\n",
      "30/30 [==============================] - 0s 10ms/step - loss: 0.1244 - accuracy: 0.9620 - val_loss: 0.3059 - val_accuracy: 0.8832\n",
      "Epoch 9/20\n",
      "30/30 [==============================] - 0s 13ms/step - loss: 0.1071 - accuracy: 0.9686 - val_loss: 0.3036 - val_accuracy: 0.8860\n",
      "Epoch 10/20\n",
      "30/30 [==============================] - 0s 10ms/step - loss: 0.0901 - accuracy: 0.9746 - val_loss: 0.3423 - val_accuracy: 0.8795\n",
      "Epoch 11/20\n",
      "30/30 [==============================] - 0s 7ms/step - loss: 0.0800 - accuracy: 0.9783 - val_loss: 0.3346 - val_accuracy: 0.8832\n",
      "Epoch 12/20\n",
      "30/30 [==============================] - 0s 7ms/step - loss: 0.0662 - accuracy: 0.9830 - val_loss: 0.3886 - val_accuracy: 0.8663\n",
      "Epoch 13/20\n",
      "30/30 [==============================] - 0s 7ms/step - loss: 0.0590 - accuracy: 0.9860 - val_loss: 0.3682 - val_accuracy: 0.8775\n",
      "Epoch 14/20\n",
      "30/30 [==============================] - 0s 7ms/step - loss: 0.0487 - accuracy: 0.9893 - val_loss: 0.3886 - val_accuracy: 0.8795\n",
      "Epoch 15/20\n",
      "30/30 [==============================] - 0s 7ms/step - loss: 0.0416 - accuracy: 0.9916 - val_loss: 0.4092 - val_accuracy: 0.8762\n",
      "Epoch 16/20\n",
      "30/30 [==============================] - 0s 7ms/step - loss: 0.0355 - accuracy: 0.9937 - val_loss: 0.4317 - val_accuracy: 0.8764\n",
      "Epoch 17/20\n",
      "30/30 [==============================] - 0s 7ms/step - loss: 0.0291 - accuracy: 0.9954 - val_loss: 0.4631 - val_accuracy: 0.8767\n",
      "Epoch 18/20\n",
      "30/30 [==============================] - 0s 7ms/step - loss: 0.0232 - accuracy: 0.9972 - val_loss: 0.5055 - val_accuracy: 0.8753\n",
      "Epoch 19/20\n",
      "30/30 [==============================] - 0s 7ms/step - loss: 0.0201 - accuracy: 0.9976 - val_loss: 0.5888 - val_accuracy: 0.8654\n",
      "Epoch 20/20\n",
      "30/30 [==============================] - 0s 7ms/step - loss: 0.0196 - accuracy: 0.9968 - val_loss: 0.5310 - val_accuracy: 0.8731\n"
     ]
    }
   ],
   "source": [
    "# Validating the approach\n",
    "x_val = x_train[:10000]\n",
    "partial_x_train = x_train[10000:]\n",
    "y_val = y_train[:10000]\n",
    "partial_y_train = y_train[10000:]\n",
    "\n",
    "# Train the model \n",
    "history = model.fit(partial_x_train,\n",
    "                    partial_y_train,\n",
    "                    epochs = 20,\n",
    "                    batch_size = 512,\n",
    "                    validation_data = (x_val, y_val))"
   ]
  },
  {
   "cell_type": "code",
   "execution_count": 7,
   "metadata": {},
   "outputs": [
    {
     "data": {
      "text/plain": [
       "dict_keys(['loss', 'accuracy', 'val_loss', 'val_accuracy'])"
      ]
     },
     "execution_count": 7,
     "metadata": {},
     "output_type": "execute_result"
    }
   ],
   "source": [
    "history_dict = history.history\n",
    "history_dict.keys()"
   ]
  },
  {
   "cell_type": "code",
   "execution_count": 8,
   "metadata": {},
   "outputs": [
    {
     "data": {
      "image/png": "[encoded data removed]",
      "text/plain": [
       "<Figure size 640x480 with 1 Axes>"
      ]
     },
     "metadata": {},
     "output_type": "display_data"
    }
   ],
   "source": [
    "# Plot the training and validation loss\n",
    "import matplotlib.pyplot as plt\n",
    "loss_values = history_dict['loss']\n",
    "val_loss_values = history_dict['val_loss']\n",
    "epochs = range (1, len(loss_values) + 1)\n",
    "plt.plot (epochs, loss_values, 'bo', label = 'Training loss')\n",
    "plt.plot (epochs, val_loss_values, 'b', label = 'Validation loss')\n",
    "plt.title(' Training and Validation loss')\n",
    "plt.xlabel('Epochs')\n",
    "plt.ylabel('Loss')\n",
    "plt.legend()\n",
    "plt.show()"
   ]
  },
  {
   "cell_type": "code",
   "execution_count": 9,
   "metadata": {},
   "outputs": [
    {
     "data": {
      "image/png": "[encoded data removed]",
      "text/plain": [
       "<Figure size 640x480 with 1 Axes>"
      ]
     },
     "metadata": {},
     "output_type": "display_data"
    }
   ],
   "source": [
    "# Plot the training and validation accuracy\n",
    "acc = history_dict['accuracy']\n",
    "val_acc = history_dict['val_accuracy']\n",
    "epochs = range (1, len(loss_values) + 1)\n",
    "plt.plot (epochs, acc, 'bo', label = 'Training accuracy')\n",
    "plt.plot (epochs, val_acc, 'b', label = 'Validation accuracy')\n",
    "plt.title(' Training and Validation accuracy')\n",
    "plt.xlabel('Epochs')\n",
    "plt.ylabel('Accuracy')\n",
    "plt.legend()\n",
    "plt.show()"
   ]
  },
  {
   "cell_type": "code",
   "execution_count": 10,
   "metadata": {},
   "outputs": [
    {
     "name": "stdout",
     "output_type": "stream",
     "text": [
      "Epoch 1/4\n",
      "49/49 [==============================] - 1s 6ms/step - loss: 0.4771 - accuracy: 0.8090\n",
      "Epoch 2/4\n",
      "49/49 [==============================] - 0s 5ms/step - loss: 0.2847 - accuracy: 0.9006\n",
      "Epoch 3/4\n",
      "49/49 [==============================] - 0s 5ms/step - loss: 0.2225 - accuracy: 0.9217\n",
      "Epoch 4/4\n",
      "49/49 [==============================] - 0s 8ms/step - loss: 0.1885 - accuracy: 0.9334\n",
      "782/782 [==============================] - 1s 589us/step - loss: 0.2832 - accuracy: 0.8858\n",
      "[0.28324902057647705, 0.8858000040054321]\n"
     ]
    }
   ],
   "source": [
    "# Retraining the model with less epochs to reduce overfitting\n",
    "# Create the model\n",
    "model = keras.Sequential([\n",
    "    layers.Dense(16, activation = 'relu'),\n",
    "    layers.Dense(16, activation = 'relu'),\n",
    "    layers.Dense(1, activation = 'sigmoid')\n",
    "\n",
    "])\n",
    "\n",
    "# Compile the model\n",
    "model.compile(optimizer= 'rmsprop',\n",
    "              loss = 'binary_crossentropy',\n",
    "              metrics = ['accuracy'])\n",
    "\n",
    "# Train the model\n",
    "model.fit(x_train, y_train, epochs = 4, batch_size= 512)\n",
    "\n",
    "print(model.evaluate(x_test,y_test))"
   ]
  },
  {
   "cell_type": "code",
   "execution_count": 11,
   "metadata": {},
   "outputs": [
    {
     "name": "stdout",
     "output_type": "stream",
     "text": [
      "782/782 [==============================] - 0s 411us/step\n"
     ]
    },
    {
     "data": {
      "text/plain": [
       "array([[0.19319479],\n",
       "       [0.9979563 ],\n",
       "       [0.67049325],\n",
       "       ...,\n",
       "       [0.07919712],\n",
       "       [0.06981897],\n",
       "       [0.59776723]], dtype=float32)"
      ]
     },
     "execution_count": 11,
     "metadata": {},
     "output_type": "execute_result"
    }
   ],
   "source": [
    "# Generate new predictions\n",
    "model.predict(x_test)"
   ]
  },
  {
   "cell_type": "markdown",
   "metadata": {},
   "source": [
    "The model is now confident for some samples (0.99 or more, or 0.01 or less), but less confident for others (0.28, 0.66)"
   ]
  },
  {
   "cell_type": "markdown",
   "metadata": {},
   "source": [
    "## Classifying newswires: A multiclass classification example"
   ]
  },
  {
   "cell_type": "code",
   "execution_count": 28,
   "metadata": {},
   "outputs": [],
   "source": [
    "# Load the Reuters dataset\n",
    "from tensorflow.keras.datasets import reuters\n",
    "(train_data, train_labels), (test_data, test_labels) = reuters.load_data(num_words=10000)"
   ]
  },
  {
   "cell_type": "code",
   "execution_count": 29,
   "metadata": {},
   "outputs": [],
   "source": [
    "# Encode the input data\n",
    "x_train = vectorize_sequences(train_data)\n",
    "x_test = vectorize_sequences(test_data)\n",
    "\n",
    "# One-hot encode the labels\n",
    "from tensorflow.keras.utils import to_categorical\n",
    "y_train = to_categorical(train_labels)\n",
    "y_test = to_categorical(test_labels)"
   ]
  },
  {
   "cell_type": "code",
   "execution_count": 30,
   "metadata": {},
   "outputs": [],
   "source": [
    "# Build the model\n",
    "model = keras.Sequential([\n",
    "    layers.Dense(64, activation = 'relu'),\n",
    "    layers.Dense(64, activation = 'relu'),\n",
    "    layers.Dense(46, activation = 'softmax')\n",
    "])\n",
    "\n",
    "# Compile the model\n",
    "model.compile(optimizer = 'rmsprop',\n",
    "              loss = 'categorical_crossentropy',\n",
    "              metrics = ['accuracy'])"
   ]
  },
  {
   "cell_type": "code",
   "execution_count": 31,
   "metadata": {},
   "outputs": [],
   "source": [
    "# Create the validation set\n",
    "x_val = x_train[:1000]\n",
    "partial_x_train = x_train[1000:]\n",
    "y_val = to_categorical(train_labels[:1000])\n",
    "partial_y_train = to_categorical(train_labels[1000:])"
   ]
  },
  {
   "cell_type": "code",
   "execution_count": 16,
   "metadata": {},
   "outputs": [
    {
     "name": "stdout",
     "output_type": "stream",
     "text": [
      "Epoch 1/20\n",
      "16/16 [==============================] - 0s 14ms/step - loss: 2.8729 - accuracy: 0.3861 - val_loss: 1.9478 - val_accuracy: 0.5840\n",
      "Epoch 2/20\n",
      "16/16 [==============================] - 0s 11ms/step - loss: 1.6472 - accuracy: 0.6488 - val_loss: 1.4561 - val_accuracy: 0.6770\n",
      "Epoch 3/20\n",
      "16/16 [==============================] - 0s 10ms/step - loss: 1.2685 - accuracy: 0.7285 - val_loss: 1.2547 - val_accuracy: 0.7220\n",
      "Epoch 4/20\n",
      "16/16 [==============================] - 0s 10ms/step - loss: 1.0555 - accuracy: 0.7722 - val_loss: 1.1357 - val_accuracy: 0.7520\n",
      "Epoch 5/20\n",
      "16/16 [==============================] - 0s 10ms/step - loss: 0.8823 - accuracy: 0.8068 - val_loss: 1.0521 - val_accuracy: 0.7760\n",
      "Epoch 6/20\n",
      "16/16 [==============================] - 0s 10ms/step - loss: 0.7463 - accuracy: 0.8354 - val_loss: 1.0063 - val_accuracy: 0.7750\n",
      "Epoch 7/20\n",
      "16/16 [==============================] - 0s 11ms/step - loss: 0.6289 - accuracy: 0.8611 - val_loss: 0.9429 - val_accuracy: 0.7950\n",
      "Epoch 8/20\n",
      "16/16 [==============================] - 0s 11ms/step - loss: 0.5269 - accuracy: 0.8849 - val_loss: 0.9296 - val_accuracy: 0.7950\n",
      "Epoch 9/20\n",
      "16/16 [==============================] - 0s 10ms/step - loss: 0.4448 - accuracy: 0.9054 - val_loss: 0.8861 - val_accuracy: 0.8160\n",
      "Epoch 10/20\n",
      "16/16 [==============================] - 0s 11ms/step - loss: 0.3803 - accuracy: 0.9193 - val_loss: 0.8798 - val_accuracy: 0.8120\n",
      "Epoch 11/20\n",
      "16/16 [==============================] - 0s 11ms/step - loss: 0.3237 - accuracy: 0.9303 - val_loss: 0.8677 - val_accuracy: 0.8160\n",
      "Epoch 12/20\n",
      "16/16 [==============================] - 0s 11ms/step - loss: 0.2819 - accuracy: 0.9385 - val_loss: 0.8610 - val_accuracy: 0.8200\n",
      "Epoch 13/20\n",
      "16/16 [==============================] - 0s 11ms/step - loss: 0.2492 - accuracy: 0.9415 - val_loss: 0.8813 - val_accuracy: 0.8210\n",
      "Epoch 14/20\n",
      "16/16 [==============================] - 0s 11ms/step - loss: 0.2218 - accuracy: 0.9469 - val_loss: 0.8898 - val_accuracy: 0.8200\n",
      "Epoch 15/20\n",
      "16/16 [==============================] - 0s 13ms/step - loss: 0.1987 - accuracy: 0.9498 - val_loss: 0.8931 - val_accuracy: 0.8210\n",
      "Epoch 16/20\n",
      "16/16 [==============================] - 0s 12ms/step - loss: 0.1814 - accuracy: 0.9525 - val_loss: 0.8989 - val_accuracy: 0.8130\n",
      "Epoch 17/20\n",
      "16/16 [==============================] - 0s 11ms/step - loss: 0.1712 - accuracy: 0.9525 - val_loss: 0.9460 - val_accuracy: 0.8120\n",
      "Epoch 18/20\n",
      "16/16 [==============================] - 0s 11ms/step - loss: 0.1578 - accuracy: 0.9534 - val_loss: 0.9073 - val_accuracy: 0.8180\n",
      "Epoch 19/20\n",
      "16/16 [==============================] - 0s 18ms/step - loss: 0.1463 - accuracy: 0.9544 - val_loss: 0.9740 - val_accuracy: 0.8040\n",
      "Epoch 20/20\n",
      "16/16 [==============================] - 0s 11ms/step - loss: 0.1393 - accuracy: 0.9572 - val_loss: 0.9196 - val_accuracy: 0.8090\n"
     ]
    }
   ],
   "source": [
    "# Train the model\n",
    "history = model.fit(partial_x_train,\n",
    "                    partial_y_train,\n",
    "                    epochs = 20,\n",
    "                    batch_size = 512,\n",
    "                    validation_data = (x_val, y_val))"
   ]
  },
  {
   "cell_type": "code",
   "execution_count": 19,
   "metadata": {},
   "outputs": [
    {
     "data": {
      "image/png": "[encoded data removed]",
      "text/plain": [
       "<Figure size 640x480 with 1 Axes>"
      ]
     },
     "metadata": {},
     "output_type": "display_data"
    }
   ],
   "source": [
    "# Plot the training and validation loss\n",
    "loss = history.history['loss']\n",
    "val_loss = history.history['val_loss']\n",
    "epochs = range (1, len(loss) + 1)\n",
    "plt.plot (epochs, loss, 'bo', label = 'Training loss')\n",
    "plt.plot (epochs, val_loss, 'b', label = 'Validation loss')\n",
    "plt.title(' Training and Validation loss')\n",
    "plt.xlabel('Epochs')\n",
    "plt.ylabel('Loss')\n",
    "plt.legend()\n",
    "plt.show()"
   ]
  },
  {
   "cell_type": "code",
   "execution_count": 20,
   "metadata": {},
   "outputs": [
    {
     "data": {
      "image/png": "[encoded data removed]",
      "text/plain": [
       "<Figure size 640x480 with 1 Axes>"
      ]
     },
     "metadata": {},
     "output_type": "display_data"
    }
   ],
   "source": [
    "# Plot the training and validation accuracy\n",
    "acc = history.history['accuracy']\n",
    "val_acc = history.history['val_accuracy']\n",
    "epochs = range (1, len(loss_values) + 1)\n",
    "plt.plot (epochs, acc, 'bo', label = 'Training accuracy')\n",
    "plt.plot (epochs, val_acc, 'b', label = 'Validation accuracy')\n",
    "plt.title(' Training and Validation accuracy')\n",
    "plt.xlabel('Epochs')\n",
    "plt.ylabel('Accuracy')\n",
    "plt.legend()\n",
    "plt.show()"
   ]
  },
  {
   "cell_type": "code",
   "execution_count": 21,
   "metadata": {},
   "outputs": [
    {
     "name": "stdout",
     "output_type": "stream",
     "text": [
      "Epoch 1/9\n",
      "18/18 [==============================] - 0s 13ms/step - loss: 2.5458 - accuracy: 0.5189\n",
      "Epoch 2/9\n",
      "18/18 [==============================] - 0s 16ms/step - loss: 1.4406 - accuracy: 0.6897\n",
      "Epoch 3/9\n",
      "18/18 [==============================] - 0s 10ms/step - loss: 1.1151 - accuracy: 0.7543\n",
      "Epoch 4/9\n",
      "18/18 [==============================] - 0s 10ms/step - loss: 0.9144 - accuracy: 0.8024\n",
      "Epoch 5/9\n",
      "18/18 [==============================] - 0s 9ms/step - loss: 0.7609 - accuracy: 0.8326\n",
      "Epoch 6/9\n",
      "18/18 [==============================] - 0s 10ms/step - loss: 0.6319 - accuracy: 0.8626\n",
      "Epoch 7/9\n",
      "18/18 [==============================] - 0s 10ms/step - loss: 0.5284 - accuracy: 0.8892\n",
      "Epoch 8/9\n",
      "18/18 [==============================] - 0s 10ms/step - loss: 0.4475 - accuracy: 0.9058\n",
      "Epoch 9/9\n",
      "18/18 [==============================] - 0s 10ms/step - loss: 0.3773 - accuracy: 0.9196\n",
      "71/71 [==============================] - 0s 851us/step - loss: 0.9196 - accuracy: 0.7939\n",
      "[0.9196027517318726, 0.7938557267189026]\n"
     ]
    }
   ],
   "source": [
    "# Retraining the model with less epochs to reduce overfitting\n",
    "# Create the model\n",
    "model = keras.Sequential([\n",
    "    layers.Dense(64, activation = 'relu'),\n",
    "    layers.Dense(64, activation = 'relu'),\n",
    "    layers.Dense(46, activation = 'sigmoid')\n",
    "\n",
    "])\n",
    "\n",
    "# Compile the model\n",
    "model.compile(optimizer= 'rmsprop',\n",
    "              loss = 'categorical_crossentropy',\n",
    "              metrics = ['accuracy'])\n",
    "\n",
    "# Train the model\n",
    "model.fit(x_train, y_train, epochs = 9, batch_size= 512)\n",
    "\n",
    "print(model.evaluate(x_test,y_test))"
   ]
  },
  {
   "cell_type": "markdown",
   "metadata": {},
   "source": [
    "In this case, we have 46 classes and they may not be equally represented. Therefore, we will evaluate the accuracy of a random baseline to check this empirically."
   ]
  },
  {
   "cell_type": "code",
   "execution_count": 22,
   "metadata": {},
   "outputs": [
    {
     "data": {
      "text/plain": [
       "0.19367764915405164"
      ]
     },
     "execution_count": 22,
     "metadata": {},
     "output_type": "execute_result"
    }
   ],
   "source": [
    "# Check the accuracy of a random baseline\n",
    "import copy\n",
    "test_labels_copy = copy.copy(test_labels)\n",
    "np.random.shuffle(test_labels_copy)\n",
    "hits_array = np.array(test_labels) == np.array(test_labels_copy)\n",
    "hits_array.mean()"
   ]
  },
  {
   "cell_type": "code",
   "execution_count": 23,
   "metadata": {},
   "outputs": [
    {
     "name": "stdout",
     "output_type": "stream",
     "text": [
      "71/71 [==============================] - 0s 830us/step\n"
     ]
    },
    {
     "data": {
      "text/plain": [
       "array([[2.70330207e-03, 1.63153708e-01, 6.84895366e-02, ...,\n",
       "        4.53601358e-03, 2.33900058e-03, 3.95564036e-03],\n",
       "       [4.65383902e-02, 6.86870754e-01, 8.44762087e-01, ...,\n",
       "        6.90525174e-02, 8.75845202e-04, 2.51517165e-03],\n",
       "       [2.91210383e-01, 9.94476676e-01, 1.47887781e-01, ...,\n",
       "        5.43713272e-02, 1.21470494e-02, 1.01947308e-01],\n",
       "       ...,\n",
       "       [1.03232265e-01, 4.40023184e-01, 1.88806087e-01, ...,\n",
       "        2.54756957e-02, 3.89618278e-02, 6.07977211e-02],\n",
       "       [2.87502091e-02, 8.37240636e-01, 2.29145482e-01, ...,\n",
       "        1.31011074e-02, 1.39585193e-02, 3.76142859e-02],\n",
       "       [4.26802605e-01, 9.31859434e-01, 3.89939517e-01, ...,\n",
       "        5.66596985e-02, 5.48679661e-03, 3.75451818e-02]], dtype=float32)"
      ]
     },
     "execution_count": 23,
     "metadata": {},
     "output_type": "execute_result"
    }
   ],
   "source": [
    "# Generate new predictions\n",
    "model.predict(x_test)"
   ]
  },
  {
   "cell_type": "markdown",
   "metadata": {},
   "source": [
    "### The importance of having sufficiently large intermediate layers"
   ]
  },
  {
   "cell_type": "code",
   "execution_count": 24,
   "metadata": {},
   "outputs": [
    {
     "name": "stdout",
     "output_type": "stream",
     "text": [
      "Epoch 1/20\n",
      "63/63 [==============================] - 1s 8ms/step - loss: 3.3241 - accuracy: 0.1560 - val_loss: 2.7943 - val_accuracy: 0.2370\n",
      "Epoch 2/20\n",
      "63/63 [==============================] - 0s 5ms/step - loss: 2.4344 - accuracy: 0.2518 - val_loss: 2.0946 - val_accuracy: 0.2600\n",
      "Epoch 3/20\n",
      "63/63 [==============================] - 0s 5ms/step - loss: 1.7719 - accuracy: 0.5625 - val_loss: 1.5690 - val_accuracy: 0.6530\n",
      "Epoch 4/20\n",
      "63/63 [==============================] - 0s 5ms/step - loss: 1.3977 - accuracy: 0.6780 - val_loss: 1.3951 - val_accuracy: 0.6720\n",
      "Epoch 5/20\n",
      "63/63 [==============================] - 0s 5ms/step - loss: 1.2295 - accuracy: 0.6939 - val_loss: 1.3236 - val_accuracy: 0.6720\n",
      "Epoch 6/20\n",
      "63/63 [==============================] - 0s 5ms/step - loss: 1.1083 - accuracy: 0.7047 - val_loss: 1.2812 - val_accuracy: 0.6780\n",
      "Epoch 7/20\n",
      "63/63 [==============================] - 0s 7ms/step - loss: 1.0079 - accuracy: 0.7357 - val_loss: 1.2417 - val_accuracy: 0.7070\n",
      "Epoch 8/20\n",
      "63/63 [==============================] - 1s 9ms/step - loss: 0.9210 - accuracy: 0.7611 - val_loss: 1.2266 - val_accuracy: 0.7060\n",
      "Epoch 9/20\n",
      "63/63 [==============================] - 0s 6ms/step - loss: 0.8471 - accuracy: 0.7767 - val_loss: 1.2297 - val_accuracy: 0.7130\n",
      "Epoch 10/20\n",
      "63/63 [==============================] - 0s 5ms/step - loss: 0.7848 - accuracy: 0.7918 - val_loss: 1.2485 - val_accuracy: 0.7140\n",
      "Epoch 11/20\n",
      "63/63 [==============================] - 0s 5ms/step - loss: 0.7332 - accuracy: 0.8062 - val_loss: 1.2615 - val_accuracy: 0.7160\n",
      "Epoch 12/20\n",
      "63/63 [==============================] - 0s 5ms/step - loss: 0.6857 - accuracy: 0.8210 - val_loss: 1.2771 - val_accuracy: 0.7120\n",
      "Epoch 13/20\n",
      "63/63 [==============================] - 0s 5ms/step - loss: 0.6434 - accuracy: 0.8363 - val_loss: 1.2987 - val_accuracy: 0.7140\n",
      "Epoch 14/20\n",
      "63/63 [==============================] - 0s 6ms/step - loss: 0.6028 - accuracy: 0.8528 - val_loss: 1.3624 - val_accuracy: 0.7160\n",
      "Epoch 15/20\n",
      "63/63 [==============================] - 0s 6ms/step - loss: 0.5688 - accuracy: 0.8608 - val_loss: 1.3498 - val_accuracy: 0.7210\n",
      "Epoch 16/20\n",
      "63/63 [==============================] - 0s 5ms/step - loss: 0.5371 - accuracy: 0.8649 - val_loss: 1.4185 - val_accuracy: 0.7150\n",
      "Epoch 17/20\n",
      "63/63 [==============================] - 0s 5ms/step - loss: 0.5094 - accuracy: 0.8698 - val_loss: 1.4478 - val_accuracy: 0.7000\n",
      "Epoch 18/20\n",
      "63/63 [==============================] - 0s 5ms/step - loss: 0.4879 - accuracy: 0.8742 - val_loss: 1.4924 - val_accuracy: 0.7070\n",
      "Epoch 19/20\n",
      "63/63 [==============================] - 0s 5ms/step - loss: 0.4648 - accuracy: 0.8777 - val_loss: 1.4969 - val_accuracy: 0.7150\n",
      "Epoch 20/20\n",
      "63/63 [==============================] - 0s 5ms/step - loss: 0.4426 - accuracy: 0.8791 - val_loss: 1.5105 - val_accuracy: 0.7100\n"
     ]
    },
    {
     "data": {
      "text/plain": [
       "<keras.callbacks.History at 0x2a511a140>"
      ]
     },
     "execution_count": 24,
     "metadata": {},
     "output_type": "execute_result"
    }
   ],
   "source": [
    "# A model with an information bottleneck\n",
    "model = keras.Sequential([\n",
    "    layers.Dense(64, activation = 'relu'),\n",
    "    layers.Dense(4, activation = 'relu'),\n",
    "    layers.Dense(46, activation = 'softmax')\n",
    "])\n",
    "\n",
    "model.compile(optimizer = 'rmsprop',\n",
    "                loss = 'categorical_crossentropy',\n",
    "                metrics = ['accuracy'])\n",
    "\n",
    "model.fit(partial_x_train,\n",
    "            partial_y_train,\n",
    "            epochs = 20,\n",
    "            batch_size = 128,\n",
    "            validation_data = (x_val, y_val))"
   ]
  },
  {
   "cell_type": "markdown",
   "metadata": {},
   "source": [
    "### Trying to improve the model (Section 4.2.8)"
   ]
  },
  {
   "cell_type": "code",
   "execution_count": 25,
   "metadata": {},
   "outputs": [
    {
     "name": "stdout",
     "output_type": "stream",
     "text": [
      "Epoch 1/20\n",
      "63/63 [==============================] - 1s 7ms/step - loss: 1.8490 - accuracy: 0.6186 - val_loss: 1.2214 - val_accuracy: 0.7120\n",
      "Epoch 2/20\n",
      "63/63 [==============================] - 0s 6ms/step - loss: 0.9747 - accuracy: 0.7830 - val_loss: 1.0127 - val_accuracy: 0.7950\n",
      "Epoch 3/20\n",
      "63/63 [==============================] - 0s 6ms/step - loss: 0.6654 - accuracy: 0.8552 - val_loss: 0.9123 - val_accuracy: 0.8080\n",
      "Epoch 4/20\n",
      "63/63 [==============================] - 0s 5ms/step - loss: 0.4641 - accuracy: 0.9007 - val_loss: 0.8690 - val_accuracy: 0.8170\n",
      "Epoch 5/20\n",
      "63/63 [==============================] - 0s 5ms/step - loss: 0.3330 - accuracy: 0.9252 - val_loss: 0.8740 - val_accuracy: 0.8230\n",
      "Epoch 6/20\n",
      "63/63 [==============================] - 0s 5ms/step - loss: 0.2597 - accuracy: 0.9405 - val_loss: 0.9442 - val_accuracy: 0.7960\n",
      "Epoch 7/20\n",
      "63/63 [==============================] - 0s 6ms/step - loss: 0.2186 - accuracy: 0.9465 - val_loss: 0.8874 - val_accuracy: 0.8260\n",
      "Epoch 8/20\n",
      "63/63 [==============================] - 0s 6ms/step - loss: 0.1919 - accuracy: 0.9486 - val_loss: 0.9339 - val_accuracy: 0.8160\n",
      "Epoch 9/20\n",
      "63/63 [==============================] - 0s 8ms/step - loss: 0.1753 - accuracy: 0.9534 - val_loss: 0.9477 - val_accuracy: 0.8090\n",
      "Epoch 10/20\n",
      "63/63 [==============================] - 0s 6ms/step - loss: 0.1603 - accuracy: 0.9550 - val_loss: 0.9460 - val_accuracy: 0.8230\n",
      "Epoch 11/20\n",
      "63/63 [==============================] - 0s 6ms/step - loss: 0.1520 - accuracy: 0.9557 - val_loss: 1.0055 - val_accuracy: 0.8110\n",
      "Epoch 12/20\n",
      "63/63 [==============================] - 0s 6ms/step - loss: 0.1442 - accuracy: 0.9569 - val_loss: 1.0137 - val_accuracy: 0.8120\n",
      "Epoch 13/20\n",
      "63/63 [==============================] - 0s 6ms/step - loss: 0.1400 - accuracy: 0.9569 - val_loss: 1.0415 - val_accuracy: 0.8050\n",
      "Epoch 14/20\n",
      "63/63 [==============================] - 0s 7ms/step - loss: 0.1353 - accuracy: 0.9563 - val_loss: 1.0265 - val_accuracy: 0.8040\n",
      "Epoch 15/20\n",
      "63/63 [==============================] - 0s 6ms/step - loss: 0.1269 - accuracy: 0.9588 - val_loss: 0.9955 - val_accuracy: 0.8120\n",
      "Epoch 16/20\n",
      "63/63 [==============================] - 0s 7ms/step - loss: 0.1273 - accuracy: 0.9572 - val_loss: 1.0434 - val_accuracy: 0.8120\n",
      "Epoch 17/20\n",
      "63/63 [==============================] - 0s 5ms/step - loss: 0.1222 - accuracy: 0.9583 - val_loss: 1.0235 - val_accuracy: 0.8060\n",
      "Epoch 18/20\n",
      "63/63 [==============================] - 0s 5ms/step - loss: 0.1214 - accuracy: 0.9570 - val_loss: 1.0967 - val_accuracy: 0.7810\n",
      "Epoch 19/20\n",
      "63/63 [==============================] - 0s 5ms/step - loss: 0.1192 - accuracy: 0.9560 - val_loss: 1.0590 - val_accuracy: 0.7940\n",
      "Epoch 20/20\n",
      "63/63 [==============================] - 0s 6ms/step - loss: 0.1187 - accuracy: 0.9562 - val_loss: 1.0418 - val_accuracy: 0.8010\n"
     ]
    },
    {
     "data": {
      "text/plain": [
       "<keras.callbacks.History at 0x2a3b4e4a0>"
      ]
     },
     "execution_count": 25,
     "metadata": {},
     "output_type": "execute_result"
    }
   ],
   "source": [
    "# Trying a model with one 128 layer\n",
    "model = keras.Sequential([\n",
    "    layers.Dense(64, activation = 'relu'),\n",
    "    layers.Dense(128, activation = 'relu'),\n",
    "    layers.Dense(46, activation = 'softmax')\n",
    "])\n",
    "\n",
    "model.compile(optimizer = 'rmsprop',\n",
    "                loss = 'categorical_crossentropy',\n",
    "                metrics = ['accuracy'])\n",
    "\n",
    "model.fit(partial_x_train,\n",
    "            partial_y_train,\n",
    "            epochs = 20,\n",
    "            batch_size = 128,\n",
    "            validation_data = (x_val, y_val))"
   ]
  },
  {
   "cell_type": "markdown",
   "metadata": {},
   "source": [
    "Validation accuracy increased by 8%"
   ]
  },
  {
   "cell_type": "code",
   "execution_count": 26,
   "metadata": {},
   "outputs": [
    {
     "name": "stdout",
     "output_type": "stream",
     "text": [
      "Epoch 1/20\n",
      "63/63 [==============================] - 1s 10ms/step - loss: 1.5981 - accuracy: 0.6614 - val_loss: 1.1057 - val_accuracy: 0.7460\n",
      "Epoch 2/20\n",
      "63/63 [==============================] - 1s 10ms/step - loss: 0.8002 - accuracy: 0.8161 - val_loss: 0.8816 - val_accuracy: 0.8130\n",
      "Epoch 3/20\n",
      "63/63 [==============================] - 1s 10ms/step - loss: 0.4885 - accuracy: 0.8955 - val_loss: 0.8502 - val_accuracy: 0.8070\n",
      "Epoch 4/20\n",
      "63/63 [==============================] - 1s 8ms/step - loss: 0.3281 - accuracy: 0.9280 - val_loss: 0.8095 - val_accuracy: 0.8300\n",
      "Epoch 5/20\n",
      "63/63 [==============================] - 1s 9ms/step - loss: 0.2458 - accuracy: 0.9434 - val_loss: 0.8676 - val_accuracy: 0.8260\n",
      "Epoch 6/20\n",
      "63/63 [==============================] - 1s 10ms/step - loss: 0.2057 - accuracy: 0.9478 - val_loss: 0.9707 - val_accuracy: 0.7990\n",
      "Epoch 7/20\n",
      "63/63 [==============================] - 1s 10ms/step - loss: 0.1825 - accuracy: 0.9524 - val_loss: 0.9324 - val_accuracy: 0.8030\n",
      "Epoch 8/20\n",
      "63/63 [==============================] - 1s 8ms/step - loss: 0.1639 - accuracy: 0.9546 - val_loss: 0.9373 - val_accuracy: 0.8130\n",
      "Epoch 9/20\n",
      "63/63 [==============================] - 1s 9ms/step - loss: 0.1603 - accuracy: 0.9539 - val_loss: 1.0101 - val_accuracy: 0.8010\n",
      "Epoch 10/20\n",
      "63/63 [==============================] - 1s 11ms/step - loss: 0.1440 - accuracy: 0.9545 - val_loss: 0.9703 - val_accuracy: 0.8100\n",
      "Epoch 11/20\n",
      "63/63 [==============================] - 1s 9ms/step - loss: 0.1360 - accuracy: 0.9584 - val_loss: 0.9291 - val_accuracy: 0.8120\n",
      "Epoch 12/20\n",
      "63/63 [==============================] - 1s 9ms/step - loss: 0.1330 - accuracy: 0.9565 - val_loss: 0.9483 - val_accuracy: 0.8180\n",
      "Epoch 13/20\n",
      "63/63 [==============================] - 1s 9ms/step - loss: 0.1275 - accuracy: 0.9568 - val_loss: 0.9389 - val_accuracy: 0.8130\n",
      "Epoch 14/20\n",
      "63/63 [==============================] - 1s 10ms/step - loss: 0.1209 - accuracy: 0.9574 - val_loss: 0.9782 - val_accuracy: 0.8060\n",
      "Epoch 15/20\n",
      "63/63 [==============================] - 1s 10ms/step - loss: 0.1214 - accuracy: 0.9557 - val_loss: 0.9390 - val_accuracy: 0.8200\n",
      "Epoch 16/20\n",
      "63/63 [==============================] - 1s 9ms/step - loss: 0.1156 - accuracy: 0.9572 - val_loss: 0.9898 - val_accuracy: 0.8140\n",
      "Epoch 17/20\n",
      "63/63 [==============================] - 1s 9ms/step - loss: 0.1149 - accuracy: 0.9554 - val_loss: 1.0310 - val_accuracy: 0.8070\n",
      "Epoch 18/20\n",
      "63/63 [==============================] - 1s 9ms/step - loss: 0.1116 - accuracy: 0.9546 - val_loss: 1.0914 - val_accuracy: 0.7980\n",
      "Epoch 19/20\n",
      "63/63 [==============================] - 1s 10ms/step - loss: 0.1106 - accuracy: 0.9563 - val_loss: 1.0155 - val_accuracy: 0.8090\n",
      "Epoch 20/20\n",
      "63/63 [==============================] - 1s 9ms/step - loss: 0.1021 - accuracy: 0.9568 - val_loss: 1.0511 - val_accuracy: 0.8090\n"
     ]
    },
    {
     "data": {
      "text/plain": [
       "<keras.callbacks.History at 0x175e13970>"
      ]
     },
     "execution_count": 26,
     "metadata": {},
     "output_type": "execute_result"
    }
   ],
   "source": [
    "# Trying a model with two 128 layers\n",
    "model = keras.Sequential([\n",
    "    layers.Dense(128, activation = 'relu'),\n",
    "    layers.Dense(128, activation = 'relu'),\n",
    "    layers.Dense(46, activation = 'softmax')\n",
    "])\n",
    "\n",
    "model.compile(optimizer = 'rmsprop',\n",
    "                loss = 'categorical_crossentropy',\n",
    "                metrics = ['accuracy'])\n",
    "\n",
    "model.fit(partial_x_train,\n",
    "            partial_y_train,\n",
    "            epochs = 20,\n",
    "            batch_size = 128,\n",
    "            validation_data = (x_val, y_val))"
   ]
  },
  {
   "cell_type": "markdown",
   "metadata": {},
   "source": [
    "Not a significant increase in validation accuracy."
   ]
  },
  {
   "cell_type": "code",
   "execution_count": 32,
   "metadata": {},
   "outputs": [
    {
     "name": "stdout",
     "output_type": "stream",
     "text": [
      "Epoch 1/20\n",
      "63/63 [==============================] - 1s 6ms/step - loss: 2.0459 - accuracy: 0.5822 - val_loss: 1.3597 - val_accuracy: 0.6980\n",
      "Epoch 2/20\n",
      "63/63 [==============================] - 0s 5ms/step - loss: 1.0958 - accuracy: 0.7631 - val_loss: 1.0670 - val_accuracy: 0.7540\n",
      "Epoch 3/20\n",
      "63/63 [==============================] - 0s 5ms/step - loss: 0.7790 - accuracy: 0.8309 - val_loss: 0.9446 - val_accuracy: 0.7980\n",
      "Epoch 4/20\n",
      "63/63 [==============================] - 0s 5ms/step - loss: 0.5735 - accuracy: 0.8752 - val_loss: 0.8763 - val_accuracy: 0.8080\n",
      "Epoch 5/20\n",
      "63/63 [==============================] - 0s 5ms/step - loss: 0.4274 - accuracy: 0.9093 - val_loss: 0.8661 - val_accuracy: 0.8170\n",
      "Epoch 6/20\n",
      "63/63 [==============================] - 0s 5ms/step - loss: 0.3340 - accuracy: 0.9295 - val_loss: 0.8590 - val_accuracy: 0.8210\n",
      "Epoch 7/20\n",
      "63/63 [==============================] - 0s 5ms/step - loss: 0.2669 - accuracy: 0.9412 - val_loss: 0.9175 - val_accuracy: 0.8120\n",
      "Epoch 8/20\n",
      "63/63 [==============================] - 0s 5ms/step - loss: 0.2244 - accuracy: 0.9493 - val_loss: 0.9294 - val_accuracy: 0.8120\n",
      "Epoch 9/20\n",
      "63/63 [==============================] - 0s 5ms/step - loss: 0.1943 - accuracy: 0.9514 - val_loss: 1.0175 - val_accuracy: 0.8000\n",
      "Epoch 10/20\n",
      "63/63 [==============================] - 0s 5ms/step - loss: 0.1736 - accuracy: 0.9538 - val_loss: 0.9242 - val_accuracy: 0.8110\n",
      "Epoch 11/20\n",
      "63/63 [==============================] - 0s 5ms/step - loss: 0.1650 - accuracy: 0.9536 - val_loss: 0.9368 - val_accuracy: 0.8140\n",
      "Epoch 12/20\n",
      "63/63 [==============================] - 0s 5ms/step - loss: 0.1529 - accuracy: 0.9543 - val_loss: 0.9866 - val_accuracy: 0.8090\n",
      "Epoch 13/20\n",
      "63/63 [==============================] - 0s 5ms/step - loss: 0.1479 - accuracy: 0.9546 - val_loss: 0.9944 - val_accuracy: 0.8130\n",
      "Epoch 14/20\n",
      "63/63 [==============================] - 0s 5ms/step - loss: 0.1452 - accuracy: 0.9544 - val_loss: 1.0038 - val_accuracy: 0.8050\n",
      "Epoch 15/20\n",
      "63/63 [==============================] - 0s 5ms/step - loss: 0.1358 - accuracy: 0.9563 - val_loss: 1.0192 - val_accuracy: 0.8060\n",
      "Epoch 16/20\n",
      "63/63 [==============================] - 0s 5ms/step - loss: 0.1309 - accuracy: 0.9545 - val_loss: 1.1076 - val_accuracy: 0.7980\n",
      "Epoch 17/20\n",
      "63/63 [==============================] - 0s 5ms/step - loss: 0.1273 - accuracy: 0.9567 - val_loss: 1.0782 - val_accuracy: 0.8040\n",
      "Epoch 18/20\n",
      "63/63 [==============================] - 0s 5ms/step - loss: 0.1256 - accuracy: 0.9560 - val_loss: 1.0753 - val_accuracy: 0.8030\n",
      "Epoch 19/20\n",
      "63/63 [==============================] - 0s 5ms/step - loss: 0.1244 - accuracy: 0.9558 - val_loss: 1.0411 - val_accuracy: 0.8150\n",
      "Epoch 20/20\n",
      "63/63 [==============================] - 0s 5ms/step - loss: 0.1197 - accuracy: 0.9570 - val_loss: 1.1164 - val_accuracy: 0.8010\n"
     ]
    },
    {
     "data": {
      "text/plain": [
       "<keras.callbacks.History at 0x2a2442d10>"
      ]
     },
     "execution_count": 32,
     "metadata": {},
     "output_type": "execute_result"
    }
   ],
   "source": [
    "# Trying a model with one 32 layer\n",
    "model = keras.Sequential([\n",
    "    layers.Dense(64, activation = 'relu'),\n",
    "    layers.Dense(32, activation = 'relu'),\n",
    "    layers.Dense(46, activation = 'softmax')\n",
    "])\n",
    "\n",
    "model.compile(optimizer = 'rmsprop',\n",
    "                loss = 'categorical_crossentropy',\n",
    "                metrics = ['accuracy'])\n",
    "\n",
    "model.fit(partial_x_train,\n",
    "            partial_y_train,\n",
    "            epochs = 20,\n",
    "            batch_size = 128,\n",
    "            validation_data = (x_val, y_val))"
   ]
  },
  {
   "cell_type": "code",
   "execution_count": 33,
   "metadata": {},
   "outputs": [
    {
     "name": "stdout",
     "output_type": "stream",
     "text": [
      "Epoch 1/20\n",
      "63/63 [==============================] - 0s 5ms/step - loss: 2.2491 - accuracy: 0.5172 - val_loss: 1.4248 - val_accuracy: 0.6850\n",
      "Epoch 2/20\n",
      "63/63 [==============================] - 0s 4ms/step - loss: 1.2021 - accuracy: 0.7273 - val_loss: 1.1472 - val_accuracy: 0.7400\n",
      "Epoch 3/20\n",
      "63/63 [==============================] - 0s 4ms/step - loss: 0.9064 - accuracy: 0.8002 - val_loss: 1.0197 - val_accuracy: 0.7790\n",
      "Epoch 4/20\n",
      "63/63 [==============================] - 0s 3ms/step - loss: 0.7032 - accuracy: 0.8495 - val_loss: 0.9664 - val_accuracy: 0.7840\n",
      "Epoch 5/20\n",
      "63/63 [==============================] - 0s 4ms/step - loss: 0.5518 - accuracy: 0.8817 - val_loss: 0.8975 - val_accuracy: 0.7970\n",
      "Epoch 6/20\n",
      "63/63 [==============================] - 0s 4ms/step - loss: 0.4344 - accuracy: 0.9072 - val_loss: 0.8907 - val_accuracy: 0.8190\n",
      "Epoch 7/20\n",
      "63/63 [==============================] - 0s 4ms/step - loss: 0.3530 - accuracy: 0.9237 - val_loss: 0.9020 - val_accuracy: 0.8070\n",
      "Epoch 8/20\n",
      "63/63 [==============================] - 0s 3ms/step - loss: 0.2910 - accuracy: 0.9372 - val_loss: 0.8810 - val_accuracy: 0.8220\n",
      "Epoch 9/20\n",
      "63/63 [==============================] - 0s 4ms/step - loss: 0.2456 - accuracy: 0.9451 - val_loss: 0.9039 - val_accuracy: 0.8210\n",
      "Epoch 10/20\n",
      "63/63 [==============================] - 0s 3ms/step - loss: 0.2136 - accuracy: 0.9494 - val_loss: 0.9444 - val_accuracy: 0.8180\n",
      "Epoch 11/20\n",
      "63/63 [==============================] - 0s 3ms/step - loss: 0.1918 - accuracy: 0.9515 - val_loss: 0.9310 - val_accuracy: 0.8150\n",
      "Epoch 12/20\n",
      "63/63 [==============================] - 0s 3ms/step - loss: 0.1753 - accuracy: 0.9520 - val_loss: 1.0247 - val_accuracy: 0.7980\n",
      "Epoch 13/20\n",
      "63/63 [==============================] - 0s 4ms/step - loss: 0.1587 - accuracy: 0.9530 - val_loss: 0.9883 - val_accuracy: 0.8070\n",
      "Epoch 14/20\n",
      "63/63 [==============================] - 0s 3ms/step - loss: 0.1460 - accuracy: 0.9558 - val_loss: 1.0238 - val_accuracy: 0.7960\n",
      "Epoch 15/20\n",
      "63/63 [==============================] - 0s 4ms/step - loss: 0.1390 - accuracy: 0.9578 - val_loss: 1.0161 - val_accuracy: 0.8030\n",
      "Epoch 16/20\n",
      "63/63 [==============================] - 0s 3ms/step - loss: 0.1377 - accuracy: 0.9545 - val_loss: 1.0584 - val_accuracy: 0.7990\n",
      "Epoch 17/20\n",
      "63/63 [==============================] - 0s 3ms/step - loss: 0.1323 - accuracy: 0.9575 - val_loss: 1.0223 - val_accuracy: 0.8090\n",
      "Epoch 18/20\n",
      "63/63 [==============================] - 0s 3ms/step - loss: 0.1280 - accuracy: 0.9574 - val_loss: 1.0715 - val_accuracy: 0.8010\n",
      "Epoch 19/20\n",
      "63/63 [==============================] - 0s 3ms/step - loss: 0.1238 - accuracy: 0.9574 - val_loss: 1.1091 - val_accuracy: 0.7910\n",
      "Epoch 20/20\n",
      "63/63 [==============================] - 0s 3ms/step - loss: 0.1248 - accuracy: 0.9564 - val_loss: 1.0800 - val_accuracy: 0.8040\n"
     ]
    },
    {
     "data": {
      "text/plain": [
       "<keras.callbacks.History at 0x16cad5660>"
      ]
     },
     "execution_count": 33,
     "metadata": {},
     "output_type": "execute_result"
    }
   ],
   "source": [
    "# Trying a model with two 32 layers\n",
    "model = keras.Sequential([\n",
    "    layers.Dense(32, activation = 'relu'),\n",
    "    layers.Dense(32, activation = 'relu'),\n",
    "    layers.Dense(46, activation = 'softmax')\n",
    "])\n",
    "\n",
    "model.compile(optimizer = 'rmsprop',\n",
    "                loss = 'categorical_crossentropy',\n",
    "                metrics = ['accuracy'])\n",
    "\n",
    "model.fit(partial_x_train,\n",
    "            partial_y_train,\n",
    "            epochs = 20,\n",
    "            batch_size = 128,\n",
    "            validation_data = (x_val, y_val))"
   ]
  },
  {
   "cell_type": "markdown",
   "metadata": {},
   "source": [
    "*Using a single intermediate layer*"
   ]
  },
  {
   "cell_type": "code",
   "execution_count": 34,
   "metadata": {},
   "outputs": [
    {
     "name": "stdout",
     "output_type": "stream",
     "text": [
      "Epoch 1/20\n",
      "63/63 [==============================] - 1s 7ms/step - loss: 1.9085 - accuracy: 0.6257 - val_loss: 1.2388 - val_accuracy: 0.7360\n",
      "Epoch 2/20\n",
      "63/63 [==============================] - 0s 5ms/step - loss: 0.9872 - accuracy: 0.7964 - val_loss: 0.9924 - val_accuracy: 0.8020\n",
      "Epoch 3/20\n",
      "63/63 [==============================] - 0s 5ms/step - loss: 0.6859 - accuracy: 0.8572 - val_loss: 0.8747 - val_accuracy: 0.8190\n",
      "Epoch 4/20\n",
      "63/63 [==============================] - 0s 5ms/step - loss: 0.4980 - accuracy: 0.8953 - val_loss: 0.8287 - val_accuracy: 0.8280\n",
      "Epoch 5/20\n",
      "63/63 [==============================] - 0s 5ms/step - loss: 0.3769 - accuracy: 0.9206 - val_loss: 0.7970 - val_accuracy: 0.8310\n",
      "Epoch 6/20\n",
      "63/63 [==============================] - 0s 6ms/step - loss: 0.2934 - accuracy: 0.9354 - val_loss: 0.7840 - val_accuracy: 0.8270\n",
      "Epoch 7/20\n",
      "63/63 [==============================] - 1s 9ms/step - loss: 0.2446 - accuracy: 0.9434 - val_loss: 0.7860 - val_accuracy: 0.8340\n",
      "Epoch 8/20\n",
      "63/63 [==============================] - 0s 7ms/step - loss: 0.2062 - accuracy: 0.9480 - val_loss: 0.8041 - val_accuracy: 0.8240\n",
      "Epoch 9/20\n",
      "63/63 [==============================] - 0s 6ms/step - loss: 0.1786 - accuracy: 0.9521 - val_loss: 0.7996 - val_accuracy: 0.8220\n",
      "Epoch 10/20\n",
      "63/63 [==============================] - 0s 5ms/step - loss: 0.1639 - accuracy: 0.9535 - val_loss: 0.8321 - val_accuracy: 0.8310\n",
      "Epoch 11/20\n",
      "63/63 [==============================] - 0s 6ms/step - loss: 0.1460 - accuracy: 0.9562 - val_loss: 0.8508 - val_accuracy: 0.8140\n",
      "Epoch 12/20\n",
      "63/63 [==============================] - 0s 6ms/step - loss: 0.1383 - accuracy: 0.9568 - val_loss: 0.8583 - val_accuracy: 0.8160\n",
      "Epoch 13/20\n",
      "63/63 [==============================] - 0s 5ms/step - loss: 0.1310 - accuracy: 0.9573 - val_loss: 0.8755 - val_accuracy: 0.8160\n",
      "Epoch 14/20\n",
      "63/63 [==============================] - 0s 7ms/step - loss: 0.1271 - accuracy: 0.9564 - val_loss: 0.8686 - val_accuracy: 0.8170\n",
      "Epoch 15/20\n",
      "63/63 [==============================] - 0s 5ms/step - loss: 0.1200 - accuracy: 0.9572 - val_loss: 0.9081 - val_accuracy: 0.8140\n",
      "Epoch 16/20\n",
      "63/63 [==============================] - 0s 5ms/step - loss: 0.1201 - accuracy: 0.9568 - val_loss: 0.9141 - val_accuracy: 0.8110\n",
      "Epoch 17/20\n",
      "63/63 [==============================] - 0s 5ms/step - loss: 0.1154 - accuracy: 0.9567 - val_loss: 0.9292 - val_accuracy: 0.8200\n",
      "Epoch 18/20\n",
      "63/63 [==============================] - 0s 5ms/step - loss: 0.1130 - accuracy: 0.9572 - val_loss: 0.9296 - val_accuracy: 0.8170\n",
      "Epoch 19/20\n",
      "63/63 [==============================] - 0s 7ms/step - loss: 0.1109 - accuracy: 0.9579 - val_loss: 0.9766 - val_accuracy: 0.8130\n",
      "Epoch 20/20\n",
      "63/63 [==============================] - 0s 6ms/step - loss: 0.1069 - accuracy: 0.9570 - val_loss: 0.9248 - val_accuracy: 0.8150\n"
     ]
    },
    {
     "data": {
      "text/plain": [
       "<keras.callbacks.History at 0x29e975750>"
      ]
     },
     "execution_count": 34,
     "metadata": {},
     "output_type": "execute_result"
    }
   ],
   "source": [
    "# Trying a model with a single intermediate layer of 64 units\n",
    "model = keras.Sequential([\n",
    "    layers.Dense(64, activation = 'relu'),\n",
    "    layers.Dense(46, activation = 'softmax')\n",
    "])\n",
    "\n",
    "model.compile(optimizer = 'rmsprop',\n",
    "                loss = 'categorical_crossentropy',\n",
    "                metrics = ['accuracy'])\n",
    "\n",
    "model.fit(partial_x_train,\n",
    "            partial_y_train,\n",
    "            epochs = 20,\n",
    "            batch_size = 128,\n",
    "            validation_data = (x_val, y_val))"
   ]
  },
  {
   "cell_type": "code",
   "execution_count": 37,
   "metadata": {},
   "outputs": [
    {
     "name": "stdout",
     "output_type": "stream",
     "text": [
      "Epoch 1/5\n",
      "63/63 [==============================] - 1s 10ms/step - loss: 1.6310 - accuracy: 0.6760 - val_loss: 1.0794 - val_accuracy: 0.7600\n",
      "Epoch 2/5\n",
      "63/63 [==============================] - 0s 7ms/step - loss: 0.7799 - accuracy: 0.8329 - val_loss: 0.8698 - val_accuracy: 0.8090\n",
      "Epoch 3/5\n",
      "63/63 [==============================] - 0s 7ms/step - loss: 0.4978 - accuracy: 0.8990 - val_loss: 0.8094 - val_accuracy: 0.8340\n",
      "Epoch 4/5\n",
      "63/63 [==============================] - 0s 7ms/step - loss: 0.3491 - accuracy: 0.9251 - val_loss: 0.7802 - val_accuracy: 0.8380\n",
      "Epoch 5/5\n",
      "63/63 [==============================] - 0s 8ms/step - loss: 0.2638 - accuracy: 0.9387 - val_loss: 0.7846 - val_accuracy: 0.8320\n"
     ]
    },
    {
     "data": {
      "text/plain": [
       "<keras.callbacks.History at 0x1771c7be0>"
      ]
     },
     "execution_count": 37,
     "metadata": {},
     "output_type": "execute_result"
    }
   ],
   "source": [
    "# Trying a model with a single intermediate layer of 128 units\n",
    "model = keras.Sequential([\n",
    "    layers.Dense(128, activation = 'relu'),\n",
    "    layers.Dense(46, activation = 'softmax')\n",
    "])\n",
    "\n",
    "model.compile(optimizer = 'rmsprop',\n",
    "                loss = 'categorical_crossentropy',\n",
    "                metrics = ['accuracy'])\n",
    "\n",
    "model.fit(partial_x_train,\n",
    "            partial_y_train,\n",
    "            epochs = 5, # I believe the model starts overfitting after 5 epochs\n",
    "            batch_size = 128,\n",
    "            validation_data = (x_val, y_val))"
   ]
  },
  {
   "cell_type": "code",
   "execution_count": 40,
   "metadata": {},
   "outputs": [
    {
     "name": "stdout",
     "output_type": "stream",
     "text": [
      "Epoch 1/7\n",
      "63/63 [==============================] - 0s 4ms/step - loss: 2.1514 - accuracy: 0.6171 - val_loss: 1.4390 - val_accuracy: 0.6830\n",
      "Epoch 2/7\n",
      "63/63 [==============================] - 0s 4ms/step - loss: 1.1927 - accuracy: 0.7483 - val_loss: 1.1225 - val_accuracy: 0.7570\n",
      "Epoch 3/7\n",
      "63/63 [==============================] - 0s 4ms/step - loss: 0.8963 - accuracy: 0.8057 - val_loss: 0.9875 - val_accuracy: 0.7880\n",
      "Epoch 4/7\n",
      "63/63 [==============================] - 0s 3ms/step - loss: 0.7063 - accuracy: 0.8537 - val_loss: 0.9115 - val_accuracy: 0.8100\n",
      "Epoch 5/7\n",
      "63/63 [==============================] - 0s 3ms/step - loss: 0.5664 - accuracy: 0.8870 - val_loss: 0.8551 - val_accuracy: 0.8150\n",
      "Epoch 6/7\n",
      "63/63 [==============================] - 0s 3ms/step - loss: 0.4605 - accuracy: 0.9065 - val_loss: 0.8251 - val_accuracy: 0.8150\n",
      "Epoch 7/7\n",
      "63/63 [==============================] - 0s 3ms/step - loss: 0.3777 - accuracy: 0.9221 - val_loss: 0.8022 - val_accuracy: 0.8240\n"
     ]
    },
    {
     "data": {
      "text/plain": [
       "<keras.callbacks.History at 0x2a024bbe0>"
      ]
     },
     "execution_count": 40,
     "metadata": {},
     "output_type": "execute_result"
    }
   ],
   "source": [
    "# Trying a model with a single intermediate layer of 32 units\n",
    "model = keras.Sequential([\n",
    "    layers.Dense(32, activation = 'relu'),\n",
    "    layers.Dense(46, activation = 'softmax')\n",
    "])\n",
    "\n",
    "model.compile(optimizer = 'rmsprop',\n",
    "                loss = 'categorical_crossentropy',\n",
    "                metrics = ['accuracy'])\n",
    "\n",
    "model.fit(partial_x_train,\n",
    "            partial_y_train,\n",
    "            epochs = 7, # I believe the model starts overfitting after 7 epochs\n",
    "            batch_size = 128,\n",
    "            validation_data = (x_val, y_val))"
   ]
  },
  {
   "cell_type": "markdown",
   "metadata": {},
   "source": [
    "*Using 3 intermediate layers*"
   ]
  },
  {
   "cell_type": "code",
   "execution_count": 43,
   "metadata": {},
   "outputs": [
    {
     "name": "stdout",
     "output_type": "stream",
     "text": [
      "Epoch 1/8\n",
      "63/63 [==============================] - 1s 9ms/step - loss: 1.9502 - accuracy: 0.5695 - val_loss: 1.3370 - val_accuracy: 0.7090\n",
      "Epoch 2/8\n",
      "63/63 [==============================] - 0s 5ms/step - loss: 1.1014 - accuracy: 0.7526 - val_loss: 1.0520 - val_accuracy: 0.7660\n",
      "Epoch 3/8\n",
      "63/63 [==============================] - 0s 5ms/step - loss: 0.7581 - accuracy: 0.8272 - val_loss: 1.0168 - val_accuracy: 0.7610\n",
      "Epoch 4/8\n",
      "63/63 [==============================] - 0s 5ms/step - loss: 0.5330 - accuracy: 0.8776 - val_loss: 0.9746 - val_accuracy: 0.7810\n",
      "Epoch 5/8\n",
      "63/63 [==============================] - 0s 5ms/step - loss: 0.3777 - accuracy: 0.9167 - val_loss: 0.9058 - val_accuracy: 0.8070\n",
      "Epoch 6/8\n",
      "63/63 [==============================] - 0s 5ms/step - loss: 0.2916 - accuracy: 0.9362 - val_loss: 0.9595 - val_accuracy: 0.7910\n",
      "Epoch 7/8\n",
      "63/63 [==============================] - 0s 5ms/step - loss: 0.2347 - accuracy: 0.9456 - val_loss: 1.0031 - val_accuracy: 0.8050\n",
      "Epoch 8/8\n",
      "63/63 [==============================] - 0s 5ms/step - loss: 0.2068 - accuracy: 0.9498 - val_loss: 0.9608 - val_accuracy: 0.7990\n"
     ]
    },
    {
     "data": {
      "text/plain": [
       "<keras.callbacks.History at 0x1759bf5b0>"
      ]
     },
     "execution_count": 43,
     "metadata": {},
     "output_type": "execute_result"
    }
   ],
   "source": [
    "# Trying a model with three intermediate layers of 64 units\n",
    "model = keras.Sequential([\n",
    "    layers.Dense(64, activation = 'relu'),\n",
    "    layers.Dense(64, activation = 'relu'),\n",
    "    layers.Dense(64, activation = 'relu'),\n",
    "    layers.Dense(46, activation = 'softmax')\n",
    "])\n",
    "\n",
    "model.compile(optimizer = 'rmsprop',\n",
    "                loss = 'categorical_crossentropy',\n",
    "                metrics = ['accuracy'])\n",
    "\n",
    "model.fit(partial_x_train,\n",
    "            partial_y_train,\n",
    "            epochs = 8, # I believe the model starts overfitting after 8 epochs\n",
    "            batch_size = 128,\n",
    "            validation_data = (x_val, y_val))"
   ]
  },
  {
   "cell_type": "markdown",
   "metadata": {},
   "source": [
    "### Predicting house prices: A regression example"
   ]
  },
  {
   "cell_type": "code",
   "execution_count": 44,
   "metadata": {},
   "outputs": [
    {
     "name": "stdout",
     "output_type": "stream",
     "text": [
      "Downloading data from https://storage.googleapis.com/tensorflow/tf-keras-datasets/boston_housing.npz\n",
      "57026/57026 [==============================] - 0s 0us/step\n"
     ]
    }
   ],
   "source": [
    "# Load the Boston housing dataset\n",
    "from tensorflow.keras.datasets import boston_housing\n",
    "(train_data, train_targets), (test_data, test_targets) = boston_housing.load_data()"
   ]
  },
  {
   "cell_type": "code",
   "execution_count": 46,
   "metadata": {},
   "outputs": [],
   "source": [
    "# Normalize the data\n",
    "mean = train_data.mean(axis = 0)\n",
    "train_data -= mean\n",
    "std = train_data.std(axis = 0)\n",
    "train_data /= std\n",
    "test_data -= mean\n",
    "test_data /= std"
   ]
  },
  {
   "cell_type": "code",
   "execution_count": 52,
   "metadata": {},
   "outputs": [
    {
     "data": {
      "text/plain": [
       "array([15.2, 42.3, 50. , 21.1, 17.7, 18.5, 11.3, 15.6, 15.6, 14.4, 12.1,\n",
       "       17.9, 23.1, 19.9, 15.7,  8.8, 50. , 22.5, 24.1, 27.5, 10.9, 30.8,\n",
       "       32.9, 24. , 18.5, 13.3, 22.9, 34.7, 16.6, 17.5, 22.3, 16.1, 14.9,\n",
       "       23.1, 34.9, 25. , 13.9, 13.1, 20.4, 20. , 15.2, 24.7, 22.2, 16.7,\n",
       "       12.7, 15.6, 18.4, 21. , 30.1, 15.1, 18.7,  9.6, 31.5, 24.8, 19.1,\n",
       "       22. , 14.5, 11. , 32. , 29.4, 20.3, 24.4, 14.6, 19.5, 14.1, 14.3,\n",
       "       15.6, 10.5,  6.3, 19.3, 19.3, 13.4, 36.4, 17.8, 13.5, 16.5,  8.3,\n",
       "       14.3, 16. , 13.4, 28.6, 43.5, 20.2, 22. , 23. , 20.7, 12.5, 48.5,\n",
       "       14.6, 13.4, 23.7, 50. , 21.7, 39.8, 38.7, 22.2, 34.9, 22.5, 31.1,\n",
       "       28.7, 46. , 41.7, 21. , 26.6, 15. , 24.4, 13.3, 21.2, 11.7, 21.7,\n",
       "       19.4, 50. , 22.8, 19.7, 24.7, 36.2, 14.2, 18.9, 18.3, 20.6, 24.6,\n",
       "       18.2,  8.7, 44. , 10.4, 13.2, 21.2, 37. , 30.7, 22.9, 20. , 19.3,\n",
       "       31.7, 32. , 23.1, 18.8, 10.9, 50. , 19.6,  5. , 14.4, 19.8, 13.8,\n",
       "       19.6, 23.9, 24.5, 25. , 19.9, 17.2, 24.6, 13.5, 26.6, 21.4, 11.9,\n",
       "       22.6, 19.6,  8.5, 23.7, 23.1, 22.4, 20.5, 23.6, 18.4, 35.2, 23.1,\n",
       "       27.9, 20.6, 23.7, 28. , 13.6, 27.1, 23.6, 20.6, 18.2, 21.7, 17.1,\n",
       "        8.4, 25.3, 13.8, 22.2, 18.4, 20.7, 31.6, 30.5, 20.3,  8.8, 19.2,\n",
       "       19.4, 23.1, 23. , 14.8, 48.8, 22.6, 33.4, 21.1, 13.6, 32.2, 13.1,\n",
       "       23.4, 18.9, 23.9, 11.8, 23.3, 22.8, 19.6, 16.7, 13.4, 22.2, 20.4,\n",
       "       21.8, 26.4, 14.9, 24.1, 23.8, 12.3, 29.1, 21. , 19.5, 23.3, 23.8,\n",
       "       17.8, 11.5, 21.7, 19.9, 25. , 33.4, 28.5, 21.4, 24.3, 27.5, 33.1,\n",
       "       16.2, 23.3, 48.3, 22.9, 22.8, 13.1, 12.7, 22.6, 15. , 15.3, 10.5,\n",
       "       24. , 18.5, 21.7, 19.5, 33.2, 23.2,  5. , 19.1, 12.7, 22.3, 10.2,\n",
       "       13.9, 16.3, 17. , 20.1, 29.9, 17.2, 37.3, 45.4, 17.8, 23.2, 29. ,\n",
       "       22. , 18. , 17.4, 34.6, 20.1, 25. , 15.6, 24.8, 28.2, 21.2, 21.4,\n",
       "       23.8, 31. , 26.2, 17.4, 37.9, 17.5, 20. ,  8.3, 23.9,  8.4, 13.8,\n",
       "        7.2, 11.7, 17.1, 21.6, 50. , 16.1, 20.4, 20.6, 21.4, 20.6, 36.5,\n",
       "        8.5, 24.8, 10.8, 21.9, 17.3, 18.9, 36.2, 14.9, 18.2, 33.3, 21.8,\n",
       "       19.7, 31.6, 24.8, 19.4, 22.8,  7.5, 44.8, 16.8, 18.7, 50. , 50. ,\n",
       "       19.5, 20.1, 50. , 17.2, 20.8, 19.3, 41.3, 20.4, 20.5, 13.8, 16.5,\n",
       "       23.9, 20.6, 31.5, 23.3, 16.8, 14. , 33.8, 36.1, 12.8, 18.3, 18.7,\n",
       "       19.1, 29. , 30.1, 50. , 50. , 22. , 11.9, 37.6, 50. , 22.7, 20.8,\n",
       "       23.5, 27.9, 50. , 19.3, 23.9, 22.6, 15.2, 21.7, 19.2, 43.8, 20.3,\n",
       "       33.2, 19.9, 22.5, 32.7, 22. , 17.1, 19. , 15. , 16.1, 25.1, 23.7,\n",
       "       28.7, 37.2, 22.6, 16.4, 25. , 29.8, 22.1, 17.4, 18.1, 30.3, 17.5,\n",
       "       24.7, 12.6, 26.5, 28.7, 13.3, 10.4, 24.4, 23. , 20. , 17.8,  7. ,\n",
       "       11.8, 24.4, 13.8, 19.4, 25.2, 19.4, 19.4, 29.1])"
      ]
     },
     "execution_count": 52,
     "metadata": {},
     "output_type": "execute_result"
    }
   ],
   "source": [
    "train_targets"
   ]
  },
  {
   "cell_type": "markdown",
   "metadata": {},
   "source": [
    "The targets are the median values of owner-occupied homes, in thousand of dollars. The prices are typically between $10000 and $50000."
   ]
  },
  {
   "cell_type": "code",
   "execution_count": 47,
   "metadata": {},
   "outputs": [],
   "source": [
    "# Build the model\n",
    "def build_model(): # Because we will need to instantiate the same model multiple times, we use a function to construct it\n",
    "    model = keras.Sequential([\n",
    "        layers.Dense(64, activation = 'relu'),\n",
    "        layers.Dense(64, activation = 'relu'),\n",
    "        layers.Dense(1)\n",
    "    ])\n",
    "    model.compile(optimizer = 'rmsprop',\n",
    "                  loss = 'mse',\n",
    "                  metrics = ['mae'])\n",
    "    return model"
   ]
  },
  {
   "cell_type": "markdown",
   "metadata": {},
   "source": [
    "We will use k-fold validation instead of regular validation because splitting the already small data in a validation set would cause the validation scores to fluctuate."
   ]
  },
  {
   "cell_type": "code",
   "execution_count": 49,
   "metadata": {},
   "outputs": [
    {
     "name": "stdout",
     "output_type": "stream",
     "text": [
      "processing fold #0\n",
      "processing fold #1\n",
      "processing fold #2\n",
      "processing fold #3\n"
     ]
    }
   ],
   "source": [
    "# K-fold validation\n",
    "k = 4\n",
    "num_val_samples = len(train_data) // k\n",
    "num_epochs = 100\n",
    "all_scores = []\n",
    "for i in range(k):\n",
    "    print(f'processing fold #{i}')\n",
    "    val_data = train_data[i * num_val_samples: (i + 1) * num_val_samples] # Prepare the validation data: data from partition #k\n",
    "    val_targets = train_targets[i * num_val_samples: (i + 1) * num_val_samples]\n",
    "    partial_train_data = np.concatenate([train_data[:i * num_val_samples], train_data[(i + 1) * num_val_samples:]], axis = 0) # Prepare the training data: data from all other partitions\n",
    "    partial_train_targets = np.concatenate([train_targets[:i * num_val_samples], train_targets[(i + 1) * num_val_samples:]], axis = 0)\n",
    "    model = build_model() # Build the Keras model (already compiled)\n",
    "    model.fit(partial_train_data, partial_train_targets, epochs = num_epochs, batch_size = 1, verbose = 0)\n",
    "    val_mse, val_mae = model.evaluate(val_data, val_targets, verbose = 0) # Evaluate the model on the validation data\n",
    "    all_scores.append(val_mae)"
   ]
  },
  {
   "cell_type": "code",
   "execution_count": 51,
   "metadata": {},
   "outputs": [
    {
     "name": "stdout",
     "output_type": "stream",
     "text": [
      "[2.6523659229278564, 2.4676973819732666, 2.5649986267089844, 2.3816168308258057]\n",
      "2.5166696906089783\n"
     ]
    }
   ],
   "source": [
    "print(all_scores)\n",
    "print(np.mean(all_scores))"
   ]
  },
  {
   "cell_type": "markdown",
   "metadata": {},
   "source": [
    "This means that we are off by $2600, on average, which is significant since th eprices range from $10000 and $50000."
   ]
  },
  {
   "cell_type": "code",
   "execution_count": 53,
   "metadata": {},
   "outputs": [
    {
     "name": "stdout",
     "output_type": "stream",
     "text": [
      "processing fold #0\n",
      "processing fold #1\n",
      "processing fold #2\n",
      "processing fold #3\n"
     ]
    }
   ],
   "source": [
    "# Saving the validation logs at each fold\n",
    "num_epochs = 500\n",
    "all_mae_histories = []\n",
    "for i in range(k):\n",
    "    print(f'processing fold #{i}')\n",
    "    val_data = train_data[i * num_val_samples: (i + 1) * num_val_samples] # Prepare the validation data: data from partition #k\n",
    "    val_targets = train_targets[i * num_val_samples: (i + 1) * num_val_samples]\n",
    "    partial_train_data = np.concatenate([train_data[:i * num_val_samples], train_data[(i + 1) * num_val_samples:]], axis = 0) # Prepare the training data: data from all other partitions\n",
    "    partial_train_targets = np.concatenate([train_targets[:i * num_val_samples], train_targets[(i + 1) * num_val_samples:]], axis = 0)\n",
    "    model = build_model() # Build the Keras model (already compiled)\n",
    "    history = model.fit(partial_train_data, partial_train_targets, validation_data = (val_data, val_targets), epochs = num_epochs, batch_size = 1, verbose = 0) # Train the model (in silent mode, verbose = 0)\n",
    "    mae_history = history.history['val_mae']\n",
    "    all_mae_histories.append(mae_history)"
   ]
  },
  {
   "cell_type": "markdown",
   "metadata": {},
   "source": [
    "Validation MAE stops improving significantly after 120- 140 epochs. Past that point, we start overfitting."
   ]
  },
  {
   "cell_type": "code",
   "execution_count": 54,
   "metadata": {},
   "outputs": [
    {
     "data": {
      "image/png": "[encoded data removed]",
      "text/plain": [
       "<Figure size 640x480 with 1 Axes>"
      ]
     },
     "metadata": {},
     "output_type": "display_data"
    }
   ],
   "source": [
    "# Building the history of successive mean K-fold validation scores\n",
    "average_mae_history = [np.mean([x[i] for x in all_mae_histories]) for i in range(num_epochs)]\n",
    "\n",
    "# Plotting validation scores\n",
    "plt.plot(range(1, len(average_mae_history) + 1), average_mae_history)\n",
    "plt.xlabel('Epochs')\n",
    "plt.ylabel('Validation MAE')\n",
    "plt.show()"
   ]
  },
  {
   "cell_type": "code",
   "execution_count": 56,
   "metadata": {},
   "outputs": [
    {
     "name": "stdout",
     "output_type": "stream",
     "text": [
      "4/4 [==============================] - 0s 813us/step - loss: 17.9479 - mae: 2.5868\n"
     ]
    },
    {
     "data": {
      "text/plain": [
       "2.5868046283721924"
      ]
     },
     "execution_count": 56,
     "metadata": {},
     "output_type": "execute_result"
    }
   ],
   "source": [
    "# Training the final model\n",
    "model = build_model()\n",
    "model.fit(train_data, train_targets, epochs = 80, batch_size = 16, verbose = 0)\n",
    "test_mse_score, test_mae_score = model.evaluate(test_data, test_targets)\n",
    "test_mae_score"
   ]
  },
  {
   "cell_type": "code",
   "execution_count": 58,
   "metadata": {},
   "outputs": [
    {
     "name": "stdout",
     "output_type": "stream",
     "text": [
      "4/4 [==============================] - 0s 1ms/step\n"
     ]
    },
    {
     "data": {
      "text/plain": [
       "array([8.310929], dtype=float32)"
      ]
     },
     "execution_count": 58,
     "metadata": {},
     "output_type": "execute_result"
    }
   ],
   "source": [
    "# Generate new predictions\n",
    "predictions = model.predict(test_data)\n",
    "predictions[0]"
   ]
  },
  {
   "cell_type": "markdown",
   "metadata": {},
   "source": [
    "With this scalar regression model, predict() returns the model's guess for the sample's price in thousand of dollars. The first house in the test set is predicted to have a price of about $8000."
   ]
  }
 ],
 "metadata": {
  "kernelspec": {
   "display_name": "block_c",
   "language": "python",
   "name": "python3"
  },
  "language_info": {
   "codemirror_mode": {
    "name": "ipython",
    "version": 3
   },
   "file_extension": ".py",
   "mimetype": "text/x-python",
   "name": "python",
   "nbconvert_exporter": "python",
   "pygments_lexer": "ipython3",
   "version": "3.10.13"
  }
 },
 "nbformat": 4,
 "nbformat_minor": 2
}
