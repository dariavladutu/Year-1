{
 "cells": [
  {
   "cell_type": "markdown",
   "metadata": {},
   "source": [
    "# Practical Assignment I: Multilayer Perceptrons"
   ]
  },
  {
   "cell_type": "markdown",
   "metadata": {},
   "source": [
    "Multilayer perceptron (MLP) is a fully connected, feedforward neural network architecture. It consists of one input layer, one or more hidden layers, and one output layer. Each layer consists of units (also called neurons, or nodes).\n",
    "\n",
    "Each unit is connected to every unit in a neighboring layer, hence fully connected. This is why in Keras these layers are called `Dense`. Information flows from left to right, hence feedforward.\n",
    "\n",
    "<img src=\"https://edirlei.com/images/nn1.png\" width=\"800\">"
   ]
  },
  {
   "cell_type": "markdown",
   "metadata": {},
   "source": [
    "**Learning objectives:**\n",
    "\n",
    "At the end of this DataLab, you will be able to build MLPs using Keras for the following problem types:\n",
    "\n",
    " - Regression\n",
    " - Binary classification\n",
    " - Multi-class classification\n",
    " - Multi-label classification\n",
    " \n",
    "For each type, you will be given a suitable dataset. Then you will:\n",
    "\n",
    " - Pre-process the data if needed\n",
    " - Create a `Sequential()` model\n",
    " - Compile the model by defining a loss function, an optimizer and the metrics to be calculated\n",
    " - Train the model using the `fit()` method\n",
    " - Test the model using the `predict()` and `evaluate()` methods\n",
    " \n",
    " \n",
    " **Notebook contents:**\n",
    " \n",
    " 1. Regression\n",
    " 2. Binary classification\n",
    " 3. Multi-class classification\n",
    " 4. Multi-label classification"
   ]
  },
  {
   "cell_type": "markdown",
   "metadata": {},
   "source": [
    "**Packages:**\n",
    "\n",
    "Let's start by importing the basic packages required for this DataLab:"
   ]
  },
  {
   "cell_type": "code",
   "execution_count": 71,
   "metadata": {},
   "outputs": [],
   "source": [
    "import pandas as pd\n",
    "import numpy as np\n",
    "import matplotlib.pyplot as plt\n",
    "import tensorflow"
   ]
  },
  {
   "cell_type": "markdown",
   "metadata": {},
   "source": [
    "## 1. Regression"
   ]
  },
  {
   "cell_type": "markdown",
   "metadata": {},
   "source": [
    "The goal of a regression task is to predict a continuous outcome variable (dependent variable) based on one or more predictor variables (independent variables).\n",
    "\n",
    "**The dataset**\n",
    "\n",
    "In this task, you will use the diabetes dataset provided by `scikit-learn`.\n",
    "\n",
    "Please read the dataset documentation before you start:\n",
    "\n",
    "https://scikit-learn.org/stable/datasets/toy_dataset.html#diabetes-dataset\n",
    "\n",
    "Now let's load the data and display some samples from the dataset:"
   ]
  },
  {
   "cell_type": "code",
   "execution_count": 72,
   "metadata": {},
   "outputs": [
    {
     "data": {
      "text/html": [
       "<div>\n",
       "<style scoped>\n",
       "    .dataframe tbody tr th:only-of-type {\n",
       "        vertical-align: middle;\n",
       "    }\n",
       "\n",
       "    .dataframe tbody tr th {\n",
       "        vertical-align: top;\n",
       "    }\n",
       "\n",
       "    .dataframe thead th {\n",
       "        text-align: right;\n",
       "    }\n",
       "</style>\n",
       "<table border=\"1\" class=\"dataframe\">\n",
       "  <thead>\n",
       "    <tr style=\"text-align: right;\">\n",
       "      <th></th>\n",
       "      <th>age</th>\n",
       "      <th>sex</th>\n",
       "      <th>bmi</th>\n",
       "      <th>bp</th>\n",
       "      <th>s1</th>\n",
       "      <th>s2</th>\n",
       "      <th>s3</th>\n",
       "      <th>s4</th>\n",
       "      <th>s5</th>\n",
       "      <th>s6</th>\n",
       "      <th>disease progression</th>\n",
       "    </tr>\n",
       "  </thead>\n",
       "  <tbody>\n",
       "    <tr>\n",
       "      <th>0</th>\n",
       "      <td>0.038076</td>\n",
       "      <td>0.050680</td>\n",
       "      <td>0.061696</td>\n",
       "      <td>0.021872</td>\n",
       "      <td>-0.044223</td>\n",
       "      <td>-0.034821</td>\n",
       "      <td>-0.043401</td>\n",
       "      <td>-0.002592</td>\n",
       "      <td>0.019907</td>\n",
       "      <td>-0.017646</td>\n",
       "      <td>151.0</td>\n",
       "    </tr>\n",
       "    <tr>\n",
       "      <th>1</th>\n",
       "      <td>-0.001882</td>\n",
       "      <td>-0.044642</td>\n",
       "      <td>-0.051474</td>\n",
       "      <td>-0.026328</td>\n",
       "      <td>-0.008449</td>\n",
       "      <td>-0.019163</td>\n",
       "      <td>0.074412</td>\n",
       "      <td>-0.039493</td>\n",
       "      <td>-0.068332</td>\n",
       "      <td>-0.092204</td>\n",
       "      <td>75.0</td>\n",
       "    </tr>\n",
       "    <tr>\n",
       "      <th>2</th>\n",
       "      <td>0.085299</td>\n",
       "      <td>0.050680</td>\n",
       "      <td>0.044451</td>\n",
       "      <td>-0.005670</td>\n",
       "      <td>-0.045599</td>\n",
       "      <td>-0.034194</td>\n",
       "      <td>-0.032356</td>\n",
       "      <td>-0.002592</td>\n",
       "      <td>0.002861</td>\n",
       "      <td>-0.025930</td>\n",
       "      <td>141.0</td>\n",
       "    </tr>\n",
       "    <tr>\n",
       "      <th>3</th>\n",
       "      <td>-0.089063</td>\n",
       "      <td>-0.044642</td>\n",
       "      <td>-0.011595</td>\n",
       "      <td>-0.036656</td>\n",
       "      <td>0.012191</td>\n",
       "      <td>0.024991</td>\n",
       "      <td>-0.036038</td>\n",
       "      <td>0.034309</td>\n",
       "      <td>0.022688</td>\n",
       "      <td>-0.009362</td>\n",
       "      <td>206.0</td>\n",
       "    </tr>\n",
       "    <tr>\n",
       "      <th>4</th>\n",
       "      <td>0.005383</td>\n",
       "      <td>-0.044642</td>\n",
       "      <td>-0.036385</td>\n",
       "      <td>0.021872</td>\n",
       "      <td>0.003935</td>\n",
       "      <td>0.015596</td>\n",
       "      <td>0.008142</td>\n",
       "      <td>-0.002592</td>\n",
       "      <td>-0.031988</td>\n",
       "      <td>-0.046641</td>\n",
       "      <td>135.0</td>\n",
       "    </tr>\n",
       "  </tbody>\n",
       "</table>\n",
       "</div>"
      ],
      "text/plain": [
       "        age       sex       bmi        bp        s1        s2        s3  \\\n",
       "0  0.038076  0.050680  0.061696  0.021872 -0.044223 -0.034821 -0.043401   \n",
       "1 -0.001882 -0.044642 -0.051474 -0.026328 -0.008449 -0.019163  0.074412   \n",
       "2  0.085299  0.050680  0.044451 -0.005670 -0.045599 -0.034194 -0.032356   \n",
       "3 -0.089063 -0.044642 -0.011595 -0.036656  0.012191  0.024991 -0.036038   \n",
       "4  0.005383 -0.044642 -0.036385  0.021872  0.003935  0.015596  0.008142   \n",
       "\n",
       "         s4        s5        s6  disease progression  \n",
       "0 -0.002592  0.019907 -0.017646                151.0  \n",
       "1 -0.039493 -0.068332 -0.092204                 75.0  \n",
       "2 -0.002592  0.002861 -0.025930                141.0  \n",
       "3  0.034309  0.022688 -0.009362                206.0  \n",
       "4 -0.002592 -0.031988 -0.046641                135.0  "
      ]
     },
     "execution_count": 72,
     "metadata": {},
     "output_type": "execute_result"
    }
   ],
   "source": [
    "from sklearn import datasets\n",
    "diabetes = datasets.load_diabetes()\n",
    "X = diabetes.data\n",
    "y = diabetes.target\n",
    "names = diabetes.feature_names\n",
    "Xy_combined = np.concatenate((X, y[:, np.newaxis]), axis=1)\n",
    "df = pd.DataFrame(Xy_combined,\n",
    "                  columns=names + ['disease progression'])\n",
    "df.head()"
   ]
  },
  {
   "cell_type": "markdown",
   "metadata": {},
   "source": [
    "Let's split the dataset into a training set and a testing set using function ``train_test_split``:"
   ]
  },
  {
   "cell_type": "code",
   "execution_count": 73,
   "metadata": {},
   "outputs": [],
   "source": [
    "from sklearn.model_selection import train_test_split\n",
    "X_train, X_test, y_train, y_test = train_test_split(X,\n",
    "                                                    y,\n",
    "                                                    test_size=0.33,\n",
    "                                                    random_state=0)"
   ]
  },
  {
   "cell_type": "markdown",
   "metadata": {},
   "source": [
    "Now we can visualize the dimensions of the sets:"
   ]
  },
  {
   "cell_type": "code",
   "execution_count": 74,
   "metadata": {},
   "outputs": [
    {
     "data": {
      "text/plain": [
       "((296, 10), (146, 10), (296,), (146,))"
      ]
     },
     "execution_count": 74,
     "metadata": {},
     "output_type": "execute_result"
    }
   ],
   "source": [
    "X_train.shape, X_test.shape, y_train.shape, y_test.shape"
   ]
  },
  {
   "cell_type": "markdown",
   "metadata": {},
   "source": [
    "**Task 1.1**\n",
    "Build an MLP suitable for the diabetes dataset. Use a `Sequential()` model and `Dense` layers from Keras. You are free to pick any number of hidden layers and any number of units per layer as long as it works.  Use suitable activation functions."
   ]
  },
  {
   "cell_type": "code",
   "execution_count": 75,
   "metadata": {},
   "outputs": [],
   "source": [
    "# Import the Sequential model and Dense layer\n",
    "from tensorflow.keras.models import Sequential\n",
    "from tensorflow.keras.layers import Dense\n",
    "\n",
    "# Create a Sequential model\n",
    "model = Sequential()\n",
    "\n",
    "# Add 1 dense layers of 64 neurons\n",
    "model.add(Dense(64, input_shape=(10,), activation='relu'))\n",
    "model.add(Dense(64, activation='relu'))\n",
    "model.add(Dense(64, activation='relu'))\n",
    "\n",
    "# Add a dense layer \n",
    "model.add(Dense(1))"
   ]
  },
  {
   "cell_type": "markdown",
   "metadata": {},
   "source": [
    "**Task 1.2**\n",
    "Using `model.compile()`, compile the model. Select a suitable optimizer and a suitable loss function. Also include a metric or metrics."
   ]
  },
  {
   "cell_type": "code",
   "execution_count": 76,
   "metadata": {},
   "outputs": [],
   "source": [
    "# Compile your model\n",
    "model.compile(optimizer = 'adam',\n",
    "            loss ='mse',\n",
    "            metrics =['mean_absolute_percentage_error'])"
   ]
  },
  {
   "cell_type": "markdown",
   "metadata": {},
   "source": [
    "**Task 1.3** Using `model.fit()` Train the model on X_train, y_train and use X_test, y_test as validation data. Pick a suitable number of epochs and batch size."
   ]
  },
  {
   "cell_type": "code",
   "execution_count": 77,
   "metadata": {},
   "outputs": [
    {
     "name": "stdout",
     "output_type": "stream",
     "text": [
      "Epoch 1/50\n"
     ]
    },
    {
     "name": "stdout",
     "output_type": "stream",
     "text": [
      "10/10 [==============================] - 0s 8ms/step - loss: 29107.4961 - mean_absolute_percentage_error: 99.9203 - val_loss: 28889.3145 - val_mean_absolute_percentage_error: 99.8305\n",
      "Epoch 2/50\n",
      "10/10 [==============================] - 0s 2ms/step - loss: 29032.3105 - mean_absolute_percentage_error: 99.6938 - val_loss: 28779.5508 - val_mean_absolute_percentage_error: 99.5301\n",
      "Epoch 3/50\n",
      "10/10 [==============================] - 0s 2ms/step - loss: 28883.6152 - mean_absolute_percentage_error: 99.2459 - val_loss: 28557.2285 - val_mean_absolute_percentage_error: 98.9211\n",
      "Epoch 4/50\n",
      "10/10 [==============================] - 0s 2ms/step - loss: 28586.7598 - mean_absolute_percentage_error: 98.2891 - val_loss: 28095.9746 - val_mean_absolute_percentage_error: 97.6557\n",
      "Epoch 5/50\n",
      "10/10 [==============================] - 0s 2ms/step - loss: 27963.1348 - mean_absolute_percentage_error: 96.4593 - val_loss: 27186.7598 - val_mean_absolute_percentage_error: 95.1481\n",
      "Epoch 6/50\n",
      "10/10 [==============================] - 0s 2ms/step - loss: 26814.2285 - mean_absolute_percentage_error: 92.8281 - val_loss: 25532.7539 - val_mean_absolute_percentage_error: 90.4822\n",
      "Epoch 7/50\n",
      "10/10 [==============================] - 0s 2ms/step - loss: 24722.9727 - mean_absolute_percentage_error: 86.3877 - val_loss: 22755.9863 - val_mean_absolute_percentage_error: 82.2712\n",
      "Epoch 8/50\n",
      "10/10 [==============================] - 0s 2ms/step - loss: 21419.0059 - mean_absolute_percentage_error: 75.6023 - val_loss: 18583.7910 - val_mean_absolute_percentage_error: 68.8253\n",
      "Epoch 9/50\n",
      "10/10 [==============================] - 0s 2ms/step - loss: 16749.0098 - mean_absolute_percentage_error: 60.3406 - val_loss: 13314.4482 - val_mean_absolute_percentage_error: 51.5227\n",
      "Epoch 10/50\n",
      "10/10 [==============================] - 0s 2ms/step - loss: 11356.4893 - mean_absolute_percentage_error: 44.6192 - val_loss: 7932.5010 - val_mean_absolute_percentage_error: 40.5336\n",
      "Epoch 11/50\n",
      "10/10 [==============================] - 0s 2ms/step - loss: 6808.4624 - mean_absolute_percentage_error: 44.8641 - val_loss: 4613.2349 - val_mean_absolute_percentage_error: 42.6466\n",
      "Epoch 12/50\n",
      "10/10 [==============================] - 0s 2ms/step - loss: 4823.9873 - mean_absolute_percentage_error: 56.3024 - val_loss: 4140.1431 - val_mean_absolute_percentage_error: 51.3771\n",
      "Epoch 13/50\n",
      "10/10 [==============================] - 0s 2ms/step - loss: 4640.7266 - mean_absolute_percentage_error: 62.5997 - val_loss: 4049.8755 - val_mean_absolute_percentage_error: 51.6664\n",
      "Epoch 14/50\n",
      "10/10 [==============================] - 0s 2ms/step - loss: 4352.8867 - mean_absolute_percentage_error: 59.1325 - val_loss: 3791.2283 - val_mean_absolute_percentage_error: 46.7395\n",
      "Epoch 15/50\n",
      "10/10 [==============================] - 0s 2ms/step - loss: 4117.7485 - mean_absolute_percentage_error: 52.9116 - val_loss: 3716.0295 - val_mean_absolute_percentage_error: 43.3377\n",
      "Epoch 16/50\n",
      "10/10 [==============================] - 0s 2ms/step - loss: 4033.3054 - mean_absolute_percentage_error: 50.0157 - val_loss: 3641.7959 - val_mean_absolute_percentage_error: 42.6348\n",
      "Epoch 17/50\n",
      "10/10 [==============================] - 0s 2ms/step - loss: 3897.6707 - mean_absolute_percentage_error: 50.3613 - val_loss: 3547.8696 - val_mean_absolute_percentage_error: 43.9619\n",
      "Epoch 18/50\n",
      "10/10 [==============================] - 0s 2ms/step - loss: 3808.3472 - mean_absolute_percentage_error: 51.2742 - val_loss: 3496.0322 - val_mean_absolute_percentage_error: 44.0501\n",
      "Epoch 19/50\n",
      "10/10 [==============================] - 0s 2ms/step - loss: 3742.7910 - mean_absolute_percentage_error: 49.8894 - val_loss: 3441.8870 - val_mean_absolute_percentage_error: 42.3505\n",
      "Epoch 20/50\n",
      "10/10 [==============================] - 0s 2ms/step - loss: 3659.0491 - mean_absolute_percentage_error: 48.2416 - val_loss: 3397.4023 - val_mean_absolute_percentage_error: 41.8824\n",
      "Epoch 21/50\n",
      "10/10 [==============================] - 0s 2ms/step - loss: 3614.1255 - mean_absolute_percentage_error: 46.7657 - val_loss: 3369.8477 - val_mean_absolute_percentage_error: 40.8584\n",
      "Epoch 22/50\n",
      "10/10 [==============================] - 0s 2ms/step - loss: 3547.4155 - mean_absolute_percentage_error: 46.8542 - val_loss: 3318.1321 - val_mean_absolute_percentage_error: 41.5992\n",
      "Epoch 23/50\n",
      "10/10 [==============================] - 0s 2ms/step - loss: 3482.6694 - mean_absolute_percentage_error: 47.0099 - val_loss: 3285.2632 - val_mean_absolute_percentage_error: 41.3371\n",
      "Epoch 24/50\n",
      "10/10 [==============================] - 0s 2ms/step - loss: 3438.0059 - mean_absolute_percentage_error: 46.3404 - val_loss: 3255.1519 - val_mean_absolute_percentage_error: 40.7969\n",
      "Epoch 25/50\n",
      "10/10 [==============================] - 0s 2ms/step - loss: 3388.8215 - mean_absolute_percentage_error: 45.8669 - val_loss: 3228.0098 - val_mean_absolute_percentage_error: 40.5890\n",
      "Epoch 26/50\n",
      "10/10 [==============================] - 0s 2ms/step - loss: 3350.7134 - mean_absolute_percentage_error: 45.7408 - val_loss: 3204.2278 - val_mean_absolute_percentage_error: 40.4671\n",
      "Epoch 27/50\n",
      "10/10 [==============================] - 0s 2ms/step - loss: 3301.4211 - mean_absolute_percentage_error: 44.5864 - val_loss: 3187.4087 - val_mean_absolute_percentage_error: 39.3223\n",
      "Epoch 28/50\n",
      "10/10 [==============================] - 0s 2ms/step - loss: 3288.0825 - mean_absolute_percentage_error: 43.2977 - val_loss: 3174.7798 - val_mean_absolute_percentage_error: 38.6903\n",
      "Epoch 29/50\n",
      "10/10 [==============================] - 0s 2ms/step - loss: 3238.0242 - mean_absolute_percentage_error: 43.2012 - val_loss: 3139.9116 - val_mean_absolute_percentage_error: 39.4857\n",
      "Epoch 30/50\n",
      "10/10 [==============================] - 0s 2ms/step - loss: 3201.5566 - mean_absolute_percentage_error: 44.3061 - val_loss: 3128.4375 - val_mean_absolute_percentage_error: 40.2075\n",
      "Epoch 31/50\n",
      "10/10 [==============================] - 0s 2ms/step - loss: 3178.6567 - mean_absolute_percentage_error: 44.3504 - val_loss: 3113.1277 - val_mean_absolute_percentage_error: 39.8212\n",
      "Epoch 32/50\n",
      "10/10 [==============================] - 0s 2ms/step - loss: 3149.3391 - mean_absolute_percentage_error: 43.5261 - val_loss: 3097.8967 - val_mean_absolute_percentage_error: 38.9872\n",
      "Epoch 33/50\n",
      "10/10 [==============================] - 0s 2ms/step - loss: 3127.2632 - mean_absolute_percentage_error: 42.4250 - val_loss: 3088.4697 - val_mean_absolute_percentage_error: 38.6503\n",
      "Epoch 34/50\n",
      "10/10 [==============================] - 0s 2ms/step - loss: 3115.5132 - mean_absolute_percentage_error: 43.4156 - val_loss: 3095.4739 - val_mean_absolute_percentage_error: 40.1502\n",
      "Epoch 35/50\n",
      "10/10 [==============================] - 0s 2ms/step - loss: 3083.2429 - mean_absolute_percentage_error: 43.4978 - val_loss: 3069.4094 - val_mean_absolute_percentage_error: 39.0942\n",
      "Epoch 36/50\n",
      "10/10 [==============================] - 0s 2ms/step - loss: 3058.5537 - mean_absolute_percentage_error: 42.1308 - val_loss: 3060.3997 - val_mean_absolute_percentage_error: 38.3208\n",
      "Epoch 37/50\n",
      "10/10 [==============================] - 0s 2ms/step - loss: 3032.2317 - mean_absolute_percentage_error: 41.6437 - val_loss: 3051.0291 - val_mean_absolute_percentage_error: 38.3624\n",
      "Epoch 38/50\n",
      "10/10 [==============================] - 0s 2ms/step - loss: 3013.5662 - mean_absolute_percentage_error: 41.5947 - val_loss: 3045.6067 - val_mean_absolute_percentage_error: 38.6988\n",
      "Epoch 39/50\n",
      "10/10 [==============================] - 0s 2ms/step - loss: 2991.3530 - mean_absolute_percentage_error: 41.6636 - val_loss: 3040.1719 - val_mean_absolute_percentage_error: 38.4468\n",
      "Epoch 40/50\n",
      "10/10 [==============================] - 0s 2ms/step - loss: 2971.3406 - mean_absolute_percentage_error: 41.6843 - val_loss: 3041.1245 - val_mean_absolute_percentage_error: 38.8065\n",
      "Epoch 41/50\n",
      "10/10 [==============================] - 0s 2ms/step - loss: 2966.5972 - mean_absolute_percentage_error: 41.4145 - val_loss: 3031.9783 - val_mean_absolute_percentage_error: 38.3358\n",
      "Epoch 42/50\n",
      "10/10 [==============================] - 0s 2ms/step - loss: 2945.1523 - mean_absolute_percentage_error: 41.5521 - val_loss: 3032.3945 - val_mean_absolute_percentage_error: 38.5113\n",
      "Epoch 43/50\n",
      "10/10 [==============================] - 0s 2ms/step - loss: 2936.5398 - mean_absolute_percentage_error: 40.9845 - val_loss: 3027.7539 - val_mean_absolute_percentage_error: 37.8587\n",
      "Epoch 44/50\n",
      "10/10 [==============================] - 0s 2ms/step - loss: 2918.1235 - mean_absolute_percentage_error: 40.3757 - val_loss: 3026.3872 - val_mean_absolute_percentage_error: 37.7813\n",
      "Epoch 45/50\n",
      "10/10 [==============================] - 0s 2ms/step - loss: 2899.3738 - mean_absolute_percentage_error: 40.4630 - val_loss: 3025.2244 - val_mean_absolute_percentage_error: 37.9656\n",
      "Epoch 46/50\n",
      "10/10 [==============================] - 0s 2ms/step - loss: 2890.2341 - mean_absolute_percentage_error: 40.8409 - val_loss: 3025.8601 - val_mean_absolute_percentage_error: 38.1523\n",
      "Epoch 47/50\n",
      "10/10 [==============================] - 0s 2ms/step - loss: 2883.2065 - mean_absolute_percentage_error: 40.7623 - val_loss: 3026.3342 - val_mean_absolute_percentage_error: 37.9372\n",
      "Epoch 48/50\n",
      "10/10 [==============================] - 0s 2ms/step - loss: 2867.3789 - mean_absolute_percentage_error: 40.1759 - val_loss: 3027.4958 - val_mean_absolute_percentage_error: 37.4578\n",
      "Epoch 49/50\n",
      "10/10 [==============================] - 0s 2ms/step - loss: 2877.8633 - mean_absolute_percentage_error: 39.2280 - val_loss: 3035.2231 - val_mean_absolute_percentage_error: 36.8605\n",
      "Epoch 50/50\n",
      "10/10 [==============================] - 0s 2ms/step - loss: 2854.9924 - mean_absolute_percentage_error: 39.6112 - val_loss: 3029.3579 - val_mean_absolute_percentage_error: 37.8341\n"
     ]
    },
    {
     "data": {
      "text/plain": [
       "<keras.callbacks.History at 0x16b4ef340>"
      ]
     },
     "execution_count": 77,
     "metadata": {},
     "output_type": "execute_result"
    }
   ],
   "source": [
    "# Train your model\n",
    "model.fit(X_train,y_train, epochs = 50, batch_size = 32, validation_data=(X_test, y_test))"
   ]
  },
  {
   "cell_type": "markdown",
   "metadata": {},
   "source": [
    "**Task 1.4** Evaluate the model using `model.evaluate()`."
   ]
  },
  {
   "cell_type": "code",
   "execution_count": 78,
   "metadata": {},
   "outputs": [
    {
     "name": "stdout",
     "output_type": "stream",
     "text": [
      "5/5 [==============================] - 0s 630us/step\n",
      "Mean Squared Error (MSE): 3029.3579817973978\n"
     ]
    }
   ],
   "source": [
    "# Predict the output on the test set\n",
    "y_pred = model.predict(X_test)\n",
    "\n",
    "# Calculate Mean Squared Error (MSE)\n",
    "from sklearn.metrics import mean_squared_error\n",
    "mse = mean_squared_error(y_test, y_pred)\n",
    "\n",
    "# Print MSE\n",
    "print('Mean Squared Error (MSE):', mse)"
   ]
  },
  {
   "cell_type": "markdown",
   "metadata": {},
   "source": [
    "**Task 1.5** Get predictions on `X_test`. Plot `y_test` vs. predictions. On the same plot, plot a $x = y$ line. Think about what this line represents."
   ]
  },
  {
   "cell_type": "code",
   "execution_count": 79,
   "metadata": {},
   "outputs": [
    {
     "name": "stdout",
     "output_type": "stream",
     "text": [
      "1/5 [=====>........................] - ETA: 0s"
     ]
    },
    {
     "name": "stdout",
     "output_type": "stream",
     "text": [
      "5/5 [==============================] - 0s 531us/step\n"
     ]
    },
    {
     "data": {
      "image/png": "[encoded data removed]",
      "text/plain": [
       "<Figure size 640x480 with 1 Axes>"
      ]
     },
     "metadata": {},
     "output_type": "display_data"
    }
   ],
   "source": [
    "# Predict the output on the test set\n",
    "predictions = model.predict(X_test)\n",
    "\n",
    "# Plot predicted vs true values\n",
    "plt.scatter(y_test, predictions)\n",
    "plt.xlabel('True Values')\n",
    "plt.ylabel('Predictions')\n",
    "\n",
    "# Plot the x=y line\n",
    "plt.plot([0, 300], [0,300], color='r')\n",
    "\n",
    "plt.show()"
   ]
  },
  {
   "cell_type": "markdown",
   "metadata": {},
   "source": [
    "## 2. Binary Classification"
   ]
  },
  {
   "cell_type": "markdown",
   "metadata": {},
   "source": [
    "Binary classification is a type of classification where a model is trained to categorize data points into one of two categories. \n",
    "\n",
    "**The dataset**\n",
    "\n",
    "In this task, you will use the breast cancer dataset provided by `scikit-learn`.\n",
    "\n",
    "Please read the dataset documentation before you start:\n",
    "\n",
    "https://scikit-learn.org/stable/datasets/toy_dataset.html#breast-cancer-dataset\n",
    "\n",
    "Now let's load the data and display some samples from the dataset:"
   ]
  },
  {
   "cell_type": "code",
   "execution_count": 80,
   "metadata": {},
   "outputs": [
    {
     "data": {
      "text/html": [
       "<div>\n",
       "<style scoped>\n",
       "    .dataframe tbody tr th:only-of-type {\n",
       "        vertical-align: middle;\n",
       "    }\n",
       "\n",
       "    .dataframe tbody tr th {\n",
       "        vertical-align: top;\n",
       "    }\n",
       "\n",
       "    .dataframe thead th {\n",
       "        text-align: right;\n",
       "    }\n",
       "</style>\n",
       "<table border=\"1\" class=\"dataframe\">\n",
       "  <thead>\n",
       "    <tr style=\"text-align: right;\">\n",
       "      <th></th>\n",
       "      <th>mean radius</th>\n",
       "      <th>mean texture</th>\n",
       "      <th>mean perimeter</th>\n",
       "      <th>mean area</th>\n",
       "      <th>mean smoothness</th>\n",
       "      <th>mean compactness</th>\n",
       "      <th>mean concavity</th>\n",
       "      <th>mean concave points</th>\n",
       "      <th>mean symmetry</th>\n",
       "      <th>mean fractal dimension</th>\n",
       "      <th>...</th>\n",
       "      <th>worst texture</th>\n",
       "      <th>worst perimeter</th>\n",
       "      <th>worst area</th>\n",
       "      <th>worst smoothness</th>\n",
       "      <th>worst compactness</th>\n",
       "      <th>worst concavity</th>\n",
       "      <th>worst concave points</th>\n",
       "      <th>worst symmetry</th>\n",
       "      <th>worst fractal dimension</th>\n",
       "      <th>Benign</th>\n",
       "    </tr>\n",
       "  </thead>\n",
       "  <tbody>\n",
       "    <tr>\n",
       "      <th>0</th>\n",
       "      <td>17.99</td>\n",
       "      <td>10.38</td>\n",
       "      <td>122.80</td>\n",
       "      <td>1001.0</td>\n",
       "      <td>0.11840</td>\n",
       "      <td>0.27760</td>\n",
       "      <td>0.3001</td>\n",
       "      <td>0.14710</td>\n",
       "      <td>0.2419</td>\n",
       "      <td>0.07871</td>\n",
       "      <td>...</td>\n",
       "      <td>17.33</td>\n",
       "      <td>184.60</td>\n",
       "      <td>2019.0</td>\n",
       "      <td>0.1622</td>\n",
       "      <td>0.6656</td>\n",
       "      <td>0.7119</td>\n",
       "      <td>0.2654</td>\n",
       "      <td>0.4601</td>\n",
       "      <td>0.11890</td>\n",
       "      <td>0.0</td>\n",
       "    </tr>\n",
       "    <tr>\n",
       "      <th>1</th>\n",
       "      <td>20.57</td>\n",
       "      <td>17.77</td>\n",
       "      <td>132.90</td>\n",
       "      <td>1326.0</td>\n",
       "      <td>0.08474</td>\n",
       "      <td>0.07864</td>\n",
       "      <td>0.0869</td>\n",
       "      <td>0.07017</td>\n",
       "      <td>0.1812</td>\n",
       "      <td>0.05667</td>\n",
       "      <td>...</td>\n",
       "      <td>23.41</td>\n",
       "      <td>158.80</td>\n",
       "      <td>1956.0</td>\n",
       "      <td>0.1238</td>\n",
       "      <td>0.1866</td>\n",
       "      <td>0.2416</td>\n",
       "      <td>0.1860</td>\n",
       "      <td>0.2750</td>\n",
       "      <td>0.08902</td>\n",
       "      <td>0.0</td>\n",
       "    </tr>\n",
       "    <tr>\n",
       "      <th>2</th>\n",
       "      <td>19.69</td>\n",
       "      <td>21.25</td>\n",
       "      <td>130.00</td>\n",
       "      <td>1203.0</td>\n",
       "      <td>0.10960</td>\n",
       "      <td>0.15990</td>\n",
       "      <td>0.1974</td>\n",
       "      <td>0.12790</td>\n",
       "      <td>0.2069</td>\n",
       "      <td>0.05999</td>\n",
       "      <td>...</td>\n",
       "      <td>25.53</td>\n",
       "      <td>152.50</td>\n",
       "      <td>1709.0</td>\n",
       "      <td>0.1444</td>\n",
       "      <td>0.4245</td>\n",
       "      <td>0.4504</td>\n",
       "      <td>0.2430</td>\n",
       "      <td>0.3613</td>\n",
       "      <td>0.08758</td>\n",
       "      <td>0.0</td>\n",
       "    </tr>\n",
       "    <tr>\n",
       "      <th>3</th>\n",
       "      <td>11.42</td>\n",
       "      <td>20.38</td>\n",
       "      <td>77.58</td>\n",
       "      <td>386.1</td>\n",
       "      <td>0.14250</td>\n",
       "      <td>0.28390</td>\n",
       "      <td>0.2414</td>\n",
       "      <td>0.10520</td>\n",
       "      <td>0.2597</td>\n",
       "      <td>0.09744</td>\n",
       "      <td>...</td>\n",
       "      <td>26.50</td>\n",
       "      <td>98.87</td>\n",
       "      <td>567.7</td>\n",
       "      <td>0.2098</td>\n",
       "      <td>0.8663</td>\n",
       "      <td>0.6869</td>\n",
       "      <td>0.2575</td>\n",
       "      <td>0.6638</td>\n",
       "      <td>0.17300</td>\n",
       "      <td>0.0</td>\n",
       "    </tr>\n",
       "    <tr>\n",
       "      <th>4</th>\n",
       "      <td>20.29</td>\n",
       "      <td>14.34</td>\n",
       "      <td>135.10</td>\n",
       "      <td>1297.0</td>\n",
       "      <td>0.10030</td>\n",
       "      <td>0.13280</td>\n",
       "      <td>0.1980</td>\n",
       "      <td>0.10430</td>\n",
       "      <td>0.1809</td>\n",
       "      <td>0.05883</td>\n",
       "      <td>...</td>\n",
       "      <td>16.67</td>\n",
       "      <td>152.20</td>\n",
       "      <td>1575.0</td>\n",
       "      <td>0.1374</td>\n",
       "      <td>0.2050</td>\n",
       "      <td>0.4000</td>\n",
       "      <td>0.1625</td>\n",
       "      <td>0.2364</td>\n",
       "      <td>0.07678</td>\n",
       "      <td>0.0</td>\n",
       "    </tr>\n",
       "  </tbody>\n",
       "</table>\n",
       "<p>5 rows × 31 columns</p>\n",
       "</div>"
      ],
      "text/plain": [
       "   mean radius  mean texture  mean perimeter  mean area  mean smoothness  \\\n",
       "0        17.99         10.38          122.80     1001.0          0.11840   \n",
       "1        20.57         17.77          132.90     1326.0          0.08474   \n",
       "2        19.69         21.25          130.00     1203.0          0.10960   \n",
       "3        11.42         20.38           77.58      386.1          0.14250   \n",
       "4        20.29         14.34          135.10     1297.0          0.10030   \n",
       "\n",
       "   mean compactness  mean concavity  mean concave points  mean symmetry  \\\n",
       "0           0.27760          0.3001              0.14710         0.2419   \n",
       "1           0.07864          0.0869              0.07017         0.1812   \n",
       "2           0.15990          0.1974              0.12790         0.2069   \n",
       "3           0.28390          0.2414              0.10520         0.2597   \n",
       "4           0.13280          0.1980              0.10430         0.1809   \n",
       "\n",
       "   mean fractal dimension  ...  worst texture  worst perimeter  worst area  \\\n",
       "0                 0.07871  ...          17.33           184.60      2019.0   \n",
       "1                 0.05667  ...          23.41           158.80      1956.0   \n",
       "2                 0.05999  ...          25.53           152.50      1709.0   \n",
       "3                 0.09744  ...          26.50            98.87       567.7   \n",
       "4                 0.05883  ...          16.67           152.20      1575.0   \n",
       "\n",
       "   worst smoothness  worst compactness  worst concavity  worst concave points  \\\n",
       "0            0.1622             0.6656           0.7119                0.2654   \n",
       "1            0.1238             0.1866           0.2416                0.1860   \n",
       "2            0.1444             0.4245           0.4504                0.2430   \n",
       "3            0.2098             0.8663           0.6869                0.2575   \n",
       "4            0.1374             0.2050           0.4000                0.1625   \n",
       "\n",
       "   worst symmetry  worst fractal dimension  Benign  \n",
       "0          0.4601                  0.11890     0.0  \n",
       "1          0.2750                  0.08902     0.0  \n",
       "2          0.3613                  0.08758     0.0  \n",
       "3          0.6638                  0.17300     0.0  \n",
       "4          0.2364                  0.07678     0.0  \n",
       "\n",
       "[5 rows x 31 columns]"
      ]
     },
     "execution_count": 80,
     "metadata": {},
     "output_type": "execute_result"
    }
   ],
   "source": [
    "from sklearn.datasets import load_breast_cancer\n",
    "cancer = load_breast_cancer()\n",
    "X = cancer.data\n",
    "y = cancer.target\n",
    "names = list(cancer.feature_names)\n",
    "Xy_combined = np.concatenate((X, y[:, np.newaxis]), axis=1)\n",
    "df = pd.DataFrame(Xy_combined,\n",
    "                  columns=names + ['Benign'])\n",
    "df.head()"
   ]
  },
  {
   "cell_type": "markdown",
   "metadata": {},
   "source": [
    "Let's split the dataset into a training set and a testing set using function ``train_test_split``:"
   ]
  },
  {
   "cell_type": "code",
   "execution_count": 81,
   "metadata": {},
   "outputs": [],
   "source": [
    "from sklearn.model_selection import train_test_split\n",
    "X_train, X_test, y_train, y_test = train_test_split(X,\n",
    "                                                    y,\n",
    "                                                    test_size=0.33,\n",
    "                                                    random_state=0)"
   ]
  },
  {
   "cell_type": "markdown",
   "metadata": {},
   "source": [
    "Now we can visualize the dimensions of the sets:"
   ]
  },
  {
   "cell_type": "code",
   "execution_count": 82,
   "metadata": {},
   "outputs": [
    {
     "data": {
      "text/plain": [
       "((381, 30), (188, 30), (381,), (188,))"
      ]
     },
     "execution_count": 82,
     "metadata": {},
     "output_type": "execute_result"
    }
   ],
   "source": [
    "X_train.shape, X_test.shape, y_train.shape, y_test.shape"
   ]
  },
  {
   "cell_type": "markdown",
   "metadata": {},
   "source": [
    "**Task 2.1**\n",
    "Build an MLP suitable for the breast cancer dataset. Use a `Sequential()` model and `Dense` layers from Keras. You are free to pick any number of hidden layers and any number of units per layer as long as it works. Use suitable activation functions."
   ]
  },
  {
   "cell_type": "code",
   "execution_count": 83,
   "metadata": {},
   "outputs": [],
   "source": [
    "# Import the sequential model and dense layer\n",
    "from tensorflow.keras.models import Sequential\n",
    "from tensorflow.keras.layers import Dense\n",
    "\n",
    "# Create a sequential model\n",
    "model = Sequential()\n",
    "\n",
    "# Add a dense layer \n",
    "model.add(Dense(125, input_shape=(30,), activation='relu'))\n",
    "model.add(Dense(64, activation='relu'))\n",
    "\n",
    "# Add an output layer\n",
    "model.add(Dense(1, activation='sigmoid'))"
   ]
  },
  {
   "cell_type": "markdown",
   "metadata": {},
   "source": [
    "**Task 2.2**\n",
    "Compile the model by selecting a suitable optimizer and a suitable loss function. Also include a metric or metrics."
   ]
  },
  {
   "cell_type": "code",
   "execution_count": 84,
   "metadata": {},
   "outputs": [],
   "source": [
    "# Compile your model\n",
    "model.compile(loss='binary_crossentropy', optimizer='adam', metrics=['accuracy'])"
   ]
  },
  {
   "cell_type": "markdown",
   "metadata": {},
   "source": [
    "**Task 2.3**\n",
    "Train the model on X_train, y_train and use X_test, y_test as validation data. Pick a suitable number of epochs and batch size."
   ]
  },
  {
   "cell_type": "code",
   "execution_count": 85,
   "metadata": {},
   "outputs": [
    {
     "name": "stdout",
     "output_type": "stream",
     "text": [
      "Epoch 1/50\n"
     ]
    },
    {
     "name": "stdout",
     "output_type": "stream",
     "text": [
      "12/12 [==============================] - 0s 638us/step - loss: 19.5778 - accuracy: 0.4803\n",
      "Epoch 2/50\n",
      "12/12 [==============================] - 0s 552us/step - loss: 2.8600 - accuracy: 0.6273\n",
      "Epoch 3/50\n",
      "12/12 [==============================] - 0s 542us/step - loss: 0.9401 - accuracy: 0.7927\n",
      "Epoch 4/50\n",
      "12/12 [==============================] - 0s 531us/step - loss: 0.4995 - accuracy: 0.8609\n",
      "Epoch 5/50\n",
      "12/12 [==============================] - 0s 493us/step - loss: 0.5922 - accuracy: 0.8661\n",
      "Epoch 6/50\n",
      "12/12 [==============================] - 0s 517us/step - loss: 0.4306 - accuracy: 0.8924\n",
      "Epoch 7/50\n",
      "12/12 [==============================] - 0s 536us/step - loss: 0.4219 - accuracy: 0.8845\n",
      "Epoch 8/50\n",
      "12/12 [==============================] - 0s 520us/step - loss: 0.3666 - accuracy: 0.8976\n",
      "Epoch 9/50\n",
      "12/12 [==============================] - 0s 521us/step - loss: 0.3268 - accuracy: 0.9029\n",
      "Epoch 10/50\n",
      "12/12 [==============================] - 0s 501us/step - loss: 0.2917 - accuracy: 0.9003\n",
      "Epoch 11/50\n",
      "12/12 [==============================] - 0s 475us/step - loss: 0.3079 - accuracy: 0.9029\n",
      "Epoch 12/50\n",
      "12/12 [==============================] - 0s 507us/step - loss: 0.2831 - accuracy: 0.9029\n",
      "Epoch 13/50\n",
      "12/12 [==============================] - 0s 479us/step - loss: 0.2703 - accuracy: 0.9003\n",
      "Epoch 14/50\n",
      "12/12 [==============================] - 0s 519us/step - loss: 0.2488 - accuracy: 0.9081\n",
      "Epoch 15/50\n",
      "12/12 [==============================] - 0s 495us/step - loss: 0.3265 - accuracy: 0.9029\n",
      "Epoch 16/50\n",
      "12/12 [==============================] - 0s 493us/step - loss: 0.3926 - accuracy: 0.8793\n",
      "Epoch 17/50\n",
      "12/12 [==============================] - 0s 497us/step - loss: 0.3186 - accuracy: 0.8924\n",
      "Epoch 18/50\n",
      "12/12 [==============================] - 0s 489us/step - loss: 0.2575 - accuracy: 0.9160\n",
      "Epoch 19/50\n",
      "12/12 [==============================] - 0s 496us/step - loss: 0.2645 - accuracy: 0.8924\n",
      "Epoch 20/50\n",
      "12/12 [==============================] - 0s 514us/step - loss: 0.2455 - accuracy: 0.9160\n",
      "Epoch 21/50\n",
      "12/12 [==============================] - 0s 485us/step - loss: 0.3194 - accuracy: 0.9003\n",
      "Epoch 22/50\n",
      "12/12 [==============================] - 0s 517us/step - loss: 0.3237 - accuracy: 0.8871\n",
      "Epoch 23/50\n",
      "12/12 [==============================] - 0s 490us/step - loss: 0.2689 - accuracy: 0.9055\n",
      "Epoch 24/50\n",
      "12/12 [==============================] - 0s 485us/step - loss: 0.2933 - accuracy: 0.9108\n",
      "Epoch 25/50\n",
      "12/12 [==============================] - 0s 501us/step - loss: 0.2233 - accuracy: 0.9186\n",
      "Epoch 26/50\n",
      "12/12 [==============================] - 0s 525us/step - loss: 0.2099 - accuracy: 0.9134\n",
      "Epoch 27/50\n",
      "12/12 [==============================] - 0s 490us/step - loss: 0.2186 - accuracy: 0.9134\n",
      "Epoch 28/50\n",
      "12/12 [==============================] - 0s 498us/step - loss: 0.2204 - accuracy: 0.9213\n",
      "Epoch 29/50\n",
      "12/12 [==============================] - 0s 481us/step - loss: 0.2333 - accuracy: 0.9134\n",
      "Epoch 30/50\n",
      "12/12 [==============================] - 0s 775us/step - loss: 0.3318 - accuracy: 0.8740\n",
      "Epoch 31/50\n",
      "12/12 [==============================] - 0s 919us/step - loss: 0.3289 - accuracy: 0.8924\n",
      "Epoch 32/50\n",
      "12/12 [==============================] - 0s 800us/step - loss: 0.7007 - accuracy: 0.8241\n",
      "Epoch 33/50\n",
      "12/12 [==============================] - 0s 744us/step - loss: 0.3645 - accuracy: 0.8898\n",
      "Epoch 34/50\n",
      "12/12 [==============================] - 0s 686us/step - loss: 0.2655 - accuracy: 0.9186\n",
      "Epoch 35/50\n",
      "12/12 [==============================] - 0s 589us/step - loss: 0.2696 - accuracy: 0.9081\n",
      "Epoch 36/50\n",
      "12/12 [==============================] - 0s 712us/step - loss: 0.2409 - accuracy: 0.9239\n",
      "Epoch 37/50\n",
      "12/12 [==============================] - 0s 911us/step - loss: 0.2882 - accuracy: 0.9134\n",
      "Epoch 38/50\n",
      "12/12 [==============================] - 0s 662us/step - loss: 0.2150 - accuracy: 0.9160\n",
      "Epoch 39/50\n",
      "12/12 [==============================] - 0s 1ms/step - loss: 0.2363 - accuracy: 0.9055\n",
      "Epoch 40/50\n",
      "12/12 [==============================] - 0s 529us/step - loss: 0.5873 - accuracy: 0.8346\n",
      "Epoch 41/50\n",
      "12/12 [==============================] - 0s 530us/step - loss: 0.2939 - accuracy: 0.9160\n",
      "Epoch 42/50\n",
      "12/12 [==============================] - 0s 517us/step - loss: 0.2350 - accuracy: 0.9239\n",
      "Epoch 43/50\n",
      "12/12 [==============================] - 0s 509us/step - loss: 0.3018 - accuracy: 0.9081\n",
      "Epoch 44/50\n",
      "12/12 [==============================] - 0s 503us/step - loss: 0.3116 - accuracy: 0.8950\n",
      "Epoch 45/50\n",
      "12/12 [==============================] - 0s 506us/step - loss: 0.4135 - accuracy: 0.8871\n",
      "Epoch 46/50\n",
      "12/12 [==============================] - 0s 537us/step - loss: 0.3377 - accuracy: 0.8950\n",
      "Epoch 47/50\n",
      "12/12 [==============================] - 0s 542us/step - loss: 0.4611 - accuracy: 0.8688\n",
      "Epoch 48/50\n",
      "12/12 [==============================] - 0s 588us/step - loss: 0.3503 - accuracy: 0.8898\n",
      "Epoch 49/50\n",
      "12/12 [==============================] - 0s 563us/step - loss: 0.2536 - accuracy: 0.9134\n",
      "Epoch 50/50\n",
      "12/12 [==============================] - 0s 729us/step - loss: 0.2646 - accuracy: 0.9003\n"
     ]
    },
    {
     "data": {
      "text/plain": [
       "<keras.callbacks.History at 0x175412a40>"
      ]
     },
     "execution_count": 85,
     "metadata": {},
     "output_type": "execute_result"
    }
   ],
   "source": [
    "# Train your model\n",
    "model.fit(X_train, y_train, epochs=50)"
   ]
  },
  {
   "cell_type": "markdown",
   "metadata": {},
   "source": [
    "**Task 2.4**\n",
    "Evaluate the model using `model.evaluate()`."
   ]
  },
  {
   "cell_type": "code",
   "execution_count": 86,
   "metadata": {},
   "outputs": [
    {
     "name": "stdout",
     "output_type": "stream",
     "text": [
      "6/6 [==============================] - 0s 579us/step - loss: 0.1708 - accuracy: 0.9468\n",
      "Accuracy: 0.9468085169792175\n"
     ]
    }
   ],
   "source": [
    "# Evaluate your model accuracy on the test set\n",
    "accuracy = model.evaluate(X_test, y_test)[1]\n",
    "\n",
    "# Print accuracy\n",
    "print('Accuracy:', accuracy)"
   ]
  },
  {
   "cell_type": "markdown",
   "metadata": {},
   "source": [
    "**Task 2.5**\n",
    "Plot the confusion matrix for your trained model on the test set."
   ]
  },
  {
   "cell_type": "code",
   "execution_count": 87,
   "metadata": {},
   "outputs": [
    {
     "name": "stdout",
     "output_type": "stream",
     "text": [
      "6/6 [==============================] - 0s 475us/step\n",
      "[[ 63   4]\n",
      " [  6 115]]\n"
     ]
    }
   ],
   "source": [
    "from sklearn.metrics import confusion_matrix\n",
    "y_pred = model.predict(X_test)\n",
    "\n",
    "# Convert to binary\n",
    "y_pred = (y_pred > 0.5)*1\n",
    "\n",
    "# Create the matrix\n",
    "cm = confusion_matrix(y_test, y_pred)\n",
    "print(cm)"
   ]
  },
  {
   "cell_type": "markdown",
   "metadata": {},
   "source": [
    "## 3. Multi-class Classification"
   ]
  },
  {
   "cell_type": "markdown",
   "metadata": {},
   "source": [
    "Multi-class classification is a task where an instance or sample can be classified into more than two categories or classes.\n",
    "\n",
    "**The dataset**\n",
    "\n",
    "In this task, you will use the MNIST dataset provided by `keras`.\n",
    "\n",
    "Please read the dataset documentation before you start:\n",
    "\n",
    "https://keras.io/api/datasets/mnist/"
   ]
  },
  {
   "cell_type": "markdown",
   "metadata": {},
   "source": [
    "Now let's load the dataset (notice that function ``mnist.load_data`` automatizally splits the data into a training set and a testing set):"
   ]
  },
  {
   "cell_type": "code",
   "execution_count": 88,
   "metadata": {},
   "outputs": [],
   "source": [
    "from keras.datasets import mnist\n",
    "(X_train, y_train), (X_test, y_test) = mnist.load_data()"
   ]
  },
  {
   "cell_type": "markdown",
   "metadata": {},
   "source": [
    "To visualize how the samples look like, we can display a random sample from the dataset:"
   ]
  },
  {
   "cell_type": "code",
   "execution_count": 89,
   "metadata": {},
   "outputs": [
    {
     "name": "stdout",
     "output_type": "stream",
     "text": [
      "Label: 1\n"
     ]
    },
    {
     "data": {
      "image/png": "[encoded data removed]",
      "text/plain": [
       "<Figure size 640x480 with 1 Axes>"
      ]
     },
     "metadata": {},
     "output_type": "display_data"
    }
   ],
   "source": [
    "# View random digit\n",
    "index = np.random.randint(0, 60000)\n",
    "plt.imshow(X_train[index])\n",
    "print('Label:', y_train[index])"
   ]
  },
  {
   "cell_type": "markdown",
   "metadata": {},
   "source": [
    "We can also visualize the dimensions of the sets:"
   ]
  },
  {
   "cell_type": "code",
   "execution_count": 90,
   "metadata": {},
   "outputs": [
    {
     "data": {
      "text/plain": [
       "((60000, 28, 28), (10000, 28, 28), (60000,), (10000,))"
      ]
     },
     "execution_count": 90,
     "metadata": {},
     "output_type": "execute_result"
    }
   ],
   "source": [
    "X_train.shape, X_test.shape, y_train.shape, y_test.shape"
   ]
  },
  {
   "cell_type": "markdown",
   "metadata": {},
   "source": [
    "**Task 3.1**\n",
    "The MLP architecture you will build is given below. 784 input units, two hidden layers with 30 units each, one output layer with 10 units. \n",
    "\n",
    "<img src=\"https://edirlei.com/images/nn2.png\" width=\"500\">\n",
    "\n",
    "**Important**: Notice that X_train/X_test shape and the input layer shape of the network are not compatible (X_train shape is ``(, 28, 28)``, but the expected input layer shape is ``(, 784)``). Similarly, y_train/y_test and the output layer shape of the network, are not compatible (y_train shape is ``(,1)``, but the expected output layer shape is ``(,10)``). To solve this problem, you need to preprocess the data to make them compatible. Here are some hints on how to solve this problem:\n",
    "\n",
    "- You can solve the incompatibility of the input by using the [reshape function](https://numpy.org/doc/stable/reference/generated/numpy.reshape.html).\n",
    "- You can solve the incompatibility of the output by using one-hot encoding through the [to_categorical function](https://www.tensorflow.org/api_docs/python/tf/keras/utils/to_categorical).\n",
    "\n"
   ]
  },
  {
   "cell_type": "code",
   "execution_count": 91,
   "metadata": {},
   "outputs": [],
   "source": [
    "# Reshape the input data to a 2D array of 28x28 pixels (784 pixels)\n",
    "X_train = X_train.reshape(-1, 784)\n",
    "X_test = X_test.reshape(-1, 784)\n",
    "\n",
    "# Reshape the output data to a 2D array of 10 pixels\n",
    "y_train = tensorflow.keras.utils.to_categorical(y_train, 10)\n",
    "y_test = tensorflow.keras.utils.to_categorical(y_test, 10)"
   ]
  },
  {
   "cell_type": "markdown",
   "metadata": {},
   "source": [
    "**Task 3.2**\n",
    "Build an MLP suitable for the MNIST dataset. Use a `Sequential()` model and `Dense` layers from Keras. Build the architecture shown in Task 3.1 Use suitable activation functions."
   ]
  },
  {
   "cell_type": "code",
   "execution_count": 92,
   "metadata": {},
   "outputs": [],
   "source": [
    "# Instantiate a sequential model\n",
    "model = Sequential()\n",
    "  \n",
    "# Add 3 dense layers of 128, 64 and 32 neurons each\n",
    "model.add(Dense(128, input_shape=(784,), activation='relu'))\n",
    "model.add(Dense(64, activation='relu'))\n",
    "model.add(Dense(32, activation='relu'))\n",
    "  \n",
    "# Add a dense layer with as many neurons as competitors\n",
    "model.add(Dense(10, activation='softmax'))"
   ]
  },
  {
   "cell_type": "markdown",
   "metadata": {},
   "source": [
    "**Task 3.3**\n",
    "Compile the model by selecting a suitable optimizer and a suitable loss function. Also include a metric or metrics."
   ]
  },
  {
   "cell_type": "code",
   "execution_count": 93,
   "metadata": {},
   "outputs": [],
   "source": [
    "# Compile your model using categorical_crossentropy loss\n",
    "model.compile(loss='categorical_crossentropy',\n",
    "              optimizer='adam',\n",
    "              metrics=['accuracy'])"
   ]
  },
  {
   "cell_type": "markdown",
   "metadata": {},
   "source": [
    "**Task 3.4**\n",
    "Train the model on X_train, y_train and use X_test, y_test as validation data. Pick a suitable number of epochs and batch size."
   ]
  },
  {
   "cell_type": "code",
   "execution_count": 94,
   "metadata": {},
   "outputs": [
    {
     "name": "stdout",
     "output_type": "stream",
     "text": [
      "Epoch 1/10\n"
     ]
    },
    {
     "name": "stdout",
     "output_type": "stream",
     "text": [
      "1875/1875 [==============================] - 2s 875us/step - loss: 1.0609 - accuracy: 0.8231\n",
      "Epoch 2/10\n",
      "1875/1875 [==============================] - 2s 882us/step - loss: 0.3052 - accuracy: 0.9237\n",
      "Epoch 3/10\n",
      "1875/1875 [==============================] - 2s 878us/step - loss: 0.2050 - accuracy: 0.9472\n",
      "Epoch 4/10\n",
      "1875/1875 [==============================] - 2s 878us/step - loss: 0.1611 - accuracy: 0.9568\n",
      "Epoch 5/10\n",
      "1875/1875 [==============================] - 2s 966us/step - loss: 0.1337 - accuracy: 0.9638\n",
      "Epoch 6/10\n",
      "1875/1875 [==============================] - 2s 1ms/step - loss: 0.1065 - accuracy: 0.9703\n",
      "Epoch 7/10\n",
      "1875/1875 [==============================] - 2s 1ms/step - loss: 0.0983 - accuracy: 0.9723\n",
      "Epoch 8/10\n",
      "1875/1875 [==============================] - 2s 1ms/step - loss: 0.0898 - accuracy: 0.9754\n",
      "Epoch 9/10\n",
      "1875/1875 [==============================] - 2s 1ms/step - loss: 0.0775 - accuracy: 0.9789\n",
      "Epoch 10/10\n",
      "1875/1875 [==============================] - 2s 1ms/step - loss: 0.0680 - accuracy: 0.9816\n"
     ]
    },
    {
     "data": {
      "text/plain": [
       "<keras.callbacks.History at 0x177b8a0b0>"
      ]
     },
     "execution_count": 94,
     "metadata": {},
     "output_type": "execute_result"
    }
   ],
   "source": [
    "# Train your model for 10 epochs\n",
    "model.fit(X_train, y_train, epochs = 10)"
   ]
  },
  {
   "cell_type": "markdown",
   "metadata": {},
   "source": [
    "**Task 3.5**\n",
    "Evaluate the model using `model.evaluate()`."
   ]
  },
  {
   "cell_type": "code",
   "execution_count": 95,
   "metadata": {},
   "outputs": [
    {
     "name": "stdout",
     "output_type": "stream",
     "text": [
      "313/313 [==============================] - 0s 751us/step - loss: 0.1225 - accuracy: 0.9718\n",
      "Accuracy: 0.9718000292778015\n"
     ]
    }
   ],
   "source": [
    "# Evaluate your model accuracy on the test set\n",
    "accuracy = model.evaluate(X_test, y_test)[1]\n",
    "\n",
    "# Print accuracy\n",
    "print('Accuracy:', accuracy)"
   ]
  },
  {
   "cell_type": "markdown",
   "metadata": {},
   "source": [
    "**Challenge:**\n",
    "Find the worst prediction. If you struggle with this task, try it later."
   ]
  },
  {
   "cell_type": "code",
   "execution_count": 96,
   "metadata": {},
   "outputs": [],
   "source": [
    "# YOUR CODE HERE #"
   ]
  },
  {
   "cell_type": "markdown",
   "metadata": {},
   "source": [
    "## 4. Multi-label Classification"
   ]
  },
  {
   "cell_type": "markdown",
   "metadata": {},
   "source": [
    "Multi-label classification is a type of classification where an instance (or data point) can be classified into multiple classes or categories simultaneously. This is different from multi-class classification, where each instance is assigned to only one class.\n",
    "\n",
    "**The dataset**\n",
    "\n",
    "In this task you will use a simulated dataset.\n",
    "\n",
    "You are given 4 random integers ($x_1, x_2, x_3, x_4$) between -5 and 5 ($x_i \\in [-5, 5]$). Your task is to develop an MLP that predicts parity and sign of the product of these four numbers ($x_1 \\times x_2 \\times x_3 \\times x_4$).\n",
    "\n",
    "**Definitions**\n",
    "\n",
    "In mathematics, parity is the property of an integer of whether it is even or odd.\n",
    "\n",
    "In mathematics, the sign of a real number is its property of being either positive, negative, or zero.\n",
    "\n",
    "**Example**\n",
    "\n",
    "$x_1=-1, x_2=1, x_3=-3, x_4=-5$\n",
    "\n",
    "$ product = x_1 \\times x_2 \\times x_3 \\times x_4 = -15$\n",
    "\n",
    "parity of -15 is `odd` and sign of -15 is `negative`.\n",
    "\n",
    "**Columns**\n",
    "\n",
    "$x_i$: Integers between -5 (inclusive) and 5 (inclusive).\n",
    "\n",
    "Parity column: $x_1 \\times x_2 \\times x_3 \\times x_4$ is even (0) or odd (1).\n",
    "\n",
    "Sign column: $x_1 \\times x_2 \\times x_3 \\times x_4$ is negative (-1), or zero (0) or positive (1).\n",
    "\n",
    "|$x_1$|$x_2$|$x_3$|$x_4$|$Parity$|$Sign$|\n",
    "|:--|:--|:--|:--|:--|:--|\n",
    "|-2|-4|-1|1|0|-1|\n",
    "|-3|5|-3|3|1|1|\n",
    "|-4|-2|5|3|0|1|\n",
    "|-4|0|-5|0|0|0|\n",
    "|1|1|2|-4|0|-1|\n",
    "|-1|1|-3|-5|1|-1|\n"
   ]
  },
  {
   "cell_type": "markdown",
   "metadata": {},
   "source": [
    "Based on these definitions, we can write a function to generate a simulated dataset:"
   ]
  },
  {
   "cell_type": "code",
   "execution_count": 97,
   "metadata": {
    "code_folding": []
   },
   "outputs": [],
   "source": [
    "def simulator(n):\n",
    "    \n",
    "    # x_i numbers with shape (n, 4)\n",
    "    X = np.random.randint(-5, 6, size=(n, 4))\n",
    "\n",
    "    # product of 4 numbers for each row\n",
    "    # this will be used to calculate labels\n",
    "    # but this won't be part of the dataset\n",
    "    product = np.prod(X, axis=1)\n",
    "\n",
    "    # label 1\n",
    "    parity_col = product % 2\n",
    "    parity_col = parity_col.reshape(-1, 1)\n",
    "\n",
    "    # label 2\n",
    "    pos = (product > 0)*1\n",
    "    neg = (product < 0)*-1\n",
    "    zero = (product == 0)*0\n",
    "    sign_col = pos + neg + zero\n",
    "    sign_col = sign_col.reshape(-1, 1)\n",
    "\n",
    "    # concatenate columns to create the dataset\n",
    "    dataset = np.concatenate((X, parity_col, sign_col), axis=1)\n",
    "    \n",
    "    return dataset"
   ]
  },
  {
   "cell_type": "markdown",
   "metadata": {},
   "source": [
    "Now we can create the dataset:"
   ]
  },
  {
   "cell_type": "code",
   "execution_count": 98,
   "metadata": {},
   "outputs": [],
   "source": [
    "dataset = simulator(n=10000)"
   ]
  },
  {
   "cell_type": "markdown",
   "metadata": {},
   "source": [
    "To see how the data look like, we can display some samples from the dataset:"
   ]
  },
  {
   "cell_type": "code",
   "execution_count": 99,
   "metadata": {},
   "outputs": [
    {
     "data": {
      "text/html": [
       "<div>\n",
       "<style scoped>\n",
       "    .dataframe tbody tr th:only-of-type {\n",
       "        vertical-align: middle;\n",
       "    }\n",
       "\n",
       "    .dataframe tbody tr th {\n",
       "        vertical-align: top;\n",
       "    }\n",
       "\n",
       "    .dataframe thead th {\n",
       "        text-align: right;\n",
       "    }\n",
       "</style>\n",
       "<table border=\"1\" class=\"dataframe\">\n",
       "  <thead>\n",
       "    <tr style=\"text-align: right;\">\n",
       "      <th></th>\n",
       "      <th>x_1</th>\n",
       "      <th>x_2</th>\n",
       "      <th>x_3</th>\n",
       "      <th>x_4</th>\n",
       "      <th>Parity</th>\n",
       "      <th>Sign</th>\n",
       "    </tr>\n",
       "  </thead>\n",
       "  <tbody>\n",
       "    <tr>\n",
       "      <th>0</th>\n",
       "      <td>-1</td>\n",
       "      <td>-5</td>\n",
       "      <td>3</td>\n",
       "      <td>3</td>\n",
       "      <td>1</td>\n",
       "      <td>1</td>\n",
       "    </tr>\n",
       "    <tr>\n",
       "      <th>1</th>\n",
       "      <td>-1</td>\n",
       "      <td>-2</td>\n",
       "      <td>-2</td>\n",
       "      <td>-4</td>\n",
       "      <td>0</td>\n",
       "      <td>1</td>\n",
       "    </tr>\n",
       "    <tr>\n",
       "      <th>2</th>\n",
       "      <td>-5</td>\n",
       "      <td>1</td>\n",
       "      <td>-3</td>\n",
       "      <td>-4</td>\n",
       "      <td>0</td>\n",
       "      <td>-1</td>\n",
       "    </tr>\n",
       "    <tr>\n",
       "      <th>3</th>\n",
       "      <td>0</td>\n",
       "      <td>5</td>\n",
       "      <td>3</td>\n",
       "      <td>-1</td>\n",
       "      <td>0</td>\n",
       "      <td>0</td>\n",
       "    </tr>\n",
       "    <tr>\n",
       "      <th>4</th>\n",
       "      <td>-5</td>\n",
       "      <td>-1</td>\n",
       "      <td>-3</td>\n",
       "      <td>1</td>\n",
       "      <td>1</td>\n",
       "      <td>-1</td>\n",
       "    </tr>\n",
       "    <tr>\n",
       "      <th>5</th>\n",
       "      <td>0</td>\n",
       "      <td>-3</td>\n",
       "      <td>5</td>\n",
       "      <td>-1</td>\n",
       "      <td>0</td>\n",
       "      <td>0</td>\n",
       "    </tr>\n",
       "    <tr>\n",
       "      <th>6</th>\n",
       "      <td>-4</td>\n",
       "      <td>-4</td>\n",
       "      <td>-1</td>\n",
       "      <td>-2</td>\n",
       "      <td>0</td>\n",
       "      <td>1</td>\n",
       "    </tr>\n",
       "    <tr>\n",
       "      <th>7</th>\n",
       "      <td>3</td>\n",
       "      <td>5</td>\n",
       "      <td>5</td>\n",
       "      <td>2</td>\n",
       "      <td>0</td>\n",
       "      <td>1</td>\n",
       "    </tr>\n",
       "    <tr>\n",
       "      <th>8</th>\n",
       "      <td>5</td>\n",
       "      <td>3</td>\n",
       "      <td>0</td>\n",
       "      <td>1</td>\n",
       "      <td>0</td>\n",
       "      <td>0</td>\n",
       "    </tr>\n",
       "    <tr>\n",
       "      <th>9</th>\n",
       "      <td>5</td>\n",
       "      <td>-1</td>\n",
       "      <td>-1</td>\n",
       "      <td>-2</td>\n",
       "      <td>0</td>\n",
       "      <td>-1</td>\n",
       "    </tr>\n",
       "  </tbody>\n",
       "</table>\n",
       "</div>"
      ],
      "text/plain": [
       "   x_1  x_2  x_3  x_4  Parity  Sign\n",
       "0   -1   -5    3    3       1     1\n",
       "1   -1   -2   -2   -4       0     1\n",
       "2   -5    1   -3   -4       0    -1\n",
       "3    0    5    3   -1       0     0\n",
       "4   -5   -1   -3    1       1    -1\n",
       "5    0   -3    5   -1       0     0\n",
       "6   -4   -4   -1   -2       0     1\n",
       "7    3    5    5    2       0     1\n",
       "8    5    3    0    1       0     0\n",
       "9    5   -1   -1   -2       0    -1"
      ]
     },
     "execution_count": 99,
     "metadata": {},
     "output_type": "execute_result"
    }
   ],
   "source": [
    "df = pd.DataFrame(dataset, columns=['x_1', 'x_2', 'x_3', 'x_4', 'Parity', 'Sign'])\n",
    "df.head(10)"
   ]
  },
  {
   "cell_type": "markdown",
   "metadata": {},
   "source": [
    "**Task 4.1**\n",
    "Use the numpy array `dataset` to create `X` and `y`. Preprocess the data if needed."
   ]
  },
  {
   "cell_type": "code",
   "execution_count": 100,
   "metadata": {},
   "outputs": [
    {
     "data": {
      "text/plain": [
       "((10000, 4), (10000, 2))"
      ]
     },
     "execution_count": 100,
     "metadata": {},
     "output_type": "execute_result"
    }
   ],
   "source": [
    "X = dataset[:, 0:4]\n",
    "y = dataset[:, 4:6]\n",
    "\n",
    "X.shape, y.shape"
   ]
  },
  {
   "cell_type": "markdown",
   "metadata": {},
   "source": [
    "After preprocessing the data, we can split the dataset into a training set and a testing set using function ``train_test_split``:"
   ]
  },
  {
   "cell_type": "code",
   "execution_count": 101,
   "metadata": {},
   "outputs": [],
   "source": [
    "from sklearn.model_selection import train_test_split\n",
    "X_train, X_test, y_train, y_test = train_test_split(X,\n",
    "                                                    y,\n",
    "                                                    test_size=0.33,\n",
    "                                                    random_state=0)"
   ]
  },
  {
   "cell_type": "markdown",
   "metadata": {},
   "source": [
    "Then we can visualize the dimensions of the sets:"
   ]
  },
  {
   "cell_type": "code",
   "execution_count": 102,
   "metadata": {},
   "outputs": [
    {
     "data": {
      "text/plain": [
       "((6700, 4), (6700, 2), (3300, 4), (3300, 2))"
      ]
     },
     "execution_count": 102,
     "metadata": {},
     "output_type": "execute_result"
    }
   ],
   "source": [
    "X_train.shape, y_train.shape, X_test.shape, y_test.shape"
   ]
  },
  {
   "cell_type": "markdown",
   "metadata": {},
   "source": [
    "**Task 4.2**\n",
    "Build a MLP suitable for this simulated dataset. Use a `Sequential()` model and `Dense` layers from Keras. Use suitable activation functions."
   ]
  },
  {
   "cell_type": "code",
   "execution_count": 106,
   "metadata": {},
   "outputs": [],
   "source": [
    "model = Sequential()\n",
    "model.add(Dense(64, input_dim=4, activation='relu'))\n",
    "model.add(Dense(32, activation='relu'))\n",
    "model.add(Dense(2, activation='softmax'))"
   ]
  },
  {
   "cell_type": "markdown",
   "metadata": {},
   "source": [
    "**Task 4.3**\n",
    "Compile the model by selecting a suitable optimizer and a suitable loss function. Also include a metric or metrics."
   ]
  },
  {
   "cell_type": "code",
   "execution_count": 108,
   "metadata": {},
   "outputs": [],
   "source": [
    "model.compile(loss='categorical_crossentropy', optimizer='adam', metrics=['accuracy'])"
   ]
  },
  {
   "cell_type": "markdown",
   "metadata": {},
   "source": [
    "**Task 4.4**\n",
    "Train the model on X_train, y_train and use X_test, y_test as validation data. Pick a suitable number of epochs and batch size."
   ]
  },
  {
   "cell_type": "code",
   "execution_count": 112,
   "metadata": {},
   "outputs": [
    {
     "name": "stdout",
     "output_type": "stream",
     "text": [
      "Epoch 1/8\n",
      "  1/419 [..............................] - ETA: 0s - loss: 0.0000e+00 - accuracy: 0.3750"
     ]
    },
    {
     "name": "stdout",
     "output_type": "stream",
     "text": [
      "419/419 [==============================] - 0s 574us/step - loss: -3.2002 - accuracy: 0.5248 - val_loss: -32.8527 - val_accuracy: 0.7191\n",
      "Epoch 2/8\n",
      "419/419 [==============================] - 0s 526us/step - loss: -3.9012 - accuracy: 0.5309 - val_loss: -2.3040 - val_accuracy: 0.5891\n",
      "Epoch 3/8\n",
      "419/419 [==============================] - 0s 525us/step - loss: -3.7515 - accuracy: 0.5263 - val_loss: 27.5382 - val_accuracy: 0.2809\n",
      "Epoch 4/8\n",
      "419/419 [==============================] - 0s 526us/step - loss: -4.7207 - accuracy: 0.5367 - val_loss: 38.8942 - val_accuracy: 0.2809\n",
      "Epoch 5/8\n",
      "419/419 [==============================] - 0s 528us/step - loss: -6.5511 - accuracy: 0.5399 - val_loss: -14.6973 - val_accuracy: 0.7191\n",
      "Epoch 6/8\n",
      "419/419 [==============================] - 0s 528us/step - loss: 0.1102 - accuracy: 0.5319 - val_loss: -22.3542 - val_accuracy: 0.7191\n",
      "Epoch 7/8\n",
      "419/419 [==============================] - 0s 531us/step - loss: -4.1069 - accuracy: 0.5300 - val_loss: -8.6966 - val_accuracy: 0.7224\n",
      "Epoch 8/8\n",
      "419/419 [==============================] - 0s 525us/step - loss: -12.4894 - accuracy: 0.5366 - val_loss: -17.5115 - val_accuracy: 0.7191\n"
     ]
    }
   ],
   "source": [
    "history = model.fit(X_train, y_train, batch_size=16, epochs = 8, validation_data=(X_test, y_test))"
   ]
  }
 ],
 "metadata": {
  "kernelspec": {
   "display_name": "Python 3",
   "language": "python",
   "name": "python3"
  },
  "language_info": {
   "codemirror_mode": {
    "name": "ipython",
    "version": 3
   },
   "file_extension": ".py",
   "mimetype": "text/x-python",
   "name": "python",
   "nbconvert_exporter": "python",
   "pygments_lexer": "ipython3",
   "version": "3.10.13"
  }
 },
 "nbformat": 4,
 "nbformat_minor": 2
}
