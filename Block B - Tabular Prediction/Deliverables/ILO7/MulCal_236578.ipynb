{
 "cells": [
  {
   "cell_type": "markdown",
   "metadata": {},
   "source": [
    "## Directional derivates"
   ]
  },
  {
   "cell_type": "markdown",
   "metadata": {},
   "source": [
    "Using the definition of directional derivative, write a small Python program to calculate the directional derivative for exercise 3. Use a for loop to show that the obtained value approaches the true one as _h_ approaches zero."
   ]
  },
  {
   "cell_type": "code",
   "execution_count": 9,
   "metadata": {},
   "outputs": [
    {
     "name": "stdout",
     "output_type": "stream",
     "text": [
      "For h = 0.1, Numerical Approximation: -0.6*y*sin(x) + 0.8*cos(x) + 1.4*cos(x + y)\n",
      "For h = 0.010000000000000002, Numerical Approximation: -0.6*y*sin(x) + 0.8*cos(x) + 1.4*cos(x + y)\n",
      "For h = 0.0010000000000000002, Numerical Approximation: -0.6*y*sin(x) + 0.8*cos(x) + 1.4*cos(x + y)\n",
      "For h = 0.00010000000000000002, Numerical Approximation: -0.6*y*sin(x) + 0.8*cos(x) + 1.4*cos(x + y)\n",
      "For h = 1.0000000000000003e-05, Numerical Approximation: -0.6*y*sin(x) + 0.8*cos(x) + 1.4*cos(x + y)\n",
      "\n",
      "True Directional Derivative: -0.6*y*sin(x) + 0.8*cos(x) + 1.4*cos(x + y)\n"
     ]
    }
   ],
   "source": [
    "from sympy import symbols, pi, diff, sin, cos, simplify\n",
    "\n",
    "def directional_derivative(f, x, y, a, b, h):\n",
    "    df_dx = diff(f, x)\n",
    "    df_dy = diff(f, y)\n",
    "    \n",
    "    directional_derivative_value = a * df_dx.subs({x: x, y: y}) + b * df_dy.subs({x: x, y: y})\n",
    "    \n",
    "    return simplify(directional_derivative_value)\n",
    "\n",
    "# Define the variables\n",
    "x, y = symbols('x y')\n",
    "\n",
    "# Define the function f(x, y) using SymPy trigonometric functions\n",
    "f = sin(x + y) + y * cos(x)\n",
    "\n",
    "# Point at which to compute the directional derivative\n",
    "point = (pi/3, pi/6)\n",
    "\n",
    "# Direction vector\n",
    "a, b = 3/5, 4/5\n",
    "\n",
    "# Calculate the numerical approximation for various h values\n",
    "h_values = [0.1**i for i in range(1, 6)]\n",
    "\n",
    "# Compute directional derivative for various step sizes\n",
    "for h in h_values:\n",
    "    directional_derivative_value = directional_derivative(f, x, y, a, b, point[0])\n",
    "    print(f\"For h = {h}, Numerical Approximation: {directional_derivative_value}\")\n",
    "\n",
    "# True directional derivative at the given point\n",
    "true_directional_derivative = directional_derivative(f, x, y, a, b, point[0])\n",
    "print(f\"\\nTrue Directional Derivative: {true_directional_derivative}\")"
   ]
  }
 ],
 "metadata": {
  "kernelspec": {
   "display_name": "block_b",
   "language": "python",
   "name": "python3"
  },
  "language_info": {
   "codemirror_mode": {
    "name": "ipython",
    "version": 3
   },
   "file_extension": ".py",
   "mimetype": "text/x-python",
   "name": "python",
   "nbconvert_exporter": "python",
   "pygments_lexer": "ipython3",
   "version": "3.11.7"
  }
 },
 "nbformat": 4,
 "nbformat_minor": 2
}
