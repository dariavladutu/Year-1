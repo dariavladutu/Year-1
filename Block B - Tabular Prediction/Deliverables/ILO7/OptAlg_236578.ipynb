{
 "cells": [
  {
   "cell_type": "markdown",
   "id": "58e61b5c",
   "metadata": {},
   "source": [
    "## Assignment 1 "
   ]
  },
  {
   "cell_type": "markdown",
   "id": "f6a37140",
   "metadata": {},
   "source": [
    "The goal is to find the minimum of the following function:\n",
    "\n",
    "$$f(x) =  0.3x^4 - 0.1x^3 - 2x^2 - 0.8x$$\n",
    "\n",
    "using the Gradient Descent algorithm."
   ]
  },
  {
   "cell_type": "code",
   "execution_count": 1,
   "id": "0d433af2",
   "metadata": {},
   "outputs": [],
   "source": [
    "# Import matplotlib.pyplot\n",
    "import matplotlib.pyplot as plt"
   ]
  },
  {
   "cell_type": "markdown",
   "id": "7c5e9964",
   "metadata": {},
   "source": [
    "### Initilization\n",
    "\n",
    "Consider an initial value for $𝑥$. You can initiate the Gradient Descent algorithm from any arbitrary starting point."
   ]
  },
  {
   "cell_type": "code",
   "execution_count": 2,
   "id": "1265d0dd",
   "metadata": {},
   "outputs": [],
   "source": [
    "# Consider an initial value for x\n",
    "x = 3"
   ]
  },
  {
   "cell_type": "markdown",
   "id": "92449aa2",
   "metadata": {},
   "source": [
    "###  Define function\n",
    "Define the following function\n",
    "\n",
    "$$f(x) =  0.3x^4 - 0.1x^3 - 2x^2 - 0.8x$$\n",
    "\n",
    "You are tasked with finding the minimum for this function."
   ]
  },
  {
   "cell_type": "code",
   "execution_count": 3,
   "id": "48f170c3",
   "metadata": {},
   "outputs": [],
   "source": [
    "def my_fun(x):\n",
    "    \n",
    "    y = 0.3 * (x**4) - 0.1*(x**3) - 2*(x**2) - 0.8*x\n",
    "    \n",
    "    return y"
   ]
  },
  {
   "cell_type": "markdown",
   "id": "43124703",
   "metadata": {},
   "source": [
    "**Test your my_fun**:\n",
    "\n",
    "To ensure that you have implemented *my_fun(.)* correctly, run the following cell and compare the output with the expected value."
   ]
  },
  {
   "cell_type": "code",
   "execution_count": 4,
   "id": "32b39b79",
   "metadata": {},
   "outputs": [
    {
     "data": {
      "text/plain": [
       "-0.8000000000000003"
      ]
     },
     "execution_count": 4,
     "metadata": {},
     "output_type": "execute_result"
    }
   ],
   "source": [
    "my_fun(-2)"
   ]
  },
  {
   "cell_type": "markdown",
   "id": "a4539df6",
   "metadata": {},
   "source": [
    "The expected output is: -0.800"
   ]
  },
  {
   "cell_type": "markdown",
   "id": "3da6ec0e",
   "metadata": {},
   "source": [
    "### Compute the gradient of the function\n",
    "\n",
    "To implement the Gradient Descent algorithm, you need to compute the derivative of the related function. \n",
    "\n",
    "Now, compute the derivative of the mathematical function\n",
    "\n",
    "$$ f(x) = 0.3x^4 -0.1x^3 -2x^2 -0.8x$$\n",
    "\n",
    "and implement the following function for computing the derivative of this function:"
   ]
  },
  {
   "cell_type": "code",
   "execution_count": 13,
   "id": "37d20870",
   "metadata": {},
   "outputs": [],
   "source": [
    "def grad_fun(x):\n",
    "    y = 1.2*(x**3) - 0.3*(x**2) - 4*x - 0.8\n",
    "    return y"
   ]
  },
  {
   "cell_type": "markdown",
   "id": "1bf1f9e5",
   "metadata": {},
   "source": [
    "**Test grad_fun**:\n",
    "\n",
    "Now, to ensure that you have computed and implemented the derivative function correctly, run the following cell and compare the result with the provided expected value."
   ]
  },
  {
   "cell_type": "code",
   "execution_count": 14,
   "id": "61a7de98",
   "metadata": {},
   "outputs": [
    {
     "data": {
      "text/plain": [
       "-2.725"
      ]
     },
     "execution_count": 14,
     "metadata": {},
     "output_type": "execute_result"
    }
   ],
   "source": [
    "grad_fun(0.5)"
   ]
  },
  {
   "cell_type": "markdown",
   "id": "25b635d2",
   "metadata": {},
   "source": [
    "The expected output is: -2.725"
   ]
  },
  {
   "cell_type": "markdown",
   "id": "b46ee8dc",
   "metadata": {},
   "source": [
    "### Implement Gradient Descent Update Rule\n",
    "In this section, you need to implement the gradient descent update rule as follows:\n",
    "\n",
    "$$x_{n+1} = x_n - \\gamma \\nabla f(x_n)$$\n",
    "\n",
    "To execute this step, utilize the **grad_fun** that you have already implemented."
   ]
  },
  {
   "cell_type": "code",
   "execution_count": 15,
   "id": "cbd9c2cf",
   "metadata": {},
   "outputs": [],
   "source": [
    "def grad_descent_step(x, alf):\n",
    "   \n",
    "    x_new = x - alf * grad_fun(x)\n",
    "    \n",
    "    return x_new"
   ]
  },
  {
   "cell_type": "markdown",
   "id": "b022dcc6",
   "metadata": {},
   "source": [
    "**Test grad_descent_step function**:\n",
    "\n",
    "Now, test your implemented Gradient Descent update rule by running the following cell and comparing the result with the expected value."
   ]
  },
  {
   "cell_type": "code",
   "execution_count": 16,
   "id": "e0b38a40",
   "metadata": {},
   "outputs": [
    {
     "data": {
      "text/plain": [
       "1.8925"
      ]
     },
     "execution_count": 16,
     "metadata": {},
     "output_type": "execute_result"
    }
   ],
   "source": [
    "grad_descent_step(2.5, 0.1)"
   ]
  },
  {
   "cell_type": "markdown",
   "id": "9526b58f",
   "metadata": {},
   "source": [
    "The expected ouptput is: 1.8925"
   ]
  },
  {
   "cell_type": "markdown",
   "id": "4cff0de4",
   "metadata": {},
   "source": [
    "\n",
    "### Implement Gradient Descent Algorithm\n",
    "Now, you can implement the Gradient Descent algorithm using the previously developed functions, enabling you to complete the assignment by finding the optimal value of x and minimizing the function."
   ]
  },
  {
   "cell_type": "code",
   "execution_count": 21,
   "id": "279c2173",
   "metadata": {},
   "outputs": [
    {
     "data": {
      "image/png": "[encoded data removed]",
      "text/plain": [
       "<Figure size 1200x600 with 2 Axes>"
      ]
     },
     "metadata": {},
     "output_type": "display_data"
    }
   ],
   "source": [
    "# Choose an initial value for x\n",
    "x_init = 3\n",
    "\n",
    "# Choose the learning rate\n",
    "gam = 0.1\n",
    "\n",
    "# Choose the number of iterations\n",
    "N = 10\n",
    "\n",
    "# Save the values for x and function value\n",
    "X = [x_init]\n",
    "\n",
    "# Save the function value at x_init\n",
    "FUN_VAL = [my_fun(x_init)]\n",
    "\n",
    "for n in range(N):\n",
    "    \n",
    "    # call the grad_descent_step\n",
    "    x_new = grad_descent_step(X[-1], gam)\n",
    "    \n",
    "    # save the obtained value x_new in the list X (use append method)\n",
    "    # save the function value at point x_new (use append method)\n",
    "    X.append(x_new)\n",
    "    FUN_VAL.append(my_fun(x_new))\n",
    "\n",
    "# Plot the results\n",
    "fig, ax = plt.subplots(1,2, figsize=(12,6))\n",
    "ax[0].plot(range(N+1), X)\n",
    "ax[0].set_xlabel('n', size=14)\n",
    "ax[0].set_ylabel('x', size=14)\n",
    "\n",
    "ax[1].plot(range(N+1), FUN_VAL)\n",
    "ax[1].set_xlabel('n', size=14)\n",
    "ax[1].set_ylabel('Value', size=14)\n",
    "\n",
    "plt.show()"
   ]
  },
  {
   "cell_type": "markdown",
   "id": "e610b89a",
   "metadata": {},
   "source": [
    "**The optimal value for x**:"
   ]
  },
  {
   "cell_type": "code",
   "execution_count": 28,
   "id": "f2a6f74a",
   "metadata": {},
   "outputs": [
    {
     "name": "stdout",
     "output_type": "stream",
     "text": [
      "The optimal value of x is: 3\n"
     ]
    }
   ],
   "source": [
    "# Define the optimal value for x\n",
    "x_opt = 3\n",
    "\n",
    "print(\"The optimal value of x is:\", x_opt)"
   ]
  },
  {
   "cell_type": "markdown",
   "id": "5ee28b52",
   "metadata": {},
   "source": [
    "**The minimum value of the function**:"
   ]
  },
  {
   "cell_type": "code",
   "execution_count": 25,
   "id": "3f564cf7",
   "metadata": {},
   "outputs": [
    {
     "name": "stdout",
     "output_type": "stream",
     "text": [
      "The minimum value of f is: 0\n"
     ]
    }
   ],
   "source": [
    "# Define the minimum value of the function at optimal point x_opt\n",
    "min_val = 0\n",
    "\n",
    "print(\"The minimum value of f is:\", min_val)"
   ]
  },
  {
   "cell_type": "markdown",
   "id": "22448dc9",
   "metadata": {},
   "source": [
    "## Check the Result\n",
    "\n",
    "Eventually, to ensure that you have implemented the Gradient Descent algorithm correctly, you can obtain the minimum value of the function using Python's capabilities.\n",
    "\n",
    "You can check the Gradient Descent algorithm output by comparing the results obtained by the 'fmin' function from SciPy as follows:"
   ]
  },
  {
   "cell_type": "code",
   "execution_count": 26,
   "id": "444d7163",
   "metadata": {},
   "outputs": [
    {
     "name": "stdout",
     "output_type": "stream",
     "text": [
      "Optimization terminated successfully.\n",
      "         Current function value: -5.608514\n",
      "         Iterations: 16\n",
      "         Function evaluations: 32\n"
     ]
    }
   ],
   "source": [
    "from scipy.optimize import fmin\n",
    "\n",
    "minimum = fmin(my_fun, 3)"
   ]
  },
  {
   "cell_type": "code",
   "execution_count": 27,
   "id": "df2f75d9",
   "metadata": {},
   "outputs": [
    {
     "name": "stdout",
     "output_type": "stream",
     "text": [
      "The optimal value for x is: 2.0421386718749974\n"
     ]
    }
   ],
   "source": [
    "print(\"The optimal value for x is:\", minimum[0])"
   ]
  },
  {
   "cell_type": "markdown",
   "id": "b62dc5fe",
   "metadata": {},
   "source": [
    "## Tasks to Perform:"
   ]
  },
  {
   "cell_type": "markdown",
   "id": "420ccb9b",
   "metadata": {},
   "source": [
    "- Evaluate the impact of the learning rate on the convergence rate of the Gradient Descent algorithm towards the optimal solution.\n"
   ]
  },
  {
   "cell_type": "markdown",
   "id": "f142a9d7",
   "metadata": {},
   "source": [
    "In order to showcase the impact of the learning rate on the convergence rate I wrote a codeblock to run the algorithm for each different learning rate. The learning_rates list contains different learning rates to compare. The outer loop iterates over these learning rates, and for each learning rate, the inner loop runs the gradient descent algorithm for a fixed number of iterations (N) and stores the function values at each iteration. The final plot shows how the value changes over iterations for each learning rate. Then, I wrote another codeblock to showcase hot the optimal solutions change."
   ]
  },
  {
   "cell_type": "code",
   "execution_count": 48,
   "id": "6ccdb706",
   "metadata": {},
   "outputs": [
    {
     "name": "stdout",
     "output_type": "stream",
     "text": [
      "The optimal values for the different learning rates are:\n",
      " Learning rate = 0.01 \n",
      " 2.0421542733452553 \n",
      "Learning rate = 0.001 \n",
      " 2.042143375477344 \n",
      "Learning rate = 0.02 \n",
      " 2.0421368658390144\n"
     ]
    },
    {
     "data": {
      "image/png": "[encoded data removed]",
      "text/plain": [
       "<Figure size 1000x600 with 1 Axes>"
      ]
     },
     "metadata": {},
     "output_type": "display_data"
    }
   ],
   "source": [
    "# Define the functions and gradient\n",
    "def my_fun(x):\n",
    "    return 0.3 * (x**4) - 0.1*(x**3) - 2*(x**2) - 0.8*x\n",
    "\n",
    "def grad_fun(x):\n",
    "    return 1.2*(x**3) - 0.3*(x**2) - 4*x - 0.8\n",
    "\n",
    "def grad_descent_step(x, alf):\n",
    "    return x - alf * grad_fun(x)\n",
    "\n",
    "# Choose an initial value for x\n",
    "x_init = 3\n",
    "\n",
    "# Choose a range of learning rates\n",
    "learning_rates = [0.01, 0.001, 0.02, 0.05]\n",
    "\n",
    "# Choose the number of iterations\n",
    "N = 100\n",
    "\n",
    "# Store optimal values for each learning rate\n",
    "optimal_values = []\n",
    "\n",
    "# Plot the results for each learning rate\n",
    "fig, ax = plt.subplots(figsize=(10, 6))\n",
    "\n",
    "for gam in learning_rates:\n",
    "    X = [x_init]\n",
    "    FUN_VAL = [my_fun(x_init)]\n",
    "    \n",
    "    for n in range(N):\n",
    "        x_new = grad_descent_step(X[-1], gam)\n",
    "        \n",
    "        X.append(x_new)\n",
    "        FUN_VAL.append(my_fun(x_new))\n",
    "    \n",
    "    ax.plot(range(N+1), FUN_VAL, label=f'Learning Rate = {gam}')\n",
    "\n",
    "for gam in learning_rates:\n",
    "    \n",
    "    # Run gradient descent for N iterations\n",
    "    for n in range(N):\n",
    "        x_init = grad_descent_step(x_init, gam)\n",
    "    \n",
    "    # Store the final optimal value\n",
    "    optimal_values.append(x_init)\n",
    "\n",
    "# Results\n",
    "print('The optimal values for the different learning rates are:\\n', \n",
    "      'Learning rate =',learning_rates[0],'\\n', optimal_values[0],\n",
    "      '\\nLearning rate =',learning_rates[1],'\\n', optimal_values[1],\n",
    "      '\\nLearning rate =',learning_rates[2],'\\n', optimal_values[2])\n",
    "\n",
    "ax.set_xlabel('Iterations', size=14)\n",
    "ax.set_ylabel('Value', size=14)\n",
    "ax.legend()\n",
    "plt.title('Convergence for Different Learning Rates', size=16)\n",
    "plt.show()"
   ]
  },
  {
   "cell_type": "markdown",
   "id": "52b5294e",
   "metadata": {},
   "source": [
    "A learning rate of 0.01 results in a reasonable rate of convergence, balancing rapid advancement with avoiding oscillations. The slower convergence is shown with the lower learning rates of 0.001 and 0.02; 0.02 causes oscillations, while 0.001 is too conservative. The increased learning rate of 0.05 shows faster convergence at first, but overshooting causes it to finally diverge. This highlights the critical trade-off in finding the ideal balance for effective and stable convergence ."
   ]
  },
  {
   "cell_type": "markdown",
   "id": "6b4857ab",
   "metadata": {},
   "source": [
    "- Demonstrate that, depending on the initial guess for the optimal solution, the Gradient Descent algorithm may result in different optimal solutions (different local minima)."
   ]
  },
  {
   "cell_type": "markdown",
   "id": "0cdc5023",
   "metadata": {},
   "source": [
    "Here I used the same logic as for the first task. I demonstrated visually the difference in optimal solution results depending on a list of random initial guesses."
   ]
  },
  {
   "cell_type": "code",
   "execution_count": 53,
   "id": "766fe846",
   "metadata": {},
   "outputs": [
    {
     "data": {
      "image/png": "[encoded data removed]",
      "text/plain": [
       "<Figure size 1000x600 with 1 Axes>"
      ]
     },
     "metadata": {},
     "output_type": "display_data"
    }
   ],
   "source": [
    "# Define the functions and gradient\n",
    "def my_fun(x):\n",
    "    return 0.3 * (x**4) - 0.1*(x**3) - 2*(x**2) - 0.8*x\n",
    "\n",
    "def grad_fun(x):\n",
    "    return 1.2*(x**3) - 0.3*(x**2) - 4*x - 0.8\n",
    "\n",
    "def grad_descent_step(x, alf):\n",
    "    return x - alf * grad_fun(x)\n",
    "\n",
    "# Choose a range of initial guesses\n",
    "initial_guesses = [-3, -1, 0.5, 2]\n",
    "\n",
    "# Choose a learning rate\n",
    "learning_rate = 0.1\n",
    "\n",
    "# Choose the convergence criteria\n",
    "convergence_threshold = 1e-6\n",
    "\n",
    "# Plot the results for each initial guess\n",
    "fig, ax = plt.subplots(figsize=(10, 6))\n",
    "\n",
    "for x_init in initial_guesses:\n",
    "    x_values = [x_init]\n",
    "    \n",
    "    # Run gradient descent until convergence\n",
    "    while True:\n",
    "        x_new = grad_descent_step(x_values[-1], learning_rate)\n",
    "        x_values.append(x_new)\n",
    "        \n",
    "        # Check convergence criteria\n",
    "        if np.abs(my_fun(x_new) - my_fun(x_values[-2])) < convergence_threshold:\n",
    "            break\n",
    "\n",
    "    # Plot the convergence path\n",
    "    ax.plot(range(len(x_values)), x_values, marker='o', label=f'Initial Guess = {x_init}')\n",
    "    \n",
    "    # Mark the optimal solution\n",
    "    ax.plot(len(x_values) - 1, x_new, marker='x', markersize=10, color='red')\n",
    "\n",
    "ax.set_xlabel('Iterations', size=14)\n",
    "ax.set_ylabel('Value', size=14)\n",
    "ax.legend()\n",
    "plt.title('Convergence Paths and Optimal Solutions for Different Initial Guesses', size=16)\n",
    "plt.show()"
   ]
  },
  {
   "cell_type": "markdown",
   "id": "0b048bd2",
   "metadata": {},
   "source": [
    "## Assignment 2"
   ]
  },
  {
   "cell_type": "markdown",
   "id": "f442e6c4",
   "metadata": {},
   "source": [
    "Implement Gradient Descent Algorithm for House Price Prediction\n",
    "\n",
    "The goal in this assignment is to build a linear regression model to predict the house price based on its size."
   ]
  },
  {
   "cell_type": "code",
   "execution_count": 3,
   "id": "e9ddc771",
   "metadata": {},
   "outputs": [
    {
     "data": {
      "text/html": [
       "<div>\n",
       "<style scoped>\n",
       "    .dataframe tbody tr th:only-of-type {\n",
       "        vertical-align: middle;\n",
       "    }\n",
       "\n",
       "    .dataframe tbody tr th {\n",
       "        vertical-align: top;\n",
       "    }\n",
       "\n",
       "    .dataframe thead th {\n",
       "        text-align: right;\n",
       "    }\n",
       "</style>\n",
       "<table border=\"1\" class=\"dataframe\">\n",
       "  <thead>\n",
       "    <tr style=\"text-align: right;\">\n",
       "      <th></th>\n",
       "      <th>Home</th>\n",
       "      <th>Price</th>\n",
       "      <th>SqFt</th>\n",
       "      <th>Bedrooms</th>\n",
       "      <th>Bathrooms</th>\n",
       "      <th>Offers</th>\n",
       "      <th>Brick</th>\n",
       "      <th>Neighborhood</th>\n",
       "    </tr>\n",
       "  </thead>\n",
       "  <tbody>\n",
       "    <tr>\n",
       "      <th>0</th>\n",
       "      <td>1</td>\n",
       "      <td>114300</td>\n",
       "      <td>1790</td>\n",
       "      <td>2</td>\n",
       "      <td>2</td>\n",
       "      <td>2</td>\n",
       "      <td>No</td>\n",
       "      <td>East</td>\n",
       "    </tr>\n",
       "    <tr>\n",
       "      <th>1</th>\n",
       "      <td>2</td>\n",
       "      <td>114200</td>\n",
       "      <td>2030</td>\n",
       "      <td>4</td>\n",
       "      <td>2</td>\n",
       "      <td>3</td>\n",
       "      <td>No</td>\n",
       "      <td>East</td>\n",
       "    </tr>\n",
       "    <tr>\n",
       "      <th>2</th>\n",
       "      <td>3</td>\n",
       "      <td>114800</td>\n",
       "      <td>1740</td>\n",
       "      <td>3</td>\n",
       "      <td>2</td>\n",
       "      <td>1</td>\n",
       "      <td>No</td>\n",
       "      <td>East</td>\n",
       "    </tr>\n",
       "    <tr>\n",
       "      <th>3</th>\n",
       "      <td>4</td>\n",
       "      <td>94700</td>\n",
       "      <td>1980</td>\n",
       "      <td>3</td>\n",
       "      <td>2</td>\n",
       "      <td>3</td>\n",
       "      <td>No</td>\n",
       "      <td>East</td>\n",
       "    </tr>\n",
       "    <tr>\n",
       "      <th>4</th>\n",
       "      <td>5</td>\n",
       "      <td>119800</td>\n",
       "      <td>2130</td>\n",
       "      <td>3</td>\n",
       "      <td>3</td>\n",
       "      <td>3</td>\n",
       "      <td>No</td>\n",
       "      <td>East</td>\n",
       "    </tr>\n",
       "  </tbody>\n",
       "</table>\n",
       "</div>"
      ],
      "text/plain": [
       "   Home   Price  SqFt  Bedrooms  Bathrooms  Offers Brick Neighborhood\n",
       "0     1  114300  1790         2          2       2    No         East\n",
       "1     2  114200  2030         4          2       3    No         East\n",
       "2     3  114800  1740         3          2       1    No         East\n",
       "3     4   94700  1980         3          2       3    No         East\n",
       "4     5  119800  2130         3          3       3    No         East"
      ]
     },
     "execution_count": 3,
     "metadata": {},
     "output_type": "execute_result"
    }
   ],
   "source": [
    "# Import numpy, pandas, and matplotlib.pyplot \n",
    "import numpy as np\n",
    "import pandas as pd\n",
    "import matplotlib.pyplot as plt\n",
    "\n",
    "# Load the dataset\n",
    "data = pd.read_csv('house-prices.csv')\n",
    "\n",
    "# Take a look at the data, use head method for data\n",
    "data.head()"
   ]
  },
  {
   "cell_type": "code",
   "execution_count": 4,
   "id": "68c9ce13",
   "metadata": {},
   "outputs": [
    {
     "data": {
      "image/png": "[encoded data removed]",
      "text/plain": [
       "<Figure size 640x480 with 1 Axes>"
      ]
     },
     "metadata": {},
     "output_type": "display_data"
    }
   ],
   "source": [
    "# Select the size and price values from the dataset and assign them to \n",
    "# variables X and Y\n",
    "X_dat = data['SqFt'].to_numpy()\n",
    "Y_dat = data['Price'].to_numpy()\n",
    "\n",
    "# Plot a scatter plot for X_dat and Y_dat\n",
    "# Take alook at our data\n",
    "plt.scatter(X_dat, Y_dat)\n",
    "\n",
    "plt.xlabel('Size')\n",
    "plt.ylabel('Price')\n",
    "plt.show()"
   ]
  },
  {
   "cell_type": "markdown",
   "id": "01cd8cec",
   "metadata": {},
   "source": [
    "It is always good practice to normalize our data to increase the convergence rate of the Gradient Descent algorithm."
   ]
  },
  {
   "cell_type": "code",
   "execution_count": 5,
   "id": "91eb77dc",
   "metadata": {},
   "outputs": [],
   "source": [
    "# Normalize our data\n",
    "X = (np.max(X_dat) - X_dat)/(np.max(X_dat) - np.min(X_dat)) \n",
    "Y = (np.max(Y_dat) - Y_dat)/(np.max(Y_dat) - np.min(Y_dat)) "
   ]
  },
  {
   "cell_type": "markdown",
   "id": "d79bfb2c",
   "metadata": {},
   "source": [
    "Now that our data is prepared, let's start creating the necessary functions to implement the Gradient Descent algorithm."
   ]
  },
  {
   "cell_type": "markdown",
   "id": "b7e394fc",
   "metadata": {},
   "source": [
    "\n",
    "### Linear Regression Model\n",
    "At first step, we need to define our linear regression model. The model is as follows:\n",
    "\n",
    "$$y=wx+b$$"
   ]
  },
  {
   "cell_type": "code",
   "execution_count": 30,
   "id": "5210e706",
   "metadata": {},
   "outputs": [],
   "source": [
    "from sklearn.linear_model import LinearRegression\n",
    "# Define the linear regression model\n",
    "def LR_model(x, w, b):\n",
    "    # x: a scalar value, the size of the house\n",
    "    # w: the weight of the model, a scalar value\n",
    "    # b: the intercept of the model, a scalar value\n",
    "    \n",
    "    \n",
    "    # Define the linear regression model\n",
    "    y = w*x + b\n",
    "    \n",
    "    return y"
   ]
  },
  {
   "cell_type": "markdown",
   "id": "96b0c2a7",
   "metadata": {},
   "source": [
    "### Cost Function\n",
    "\n",
    "Now, we need to define the cost function. The cost function is a mean squared error function. \n",
    "\n",
    "The mean squared error cost function for our linear regression can be formulated as:\n",
    "\n",
    "$$J(w,b)=\\dfrac{1}{2m} \\sum_{i=1}^{m} {\\left(\\hat y^{(i)} - y^{(i)}\\right)^2}= \\dfrac{1}{2m} \\sum_{i=1}^{m} {\\left(wx+b - y^{(i)}\\right)^2}$$\n",
    "\n"
   ]
  },
  {
   "cell_type": "code",
   "execution_count": 47,
   "id": "c3ce2250",
   "metadata": {},
   "outputs": [],
   "source": [
    "# Implement the cost function (mean squared error function)\n",
    "def cost(X, Y, w, b):\n",
    "    # X: a vector contains the size of the houses\n",
    "    # Y: a vector contains the price of the houses\n",
    "    # w: weight of the linear regression model\n",
    "    # b: intercept of the model\n",
    "    \n",
    "    # Number of the observations\n",
    "    m = len(X)\n",
    "    \n",
    "    # Cost value\n",
    "    \n",
    "    # Initilize the sum as zero \n",
    "    J = 0\n",
    "    \n",
    "    for i in range(m):\n",
    "        x = X[i]\n",
    "        y = Y[i]\n",
    "        \n",
    "        # Put your code here (1 line of code)\n",
    "        # Use LR_model to compute the prediction of the price based on the size\n",
    "        y_pred = LR_model(x, w, b)\n",
    "        \n",
    "        # Compute the cost function (mean squared error cost function)\n",
    "        J += (1/(2*m))*np.sum((y_pred - y)**2)\n",
    "    \n",
    "    return J\n",
    "    "
   ]
  },
  {
   "cell_type": "markdown",
   "id": "053a57bc",
   "metadata": {},
   "source": [
    "To make sure that you have correctly implemented the cost function, run the following cell and compare the obtained result with the given value. "
   ]
  },
  {
   "cell_type": "code",
   "execution_count": 49,
   "id": "8e62f3a7",
   "metadata": {},
   "outputs": [
    {
     "data": {
      "text/plain": [
       "6.050766241298438"
      ]
     },
     "execution_count": 49,
     "metadata": {},
     "output_type": "execute_result"
    }
   ],
   "source": [
    "# Use your function to compute the cost for the following values\n",
    "cost(X, Y, 2, 3)"
   ]
  },
  {
   "cell_type": "markdown",
   "id": "9c373eaf",
   "metadata": {},
   "source": [
    "The expected value is: 6.050766241298438"
   ]
  },
  {
   "cell_type": "markdown",
   "id": "88a24141",
   "metadata": {},
   "source": [
    "\n",
    "### Gradient Descent Update Rule\n",
    "\n",
    "Now you need to implement the Gradient Descent update rule as follows:\n",
    "\n",
    "$$ \\qquad \\left\\{ \\begin{array}{l} w_{n+1} = w_{n} -  \\dfrac{\\alpha}{m} \\sum_{i=1}^{m} \\left( \\hat{y}^{(i)} - y^{(i)} \\right)x^{(i)} \\\\ b_{n+1} = b_{n} -  \\dfrac{\\alpha}{m} \\sum_{i=1}^{m} \\left( \\hat{y}^{(i)} - y^{(i)} \\right) \\end{array} \\right.$$\n",
    "\n",
    "\n",
    "Here, $\\alpha$ is the learning rate, $m$ is the number of the observations. Note that you are able to compute $\\hat{y}^{(i)}$ using your previously developed function **LR_model**."
   ]
  },
  {
   "cell_type": "code",
   "execution_count": 50,
   "id": "3b95931b",
   "metadata": {},
   "outputs": [],
   "source": [
    "def grad_descent_step(X, Y, w, b, alf):\n",
    "    # X: a vector contains the size of the houses\n",
    "    # Y: a vector contains the price of the houses\n",
    "    # w: weight of the linear regression model\n",
    "    # b: intercept of the model\n",
    "    # alf: learning rate (a scalar value)\n",
    "    \n",
    "    # Number of the observations\n",
    "    m = len(X)\n",
    "    \n",
    "    # Initilize both sum_w and sum_b as zero\n",
    "    sum_w = 0\n",
    "    sum_b = 0\n",
    "    \n",
    "    # A for loop to compute the sums appear in the update rule\n",
    "    for i in range(m):\n",
    "        x = X[i]\n",
    "        y = Y[i]\n",
    "        \n",
    "        # Use your LR_model to compute a prediction with x, w, b\n",
    "        y_pred = LR_model(x,w,b)\n",
    "        \n",
    "        # Put your code here (2 lines of code)\n",
    "        # Compute the sums appear in the update rule\n",
    "        sum_w += w - (alf/m)* np.sum(y_pred - y) * x\n",
    "        sum_b += b - (alf/m)* np.sum(y_pred - y)\n",
    "    \n",
    "    # Put your codes here (2 lines of code)\n",
    "    # Implement the update rule for the gradien descent\n",
    "    w_new = sum_w\n",
    "    b_new = sum_b \n",
    "    \n",
    "    return w_new, b_new"
   ]
  },
  {
   "cell_type": "markdown",
   "id": "c43299bf",
   "metadata": {},
   "source": [
    "Now that you have implemented the Gradient Descent update rule, to ensure its correctness, run the following cell and compare your result with the provided one."
   ]
  },
  {
   "cell_type": "code",
   "execution_count": 51,
   "id": "bc716648",
   "metadata": {},
   "outputs": [
    {
     "data": {
      "text/plain": [
       "(256.01260782374413, -383.9746502175622)"
      ]
     },
     "execution_count": 51,
     "metadata": {},
     "output_type": "execute_result"
    }
   ],
   "source": [
    "grad_descent_step(X, Y, 2, -3, 0.01)"
   ]
  },
  {
   "cell_type": "markdown",
   "id": "887a8938",
   "metadata": {},
   "source": [
    "The expected values are as follows:\n",
    "    \n",
    "(2.0126078237441893, -2.97465021756207)"
   ]
  },
  {
   "cell_type": "markdown",
   "id": "4d21e11b",
   "metadata": {},
   "source": [
    "### Implement Gradient Descent Algorithm\n",
    "\n",
    "Now, it is time to implement the Gradient Descent algorithm using your already developed functions."
   ]
  },
  {
   "cell_type": "code",
   "execution_count": null,
   "id": "276a612c",
   "metadata": {},
   "outputs": [],
   "source": [
    "# Choose an initial value for w\n",
    "w_init = 3\n",
    "\n",
    "# Choose an initial value for b\n",
    "b_init = 7\n",
    "\n",
    "# Choose the learning rate\n",
    "alf = 0.1\n",
    "\n",
    "# Choose the number of iterations\n",
    "N = 15\n",
    "\n",
    "# Save the values for w, b\n",
    "W = np.zeros(N + 1)\n",
    "B = np.zeros(N + 1)\n",
    "C = np.zeros(N + 1)\n",
    "\n",
    "# Save initial values\n",
    "W[0] = w_init\n",
    "B[0] = b_init\n",
    "\n",
    "# Put your code here (1 line of code)\n",
    "# Save the cost for w_init and b_init using cost function\n",
    "C[0] = cost(X, Y, W, B)\n",
    "\n",
    "# A loop to iteratively apply the update rule \n",
    "for n in range(N):\n",
    "    \n",
    "    # Put your code here (1 line of code)\n",
    "    # Use grad_descent_step function to find new values for w, b\n",
    "    w_new, b_new = None\n",
    "    \n",
    "    # Put your code here (2 lines of code)\n",
    "    # Save the new values for w and b \n",
    "    W[n+1] = None\n",
    "    B[n+1] = None\n",
    "    \n",
    "    # Put your code here (1 line of code)\n",
    "    # Save the cost value for compute new values of w and b \n",
    "    # Use the cost function you have already implemented\n",
    "    C[n+1] = None\n",
    "\n",
    "# Plot the results\n",
    "plt.plot(range(N+1),C)\n",
    "plt.show()"
   ]
  },
  {
   "cell_type": "markdown",
   "id": "7baa4028",
   "metadata": {},
   "source": [
    "Now, plot the obtained results:"
   ]
  },
  {
   "cell_type": "code",
   "execution_count": null,
   "id": "e03159d6",
   "metadata": {},
   "outputs": [],
   "source": [
    "# Put your code here (1 line of code)\n",
    "# Plot the saved values of W against the iteration.\n",
    "None\n",
    "\n",
    "plt.show()"
   ]
  },
  {
   "cell_type": "code",
   "execution_count": null,
   "id": "8e0cc3e2",
   "metadata": {},
   "outputs": [],
   "source": [
    "# Put your code here (1 line of code)\n",
    "# Plot the saved values of B against the iteration.\n",
    "None\n",
    "\n",
    "plt.show()"
   ]
  },
  {
   "cell_type": "code",
   "execution_count": null,
   "id": "3a354d01",
   "metadata": {},
   "outputs": [],
   "source": [
    "# Put your code here (2 lines of code)\n",
    "# Define the final values (optimal values) of w and b\n",
    "w_opt = None\n",
    "b_opt = None\n",
    "\n",
    "print(\"The optimal value for w:\", w_opt)\n",
    "print(\"The optimal value for b:\", b_opt)"
   ]
  },
  {
   "cell_type": "markdown",
   "id": "0621179c",
   "metadata": {},
   "source": [
    "Since we initially normalized the data, in this section, we inverse the normalization to represent the model using the initial values of the data."
   ]
  },
  {
   "cell_type": "code",
   "execution_count": null,
   "id": "21827789",
   "metadata": {},
   "outputs": [],
   "source": [
    "X_max = np.max(X_dat)\n",
    "X_min = np.min(X_dat)\n",
    "\n",
    "Y_max = np.max(Y_dat)\n",
    "Y_min = np.min(Y_dat)\n",
    "\n",
    "X_line = np.linspace(X_min, X_max, 100)\n",
    "Y_line_norm = w_opt * (X_max - X_line)/(X_max - X_min) + b_opt\n",
    "Y_line = Y_max - Y_line_norm * (Y_max - Y_min) \n",
    "plt.plot(X_line,Y_line, 'r--')\n",
    "\n",
    "\n",
    "plt.scatter(X_dat,Y_dat)\n",
    "\n",
    "plt.xlabel('Size')\n",
    "plt.ylabel('Price')\n",
    "plt.show() "
   ]
  },
  {
   "cell_type": "markdown",
   "id": "e877a613",
   "metadata": {},
   "source": [
    "### Compare with Scikit-learn\n",
    "\n",
    "Congratulations! You have finished building a linear regression model from scratch. Perhaps you are curious to compare your model with the one obtained using the Scikit-learn package. In what follows, you will train the same model using Scikit-learn, and you can compare your model with that one."
   ]
  },
  {
   "cell_type": "code",
   "execution_count": null,
   "id": "5bcb65aa",
   "metadata": {},
   "outputs": [],
   "source": [
    "from sklearn.linear_model import LinearRegression\n",
    "\n",
    "reg = LinearRegression().fit(X.reshape(-1,1), Y)"
   ]
  },
  {
   "cell_type": "code",
   "execution_count": null,
   "id": "9fcf8a49",
   "metadata": {},
   "outputs": [],
   "source": [
    "print(\"The optimal value for w:\", reg.coef_)"
   ]
  },
  {
   "cell_type": "code",
   "execution_count": null,
   "id": "af62c34f",
   "metadata": {},
   "outputs": [],
   "source": [
    "print(\"The optimal value for b:\", reg.intercept_)"
   ]
  },
  {
   "cell_type": "markdown",
   "id": "7d4b164a",
   "metadata": {},
   "source": [
    "If your model is significantly different from that of Scikit-learn, try to fine-tune the hyperparameters in your algorithm, such as the learning rate and the number of iterations. You should aim to achieve similar results."
   ]
  },
  {
   "cell_type": "markdown",
   "id": "6cf414e2",
   "metadata": {},
   "source": [
    "### Tasks:"
   ]
  },
  {
   "cell_type": "markdown",
   "id": "f5e5bb88",
   "metadata": {},
   "source": [
    "Create a plot illustrating the original data points and the learned regression line.\n",
    "\n",
    "Evaluate the impact of learning rate on the obtained values for _w_ and _b_. Does the algorithm consistently converge to the same solution, regardless of the initial values for _w_ and _b_ ?\n",
    "\n",
    "Determine the best learning rate value for training the model. Explain why you consider that value the best.\n",
    "plot iterations against mse\n",
    "\n",
    "Illustrate the value of the cost function versus the algorithm's iterations."
   ]
  }
 ],
 "metadata": {
  "kernelspec": {
   "display_name": "Python 3 (ipykernel)",
   "language": "python",
   "name": "python3"
  },
  "language_info": {
   "codemirror_mode": {
    "name": "ipython",
    "version": 3
   },
   "file_extension": ".py",
   "mimetype": "text/x-python",
   "name": "python",
   "nbconvert_exporter": "python",
   "pygments_lexer": "ipython3",
   "version": "3.11.7"
  }
 },
 "nbformat": 4,
 "nbformat_minor": 5
}
