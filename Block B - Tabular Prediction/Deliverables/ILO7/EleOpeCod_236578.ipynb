{
 "cells": [
  {
   "cell_type": "markdown",
   "metadata": {},
   "source": [
    "## Assignment: Elementary Operations on Matrices"
   ]
  },
  {
   "cell_type": "code",
   "execution_count": 1,
   "metadata": {},
   "outputs": [],
   "source": [
    "import numpy as np"
   ]
  },
  {
   "cell_type": "markdown",
   "metadata": {},
   "source": [
    "### I. Verifying matrix operations"
   ]
  },
  {
   "cell_type": "markdown",
   "metadata": {},
   "source": [
    "#### 1. Compute the transpose of the following matrices by hand:"
   ]
  },
  {
   "cell_type": "code",
   "execution_count": 2,
   "metadata": {},
   "outputs": [
    {
     "name": "stdout",
     "output_type": "stream",
     "text": [
      "Transpose of A is: \n",
      "[[ 3 -2]\n",
      " [-5  7]] \n",
      "Transpose of B is: \n",
      "[[ 2 -5 -8]\n",
      " [-3  6  9]\n",
      " [ 4  7  1]]\n"
     ]
    }
   ],
   "source": [
    "A1 = np.array([[3, -5], [-2, 7]])\n",
    "B1 = np. array ([[2, -3, 4], \n",
    "                [-5, 6, 7],\n",
    "                [-8, 9 ,1]])\n",
    "print(f'Transpose of A is: \\n{np.transpose(A1)}','\\n'f'Transpose of B is: \\n{np.transpose(B1)}')"
   ]
  },
  {
   "cell_type": "markdown",
   "metadata": {},
   "source": [
    "#### 2. Consider the following two matrices:"
   ]
  },
  {
   "cell_type": "code",
   "execution_count": 14,
   "metadata": {},
   "outputs": [],
   "source": [
    "A2 = np.array([[3, 2, -1],\n",
    "               [-2, 7, 4],\n",
    "               [1, 6, 8]])\n",
    "B2 = np.array([[2, -3, -4],\n",
    "               [-5, -6, 7],\n",
    "               [-8, 9, 1]])"
   ]
  },
  {
   "cell_type": "markdown",
   "metadata": {},
   "source": [
    "Compute the element-wise product of matrices "
   ]
  },
  {
   "cell_type": "code",
   "execution_count": 15,
   "metadata": {},
   "outputs": [
    {
     "name": "stdout",
     "output_type": "stream",
     "text": [
      "[[  6  -6   4]\n",
      " [ 10 -42  28]\n",
      " [ -8  54   8]]\n"
     ]
    }
   ],
   "source": [
    "print(A2 * B2)"
   ]
  },
  {
   "cell_type": "markdown",
   "metadata": {},
   "source": [
    "Compute the matrix product of matrices "
   ]
  },
  {
   "cell_type": "code",
   "execution_count": 16,
   "metadata": {},
   "outputs": [
    {
     "name": "stdout",
     "output_type": "stream",
     "text": [
      "[[  4 -30   1]\n",
      " [-71   0  61]\n",
      " [-92  33  46]]\n"
     ]
    }
   ],
   "source": [
    "print(A2@B2)"
   ]
  },
  {
   "cell_type": "markdown",
   "metadata": {},
   "source": [
    "Now, change the order of the matrices and compute the element-wise and matrix products again"
   ]
  },
  {
   "cell_type": "markdown",
   "metadata": {},
   "source": [
    "- Element-wise product:"
   ]
  },
  {
   "cell_type": "code",
   "execution_count": 17,
   "metadata": {},
   "outputs": [
    {
     "name": "stdout",
     "output_type": "stream",
     "text": [
      "[[  6  -6   4]\n",
      " [ 10 -42  28]\n",
      " [ -8  54   8]]\n"
     ]
    }
   ],
   "source": [
    "print(B2*A2)"
   ]
  },
  {
   "cell_type": "markdown",
   "metadata": {},
   "source": [
    "- Matrix product:"
   ]
  },
  {
   "cell_type": "code",
   "execution_count": 18,
   "metadata": {},
   "outputs": [
    {
     "name": "stdout",
     "output_type": "stream",
     "text": [
      "[[  8 -41 -46]\n",
      " [  4 -10  37]\n",
      " [-41  53  52]]\n"
     ]
    }
   ],
   "source": [
    "print(B2@A2)"
   ]
  },
  {
   "cell_type": "markdown",
   "metadata": {},
   "source": [
    "#### 3. Consider the following matrices:"
   ]
  },
  {
   "cell_type": "code",
   "execution_count": 34,
   "metadata": {},
   "outputs": [],
   "source": [
    "A3 = np.array([[3, 2, -1],\n",
    "               [-2, 7, 4],\n",
    "               [1, 6, 8]])\n",
    "B3 = np.array([[3, -2, 1],\n",
    "               [2, 7, 6],\n",
    "               [-1, 4, 8]])\n",
    "C1 = np.array([[1, 3, 5],\n",
    "              [2, 6, 7],\n",
    "              [4, 12, 8]])"
   ]
  },
  {
   "cell_type": "markdown",
   "metadata": {},
   "source": [
    "Compute the determinant of the matrices:"
   ]
  },
  {
   "cell_type": "code",
   "execution_count": 7,
   "metadata": {},
   "outputs": [
    {
     "name": "stdout",
     "output_type": "stream",
     "text": [
      "Search results for 'determinant'\n",
      "--------------------------------\n",
      "numpy.linalg.det\n",
      "    Compute the determinant of an array.\n",
      "numpy.linalg.slogdet\n",
      "    Compute the sign and (natural) logarithm of the determinant of an array.\n",
      "numpy.vander\n",
      "    Generate a Vandermonde matrix.\n",
      "numpy.linalg.qr\n",
      "    Compute the qr factorization of a matrix.\n",
      "numpy.ma.vander\n",
      "    Generate a Vandermonde matrix.\n",
      "numpy.linalg._umath_linalg.slogdet\n",
      "    slogdet on the last two dimensions and broadcast on the rest.\n",
      "None\n"
     ]
    }
   ],
   "source": [
    "print(np.lookfor(\"determinant\"))"
   ]
  },
  {
   "cell_type": "code",
   "execution_count": 11,
   "metadata": {},
   "outputs": [
    {
     "name": "stdout",
     "output_type": "stream",
     "text": [
      "det(A): 155 \n",
      "det(B): 155 \n",
      "det(C): 0\n"
     ]
    }
   ],
   "source": [
    "print(f\"det(A): {int(np.linalg.det(A3))}\",'\\n'\n",
    "      f\"det(B): {int(np.linalg.det(B3))}\",'\\n'\n",
    "      f'det(C): {int(np.linalg.det(C1))}')"
   ]
  },
  {
   "cell_type": "markdown",
   "metadata": {},
   "source": [
    "### 4. Consider the following matrices:"
   ]
  },
  {
   "cell_type": "code",
   "execution_count": 12,
   "metadata": {},
   "outputs": [],
   "source": [
    "A4 = np.array([[3, 2], [2, 7]])\n",
    "B4 = np.array([[4, 0], [0, 5]])"
   ]
  },
  {
   "cell_type": "markdown",
   "metadata": {},
   "source": [
    "Compute the inverse of matrices:"
   ]
  },
  {
   "cell_type": "code",
   "execution_count": 22,
   "metadata": {},
   "outputs": [
    {
     "name": "stdout",
     "output_type": "stream",
     "text": [
      "A(-1): \n",
      "[[ 0.41 -0.12]\n",
      " [-0.12  0.18]] \n",
      "B(-1): \n",
      "[[0.25 0.  ]\n",
      " [0.   0.2 ]]\n"
     ]
    }
   ],
   "source": [
    "A_inv = np.linalg.inv(A4).round(decimals=2)\n",
    "B_inv= np.linalg.inv(B4)\n",
    "print(f'A(-1): \\n{A_inv}','\\n'\n",
    "      f'B(-1): \\n{B_inv}')"
   ]
  },
  {
   "cell_type": "markdown",
   "metadata": {},
   "source": [
    "Verify that A(-1) x B(-1) = (B x A)(-1) (consider the matrix multiplication)."
   ]
  },
  {
   "cell_type": "code",
   "execution_count": 33,
   "metadata": {},
   "outputs": [
    {
     "name": "stdout",
     "output_type": "stream",
     "text": [
      "Relationship true.\n",
      "(Inverse of A) * (Inverse of B) is:\n",
      "[[ 0.1025 -0.024 ]\n",
      " [-0.03    0.036 ]].\n",
      "Inverse of B * A is:\n",
      "[[ 0.10294118 -0.02352941]\n",
      " [-0.02941176  0.03529412]]\n"
     ]
    }
   ],
   "source": [
    "if (A_inv@B_inv).any() == np.linalg.inv(B4@A4).any():\n",
    "    print(f\"Relationship true.\\n(Inverse of A) * (Inverse of B) is:\\n{A_inv@B_inv}.\\nInverse of B * A is:\\n{np.linalg.inv(B4@A4)}\")"
   ]
  },
  {
   "cell_type": "markdown",
   "metadata": {},
   "source": [
    "### II. Matrix properties"
   ]
  },
  {
   "cell_type": "markdown",
   "metadata": {},
   "source": [
    "Consider the following matrices and scalars:"
   ]
  },
  {
   "cell_type": "code",
   "execution_count": 75,
   "metadata": {},
   "outputs": [],
   "source": [
    "A = np.array([[3, 2, -1],\n",
    "              [-2, 7, 4],\n",
    "              [1, 6, 8]])\n",
    "B = np.array([[-1, 2, 3],\n",
    "              [5, -4, 9],\n",
    "              [-7, 8, 6]])\n",
    "C = np.array([[-5, 4, 9],\n",
    "              [6, 1, 3],\n",
    "              [7, 2, -8]])\n",
    "alpha = 2\n",
    "beta = 3"
   ]
  },
  {
   "cell_type": "markdown",
   "metadata": {},
   "source": [
    "Verify the following properties:"
   ]
  },
  {
   "cell_type": "code",
   "execution_count": 40,
   "metadata": {},
   "outputs": [
    {
     "name": "stdout",
     "output_type": "stream",
     "text": [
      "True.\n",
      "Transpose of A is:\n",
      "[[ 3 -2  1]\n",
      " [ 2  7  6]\n",
      " [-1  4  8]].\n",
      "Transpose of transpose is\n",
      "[[ 3  2 -1]\n",
      " [-2  7  4]\n",
      " [ 1  6  8]]\n"
     ]
    }
   ],
   "source": [
    "if (A.T).T.any() == A.any():\n",
    "    print(f'True.\\nTranspose of A is:\\n{A.T}.\\nTranspose of transpose is\\n{A.T.T}')"
   ]
  },
  {
   "cell_type": "code",
   "execution_count": 42,
   "metadata": {},
   "outputs": [
    {
     "name": "stdout",
     "output_type": "stream",
     "text": [
      "True.\n",
      "A + B = B + A\n"
     ]
    }
   ],
   "source": [
    "if (A + B).any() == (B + A).any():\n",
    "    print(f'True.\\nA + B = B + A')        "
   ]
  },
  {
   "cell_type": "code",
   "execution_count": 43,
   "metadata": {},
   "outputs": [
    {
     "name": "stdout",
     "output_type": "stream",
     "text": [
      "True.\n",
      "A + (B + C) == (A + B) + C\n"
     ]
    }
   ],
   "source": [
    "if (A + (B + C)).any() == ((A + B) + C).any():\n",
    "    print('True.\\nA + (B + C) == (A + B) + C')"
   ]
  },
  {
   "cell_type": "code",
   "execution_count": 45,
   "metadata": {},
   "outputs": [
    {
     "name": "stdout",
     "output_type": "stream",
     "text": [
      "True.\n",
      "Transpose of (A + B) is equal to the sum of the transpose of each matrix\n"
     ]
    }
   ],
   "source": [
    "if (A + B).T.any() == (A.T + B.T).any():\n",
    "    print('True.\\nTranspose of (A + B) is equal to the sum of the transpose of each matrix')"
   ]
  },
  {
   "cell_type": "code",
   "execution_count": 54,
   "metadata": {},
   "outputs": [
    {
     "name": "stdout",
     "output_type": "stream",
     "text": [
      "True.\n",
      "Matrices are not commutative\n"
     ]
    }
   ],
   "source": [
    "if (A@B) is not (B@A):\n",
    "    print(\"True.\\nMatrices are not commutative\")"
   ]
  },
  {
   "cell_type": "code",
   "execution_count": 55,
   "metadata": {},
   "outputs": [
    {
     "name": "stdout",
     "output_type": "stream",
     "text": [
      "True.\n",
      "Matrices are not associative\n"
     ]
    }
   ],
   "source": [
    "if (A@(B@C)) is not ((A@B)@C):\n",
    "    print('True.\\nMatrices are not associative')"
   ]
  },
  {
   "cell_type": "code",
   "execution_count": 57,
   "metadata": {},
   "outputs": [
    {
     "name": "stdout",
     "output_type": "stream",
     "text": [
      "True.\n",
      "Matrices are distributive\n"
     ]
    }
   ],
   "source": [
    "if (A@(B + C)).any() == (A@B + A@C).any():\n",
    "    print('True.\\nMatrices are distributive')"
   ]
  },
  {
   "cell_type": "code",
   "execution_count": 60,
   "metadata": {},
   "outputs": [
    {
     "name": "stdout",
     "output_type": "stream",
     "text": [
      "True.\n",
      "Transpose of A*B is (B transposed * A transposed)\n"
     ]
    }
   ],
   "source": [
    "if (A@B).T.any() is (B.T@A.T).any():\n",
    "    print('True.\\nTranspose of A*B is (B transposed * A transposed)')"
   ]
  },
  {
   "cell_type": "code",
   "execution_count": 64,
   "metadata": {},
   "outputs": [
    {
     "name": "stdout",
     "output_type": "stream",
     "text": [
      "True.\n",
      "Inverse of A * B is equal to the produce of the inverses.\n",
      "\n"
     ]
    }
   ],
   "source": [
    "if np.linalg.inv(A@B).any() is (np.linalg.inv(B)@np.linalg.inv(A)).any():\n",
    "    print(\"True.\\nInverse of A * B is equal to the produce of the inverses.\")"
   ]
  },
  {
   "cell_type": "code",
   "execution_count": 65,
   "metadata": {},
   "outputs": [
    {
     "name": "stdout",
     "output_type": "stream",
     "text": [
      "True.\n",
      "The inverse of the transposed is the transpose of the inverse\n"
     ]
    }
   ],
   "source": [
    "if np.linalg.inv(A.T).any() is (np.linalg.inv(A).T).any():\n",
    "    print('True.\\nThe inverse of the transposed is the transpose of the inverse')"
   ]
  },
  {
   "cell_type": "code",
   "execution_count": 70,
   "metadata": {},
   "outputs": [
    {
     "name": "stdout",
     "output_type": "stream",
     "text": [
      "True.\n",
      "(Alph + Beta) * A = Alph * A + Beta * A)\n"
     ]
    }
   ],
   "source": [
    "if ((alpha + beta)*A).any() is (alpha * A + beta *A).any():\n",
    "    print('True.\\n(Alph + Beta) * A = Alph * A + Beta * A)')"
   ]
  },
  {
   "cell_type": "code",
   "execution_count": 72,
   "metadata": {},
   "outputs": [
    {
     "name": "stdout",
     "output_type": "stream",
     "text": [
      "True.\n",
      "Alph * (A + B) = Alph * A + Alph * B)\n"
     ]
    }
   ],
   "source": [
    "if (alpha * (A + B)).any() is (alpha * A + alpha*B).any():\n",
    "    print('True.\\nAlph * (A + B) = Alph * A + Alph * B)')"
   ]
  },
  {
   "cell_type": "code",
   "execution_count": 81,
   "metadata": {},
   "outputs": [
    {
     "name": "stdout",
     "output_type": "stream",
     "text": [
      "True.\n",
      "The inverse of a produce between a scalar and a matrix is equal to the produce of the inverse of the scalar and the inverse of the matrix\n"
     ]
    }
   ],
   "source": [
    "if (np.linalg.inv(alpha * A)).any() is (0.5 * np.linalg.inv(A)).any():\n",
    "    print('True.\\nThe inverse of a produce between a scalar and a matrix is equal to the produce of the inverse of the scalar and the inverse of the matrix')"
   ]
  }
 ],
 "metadata": {
  "kernelspec": {
   "display_name": "block_b",
   "language": "python",
   "name": "python3"
  },
  "language_info": {
   "codemirror_mode": {
    "name": "ipython",
    "version": 3
   },
   "file_extension": ".py",
   "mimetype": "text/x-python",
   "name": "python",
   "nbconvert_exporter": "python",
   "pygments_lexer": "ipython3",
   "version": "3.8.18"
  }
 },
 "nbformat": 4,
 "nbformat_minor": 2
}
