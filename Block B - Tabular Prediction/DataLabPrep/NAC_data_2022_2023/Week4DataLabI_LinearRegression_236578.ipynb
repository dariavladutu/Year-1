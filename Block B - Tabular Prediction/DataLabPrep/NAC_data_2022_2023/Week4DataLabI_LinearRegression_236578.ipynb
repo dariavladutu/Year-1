{
 "cells": [
  {
   "cell_type": "markdown",
   "metadata": {},
   "source": [
    "## Linear Regression"
   ]
  },
  {
   "cell_type": "markdown",
   "metadata": {},
   "source": [
    "### Questions:"
   ]
  },
  {
   "cell_type": "markdown",
   "metadata": {},
   "source": [
    "#### 1. If you take a look at the six graphs below, for which graphs do you think that simple linear regression is suitable, and for which not? Explain your answer for each of the six graphs."
   ]
  },
  {
   "cell_type": "markdown",
   "metadata": {},
   "source": [
    "I believe it is suitable for graph b and e because the data points are quite closely clustered together. Therefore we have a high R^2 and a positive (for b)/ negative (for a) correlation coefficient close to 1, meaning the independent variable explains the variability in the dependent variable really well. This would mean a small difference between the residuals for each data point, indicating that linear regression is a suitable prediction method. Moreover, the two graphs are the only graphs where you could fit a linear regression line (equation is y=mx + c) around the data points.\n",
    "\n",
    "For graphs a and d, a simple linear regression assumes a linear relationship between the independent variable (X) and the dependent variable (Y). Here we would need the equation X^2 to capture the quadratic nature of the relationship accurately.\n",
    "\n",
    "For graphs c and f, the data points are too far appart, which would mean a big difference between the residuals for each data point. Therefore, a linear regression would not be a suitable prediction method."
   ]
  },
  {
   "cell_type": "markdown",
   "metadata": {},
   "source": [
    "#### 2. Why is it essential to minimize the number of residuals in a linear regression model?"
   ]
  },
  {
   "cell_type": "markdown",
   "metadata": {},
   "source": [
    "It is essential to minimize them because it ensures that the linear relationship between the independent and dependent variables closely matches the observed data. By optimizing the coefficients to minimize residuals, the model provides reliable estimates, resulting in increased accuracy of statistical inferences and hypothesis testing. Additionally, this would ensure their normal distribution around the mean of the data."
   ]
  },
  {
   "cell_type": "markdown",
   "metadata": {},
   "source": [
    "#### 3. If we consider the two regression plots below, which of the two plots has the best fitted line?"
   ]
  },
  {
   "cell_type": "markdown",
   "metadata": {},
   "source": [
    "The second regression plot because it would have the least sum of squares."
   ]
  },
  {
   "cell_type": "markdown",
   "metadata": {},
   "source": [
    "#### 4. If we have an ill fitting line, does it help to change the slope of the line to get a better fit? Explain why or why not."
   ]
  },
  {
   "cell_type": "markdown",
   "metadata": {},
   "source": [
    "I believe it would help in certain ways because, as the name suggests, the slope of the line could be rotated to as to be a better fit. However, it still wouldn't be the best fit because changing the slope is more of a 'band-aid' solution to an ill fitting line. A proper solution would be to go through the process of summing the squares of the residuals for every rotation of the line, plotting the summs and their corresponding rotations, and then findind the one that has the least sum of squares."
   ]
  },
  {
   "cell_type": "markdown",
   "metadata": {},
   "source": [
    "## Implementing in Python"
   ]
  },
  {
   "cell_type": "code",
   "execution_count": 31,
   "metadata": {},
   "outputs": [],
   "source": [
    "import matplotlib.pyplot as plt\n",
    "import seaborn as sns\n",
    "import statsmodels.api as sm\n",
    "import pandas as pd\n",
    "import numpy as np\n",
    "from sklearn.model_selection import train_test_split\n",
    "from sklearn.linear_model import LinearRegression\n",
    "from sklearn.metrics import mean_squared_error\n",
    "from sklearn.metrics import r2_score\n",
    "from sklearn.preprocessing import LabelEncoder"
   ]
  },
  {
   "cell_type": "code",
   "execution_count": null,
   "metadata": {},
   "outputs": [],
   "source": [
    "# For scatter plot\n",
    "sns.scatterplot(x=independent_variable, y=dependent_variable)\n",
    "\n",
    "# For residual plot\n",
    "model = sm.OLS(dependent_variable, sm.add_constant(independent_variables)).fit()\n",
    "residuals = model.resid\n",
    "plt.scatter(model.predict(), residuals)\n",
    "\n",
    "# For partial regression plot\n",
    "fig = plt.figure(figsize=(8, 6))\n",
    "sm.graphics.plot_partregress_grid(model, fig=fig)"
   ]
  },
  {
   "cell_type": "markdown",
   "metadata": {},
   "source": [
    "Step 1: Loading the data"
   ]
  },
  {
   "cell_type": "code",
   "execution_count": 9,
   "metadata": {},
   "outputs": [
    {
     "data": {
      "text/html": [
       "<div>\n",
       "<style scoped>\n",
       "    .dataframe tbody tr th:only-of-type {\n",
       "        vertical-align: middle;\n",
       "    }\n",
       "\n",
       "    .dataframe tbody tr th {\n",
       "        vertical-align: top;\n",
       "    }\n",
       "\n",
       "    .dataframe thead th {\n",
       "        text-align: right;\n",
       "    }\n",
       "</style>\n",
       "<table border=\"1\" class=\"dataframe\">\n",
       "  <thead>\n",
       "    <tr style=\"text-align: right;\">\n",
       "      <th></th>\n",
       "      <th>price</th>\n",
       "      <th>area</th>\n",
       "      <th>bedrooms</th>\n",
       "      <th>bathrooms</th>\n",
       "      <th>stories</th>\n",
       "      <th>mainroad</th>\n",
       "      <th>guestroom</th>\n",
       "      <th>basement</th>\n",
       "      <th>hotwaterheating</th>\n",
       "      <th>airconditioning</th>\n",
       "      <th>parking</th>\n",
       "      <th>prefarea</th>\n",
       "      <th>furnishingstatus</th>\n",
       "    </tr>\n",
       "  </thead>\n",
       "  <tbody>\n",
       "    <tr>\n",
       "      <th>0</th>\n",
       "      <td>13300000</td>\n",
       "      <td>7420</td>\n",
       "      <td>4</td>\n",
       "      <td>2</td>\n",
       "      <td>3</td>\n",
       "      <td>yes</td>\n",
       "      <td>no</td>\n",
       "      <td>no</td>\n",
       "      <td>no</td>\n",
       "      <td>yes</td>\n",
       "      <td>2</td>\n",
       "      <td>yes</td>\n",
       "      <td>furnished</td>\n",
       "    </tr>\n",
       "    <tr>\n",
       "      <th>1</th>\n",
       "      <td>12250000</td>\n",
       "      <td>8960</td>\n",
       "      <td>4</td>\n",
       "      <td>4</td>\n",
       "      <td>4</td>\n",
       "      <td>yes</td>\n",
       "      <td>no</td>\n",
       "      <td>no</td>\n",
       "      <td>no</td>\n",
       "      <td>yes</td>\n",
       "      <td>3</td>\n",
       "      <td>no</td>\n",
       "      <td>furnished</td>\n",
       "    </tr>\n",
       "    <tr>\n",
       "      <th>2</th>\n",
       "      <td>12250000</td>\n",
       "      <td>9960</td>\n",
       "      <td>3</td>\n",
       "      <td>2</td>\n",
       "      <td>2</td>\n",
       "      <td>yes</td>\n",
       "      <td>no</td>\n",
       "      <td>yes</td>\n",
       "      <td>no</td>\n",
       "      <td>no</td>\n",
       "      <td>2</td>\n",
       "      <td>yes</td>\n",
       "      <td>semi-furnished</td>\n",
       "    </tr>\n",
       "    <tr>\n",
       "      <th>3</th>\n",
       "      <td>12215000</td>\n",
       "      <td>7500</td>\n",
       "      <td>4</td>\n",
       "      <td>2</td>\n",
       "      <td>2</td>\n",
       "      <td>yes</td>\n",
       "      <td>no</td>\n",
       "      <td>yes</td>\n",
       "      <td>no</td>\n",
       "      <td>yes</td>\n",
       "      <td>3</td>\n",
       "      <td>yes</td>\n",
       "      <td>furnished</td>\n",
       "    </tr>\n",
       "    <tr>\n",
       "      <th>4</th>\n",
       "      <td>11410000</td>\n",
       "      <td>7420</td>\n",
       "      <td>4</td>\n",
       "      <td>1</td>\n",
       "      <td>2</td>\n",
       "      <td>yes</td>\n",
       "      <td>yes</td>\n",
       "      <td>yes</td>\n",
       "      <td>no</td>\n",
       "      <td>yes</td>\n",
       "      <td>2</td>\n",
       "      <td>no</td>\n",
       "      <td>furnished</td>\n",
       "    </tr>\n",
       "  </tbody>\n",
       "</table>\n",
       "</div>"
      ],
      "text/plain": [
       "      price  area  bedrooms  bathrooms  stories mainroad guestroom basement  \\\n",
       "0  13300000  7420         4          2        3      yes        no       no   \n",
       "1  12250000  8960         4          4        4      yes        no       no   \n",
       "2  12250000  9960         3          2        2      yes        no      yes   \n",
       "3  12215000  7500         4          2        2      yes        no      yes   \n",
       "4  11410000  7420         4          1        2      yes       yes      yes   \n",
       "\n",
       "  hotwaterheating airconditioning  parking prefarea furnishingstatus  \n",
       "0              no             yes        2      yes        furnished  \n",
       "1              no             yes        3       no        furnished  \n",
       "2              no              no        2      yes   semi-furnished  \n",
       "3              no             yes        3      yes        furnished  \n",
       "4              no             yes        2       no        furnished  "
      ]
     },
     "execution_count": 9,
     "metadata": {},
     "output_type": "execute_result"
    }
   ],
   "source": [
    "housing_data = pd.read_csv('Housing_data.csv', sep=';')\n",
    "housing_df = pd.DataFrame(housing_data)\n",
    "housing_df.head()"
   ]
  },
  {
   "cell_type": "markdown",
   "metadata": {},
   "source": [
    "Step 2: Preparing the data for simple Linear Regression"
   ]
  },
  {
   "cell_type": "code",
   "execution_count": 10,
   "metadata": {},
   "outputs": [],
   "source": [
    "IV = housing_data[['area']]  # Independent variable\n",
    "DV = housing_data['price']   # Dependent variable\n",
    "# I renamed the variables IV and DV (for Independent variable and Dependent variable) for easier understanding of the variables, until I get used\n",
    "# to using them and their functionality in linear regression."
   ]
  },
  {
   "cell_type": "markdown",
   "metadata": {},
   "source": [
    "Step 3: Splitting the data into Training and Test sets"
   ]
  },
  {
   "cell_type": "code",
   "execution_count": 13,
   "metadata": {},
   "outputs": [],
   "source": [
    "# Split the data into training and testing sets\n",
    "X_train_simple, X_test_simple, y_train, y_test = train_test_split(IV, DV, test_size=0.2, random_state=42)"
   ]
  },
  {
   "cell_type": "code",
   "execution_count": 16,
   "metadata": {},
   "outputs": [
    {
     "data": {
      "text/html": [
       "<div>\n",
       "<style scoped>\n",
       "    .dataframe tbody tr th:only-of-type {\n",
       "        vertical-align: middle;\n",
       "    }\n",
       "\n",
       "    .dataframe tbody tr th {\n",
       "        vertical-align: top;\n",
       "    }\n",
       "\n",
       "    .dataframe thead th {\n",
       "        text-align: right;\n",
       "    }\n",
       "</style>\n",
       "<table border=\"1\" class=\"dataframe\">\n",
       "  <thead>\n",
       "    <tr style=\"text-align: right;\">\n",
       "      <th></th>\n",
       "      <th>area</th>\n",
       "    </tr>\n",
       "  </thead>\n",
       "  <tbody>\n",
       "    <tr>\n",
       "      <th>46</th>\n",
       "      <td>6000</td>\n",
       "    </tr>\n",
       "    <tr>\n",
       "      <th>93</th>\n",
       "      <td>7200</td>\n",
       "    </tr>\n",
       "    <tr>\n",
       "      <th>335</th>\n",
       "      <td>3816</td>\n",
       "    </tr>\n",
       "    <tr>\n",
       "      <th>412</th>\n",
       "      <td>2610</td>\n",
       "    </tr>\n",
       "    <tr>\n",
       "      <th>471</th>\n",
       "      <td>3750</td>\n",
       "    </tr>\n",
       "    <tr>\n",
       "      <th>...</th>\n",
       "      <td>...</td>\n",
       "    </tr>\n",
       "    <tr>\n",
       "      <th>71</th>\n",
       "      <td>6000</td>\n",
       "    </tr>\n",
       "    <tr>\n",
       "      <th>106</th>\n",
       "      <td>5450</td>\n",
       "    </tr>\n",
       "    <tr>\n",
       "      <th>270</th>\n",
       "      <td>4500</td>\n",
       "    </tr>\n",
       "    <tr>\n",
       "      <th>435</th>\n",
       "      <td>4040</td>\n",
       "    </tr>\n",
       "    <tr>\n",
       "      <th>102</th>\n",
       "      <td>5500</td>\n",
       "    </tr>\n",
       "  </tbody>\n",
       "</table>\n",
       "<p>436 rows × 1 columns</p>\n",
       "</div>"
      ],
      "text/plain": [
       "     area\n",
       "46   6000\n",
       "93   7200\n",
       "335  3816\n",
       "412  2610\n",
       "471  3750\n",
       "..    ...\n",
       "71   6000\n",
       "106  5450\n",
       "270  4500\n",
       "435  4040\n",
       "102  5500\n",
       "\n",
       "[436 rows x 1 columns]"
      ]
     },
     "execution_count": 16,
     "metadata": {},
     "output_type": "execute_result"
    }
   ],
   "source": [
    "X_train_simple"
   ]
  },
  {
   "cell_type": "code",
   "execution_count": 17,
   "metadata": {},
   "outputs": [
    {
     "data": {
      "text/html": [
       "<div>\n",
       "<style scoped>\n",
       "    .dataframe tbody tr th:only-of-type {\n",
       "        vertical-align: middle;\n",
       "    }\n",
       "\n",
       "    .dataframe tbody tr th {\n",
       "        vertical-align: top;\n",
       "    }\n",
       "\n",
       "    .dataframe thead th {\n",
       "        text-align: right;\n",
       "    }\n",
       "</style>\n",
       "<table border=\"1\" class=\"dataframe\">\n",
       "  <thead>\n",
       "    <tr style=\"text-align: right;\">\n",
       "      <th></th>\n",
       "      <th>area</th>\n",
       "    </tr>\n",
       "  </thead>\n",
       "  <tbody>\n",
       "    <tr>\n",
       "      <th>316</th>\n",
       "      <td>5900</td>\n",
       "    </tr>\n",
       "    <tr>\n",
       "      <th>77</th>\n",
       "      <td>6500</td>\n",
       "    </tr>\n",
       "    <tr>\n",
       "      <th>360</th>\n",
       "      <td>4040</td>\n",
       "    </tr>\n",
       "    <tr>\n",
       "      <th>90</th>\n",
       "      <td>5000</td>\n",
       "    </tr>\n",
       "    <tr>\n",
       "      <th>493</th>\n",
       "      <td>3960</td>\n",
       "    </tr>\n",
       "    <tr>\n",
       "      <th>...</th>\n",
       "      <td>...</td>\n",
       "    </tr>\n",
       "    <tr>\n",
       "      <th>15</th>\n",
       "      <td>6000</td>\n",
       "    </tr>\n",
       "    <tr>\n",
       "      <th>357</th>\n",
       "      <td>6930</td>\n",
       "    </tr>\n",
       "    <tr>\n",
       "      <th>39</th>\n",
       "      <td>6000</td>\n",
       "    </tr>\n",
       "    <tr>\n",
       "      <th>54</th>\n",
       "      <td>6000</td>\n",
       "    </tr>\n",
       "    <tr>\n",
       "      <th>155</th>\n",
       "      <td>6100</td>\n",
       "    </tr>\n",
       "  </tbody>\n",
       "</table>\n",
       "<p>109 rows × 1 columns</p>\n",
       "</div>"
      ],
      "text/plain": [
       "     area\n",
       "316  5900\n",
       "77   6500\n",
       "360  4040\n",
       "90   5000\n",
       "493  3960\n",
       "..    ...\n",
       "15   6000\n",
       "357  6930\n",
       "39   6000\n",
       "54   6000\n",
       "155  6100\n",
       "\n",
       "[109 rows x 1 columns]"
      ]
     },
     "execution_count": 17,
     "metadata": {},
     "output_type": "execute_result"
    }
   ],
   "source": [
    "X_test_simple"
   ]
  },
  {
   "cell_type": "code",
   "execution_count": 18,
   "metadata": {},
   "outputs": [
    {
     "data": {
      "text/plain": [
       "46     7525000\n",
       "93     6300000\n",
       "335    3920000\n",
       "412    3430000\n",
       "471    3010000\n",
       "        ...   \n",
       "71     6755000\n",
       "106    6160000\n",
       "270    4340000\n",
       "435    3290000\n",
       "102    6195000\n",
       "Name: price, Length: 436, dtype: int64"
      ]
     },
     "execution_count": 18,
     "metadata": {},
     "output_type": "execute_result"
    }
   ],
   "source": [
    "y_train"
   ]
  },
  {
   "cell_type": "code",
   "execution_count": 19,
   "metadata": {},
   "outputs": [
    {
     "data": {
      "text/plain": [
       "316    4060000\n",
       "77     6650000\n",
       "360    3710000\n",
       "90     6440000\n",
       "493    2800000\n",
       "        ...   \n",
       "15     9100000\n",
       "357    3773000\n",
       "39     7910000\n",
       "54     7350000\n",
       "155    5530000\n",
       "Name: price, Length: 109, dtype: int64"
      ]
     },
     "execution_count": 19,
     "metadata": {},
     "output_type": "execute_result"
    }
   ],
   "source": [
    "y_test"
   ]
  },
  {
   "cell_type": "markdown",
   "metadata": {},
   "source": [
    "Step 4: Implement Simple Linear Regression"
   ]
  },
  {
   "cell_type": "code",
   "execution_count": 21,
   "metadata": {},
   "outputs": [],
   "source": [
    "# Create a linear regression model\n",
    "simple_model = LinearRegression()\n",
    "\n",
    "# Train the model\n",
    "simple_model.fit(X_train_simple, y_train)\n",
    "\n",
    "# Predicting the Test set results\n",
    "y_pred_simple = simple_model.predict(X_test_simple)\n",
    "\n",
    "# Evaluate the Simple Linear Regression Model\n",
    "simple_mse = mean_squared_error(y_test, y_pred_simple)\n",
    "simple_r2 = r2_score(y_test, y_pred_simple)"
   ]
  },
  {
   "cell_type": "code",
   "execution_count": 23,
   "metadata": {},
   "outputs": [
    {
     "data": {
      "text/plain": [
       "3675286604768.185"
      ]
     },
     "execution_count": 23,
     "metadata": {},
     "output_type": "execute_result"
    }
   ],
   "source": [
    "simple_mse"
   ]
  },
  {
   "cell_type": "code",
   "execution_count": 28,
   "metadata": {},
   "outputs": [
    {
     "name": "stdout",
     "output_type": "stream",
     "text": [
      "1917103.7021424233\n"
     ]
    }
   ],
   "source": [
    "import math\n",
    "root_simple_mse = math.sqrt(simple_mse)\n",
    "print(root_simple_mse)"
   ]
  },
  {
   "cell_type": "markdown",
   "metadata": {},
   "source": [
    "This means that, on average, the model's predictions are off by approximately 1,917,103.702 in the original unit, which is a very high difference."
   ]
  },
  {
   "cell_type": "code",
   "execution_count": 24,
   "metadata": {},
   "outputs": [
    {
     "data": {
      "text/plain": [
       "0.27287851871974644"
      ]
     },
     "execution_count": 24,
     "metadata": {},
     "output_type": "execute_result"
    }
   ],
   "source": [
    "simple_r2"
   ]
  },
  {
   "cell_type": "markdown",
   "metadata": {},
   "source": [
    "R^2 is also quite low, meaning that the model is not a good fit for the dataset."
   ]
  },
  {
   "cell_type": "markdown",
   "metadata": {},
   "source": [
    "Overall, a high MSE indicates larger errors in predictions, and a low R^2 suggests that the model is not explaining much of the variability and that the model is explaining a limited portion of the variability in the dependent variable. Therefore, the model is not a good fit for the dataset and should be improved."
   ]
  },
  {
   "cell_type": "markdown",
   "metadata": {},
   "source": [
    "Step 6: Implementing Multiple Linear Regression"
   ]
  },
  {
   "cell_type": "code",
   "execution_count": 25,
   "metadata": {},
   "outputs": [],
   "source": [
    "# Multiple Linear Regression\n",
    "\n",
    "# Prepare the data for Multiple Linear Regression\n",
    "X_multiple = housing_data[['area', 'bedrooms', 'bathrooms', 'stories', 'parking']]  # Independent variables\n",
    "\n",
    "# Split the data into training and testing sets\n",
    "X_train_multiple, X_test_multiple, y_train, y_test = train_test_split(X_multiple, DV, test_size=0.2, random_state=42)\n",
    "\n",
    "# Create a linear regression model\n",
    "multiple_model = LinearRegression()\n",
    "\n",
    "# Train the model\n",
    "multiple_model.fit(X_train_multiple, y_train)\n",
    "\n",
    "# Predicting the Test set results\n",
    "y_pred_multiple = multiple_model.predict(X_test_multiple)\n",
    "\n",
    "# Evaluate the Multiple Linear Regression Model\n",
    "multiple_mse = mean_squared_error(y_test, y_pred_multiple)\n",
    "multiple_r2 = r2_score(y_test, y_pred_multiple)"
   ]
  },
  {
   "cell_type": "code",
   "execution_count": 26,
   "metadata": {},
   "outputs": [
    {
     "data": {
      "text/plain": [
       "2292721545725.362"
      ]
     },
     "execution_count": 26,
     "metadata": {},
     "output_type": "execute_result"
    }
   ],
   "source": [
    "multiple_mse"
   ]
  },
  {
   "cell_type": "code",
   "execution_count": 29,
   "metadata": {},
   "outputs": [
    {
     "name": "stdout",
     "output_type": "stream",
     "text": [
      "1514173.5520492233\n"
     ]
    }
   ],
   "source": [
    "root_multiple_mse = math.sqrt(multiple_mse)\n",
    "print(root_multiple_mse)"
   ]
  },
  {
   "cell_type": "markdown",
   "metadata": {},
   "source": [
    "On average, the model's predictions are off by approximately 1,514,173.552 in the original unit, which is also a very high difference."
   ]
  },
  {
   "cell_type": "code",
   "execution_count": 27,
   "metadata": {},
   "outputs": [
    {
     "data": {
      "text/plain": [
       "0.5464062355495872"
      ]
     },
     "execution_count": 27,
     "metadata": {},
     "output_type": "execute_result"
    }
   ],
   "source": [
    "multiple_r2"
   ]
  },
  {
   "cell_type": "markdown",
   "metadata": {},
   "source": [
    "R^2 is a moderate fit, suggesting that the model is explaining a substantial portion of the variability, but there is still room for improvement."
   ]
  },
  {
   "cell_type": "markdown",
   "metadata": {},
   "source": [
    "In conclusion, the model is a moderate fit for the dataset. However, improvements should be made."
   ]
  },
  {
   "cell_type": "markdown",
   "metadata": {},
   "source": [
    "#### 1. Which model performs better, with one or multiple variables?"
   ]
  },
  {
   "cell_type": "markdown",
   "metadata": {},
   "source": [
    "The one with multiple variables."
   ]
  },
  {
   "cell_type": "markdown",
   "metadata": {},
   "source": [
    "#### 2. Give an explanation of why you think that one model outperforms the other model."
   ]
  },
  {
   "cell_type": "markdown",
   "metadata": {},
   "source": [
    "I believe the model with multiple variables performs better because predicting a variable such as price is more complicated to properly do using a single variable. Multiple variables allow the model to capture the complex relationships that determining housing prices requires. Additionally, a model that considers multiple variables can distinguish between outliers that are relevant to the underlying patterns and those that are not, leading to a more interpretable model."
   ]
  },
  {
   "cell_type": "markdown",
   "metadata": {},
   "source": [
    "#### Re-doing the step-by-step methodology after pre-processing."
   ]
  },
  {
   "cell_type": "markdown",
   "metadata": {},
   "source": [
    "Step 1: Pre-processing"
   ]
  },
  {
   "cell_type": "code",
   "execution_count": 30,
   "metadata": {},
   "outputs": [
    {
     "data": {
      "text/html": [
       "<div>\n",
       "<style scoped>\n",
       "    .dataframe tbody tr th:only-of-type {\n",
       "        vertical-align: middle;\n",
       "    }\n",
       "\n",
       "    .dataframe tbody tr th {\n",
       "        vertical-align: top;\n",
       "    }\n",
       "\n",
       "    .dataframe thead th {\n",
       "        text-align: right;\n",
       "    }\n",
       "</style>\n",
       "<table border=\"1\" class=\"dataframe\">\n",
       "  <thead>\n",
       "    <tr style=\"text-align: right;\">\n",
       "      <th></th>\n",
       "      <th>price</th>\n",
       "      <th>area</th>\n",
       "      <th>bedrooms</th>\n",
       "      <th>bathrooms</th>\n",
       "      <th>stories</th>\n",
       "      <th>parking</th>\n",
       "      <th>mainroad_yes</th>\n",
       "      <th>guestroom_yes</th>\n",
       "      <th>basement_yes</th>\n",
       "      <th>hotwaterheating_yes</th>\n",
       "      <th>airconditioning_yes</th>\n",
       "      <th>prefarea_yes</th>\n",
       "      <th>furnishingstatus_semi-furnished</th>\n",
       "      <th>furnishingstatus_unfurnished</th>\n",
       "    </tr>\n",
       "  </thead>\n",
       "  <tbody>\n",
       "    <tr>\n",
       "      <th>0</th>\n",
       "      <td>13300000</td>\n",
       "      <td>7420</td>\n",
       "      <td>4</td>\n",
       "      <td>2</td>\n",
       "      <td>3</td>\n",
       "      <td>2</td>\n",
       "      <td>True</td>\n",
       "      <td>False</td>\n",
       "      <td>False</td>\n",
       "      <td>False</td>\n",
       "      <td>True</td>\n",
       "      <td>True</td>\n",
       "      <td>False</td>\n",
       "      <td>False</td>\n",
       "    </tr>\n",
       "    <tr>\n",
       "      <th>1</th>\n",
       "      <td>12250000</td>\n",
       "      <td>8960</td>\n",
       "      <td>4</td>\n",
       "      <td>4</td>\n",
       "      <td>4</td>\n",
       "      <td>3</td>\n",
       "      <td>True</td>\n",
       "      <td>False</td>\n",
       "      <td>False</td>\n",
       "      <td>False</td>\n",
       "      <td>True</td>\n",
       "      <td>False</td>\n",
       "      <td>False</td>\n",
       "      <td>False</td>\n",
       "    </tr>\n",
       "    <tr>\n",
       "      <th>2</th>\n",
       "      <td>12250000</td>\n",
       "      <td>9960</td>\n",
       "      <td>3</td>\n",
       "      <td>2</td>\n",
       "      <td>2</td>\n",
       "      <td>2</td>\n",
       "      <td>True</td>\n",
       "      <td>False</td>\n",
       "      <td>True</td>\n",
       "      <td>False</td>\n",
       "      <td>False</td>\n",
       "      <td>True</td>\n",
       "      <td>True</td>\n",
       "      <td>False</td>\n",
       "    </tr>\n",
       "    <tr>\n",
       "      <th>3</th>\n",
       "      <td>12215000</td>\n",
       "      <td>7500</td>\n",
       "      <td>4</td>\n",
       "      <td>2</td>\n",
       "      <td>2</td>\n",
       "      <td>3</td>\n",
       "      <td>True</td>\n",
       "      <td>False</td>\n",
       "      <td>True</td>\n",
       "      <td>False</td>\n",
       "      <td>True</td>\n",
       "      <td>True</td>\n",
       "      <td>False</td>\n",
       "      <td>False</td>\n",
       "    </tr>\n",
       "    <tr>\n",
       "      <th>4</th>\n",
       "      <td>11410000</td>\n",
       "      <td>7420</td>\n",
       "      <td>4</td>\n",
       "      <td>1</td>\n",
       "      <td>2</td>\n",
       "      <td>2</td>\n",
       "      <td>True</td>\n",
       "      <td>True</td>\n",
       "      <td>True</td>\n",
       "      <td>False</td>\n",
       "      <td>True</td>\n",
       "      <td>False</td>\n",
       "      <td>False</td>\n",
       "      <td>False</td>\n",
       "    </tr>\n",
       "  </tbody>\n",
       "</table>\n",
       "</div>"
      ],
      "text/plain": [
       "      price  area  bedrooms  bathrooms  stories  parking  mainroad_yes  \\\n",
       "0  13300000  7420         4          2        3        2          True   \n",
       "1  12250000  8960         4          4        4        3          True   \n",
       "2  12250000  9960         3          2        2        2          True   \n",
       "3  12215000  7500         4          2        2        3          True   \n",
       "4  11410000  7420         4          1        2        2          True   \n",
       "\n",
       "   guestroom_yes  basement_yes  hotwaterheating_yes  airconditioning_yes  \\\n",
       "0          False         False                False                 True   \n",
       "1          False         False                False                 True   \n",
       "2          False          True                False                False   \n",
       "3          False          True                False                 True   \n",
       "4           True          True                False                 True   \n",
       "\n",
       "   prefarea_yes  furnishingstatus_semi-furnished  furnishingstatus_unfurnished  \n",
       "0          True                            False                         False  \n",
       "1         False                            False                         False  \n",
       "2          True                             True                         False  \n",
       "3          True                            False                         False  \n",
       "4         False                            False                         False  "
      ]
     },
     "execution_count": 30,
     "metadata": {},
     "output_type": "execute_result"
    }
   ],
   "source": [
    "# One-hot encoding categorical variables\n",
    "data_encoded = pd.get_dummies(housing_data, drop_first=True)\n",
    "\n",
    "# Splitting the dataset into features and target variable\n",
    "X = data_encoded.drop('price', axis=1)\n",
    "y = data_encoded['price']\n",
    "\n",
    "# Splitting the data into training and testing sets (80% train, 20% test)\n",
    "X_train, X_test, y_train, y_test = train_test_split(X, y, test_size=0.2, random_state=0)\n",
    "\n",
    "# Display the first few rows of the processed data\n",
    "data_encoded.head()"
   ]
  },
  {
   "cell_type": "markdown",
   "metadata": {},
   "source": [
    "Step 2: Train the Linear Regression Model"
   ]
  },
  {
   "cell_type": "code",
   "execution_count": 33,
   "metadata": {},
   "outputs": [
    {
     "name": "stdout",
     "output_type": "stream",
     "text": [
      "Mean Squared Error: 976484771024.6129\n",
      "Root Mean Squared Error: 988172.4399236264\n",
      "R squared: 0.6611214250980096\n"
     ]
    }
   ],
   "source": [
    "model = LinearRegression()\n",
    "model.fit(X_train, y_train)\n",
    "\n",
    "# Making predictions on the test set\n",
    "y_pred = model.predict(X_test)\n",
    "\n",
    "# Evaluating the model\n",
    "mse = mean_squared_error(y_test, y_pred)\n",
    "rmse = mse ** 0.5  # Root Mean Squared Error\n",
    "r2 = r2_score(y_test, y_pred)\n",
    "\n",
    "\n",
    "print(\"Mean Squared Error:\", mse)\n",
    "print(\"Root Mean Squared Error:\", rmse)\n",
    "print(\"R squared:\", r2)"
   ]
  },
  {
   "cell_type": "markdown",
   "metadata": {},
   "source": [
    "Interpretation:\n",
    "\n",
    "MSE: This is a measure of the average squared difference between the observed actual outcomes and the outcomes predicted by the model. The lower the MSE, the better the model. In this case, the MSE is quite large, which might indicate that the model's predictions are considerably different from the actual values.\n",
    "\n",
    "R²: This is a statistical measure that represents the proportion of the variance for the dependent variable that's explained by the independent variables in the model. It ranges from 0 to 1, with higher values indicating a better fit. An R² of 0.6491 suggests that around 65% of the variance in the housing prices is explained by the model, which is a moderate fit."
   ]
  },
  {
   "cell_type": "markdown",
   "metadata": {},
   "source": [
    "## Application in Football Player Data"
   ]
  },
  {
   "cell_type": "code",
   "execution_count": 110,
   "metadata": {},
   "outputs": [
    {
     "data": {
      "text/html": [
       "<div>\n",
       "<style scoped>\n",
       "    .dataframe tbody tr th:only-of-type {\n",
       "        vertical-align: middle;\n",
       "    }\n",
       "\n",
       "    .dataframe tbody tr th {\n",
       "        vertical-align: top;\n",
       "    }\n",
       "\n",
       "    .dataframe thead th {\n",
       "        text-align: right;\n",
       "    }\n",
       "</style>\n",
       "<table border=\"1\" class=\"dataframe\">\n",
       "  <thead>\n",
       "    <tr style=\"text-align: right;\">\n",
       "      <th></th>\n",
       "      <th>Unnamed: 0</th>\n",
       "      <th>Player</th>\n",
       "      <th>Team</th>\n",
       "      <th>Team within selected timeframe</th>\n",
       "      <th>Position</th>\n",
       "      <th>Age</th>\n",
       "      <th>Market value</th>\n",
       "      <th>Contract expires</th>\n",
       "      <th>Matches played</th>\n",
       "      <th>Minutes played</th>\n",
       "      <th>...</th>\n",
       "      <th>Prevented goals per 90</th>\n",
       "      <th>Back passes received as GK per 90</th>\n",
       "      <th>Exits per 90</th>\n",
       "      <th>Aerial duels per 90.1</th>\n",
       "      <th>Free kicks per 90</th>\n",
       "      <th>Direct free kicks per 90</th>\n",
       "      <th>Direct free kicks on target, %</th>\n",
       "      <th>Corners per 90</th>\n",
       "      <th>Penalties taken</th>\n",
       "      <th>Penalty conversion, %</th>\n",
       "    </tr>\n",
       "  </thead>\n",
       "  <tbody>\n",
       "    <tr>\n",
       "      <th>0</th>\n",
       "      <td>0</td>\n",
       "      <td>P. Iemmello</td>\n",
       "      <td>Catanzaro</td>\n",
       "      <td>Catanzaro</td>\n",
       "      <td>CF</td>\n",
       "      <td>31.0</td>\n",
       "      <td>750000</td>\n",
       "      <td>NaN</td>\n",
       "      <td>38</td>\n",
       "      <td>3109</td>\n",
       "      <td>...</td>\n",
       "      <td>NaN</td>\n",
       "      <td>0.00</td>\n",
       "      <td>NaN</td>\n",
       "      <td>NaN</td>\n",
       "      <td>0.00</td>\n",
       "      <td>0.00</td>\n",
       "      <td>0.0</td>\n",
       "      <td>0.00</td>\n",
       "      <td>5</td>\n",
       "      <td>80.0</td>\n",
       "    </tr>\n",
       "    <tr>\n",
       "      <th>1</th>\n",
       "      <td>1</td>\n",
       "      <td>J. Petriccione</td>\n",
       "      <td>Crotone</td>\n",
       "      <td>Crotone</td>\n",
       "      <td>DMF, RDMF, RCMF</td>\n",
       "      <td>28.0</td>\n",
       "      <td>700000</td>\n",
       "      <td>2024-06-30</td>\n",
       "      <td>36</td>\n",
       "      <td>3341</td>\n",
       "      <td>...</td>\n",
       "      <td>NaN</td>\n",
       "      <td>0.32</td>\n",
       "      <td>NaN</td>\n",
       "      <td>NaN</td>\n",
       "      <td>1.29</td>\n",
       "      <td>0.11</td>\n",
       "      <td>25.0</td>\n",
       "      <td>1.97</td>\n",
       "      <td>0</td>\n",
       "      <td>0.0</td>\n",
       "    </tr>\n",
       "    <tr>\n",
       "      <th>2</th>\n",
       "      <td>2</td>\n",
       "      <td>T. Biasci</td>\n",
       "      <td>Catanzaro</td>\n",
       "      <td>Catanzaro</td>\n",
       "      <td>CF, LWF, AMF</td>\n",
       "      <td>28.0</td>\n",
       "      <td>550000</td>\n",
       "      <td>2024-06-30</td>\n",
       "      <td>38</td>\n",
       "      <td>2488</td>\n",
       "      <td>...</td>\n",
       "      <td>NaN</td>\n",
       "      <td>0.07</td>\n",
       "      <td>NaN</td>\n",
       "      <td>NaN</td>\n",
       "      <td>0.00</td>\n",
       "      <td>0.00</td>\n",
       "      <td>0.0</td>\n",
       "      <td>0.00</td>\n",
       "      <td>2</td>\n",
       "      <td>50.0</td>\n",
       "    </tr>\n",
       "    <tr>\n",
       "      <th>3</th>\n",
       "      <td>3</td>\n",
       "      <td>E. Volpicelli</td>\n",
       "      <td>Sangiuliano City</td>\n",
       "      <td>Sangiuliano City</td>\n",
       "      <td>CF, RWF, AMF</td>\n",
       "      <td>30.0</td>\n",
       "      <td>500000</td>\n",
       "      <td>2024-06-30</td>\n",
       "      <td>34</td>\n",
       "      <td>2639</td>\n",
       "      <td>...</td>\n",
       "      <td>NaN</td>\n",
       "      <td>0.10</td>\n",
       "      <td>NaN</td>\n",
       "      <td>NaN</td>\n",
       "      <td>2.28</td>\n",
       "      <td>0.55</td>\n",
       "      <td>50.0</td>\n",
       "      <td>3.04</td>\n",
       "      <td>0</td>\n",
       "      <td>0.0</td>\n",
       "    </tr>\n",
       "    <tr>\n",
       "      <th>4</th>\n",
       "      <td>4</td>\n",
       "      <td>A. Curcio</td>\n",
       "      <td>Catanzaro</td>\n",
       "      <td>Catanzaro</td>\n",
       "      <td>CF, AMF, LWF</td>\n",
       "      <td>33.0</td>\n",
       "      <td>500000</td>\n",
       "      <td>2024-06-30</td>\n",
       "      <td>38</td>\n",
       "      <td>1456</td>\n",
       "      <td>...</td>\n",
       "      <td>NaN</td>\n",
       "      <td>0.00</td>\n",
       "      <td>NaN</td>\n",
       "      <td>NaN</td>\n",
       "      <td>0.62</td>\n",
       "      <td>0.31</td>\n",
       "      <td>20.0</td>\n",
       "      <td>0.31</td>\n",
       "      <td>1</td>\n",
       "      <td>0.0</td>\n",
       "    </tr>\n",
       "  </tbody>\n",
       "</table>\n",
       "<p>5 rows × 115 columns</p>\n",
       "</div>"
      ],
      "text/plain": [
       "   Unnamed: 0          Player              Team  \\\n",
       "0           0     P. Iemmello         Catanzaro   \n",
       "1           1  J. Petriccione           Crotone   \n",
       "2           2       T. Biasci         Catanzaro   \n",
       "3           3   E. Volpicelli  Sangiuliano City   \n",
       "4           4       A. Curcio         Catanzaro   \n",
       "\n",
       "  Team within selected timeframe         Position   Age  Market value  \\\n",
       "0                      Catanzaro               CF  31.0        750000   \n",
       "1                        Crotone  DMF, RDMF, RCMF  28.0        700000   \n",
       "2                      Catanzaro     CF, LWF, AMF  28.0        550000   \n",
       "3               Sangiuliano City     CF, RWF, AMF  30.0        500000   \n",
       "4                      Catanzaro     CF, AMF, LWF  33.0        500000   \n",
       "\n",
       "  Contract expires  Matches played  Minutes played  ...  \\\n",
       "0              NaN              38            3109  ...   \n",
       "1       2024-06-30              36            3341  ...   \n",
       "2       2024-06-30              38            2488  ...   \n",
       "3       2024-06-30              34            2639  ...   \n",
       "4       2024-06-30              38            1456  ...   \n",
       "\n",
       "   Prevented goals per 90  Back passes received as GK per 90  Exits per 90  \\\n",
       "0                     NaN                               0.00           NaN   \n",
       "1                     NaN                               0.32           NaN   \n",
       "2                     NaN                               0.07           NaN   \n",
       "3                     NaN                               0.10           NaN   \n",
       "4                     NaN                               0.00           NaN   \n",
       "\n",
       "   Aerial duels per 90.1  Free kicks per 90  Direct free kicks per 90  \\\n",
       "0                    NaN               0.00                      0.00   \n",
       "1                    NaN               1.29                      0.11   \n",
       "2                    NaN               0.00                      0.00   \n",
       "3                    NaN               2.28                      0.55   \n",
       "4                    NaN               0.62                      0.31   \n",
       "\n",
       "  Direct free kicks on target, % Corners per 90 Penalties taken  \\\n",
       "0                            0.0           0.00               5   \n",
       "1                           25.0           1.97               0   \n",
       "2                            0.0           0.00               2   \n",
       "3                           50.0           3.04               0   \n",
       "4                           20.0           0.31               1   \n",
       "\n",
       "   Penalty conversion, %  \n",
       "0                   80.0  \n",
       "1                    0.0  \n",
       "2                   50.0  \n",
       "3                    0.0  \n",
       "4                    0.0  \n",
       "\n",
       "[5 rows x 115 columns]"
      ]
     },
     "execution_count": 110,
     "metadata": {},
     "output_type": "execute_result"
    }
   ],
   "source": [
    "NAC_data =  pd.read_csv('NAC_data.csv')\n",
    "NAC_df =  pd.DataFrame(NAC_data)\n",
    "NAC_df.head()"
   ]
  },
  {
   "cell_type": "markdown",
   "metadata": {},
   "source": [
    "2. Data Preprocessing"
   ]
  },
  {
   "cell_type": "code",
   "execution_count": 35,
   "metadata": {},
   "outputs": [],
   "source": [
    "# I decided to exclude the players whose market value is 0 for this linear regression, as I do not believe they are going to be useful for the model.\n",
    "NAC_df = NAC_df.dropna(subset='Market value')"
   ]
  },
  {
   "cell_type": "markdown",
   "metadata": {},
   "source": [
    "3. Feature Selection"
   ]
  },
  {
   "cell_type": "code",
   "execution_count": 111,
   "metadata": {},
   "outputs": [
    {
     "data": {
      "text/html": [
       "<div>\n",
       "<style scoped>\n",
       "    .dataframe tbody tr th:only-of-type {\n",
       "        vertical-align: middle;\n",
       "    }\n",
       "\n",
       "    .dataframe tbody tr th {\n",
       "        vertical-align: top;\n",
       "    }\n",
       "\n",
       "    .dataframe thead th {\n",
       "        text-align: right;\n",
       "    }\n",
       "</style>\n",
       "<table border=\"1\" class=\"dataframe\">\n",
       "  <thead>\n",
       "    <tr style=\"text-align: right;\">\n",
       "      <th></th>\n",
       "      <th>Age</th>\n",
       "      <th>Market value</th>\n",
       "      <th>Minutes played</th>\n",
       "      <th>Goals</th>\n",
       "      <th>Assists</th>\n",
       "      <th>Aerial duels won, %</th>\n",
       "      <th>Shots on target, %</th>\n",
       "      <th>Goal conversion, %</th>\n",
       "      <th>Accurate passes, %</th>\n",
       "    </tr>\n",
       "  </thead>\n",
       "  <tbody>\n",
       "    <tr>\n",
       "      <th>0</th>\n",
       "      <td>31.0</td>\n",
       "      <td>750000</td>\n",
       "      <td>3109</td>\n",
       "      <td>30</td>\n",
       "      <td>6</td>\n",
       "      <td>42.22</td>\n",
       "      <td>58.42</td>\n",
       "      <td>29.703</td>\n",
       "      <td>77.91</td>\n",
       "    </tr>\n",
       "    <tr>\n",
       "      <th>1</th>\n",
       "      <td>28.0</td>\n",
       "      <td>700000</td>\n",
       "      <td>3341</td>\n",
       "      <td>2</td>\n",
       "      <td>3</td>\n",
       "      <td>36.96</td>\n",
       "      <td>32.00</td>\n",
       "      <td>8.000</td>\n",
       "      <td>86.81</td>\n",
       "    </tr>\n",
       "    <tr>\n",
       "      <th>2</th>\n",
       "      <td>28.0</td>\n",
       "      <td>550000</td>\n",
       "      <td>2488</td>\n",
       "      <td>17</td>\n",
       "      <td>4</td>\n",
       "      <td>36.73</td>\n",
       "      <td>50.75</td>\n",
       "      <td>25.373</td>\n",
       "      <td>73.98</td>\n",
       "    </tr>\n",
       "    <tr>\n",
       "      <th>3</th>\n",
       "      <td>30.0</td>\n",
       "      <td>500000</td>\n",
       "      <td>2639</td>\n",
       "      <td>3</td>\n",
       "      <td>6</td>\n",
       "      <td>31.43</td>\n",
       "      <td>34.29</td>\n",
       "      <td>4.286</td>\n",
       "      <td>67.74</td>\n",
       "    </tr>\n",
       "    <tr>\n",
       "      <th>4</th>\n",
       "      <td>33.0</td>\n",
       "      <td>500000</td>\n",
       "      <td>1456</td>\n",
       "      <td>9</td>\n",
       "      <td>3</td>\n",
       "      <td>40.32</td>\n",
       "      <td>37.50</td>\n",
       "      <td>16.071</td>\n",
       "      <td>72.89</td>\n",
       "    </tr>\n",
       "    <tr>\n",
       "      <th>...</th>\n",
       "      <td>...</td>\n",
       "      <td>...</td>\n",
       "      <td>...</td>\n",
       "      <td>...</td>\n",
       "      <td>...</td>\n",
       "      <td>...</td>\n",
       "      <td>...</td>\n",
       "      <td>...</td>\n",
       "      <td>...</td>\n",
       "    </tr>\n",
       "    <tr>\n",
       "      <th>16530</th>\n",
       "      <td>18.0</td>\n",
       "      <td>0</td>\n",
       "      <td>708</td>\n",
       "      <td>0</td>\n",
       "      <td>0</td>\n",
       "      <td>38.46</td>\n",
       "      <td>0.00</td>\n",
       "      <td>0.000</td>\n",
       "      <td>82.29</td>\n",
       "    </tr>\n",
       "    <tr>\n",
       "      <th>16531</th>\n",
       "      <td>20.0</td>\n",
       "      <td>0</td>\n",
       "      <td>1695</td>\n",
       "      <td>0</td>\n",
       "      <td>1</td>\n",
       "      <td>23.33</td>\n",
       "      <td>8.33</td>\n",
       "      <td>0.000</td>\n",
       "      <td>84.26</td>\n",
       "    </tr>\n",
       "    <tr>\n",
       "      <th>16532</th>\n",
       "      <td>20.0</td>\n",
       "      <td>0</td>\n",
       "      <td>1109</td>\n",
       "      <td>0</td>\n",
       "      <td>3</td>\n",
       "      <td>30.43</td>\n",
       "      <td>14.29</td>\n",
       "      <td>0.000</td>\n",
       "      <td>81.20</td>\n",
       "    </tr>\n",
       "    <tr>\n",
       "      <th>16533</th>\n",
       "      <td>26.0</td>\n",
       "      <td>0</td>\n",
       "      <td>599</td>\n",
       "      <td>0</td>\n",
       "      <td>0</td>\n",
       "      <td>100.00</td>\n",
       "      <td>0.00</td>\n",
       "      <td>0.000</td>\n",
       "      <td>78.65</td>\n",
       "    </tr>\n",
       "    <tr>\n",
       "      <th>16534</th>\n",
       "      <td>22.0</td>\n",
       "      <td>0</td>\n",
       "      <td>841</td>\n",
       "      <td>2</td>\n",
       "      <td>0</td>\n",
       "      <td>37.60</td>\n",
       "      <td>75.00</td>\n",
       "      <td>25.000</td>\n",
       "      <td>66.95</td>\n",
       "    </tr>\n",
       "  </tbody>\n",
       "</table>\n",
       "<p>16535 rows × 9 columns</p>\n",
       "</div>"
      ],
      "text/plain": [
       "        Age  Market value  Minutes played  Goals  Assists  \\\n",
       "0      31.0        750000            3109     30        6   \n",
       "1      28.0        700000            3341      2        3   \n",
       "2      28.0        550000            2488     17        4   \n",
       "3      30.0        500000            2639      3        6   \n",
       "4      33.0        500000            1456      9        3   \n",
       "...     ...           ...             ...    ...      ...   \n",
       "16530  18.0             0             708      0        0   \n",
       "16531  20.0             0            1695      0        1   \n",
       "16532  20.0             0            1109      0        3   \n",
       "16533  26.0             0             599      0        0   \n",
       "16534  22.0             0             841      2        0   \n",
       "\n",
       "       Aerial duels won, %  Shots on target, %  Goal conversion, %  \\\n",
       "0                    42.22               58.42              29.703   \n",
       "1                    36.96               32.00               8.000   \n",
       "2                    36.73               50.75              25.373   \n",
       "3                    31.43               34.29               4.286   \n",
       "4                    40.32               37.50              16.071   \n",
       "...                    ...                 ...                 ...   \n",
       "16530                38.46                0.00               0.000   \n",
       "16531                23.33                8.33               0.000   \n",
       "16532                30.43               14.29               0.000   \n",
       "16533               100.00                0.00               0.000   \n",
       "16534                37.60               75.00              25.000   \n",
       "\n",
       "       Accurate passes, %  \n",
       "0                   77.91  \n",
       "1                   86.81  \n",
       "2                   73.98  \n",
       "3                   67.74  \n",
       "4                   72.89  \n",
       "...                   ...  \n",
       "16530               82.29  \n",
       "16531               84.26  \n",
       "16532               81.20  \n",
       "16533               78.65  \n",
       "16534               66.95  \n",
       "\n",
       "[16535 rows x 9 columns]"
      ]
     },
     "execution_count": 111,
     "metadata": {},
     "output_type": "execute_result"
    }
   ],
   "source": [
    "# I decided to keep only certain columns that I consider important metrics for determining a player's market value.\n",
    "columns_to_keep = ['Market value','Age', 'Minutes played', 'Aerial duels won, %', 'Goals', 'Assists', 'Shots on target, %', 'Goal conversion, %', 'Accurate passes, %']\n",
    "NAC_df.drop(columns=NAC_df.columns.difference(columns_to_keep), inplace=True)\n",
    "NAC_df"
   ]
  },
  {
   "cell_type": "markdown",
   "metadata": {},
   "source": [
    "4. Model Development"
   ]
  },
  {
   "cell_type": "markdown",
   "metadata": {},
   "source": [
    "Model Development #1"
   ]
  },
  {
   "cell_type": "code",
   "execution_count": 97,
   "metadata": {},
   "outputs": [
    {
     "name": "stdout",
     "output_type": "stream",
     "text": [
      "Mean Squared Error: 1118264195061.8787\n",
      "Root Mean Squared Error: 1057480.1156815568\n",
      "R squared: 0.06963934973495933\n"
     ]
    }
   ],
   "source": [
    "# Some columns containted NaN values. I used imputation to handle them.\n",
    "from sklearn.impute import SimpleImputer\n",
    "numeric_columns = NAC_df.select_dtypes(include=['number']).columns\n",
    "df_numeric = NAC_df[numeric_columns]\n",
    "\n",
    "# Imputing with the mean\n",
    "imputer = SimpleImputer(strategy='mean')\n",
    "df_numeric_imputed = pd.DataFrame(imputer.fit_transform(df_numeric), columns=df_numeric.columns)\n",
    "df_imputed = pd.concat([df_numeric_imputed, NAC_df[NAC_df.columns.difference(numeric_columns)]], axis=1)\n",
    "\n",
    "# Splitting the dataset into features and target variables\n",
    "X_nac = df_imputed.drop('Market value', axis=1)\n",
    "y_nac = df_imputed['Market value']\n",
    "\n",
    "# Splitting the data into training and testing sets (80% train, 20% test)\n",
    "X_train, X_test, y_train, y_test = train_test_split(X_nac, y_nac, test_size=0.2, random_state=20)\n",
    "\n",
    "# Creating a linear regression model\n",
    "NAC_model =  LinearRegression()\n",
    "NAC_model.fit(X_nac, y_nac)\n",
    "\n",
    "# Making predictions on the test set\n",
    "y_pred_nac = NAC_model.predict(X_test)\n",
    "\n",
    "# Evaluating the model\n",
    "mse = mean_squared_error(y_test, y_pred_nac)\n",
    "rmse = mse ** 0.5  # Root Mean Squared Error\n",
    "r2 = r2_score(y_test, y_pred_nac)\n",
    "\n",
    "\n",
    "print(\"Mean Squared Error:\", mse)\n",
    "print(\"Root Mean Squared Error:\", rmse)\n",
    "print(\"R squared:\", r2)"
   ]
  },
  {
   "cell_type": "markdown",
   "metadata": {},
   "source": [
    "The root mean squared error is very high, while the R^2 is very low, indicating a bad linear regression fit for the dataset."
   ]
  },
  {
   "cell_type": "code",
   "execution_count": 66,
   "metadata": {},
   "outputs": [
    {
     "name": "stdout",
     "output_type": "stream",
     "text": [
      "Coefficients: [-9.17689316e+03  5.90629997e+01  7.94871073e+04  9.91114895e+04\n",
      "  1.09352894e+03  1.66673335e+03 -4.69191526e+03  2.44608513e+04]\n",
      "Intercept: -1579567.2050171695\n"
     ]
    }
   ],
   "source": [
    "# Coefficients and intercept\n",
    "coefficients = NAC_model.coef_\n",
    "intercept = NAC_model.intercept_\n",
    "\n",
    "print(f'Coefficients: {coefficients}')\n",
    "print(f'Intercept: {intercept}')\n"
   ]
  },
  {
   "cell_type": "markdown",
   "metadata": {},
   "source": [
    "A low correlation between two variables might suggest that their relationship is not linear."
   ]
  },
  {
   "cell_type": "markdown",
   "metadata": {},
   "source": [
    "I will create scatter plots for the independent variables whose correlation coefficient was significantly lower."
   ]
  },
  {
   "cell_type": "code",
   "execution_count": 92,
   "metadata": {},
   "outputs": [
    {
     "data": {
      "image/png": "[encoded data removed]",
      "text/plain": [
       "<Figure size 640x480 with 1 Axes>"
      ]
     },
     "metadata": {},
     "output_type": "display_data"
    }
   ],
   "source": [
    "NAC_df_truncated =  NAC_df.iloc[:1000,:]\n",
    "# The dataset was truncated because I only wish to get an idea of how the independent variables relate to the dependent ones. \n",
    "# The whole dataset might make the scatter plot look too crowded.\n",
    "\n",
    "y_nac_truncated = NAC_df_truncated['Market value']\n",
    "plt.scatter(NAC_df_truncated['Aerial duels won, %'], y_nac_truncated)\n",
    "plt.xlabel('Aerial duels won, %')\n",
    "plt.ylabel('Market value')\n",
    "plt.show()"
   ]
  },
  {
   "cell_type": "code",
   "execution_count": 95,
   "metadata": {},
   "outputs": [
    {
     "data": {
      "image/png": "[encoded data removed]",
      "text/plain": [
       "<Figure size 640x480 with 1 Axes>"
      ]
     },
     "metadata": {},
     "output_type": "display_data"
    }
   ],
   "source": [
    "plt.scatter(NAC_df_truncated['Shots on target, %'], y_nac_truncated)\n",
    "plt.xlabel('Shots on target, %')\n",
    "plt.ylabel('Market value')\n",
    "plt.show()"
   ]
  },
  {
   "cell_type": "code",
   "execution_count": 96,
   "metadata": {},
   "outputs": [
    {
     "data": {
      "image/png": "[encoded data removed]",
      "text/plain": [
       "<Figure size 640x480 with 1 Axes>"
      ]
     },
     "metadata": {},
     "output_type": "display_data"
    }
   ],
   "source": [
    "plt.scatter(NAC_df_truncated['Accurate passes, %'], y_nac_truncated)\n",
    "plt.xlabel('Accurate passes, %')\n",
    "plt.ylabel('Market value')\n",
    "plt.show()"
   ]
  },
  {
   "cell_type": "markdown",
   "metadata": {},
   "source": [
    "The relationships seem to have an equation of y = a, which is not the equation for a linear regression."
   ]
  },
  {
   "cell_type": "code",
   "execution_count": 102,
   "metadata": {},
   "outputs": [
    {
     "data": {
      "image/png": "[encoded data removed]",
      "text/plain": [
       "<Figure size 1000x800 with 9 Axes>"
      ]
     },
     "execution_count": 102,
     "metadata": {},
     "output_type": "execute_result"
    },
    {
     "data": {
      "image/png": "[encoded data removed]",
      "text/plain": [
       "<Figure size 1000x800 with 9 Axes>"
      ]
     },
     "metadata": {},
     "output_type": "display_data"
    }
   ],
   "source": [
    "# For partial regression plot\n",
    "fig = plt.figure(figsize=(10, 8))\n",
    "sm.graphics.plot_partregress_grid(model, fig=fig)"
   ]
  },
  {
   "cell_type": "markdown",
   "metadata": {},
   "source": [
    "Model Development #2"
   ]
  },
  {
   "cell_type": "code",
   "execution_count": 112,
   "metadata": {},
   "outputs": [
    {
     "data": {
      "text/html": [
       "<div>\n",
       "<style scoped>\n",
       "    .dataframe tbody tr th:only-of-type {\n",
       "        vertical-align: middle;\n",
       "    }\n",
       "\n",
       "    .dataframe tbody tr th {\n",
       "        vertical-align: top;\n",
       "    }\n",
       "\n",
       "    .dataframe thead th {\n",
       "        text-align: right;\n",
       "    }\n",
       "</style>\n",
       "<table border=\"1\" class=\"dataframe\">\n",
       "  <thead>\n",
       "    <tr style=\"text-align: right;\">\n",
       "      <th></th>\n",
       "      <th>Age</th>\n",
       "      <th>Market value</th>\n",
       "      <th>Minutes played</th>\n",
       "      <th>Goals</th>\n",
       "      <th>Aerial duels won, %</th>\n",
       "      <th>Goal conversion, %</th>\n",
       "    </tr>\n",
       "  </thead>\n",
       "  <tbody>\n",
       "    <tr>\n",
       "      <th>0</th>\n",
       "      <td>31.0</td>\n",
       "      <td>750000</td>\n",
       "      <td>3109</td>\n",
       "      <td>30</td>\n",
       "      <td>42.22</td>\n",
       "      <td>29.703</td>\n",
       "    </tr>\n",
       "    <tr>\n",
       "      <th>1</th>\n",
       "      <td>28.0</td>\n",
       "      <td>700000</td>\n",
       "      <td>3341</td>\n",
       "      <td>2</td>\n",
       "      <td>36.96</td>\n",
       "      <td>8.000</td>\n",
       "    </tr>\n",
       "    <tr>\n",
       "      <th>2</th>\n",
       "      <td>28.0</td>\n",
       "      <td>550000</td>\n",
       "      <td>2488</td>\n",
       "      <td>17</td>\n",
       "      <td>36.73</td>\n",
       "      <td>25.373</td>\n",
       "    </tr>\n",
       "    <tr>\n",
       "      <th>3</th>\n",
       "      <td>30.0</td>\n",
       "      <td>500000</td>\n",
       "      <td>2639</td>\n",
       "      <td>3</td>\n",
       "      <td>31.43</td>\n",
       "      <td>4.286</td>\n",
       "    </tr>\n",
       "    <tr>\n",
       "      <th>4</th>\n",
       "      <td>33.0</td>\n",
       "      <td>500000</td>\n",
       "      <td>1456</td>\n",
       "      <td>9</td>\n",
       "      <td>40.32</td>\n",
       "      <td>16.071</td>\n",
       "    </tr>\n",
       "    <tr>\n",
       "      <th>...</th>\n",
       "      <td>...</td>\n",
       "      <td>...</td>\n",
       "      <td>...</td>\n",
       "      <td>...</td>\n",
       "      <td>...</td>\n",
       "      <td>...</td>\n",
       "    </tr>\n",
       "    <tr>\n",
       "      <th>16530</th>\n",
       "      <td>18.0</td>\n",
       "      <td>0</td>\n",
       "      <td>708</td>\n",
       "      <td>0</td>\n",
       "      <td>38.46</td>\n",
       "      <td>0.000</td>\n",
       "    </tr>\n",
       "    <tr>\n",
       "      <th>16531</th>\n",
       "      <td>20.0</td>\n",
       "      <td>0</td>\n",
       "      <td>1695</td>\n",
       "      <td>0</td>\n",
       "      <td>23.33</td>\n",
       "      <td>0.000</td>\n",
       "    </tr>\n",
       "    <tr>\n",
       "      <th>16532</th>\n",
       "      <td>20.0</td>\n",
       "      <td>0</td>\n",
       "      <td>1109</td>\n",
       "      <td>0</td>\n",
       "      <td>30.43</td>\n",
       "      <td>0.000</td>\n",
       "    </tr>\n",
       "    <tr>\n",
       "      <th>16533</th>\n",
       "      <td>26.0</td>\n",
       "      <td>0</td>\n",
       "      <td>599</td>\n",
       "      <td>0</td>\n",
       "      <td>100.00</td>\n",
       "      <td>0.000</td>\n",
       "    </tr>\n",
       "    <tr>\n",
       "      <th>16534</th>\n",
       "      <td>22.0</td>\n",
       "      <td>0</td>\n",
       "      <td>841</td>\n",
       "      <td>2</td>\n",
       "      <td>37.60</td>\n",
       "      <td>25.000</td>\n",
       "    </tr>\n",
       "  </tbody>\n",
       "</table>\n",
       "<p>16535 rows × 6 columns</p>\n",
       "</div>"
      ],
      "text/plain": [
       "        Age  Market value  Minutes played  Goals  Aerial duels won, %  \\\n",
       "0      31.0        750000            3109     30                42.22   \n",
       "1      28.0        700000            3341      2                36.96   \n",
       "2      28.0        550000            2488     17                36.73   \n",
       "3      30.0        500000            2639      3                31.43   \n",
       "4      33.0        500000            1456      9                40.32   \n",
       "...     ...           ...             ...    ...                  ...   \n",
       "16530  18.0             0             708      0                38.46   \n",
       "16531  20.0             0            1695      0                23.33   \n",
       "16532  20.0             0            1109      0                30.43   \n",
       "16533  26.0             0             599      0               100.00   \n",
       "16534  22.0             0             841      2                37.60   \n",
       "\n",
       "       Goal conversion, %  \n",
       "0                  29.703  \n",
       "1                   8.000  \n",
       "2                  25.373  \n",
       "3                   4.286  \n",
       "4                  16.071  \n",
       "...                   ...  \n",
       "16530               0.000  \n",
       "16531               0.000  \n",
       "16532               0.000  \n",
       "16533               0.000  \n",
       "16534              25.000  \n",
       "\n",
       "[16535 rows x 6 columns]"
      ]
     },
     "execution_count": 112,
     "metadata": {},
     "output_type": "execute_result"
    }
   ],
   "source": [
    "# I decided to keep only the columns with the IV that had a higher correlation coefficient.\n",
    "columns_to_keep = ['Market value','Age', 'Minutes played', 'Aerial duels won, %', 'Goals', 'Goal conversion, %']\n",
    "NAC_df.drop(columns=NAC_df.columns.difference(columns_to_keep), inplace=True)\n",
    "NAC_df"
   ]
  },
  {
   "cell_type": "code",
   "execution_count": 113,
   "metadata": {},
   "outputs": [
    {
     "name": "stdout",
     "output_type": "stream",
     "text": [
      "Mean Squared Error: 1143749841403.2405\n",
      "Root Mean Squared Error: 1069462.4076624855\n",
      "R squared: 0.04843609328869336\n"
     ]
    }
   ],
   "source": [
    "# Same process as before\n",
    "from sklearn.impute import SimpleImputer\n",
    "numeric_columns = NAC_df.select_dtypes(include=['number']).columns\n",
    "df_numeric = NAC_df[numeric_columns]\n",
    "\n",
    "# Imputing with the mean\n",
    "imputer = SimpleImputer(strategy='mean')\n",
    "df_numeric_imputed = pd.DataFrame(imputer.fit_transform(df_numeric), columns=df_numeric.columns)\n",
    "df_imputed = pd.concat([df_numeric_imputed, NAC_df[NAC_df.columns.difference(numeric_columns)]], axis=1)\n",
    "\n",
    "# Splitting the dataset into features and target variables\n",
    "X_nac = df_imputed.drop('Market value', axis=1)\n",
    "y_nac = df_imputed['Market value']\n",
    "\n",
    "# Splitting the data into training and testing sets (80% train, 20% test)\n",
    "X_train, X_test, y_train, y_test = train_test_split(X_nac, y_nac, test_size=0.2, random_state=20)\n",
    "\n",
    "# Creating a linear regression model\n",
    "NAC_model =  LinearRegression()\n",
    "NAC_model.fit(X_nac, y_nac)\n",
    "\n",
    "# Making predictions on the test set\n",
    "y_pred_nac = NAC_model.predict(X_test)\n",
    "\n",
    "# Evaluating the model\n",
    "mse = mean_squared_error(y_test, y_pred_nac)\n",
    "rmse = mse ** 0.5  # Root Mean Squared Error\n",
    "r2 = r2_score(y_test, y_pred_nac)\n",
    "\n",
    "\n",
    "print(\"Mean Squared Error:\", mse)\n",
    "print(\"Root Mean Squared Error:\", rmse)\n",
    "print(\"R squared:\", r2)"
   ]
  },
  {
   "cell_type": "markdown",
   "metadata": {},
   "source": [
    "The root mean squared error is better this time, meaning the model's predictions are closer to the actual values. However, R^2 is even lower than before, suggesting that the model does not explain much of the variability in the data. It may not be capturing the underlying patterns well, and the predictions may not be significantly better than using the mean of the dependent variable."
   ]
  },
  {
   "cell_type": "markdown",
   "metadata": {},
   "source": [
    "The model still needs tuning and refining."
   ]
  },
  {
   "cell_type": "markdown",
   "metadata": {},
   "source": [
    "Model Development #3 (Simple Linear Regression)"
   ]
  },
  {
   "cell_type": "code",
   "execution_count": 119,
   "metadata": {},
   "outputs": [
    {
     "name": "stdout",
     "output_type": "stream",
     "text": [
      "Mean Square Error:1656245905443.7368\n",
      "Root Mean Squared Error:1286952.1768285474\n",
      "R squared:-0.0002406242526180602\n"
     ]
    }
   ],
   "source": [
    "# Preparing the data\n",
    "NAC_df = NAC_df.dropna(subset='Goals')\n",
    "X_nac_simple = NAC_df[['Goals']]  # Independent variable\n",
    "y_nac_simple = NAC_df['Market value']   # Dependent variable\n",
    "\n",
    "# Split the data into training and testing sets\n",
    "X_train_simple, X_test_simple, y_train, y_test = train_test_split(X_nac_simple, y_nac_simple, test_size=0.2, random_state=42)\n",
    "\n",
    "# Implementing the linear regression model\n",
    "# Creating a linear regression model\n",
    "simple_nac_model = LinearRegression()\n",
    "\n",
    "# Train the model\n",
    "simple_nac_model.fit(X_train_simple, y_train)\n",
    "\n",
    "# Predicting the Test set results\n",
    "y_pred_simple = simple_nac_model.predict(X_test_simple)\n",
    "\n",
    "# Evaluate the Simple Linear Regression Model\n",
    "simple_nac_mse = mean_squared_error(y_test, y_pred_simple)\n",
    "simple_nac_r2 = r2_score(y_test, y_pred_simple)\n",
    "print(f'Mean Square Error:{simple_nac_mse}\\nRoot Mean Squared Error:{math.sqrt(simple_nac_mse)}\\nR squared:{simple_nac_r2}')"
   ]
  },
  {
   "cell_type": "markdown",
   "metadata": {},
   "source": [
    "The model is still not performing well."
   ]
  }
 ],
 "metadata": {
  "kernelspec": {
   "display_name": "block_b",
   "language": "python",
   "name": "python3"
  },
  "language_info": {
   "codemirror_mode": {
    "name": "ipython",
    "version": 3
   },
   "file_extension": ".py",
   "mimetype": "text/x-python",
   "name": "python",
   "nbconvert_exporter": "python",
   "pygments_lexer": "ipython3",
   "version": "3.8.18"
  }
 },
 "nbformat": 4,
 "nbformat_minor": 2
}
