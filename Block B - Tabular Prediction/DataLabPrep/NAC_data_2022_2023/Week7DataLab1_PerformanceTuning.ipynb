{
 "cells": [
  {
   "cell_type": "markdown",
   "metadata": {},
   "source": [
    "## Random Forests and Gradient Boosting models"
   ]
  },
  {
   "cell_type": "code",
   "execution_count": 1,
   "metadata": {},
   "outputs": [],
   "source": [
    "import pandas as pd\n",
    "from sklearn.linear_model import Lasso\n",
    "from sklearn.linear_model import Ridge\n",
    "from sklearn.model_selection import train_test_split\n",
    "from sklearn.model_selection import cross_val_score\n",
    "import numpy as np\n",
    "from sklearn.impute import SimpleImputer"
   ]
  },
  {
   "cell_type": "code",
   "execution_count": 2,
   "metadata": {},
   "outputs": [
    {
     "data": {
      "text/html": [
       "<div>\n",
       "<style scoped>\n",
       "    .dataframe tbody tr th:only-of-type {\n",
       "        vertical-align: middle;\n",
       "    }\n",
       "\n",
       "    .dataframe tbody tr th {\n",
       "        vertical-align: top;\n",
       "    }\n",
       "\n",
       "    .dataframe thead th {\n",
       "        text-align: right;\n",
       "    }\n",
       "</style>\n",
       "<table border=\"1\" class=\"dataframe\">\n",
       "  <thead>\n",
       "    <tr style=\"text-align: right;\">\n",
       "      <th></th>\n",
       "      <th>price</th>\n",
       "      <th>area</th>\n",
       "      <th>bedrooms</th>\n",
       "      <th>bathrooms</th>\n",
       "      <th>stories</th>\n",
       "      <th>mainroad</th>\n",
       "      <th>guestroom</th>\n",
       "      <th>basement</th>\n",
       "      <th>hotwaterheating</th>\n",
       "      <th>airconditioning</th>\n",
       "      <th>parking</th>\n",
       "      <th>prefarea</th>\n",
       "      <th>furnishingstatus</th>\n",
       "    </tr>\n",
       "  </thead>\n",
       "  <tbody>\n",
       "    <tr>\n",
       "      <th>0</th>\n",
       "      <td>13300000</td>\n",
       "      <td>7420</td>\n",
       "      <td>4</td>\n",
       "      <td>2</td>\n",
       "      <td>3</td>\n",
       "      <td>yes</td>\n",
       "      <td>no</td>\n",
       "      <td>no</td>\n",
       "      <td>no</td>\n",
       "      <td>yes</td>\n",
       "      <td>2</td>\n",
       "      <td>yes</td>\n",
       "      <td>furnished</td>\n",
       "    </tr>\n",
       "    <tr>\n",
       "      <th>1</th>\n",
       "      <td>12250000</td>\n",
       "      <td>8960</td>\n",
       "      <td>4</td>\n",
       "      <td>4</td>\n",
       "      <td>4</td>\n",
       "      <td>yes</td>\n",
       "      <td>no</td>\n",
       "      <td>no</td>\n",
       "      <td>no</td>\n",
       "      <td>yes</td>\n",
       "      <td>3</td>\n",
       "      <td>no</td>\n",
       "      <td>furnished</td>\n",
       "    </tr>\n",
       "    <tr>\n",
       "      <th>2</th>\n",
       "      <td>12250000</td>\n",
       "      <td>9960</td>\n",
       "      <td>3</td>\n",
       "      <td>2</td>\n",
       "      <td>2</td>\n",
       "      <td>yes</td>\n",
       "      <td>no</td>\n",
       "      <td>yes</td>\n",
       "      <td>no</td>\n",
       "      <td>no</td>\n",
       "      <td>2</td>\n",
       "      <td>yes</td>\n",
       "      <td>semi-furnished</td>\n",
       "    </tr>\n",
       "    <tr>\n",
       "      <th>3</th>\n",
       "      <td>12215000</td>\n",
       "      <td>7500</td>\n",
       "      <td>4</td>\n",
       "      <td>2</td>\n",
       "      <td>2</td>\n",
       "      <td>yes</td>\n",
       "      <td>no</td>\n",
       "      <td>yes</td>\n",
       "      <td>no</td>\n",
       "      <td>yes</td>\n",
       "      <td>3</td>\n",
       "      <td>yes</td>\n",
       "      <td>furnished</td>\n",
       "    </tr>\n",
       "    <tr>\n",
       "      <th>4</th>\n",
       "      <td>11410000</td>\n",
       "      <td>7420</td>\n",
       "      <td>4</td>\n",
       "      <td>1</td>\n",
       "      <td>2</td>\n",
       "      <td>yes</td>\n",
       "      <td>yes</td>\n",
       "      <td>yes</td>\n",
       "      <td>no</td>\n",
       "      <td>yes</td>\n",
       "      <td>2</td>\n",
       "      <td>no</td>\n",
       "      <td>furnished</td>\n",
       "    </tr>\n",
       "  </tbody>\n",
       "</table>\n",
       "</div>"
      ],
      "text/plain": [
       "      price  area  bedrooms  bathrooms  stories mainroad guestroom basement  \\\n",
       "0  13300000  7420         4          2        3      yes        no       no   \n",
       "1  12250000  8960         4          4        4      yes        no       no   \n",
       "2  12250000  9960         3          2        2      yes        no      yes   \n",
       "3  12215000  7500         4          2        2      yes        no      yes   \n",
       "4  11410000  7420         4          1        2      yes       yes      yes   \n",
       "\n",
       "  hotwaterheating airconditioning  parking prefarea furnishingstatus  \n",
       "0              no             yes        2      yes        furnished  \n",
       "1              no             yes        3       no        furnished  \n",
       "2              no              no        2      yes   semi-furnished  \n",
       "3              no             yes        3      yes        furnished  \n",
       "4              no             yes        2       no        furnished  "
      ]
     },
     "execution_count": 2,
     "metadata": {},
     "output_type": "execute_result"
    }
   ],
   "source": [
    "housing_data = pd.read_csv('Housing_data.csv', sep=';')\n",
    "housing_df = pd.DataFrame(housing_data)\n",
    "housing_df.head()"
   ]
  },
  {
   "cell_type": "code",
   "execution_count": 3,
   "metadata": {},
   "outputs": [],
   "source": [
    "X = housing_data[['area']] \n",
    "y = housing_data['price']\n",
    "\n",
    "X_train, X_test, y_train, y_test = train_test_split(X, y, test_size=0.2, random_state=42)"
   ]
  },
  {
   "cell_type": "code",
   "execution_count": 4,
   "metadata": {},
   "outputs": [
    {
     "name": "stdout",
     "output_type": "stream",
     "text": [
      "0.25 : -7550.679102775206\n",
      "0.5 : -7550.6791023616615\n",
      "0.75 : -7550.679101948117\n",
      "1.0 : -7550.679101534574\n",
      "1.25 : -7550.679101121031\n",
      "1.5 : -7550.679100707486\n",
      "1.75 : -7550.679100293943\n",
      "2.0 : -7550.679099880401\n"
     ]
    }
   ],
   "source": [
    "# List to maintain the cross-validation scores\n",
    "cross_val_scores_lasso = []\n",
    "\n",
    "# List to maintain the different values of Lambda\n",
    "Lambda = []\n",
    "\n",
    "# Loop to compute the cross-validation scores\n",
    "for i in range(1, 9):\n",
    "\tlassoModel = Lasso(alpha = i * 0.25, tol = 0.0925)\n",
    "\tlassoModel.fit(X_train, y_train)\n",
    "\tscores = cross_val_score(lassoModel, X, y, cv = 10)\n",
    "\tavg_cross_val_score = np.mean(scores)*100\n",
    "\tcross_val_scores_lasso.append(avg_cross_val_score)\n",
    "\tLambda.append(i * 0.25)\n",
    "\n",
    "# Loop to print the different values of cross-validation scores\n",
    "for i in range(0, len(Lambda)):\n",
    "\tprint(str(Lambda[i])+' : '+str(cross_val_scores_lasso[i]))"
   ]
  },
  {
   "cell_type": "code",
   "execution_count": 5,
   "metadata": {},
   "outputs": [
    {
     "name": "stdout",
     "output_type": "stream",
     "text": [
      "0.25 : -7550.679102761498\n",
      "0.5 : -7550.679102334251\n",
      "0.75 : -7550.679101907001\n",
      "1.0 : -7550.67910147975\n",
      "1.25 : -7550.679101052505\n",
      "1.5 : -7550.679100625254\n",
      "1.75 : -7550.679100198005\n",
      "2.0 : -7550.679099770756\n"
     ]
    }
   ],
   "source": [
    "# List to maintain the different cross-validation scores\n",
    "cross_val_scores_ridge = []\n",
    "\n",
    "# List to maintain the different values of alpha\n",
    "alpha = []\n",
    "\n",
    "# Loop to compute the different values of cross-validation scores\n",
    "for i in range(1, 9):\n",
    "\tridgeModel = Ridge(alpha = i * 0.25)\n",
    "\tridgeModel.fit(X_train, y_train)\n",
    "\tscores = cross_val_score(ridgeModel, X, y, cv = 10)\n",
    "\tavg_cross_val_score = np.mean(scores)*100\n",
    "\tcross_val_scores_ridge.append(avg_cross_val_score)\n",
    "\talpha.append(i * 0.25)\n",
    "\n",
    "# Loop to print the different values of cross-validation scores\n",
    "for i in range(0, len(alpha)):\n",
    "\tprint(str(alpha[i])+' : '+str(cross_val_scores_ridge[i]))"
   ]
  },
  {
   "cell_type": "markdown",
   "metadata": {},
   "source": [
    "### Practising on the NAC dataset"
   ]
  },
  {
   "cell_type": "code",
   "execution_count": 6,
   "metadata": {},
   "outputs": [],
   "source": [
    "NAC_data = 'NAC_data.csv'\n",
    "file = pd.read_csv(NAC_data)\n",
    "NAC_df = pd.DataFrame(file)"
   ]
  },
  {
   "cell_type": "code",
   "execution_count": 11,
   "metadata": {},
   "outputs": [],
   "source": [
    "# Handle NaN values in the target variable\n",
    "NAC_df.dropna(subset=['Aerial duels won, %'], inplace=True)\n",
    "\n",
    "# Splitting the dataset into testing and training sets\n",
    "X = NAC_df[['Goals', 'Age', 'xG', 'Duels per 90', 'Height', 'Assists per 90']]\n",
    "y = NAC_df['Aerial duels won, %']\n",
    "\n",
    "X_train, X_test, y_train, y_test = train_test_split(X, y, test_size=0.2, random_state=42)\n",
    "\n",
    "# Using one-hot encoding for adressing categorical data\n",
    "X_train_encoded = pd.get_dummies(X_train)\n",
    "X_test_encoded = pd.get_dummies(X_test)\n",
    "\n",
    "# Handling NaN values using a simple imputer\n",
    "imputer = SimpleImputer(strategy='mean')\n",
    "X_train_encoded = pd.DataFrame(imputer.fit_transform(X_train_encoded), columns=X_train_encoded.columns)\n",
    "X_test_encoded = pd.DataFrame(imputer.transform(X_test_encoded), columns=X_test_encoded.columns)"
   ]
  },
  {
   "cell_type": "code",
   "execution_count": 15,
   "metadata": {},
   "outputs": [
    {
     "name": "stdout",
     "output_type": "stream",
     "text": [
      "0.25 : 31.58007610305143\n",
      "0.5 : 31.577060765609172\n",
      "0.75 : 31.562543837626695\n",
      "1.0 : 31.540777702751623\n",
      "1.25 : 31.511762360983937\n",
      "1.5 : 31.475497812323677\n",
      "1.75 : 31.431984056770823\n",
      "2.0 : 31.38122109432538\n"
     ]
    }
   ],
   "source": [
    "# List to maintain the cross-validation scores\n",
    "cross_val_scores_lasso = []\n",
    "\n",
    "# List to maintain the different values of Lambda\n",
    "Lambda = []\n",
    "\n",
    "# Loop to compute the cross-validation scores\n",
    "for i in range(1, 9):\n",
    "\tlassoModel = Lasso(alpha = i * 0.25, tol = 0.0925)\n",
    "\tlassoModel.fit(X_train_encoded, y_train)\n",
    "\tscores = cross_val_score(lassoModel, X_train_encoded, y_train, cv = 10)\n",
    "\tavg_cross_val_score = np.mean(scores)*100\n",
    "\tcross_val_scores_lasso.append(avg_cross_val_score)\n",
    "\tLambda.append(i * 0.25)\n",
    "\n",
    "# Loop to print the different values of cross-validation scores\n",
    "for i in range(0, len(Lambda)):\n",
    "\tprint(str(Lambda[i])+' : '+str(cross_val_scores_lasso[i]))"
   ]
  },
  {
   "cell_type": "code",
   "execution_count": 16,
   "metadata": {},
   "outputs": [
    {
     "name": "stdout",
     "output_type": "stream",
     "text": [
      "0.25 : 33.099867123050934\n",
      "0.5 : 33.0998983261935\n",
      "0.75 : 33.09990978270535\n",
      "1.0 : 33.099901793188145\n",
      "1.25 : 33.09987465366572\n",
      "1.5 : 33.099828655661426\n",
      "1.75 : 33.09976408627398\n",
      "2.0 : 33.09968122825192\n"
     ]
    }
   ],
   "source": [
    "# List to maintain the different cross-validation scores\n",
    "cross_val_scores_ridge = []\n",
    "\n",
    "# List to maintain the different values of alpha\n",
    "alpha = []\n",
    "\n",
    "# Loop to compute the different values of cross-validation scores\n",
    "for i in range(1, 9):\n",
    "\tridgeModel = Ridge(alpha = i * 0.25)\n",
    "\tridgeModel.fit(X_train_encoded, y_train)\n",
    "\tscores = cross_val_score(ridgeModel, X_train_encoded, y_train, cv = 10)\n",
    "\tavg_cross_val_score = np.mean(scores)*100\n",
    "\tcross_val_scores_ridge.append(avg_cross_val_score)\n",
    "\talpha.append(i * 0.25)\n",
    "\n",
    "# Loop to print the different values of cross-validation scores\n",
    "for i in range(0, len(alpha)):\n",
    "\tprint(str(alpha[i])+' : '+str(cross_val_scores_ridge[i]))"
   ]
  }
 ],
 "metadata": {
  "kernelspec": {
   "display_name": "block_b",
   "language": "python",
   "name": "python3"
  },
  "language_info": {
   "codemirror_mode": {
    "name": "ipython",
    "version": 3
   },
   "file_extension": ".py",
   "mimetype": "text/x-python",
   "name": "python",
   "nbconvert_exporter": "python",
   "pygments_lexer": "ipython3",
   "version": "3.11.7"
  }
 },
 "nbformat": 4,
 "nbformat_minor": 2
}
