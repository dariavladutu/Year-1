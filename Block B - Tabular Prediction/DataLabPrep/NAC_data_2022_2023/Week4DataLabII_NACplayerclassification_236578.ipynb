{
 "cells": [
  {
   "cell_type": "markdown",
   "metadata": {},
   "source": [
    "## NAC player classification"
   ]
  },
  {
   "cell_type": "code",
   "execution_count": 29,
   "metadata": {},
   "outputs": [],
   "source": [
    "import pandas as pd \n",
    "import numpy as np\n",
    "import seaborn as sns\n",
    "import matplotlib.pyplot as plt\n",
    "from sklearn.preprocessing import LabelEncoder\n",
    "from sklearn.linear_model import LogisticRegression\n",
    "from sklearn.model_selection import train_test_split\n",
    "from sklearn.neighbors import KNeighborsClassifier\n",
    "from sklearn.metrics import accuracy_score, confusion_matrix, classification_report\n",
    "from sklearn.impute import SimpleImputer\n"
   ]
  },
  {
   "cell_type": "markdown",
   "metadata": {},
   "source": [
    "#### Bin feature"
   ]
  },
  {
   "cell_type": "code",
   "execution_count": 73,
   "metadata": {},
   "outputs": [],
   "source": [
    "NAC_data = 'NAC_data.csv'\n",
    "file = pd.read_csv(NAC_data)\n",
    "NAC_df = pd.DataFrame(file)\n",
    "\n",
    "min_val = NAC_df['Market value'].min()\n",
    "max_val = NAC_df['Market value'].max()\n",
    "bins = [min_val, 1000000, 5000000, max_val]\n",
    "labels = ['Lower', 'Middle', 'Higher']\n",
    "\n",
    "NAC_df['Bin'] = pd.cut(NAC_df['Market value'], bins=bins, labels=labels, include_lowest=True) # Binning the market values "
   ]
  },
  {
   "cell_type": "code",
   "execution_count": 44,
   "metadata": {},
   "outputs": [],
   "source": [
    "# Splitting the dataset into testing and training sets\n",
    "X = NAC_df[['Goals', 'Age', 'xG', 'Duels per 90', 'Height', 'Assists per 90']]\n",
    "y = NAC_df['Bin']\n",
    "\n",
    "X_train, X_test, y_train, y_test = train_test_split(X, y, test_size=0.2, random_state=42)\n",
    "\n",
    "# Using one-hot encoding for adressing categorical data\n",
    "X_train_encoded = pd.get_dummies(X_train)\n",
    "X_test_encoded = pd.get_dummies(X_test)\n",
    "\n",
    "# Handling NaN values using a simple imputer\n",
    "imputer = SimpleImputer(strategy='mean')\n",
    "X_train_encoded = pd.DataFrame(imputer.fit_transform(X_train_encoded), columns=X_train_encoded.columns)\n",
    "X_test_encoded = pd.DataFrame(imputer.transform(X_test_encoded), columns=X_test_encoded.columns)"
   ]
  },
  {
   "cell_type": "markdown",
   "metadata": {},
   "source": [
    "#### Logistic Regression"
   ]
  },
  {
   "cell_type": "code",
   "execution_count": 48,
   "metadata": {},
   "outputs": [],
   "source": [
    "# Instantiating and fitting the model\n",
    "log_reg = LogisticRegression(max_iter=50000)\n",
    "log_reg.fit(X_train_encoded, y_train)\n",
    "\n",
    "# Predict on the test set\n",
    "y_pred = log_reg.predict(X_test_encoded)"
   ]
  },
  {
   "cell_type": "code",
   "execution_count": 53,
   "metadata": {},
   "outputs": [
    {
     "name": "stdout",
     "output_type": "stream",
     "text": [
      "              precision    recall  f1-score   support\n",
      "\n",
      "      Higher       0.15      0.11      0.12        28\n",
      "       Lower       0.92      0.97      0.95      3037\n",
      "      Middle       0.18      0.06      0.09       242\n",
      "\n",
      "    accuracy                           0.90      3307\n",
      "   macro avg       0.42      0.38      0.39      3307\n",
      "weighted avg       0.86      0.90      0.88      3307\n",
      "\n"
     ]
    },
    {
     "data": {
      "text/plain": [
       "Text(0.5, 23.52222222222222, 'Predicted values')"
      ]
     },
     "execution_count": 53,
     "metadata": {},
     "output_type": "execute_result"
    },
    {
     "data": {
      "image/png": "[encoded data removed]",
      "text/plain": [
       "<Figure size 640x480 with 2 Axes>"
      ]
     },
     "metadata": {},
     "output_type": "display_data"
    }
   ],
   "source": [
    "# Model Evaluation\n",
    "print(classification_report(y_test, y_pred))\n",
    "\n",
    "cm = confusion_matrix(y_test, y_pred, labels=['Lower', 'Middle', 'Higher'])\n",
    "sns.heatmap(cm, annot=True, cmap=\"Greens\", fmt='g', linewidths=2)\n",
    "plt.ylabel('Actual values')\n",
    "plt.xlabel('Predicted values')"
   ]
  },
  {
   "cell_type": "markdown",
   "metadata": {},
   "source": [
    "Interpreting the results:\n",
    "\n",
    "The model performs well in predicting instances labeled as \"Lower\" with high precision and recall.\n",
    "\n",
    "It struggles with predicting instances labeled as \"Middle,\" with low precision and recall.\n",
    "\n",
    "The class \"Higher\" is not predicted at all (I believe it is because the denominator might be 0)."
   ]
  },
  {
   "cell_type": "markdown",
   "metadata": {},
   "source": [
    "#### KNN model"
   ]
  },
  {
   "cell_type": "code",
   "execution_count": 51,
   "metadata": {},
   "outputs": [
    {
     "name": "stdout",
     "output_type": "stream",
     "text": [
      "0.8990021167221046\n"
     ]
    }
   ],
   "source": [
    "knn = KNeighborsClassifier(n_neighbors=3)\n",
    "knn.fit(X_train_encoded, y_train)\n",
    "\n",
    "print(knn.score(X_test_encoded, y_test))\n",
    "\n",
    "y_pred = knn.predict(X_test_encoded)"
   ]
  },
  {
   "cell_type": "code",
   "execution_count": 54,
   "metadata": {},
   "outputs": [
    {
     "name": "stdout",
     "output_type": "stream",
     "text": [
      "              precision    recall  f1-score   support\n",
      "\n",
      "      Higher       0.15      0.11      0.12        28\n",
      "       Lower       0.92      0.97      0.95      3037\n",
      "      Middle       0.18      0.06      0.09       242\n",
      "\n",
      "    accuracy                           0.90      3307\n",
      "   macro avg       0.42      0.38      0.39      3307\n",
      "weighted avg       0.86      0.90      0.88      3307\n",
      "\n"
     ]
    },
    {
     "data": {
      "text/plain": [
       "Text(0.5, 23.52222222222222, 'Predicted values')"
      ]
     },
     "execution_count": 54,
     "metadata": {},
     "output_type": "execute_result"
    },
    {
     "data": {
      "image/png": "[encoded data removed]",
      "text/plain": [
       "<Figure size 640x480 with 2 Axes>"
      ]
     },
     "metadata": {},
     "output_type": "display_data"
    }
   ],
   "source": [
    "# Model Evaluation\n",
    "cm = confusion_matrix(y_test, y_pred)\n",
    "print(classification_report(y_test, y_pred))\n",
    "\n",
    "sns.heatmap(confusion_matrix(y_test, y_pred), annot=True, cmap=\"YlGnBu\", linewidths=2)\n",
    "plt.ylabel('Actual values')\n",
    "plt.xlabel('Predicted values')"
   ]
  },
  {
   "cell_type": "markdown",
   "metadata": {},
   "source": [
    "Interpreting the results:\n",
    "\n",
    "The model performs well in predicting instances labeled as \"Lower\" with high precision and recall.\n",
    "\n",
    "The model struggles with predicting instances labeled as \"Higher\" and \"Middle.\"\n",
    "\n",
    "The low precision and recall for \"Middle\" suggest that the model might need improvements in distinguishing this class."
   ]
  },
  {
   "cell_type": "markdown",
   "metadata": {},
   "source": [
    "### Feature"
   ]
  },
  {
   "cell_type": "code",
   "execution_count": 82,
   "metadata": {},
   "outputs": [
    {
     "name": "stdout",
     "output_type": "stream",
     "text": [
      "       Unnamed: 0          Player                   Team  \\\n",
      "0               0     P. Iemmello              Catanzaro   \n",
      "1               1  J. Petriccione                Crotone   \n",
      "2               1  J. Petriccione                Crotone   \n",
      "3               1  J. Petriccione                Crotone   \n",
      "4               2       T. Biasci              Catanzaro   \n",
      "...           ...             ...                    ...   \n",
      "32698       16532    B. Bozhurkin             Hebar 1918   \n",
      "32699       16533       M. Petkov  Ceahlăul Piatra Neamţ   \n",
      "32700       16533       M. Petkov  Ceahlăul Piatra Neamţ   \n",
      "32701       16534     I. Mihaylov        Septemvri Sofia   \n",
      "32702       16534     I. Mihaylov        Septemvri Sofia   \n",
      "\n",
      "      Team within selected timeframe Position   Age  Market value  \\\n",
      "0                          Catanzaro       CF  31.0        750000   \n",
      "1                            Crotone      DMF  28.0        700000   \n",
      "2                            Crotone     RDMF  28.0        700000   \n",
      "3                            Crotone     RCMF  28.0        700000   \n",
      "4                          Catanzaro       CF  28.0        550000   \n",
      "...                              ...      ...   ...           ...   \n",
      "32698                     Hebar 1918     LDMF  20.0             0   \n",
      "32699           Lokomotiv Sofia 1929      RCB  26.0             0   \n",
      "32700           Lokomotiv Sofia 1929      LCB  26.0             0   \n",
      "32701                     Hebar 1918       CF  22.0             0   \n",
      "32702                     Hebar 1918       RW  22.0             0   \n",
      "\n",
      "      Contract expires  Matches played  Minutes played  ...  \\\n",
      "0                  NaN              38            3109  ...   \n",
      "1           2024-06-30              36            3341  ...   \n",
      "2           2024-06-30              36            3341  ...   \n",
      "3           2024-06-30              36            3341  ...   \n",
      "4           2024-06-30              38            2488  ...   \n",
      "...                ...             ...             ...  ...   \n",
      "32698              NaN              18            1109  ...   \n",
      "32699              NaN              14             599  ...   \n",
      "32700              NaN              14             599  ...   \n",
      "32701              NaN              17             841  ...   \n",
      "32702              NaN              17             841  ...   \n",
      "\n",
      "       Back passes received as GK per 90  Exits per 90  Aerial duels per 90.1  \\\n",
      "0                                   0.00           NaN                    NaN   \n",
      "1                                   0.32           NaN                    NaN   \n",
      "2                                   0.32           NaN                    NaN   \n",
      "3                                   0.32           NaN                    NaN   \n",
      "4                                   0.07           NaN                    NaN   \n",
      "...                                  ...           ...                    ...   \n",
      "32698                               0.24           NaN                    NaN   \n",
      "32699                               2.25           NaN                    NaN   \n",
      "32700                               2.25           NaN                    NaN   \n",
      "32701                               0.11           NaN                    NaN   \n",
      "32702                               0.11           NaN                    NaN   \n",
      "\n",
      "       Free kicks per 90  Direct free kicks per 90  \\\n",
      "0                   0.00                      0.00   \n",
      "1                   1.29                      0.11   \n",
      "2                   1.29                      0.11   \n",
      "3                   1.29                      0.11   \n",
      "4                   0.00                      0.00   \n",
      "...                  ...                       ...   \n",
      "32698               0.32                      0.00   \n",
      "32699               0.00                      0.00   \n",
      "32700               0.00                      0.00   \n",
      "32701               0.00                      0.00   \n",
      "32702               0.00                      0.00   \n",
      "\n",
      "       Direct free kicks on target, % Corners per 90 Penalties taken  \\\n",
      "0                                 0.0           0.00               5   \n",
      "1                                25.0           1.97               0   \n",
      "2                                25.0           1.97               0   \n",
      "3                                25.0           1.97               0   \n",
      "4                                 0.0           0.00               2   \n",
      "...                               ...            ...             ...   \n",
      "32698                             0.0           1.14               0   \n",
      "32699                             0.0           0.00               0   \n",
      "32700                             0.0           0.00               0   \n",
      "32701                             0.0           0.00               0   \n",
      "32702                             0.0           0.00               0   \n",
      "\n",
      "      Penalty conversion, %    Bin  \n",
      "0                      80.0  Lower  \n",
      "1                       0.0  Lower  \n",
      "2                       0.0  Lower  \n",
      "3                       0.0  Lower  \n",
      "4                      50.0  Lower  \n",
      "...                     ...    ...  \n",
      "32698                   0.0  Lower  \n",
      "32699                   0.0  Lower  \n",
      "32700                   0.0  Lower  \n",
      "32701                   0.0  Lower  \n",
      "32702                   0.0  Lower  \n",
      "\n",
      "[32703 rows x 116 columns]\n"
     ]
    }
   ],
   "source": [
    "# I decided to split a row with a player that has multiple positions into multiple rows but with different positions\n",
    "# in order to make it eacier to calculate statistics\n",
    "\n",
    "exploded_df = NAC_df.explode('Position')\n",
    "\n",
    "# Reset the index\n",
    "exploded_df.reset_index(drop=True, inplace=True)\n",
    "\n",
    "print(exploded_df)"
   ]
  },
  {
   "cell_type": "markdown",
   "metadata": {},
   "source": [
    "I created an aglorithm that calculates which team has the better player for a certain position, based on the team's average value. It is easily modifiable depending on which position is inputed.\n",
    "\n",
    "I believe it would be useful for NAC Breda in situations where they lack good players in a certian position and they wish to analyze other teams' (who have good players for a certain position) selection process, training procedure, and maybe even look into buying that player, etc."
   ]
  },
  {
   "cell_type": "code",
   "execution_count": 83,
   "metadata": {},
   "outputs": [
    {
     "name": "stdout",
     "output_type": "stream",
     "text": [
      "The team with the best center forwards is: RB Leipzig\n",
      "Their average market value is: 25000000.0\n"
     ]
    }
   ],
   "source": [
    "# Filter for players with 'CF' position\n",
    "cf_players = exploded_df[exploded_df['Position'] == 'CF']\n",
    "\n",
    "# Group by team and calculate the average market value for the team\n",
    "average_market_value = cf_players.groupby('Team')['Market value'].mean().reset_index()\n",
    "\n",
    "# Find the team with the highest average market value\n",
    "best_team = average_market_value.loc[average_market_value['Market value'].idxmax()]\n",
    "\n",
    "print(f\"The team with the best center forwards is: {best_team['Team']}\")\n",
    "print(f\"Their average market value is: {best_team['Market value']}\")"
   ]
  }
 ],
 "metadata": {
  "kernelspec": {
   "display_name": "block_b",
   "language": "python",
   "name": "python3"
  },
  "language_info": {
   "codemirror_mode": {
    "name": "ipython",
    "version": 3
   },
   "file_extension": ".py",
   "mimetype": "text/x-python",
   "name": "python",
   "nbconvert_exporter": "python",
   "pygments_lexer": "ipython3",
   "version": "3.8.18"
  }
 },
 "nbformat": 4,
 "nbformat_minor": 2
}
