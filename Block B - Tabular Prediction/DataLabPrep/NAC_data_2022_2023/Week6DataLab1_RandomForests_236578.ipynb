{
 "cells": [
  {
   "cell_type": "markdown",
   "metadata": {},
   "source": [
    "## Random forests"
   ]
  },
  {
   "cell_type": "code",
   "execution_count": 1,
   "metadata": {},
   "outputs": [],
   "source": [
    "from sklearn.ensemble import RandomForestClassifier\n",
    "import pandas as pd\n",
    "import numpy as np\n",
    "from sklearn.impute import SimpleImputer\n",
    "from sklearn.model_selection import train_test_split\n",
    "from sklearn.preprocessing import LabelEncoder"
   ]
  },
  {
   "cell_type": "code",
   "execution_count": 12,
   "metadata": {},
   "outputs": [],
   "source": [
    "NAC_data =  pd.read_csv('NAC_data.csv')\n",
    "NAC_df = pd.DataFrame(NAC_data)"
   ]
  },
  {
   "cell_type": "code",
   "execution_count": 15,
   "metadata": {},
   "outputs": [
    {
     "name": "stdout",
     "output_type": "stream",
     "text": [
      "ACCURACY OF THE MODEL:  0.193106228582947\n"
     ]
    }
   ],
   "source": [
    "# Perform one-hot encoding on other categorical columns\n",
    "NAC_df_encoded = pd.get_dummies(NAC_df)\n",
    "\n",
    "# Handle missing values using SimpleImputer\n",
    "imputer = SimpleImputer(strategy='mean') \n",
    "X_imputed = imputer.fit_transform(NAC_df_encoded.drop('Market value', axis=1))\n",
    "\n",
    "# Splitting data\n",
    "X = X_imputed\n",
    "y = NAC_df_encoded['Market value'].values\n",
    "\n",
    "# i.e. 70 % training dataset and 30 % test datasets \n",
    "X_train, X_test, y_train, y_test = train_test_split(X, y, test_size = 0.30) \n",
    "\n",
    "# creating a RF classifier \n",
    "clf = RandomForestClassifier(n_estimators = 100)   \n",
    "  \n",
    "# Training the model on the training dataset \n",
    "# fit function is used to train the model using the training sets as parameters \n",
    "clf.fit(X_train, y_train) \n",
    "  \n",
    "# performing predictions on the test dataset \n",
    "y_pred = clf.predict(X_test) \n",
    "  \n",
    "# metrics are used to find accuracy or error \n",
    "from sklearn import metrics   \n",
    "  \n",
    "# using metrics module for accuracy calculation \n",
    "print(\"ACCURACY OF THE MODEL: \", metrics.accuracy_score(y_test, y_pred)) "
   ]
  }
 ],
 "metadata": {
  "kernelspec": {
   "display_name": "block_b",
   "language": "python",
   "name": "python3"
  },
  "language_info": {
   "codemirror_mode": {
    "name": "ipython",
    "version": 3
   },
   "file_extension": ".py",
   "mimetype": "text/x-python",
   "name": "python",
   "nbconvert_exporter": "python",
   "pygments_lexer": "ipython3",
   "version": "3.11.7"
  }
 },
 "nbformat": 4,
 "nbformat_minor": 2
}
