{
 "cells": [
  {
   "cell_type": "markdown",
   "metadata": {},
   "source": [
    "## Cross-Validation"
   ]
  },
  {
   "cell_type": "markdown",
   "metadata": {},
   "source": [
    "#### In your notebook's markdown, mention the scenario that your ideal model should stick to."
   ]
  },
  {
   "cell_type": "markdown",
   "metadata": {},
   "source": [
    "In an ideal scenario, a model should strike a balance between minimizing bias and minimizing variance. This balance is crucial for achieving optimal predictive performance. The sweet spot for any model would be where an increase in bias is equivalent to the reduction in variance."
   ]
  },
  {
   "cell_type": "markdown",
   "metadata": {},
   "source": [
    "Steps:\n",
    "\n",
    "1. Randomly divide a dataset into k groups, or \"folds\", of roughly equal size.\n",
    "\n",
    "2. Choose one of the folds to be the holdout set. Fit the model on the remaining k-1 folds. Calculate the test MSE on the observations in the fold that was held out.\n",
    "\n",
    "3. Repeat this process k times, using a different set each time as the holdout set. (Fortunately, steps 1-3 are performed with single python method! cross_val_score)\n",
    "\n",
    "4. Calculate the overall test MSE to be the average of the k test MSE's."
   ]
  },
  {
   "cell_type": "code",
   "execution_count": 2,
   "metadata": {},
   "outputs": [
    {
     "name": "stdout",
     "output_type": "stream",
     "text": [
      "Accuracy for each fold:\n",
      "0.026666666666666665\n"
     ]
    }
   ],
   "source": [
    "import numpy as np\n",
    "from sklearn import datasets\n",
    "from sklearn.model_selection import cross_val_score\n",
    "from sklearn.ensemble import RandomForestClassifier\n",
    "from sklearn.linear_model import LogisticRegression\n",
    "from sklearn.metrics import accuracy_score, confusion_matrix, classification_report\n",
    "# Load Iris Dataset\n",
    "iris = datasets.load_iris()\n",
    "X = iris.data\n",
    "y = iris.target\n",
    "\n",
    "# Initialize the classifier\n",
    "classifier = LogisticRegression(max_iter=1000) # increased the max iterations\n",
    "\n",
    "# Perform cross-validation\n",
    "scores = cross_val_score(classifier,  X, y, scoring='neg_mean_absolute_error', cv=5)  # cv=5 for 5-fold cross-validation\n",
    "\n",
    "# Print the accuracy for each fold\n",
    "print(\"Accuracy for each fold:\")\n",
    "print(np.mean(np.abs(scores))) # changed 'mean' to np.mean and 'absolute' to np.abs"
   ]
  },
  {
   "cell_type": "markdown",
   "metadata": {},
   "source": [
    "The lower the mean absolute error, the better."
   ]
  },
  {
   "cell_type": "markdown",
   "metadata": {},
   "source": [
    "#### For your Python codes in kNN, and Logistic Regression, for NAC data, perform cross-validation and document whether these models exhibit consistent performance across different folds and datasets."
   ]
  },
  {
   "cell_type": "markdown",
   "metadata": {},
   "source": [
    "I will be reusing the code from Week 4, D5."
   ]
  },
  {
   "cell_type": "code",
   "execution_count": 3,
   "metadata": {},
   "outputs": [],
   "source": [
    "import pandas as pd \n",
    "import numpy as np\n",
    "import seaborn as sns\n",
    "import matplotlib.pyplot as plt\n",
    "from sklearn.preprocessing import LabelEncoder\n",
    "from sklearn.linear_model import LogisticRegression\n",
    "from sklearn.model_selection import train_test_split\n",
    "from sklearn.neighbors import KNeighborsClassifier\n",
    "from sklearn.metrics import accuracy_score, confusion_matrix, classification_report\n",
    "from sklearn.impute import SimpleImputer\n",
    "\n",
    "NAC_data = 'NAC_data.csv'\n",
    "file = pd.read_csv(NAC_data)\n",
    "NAC_df = pd.DataFrame(file)\n",
    "\n",
    "min_val = NAC_df['Market value'].min()\n",
    "max_val = NAC_df['Market value'].max()\n",
    "bins = [min_val, 1000000, 5000000, max_val]\n",
    "labels = ['Lower', 'Middle', 'Higher']\n",
    "\n",
    "NAC_df['Bin'] = pd.cut(NAC_df['Market value'], bins=bins, labels=labels, include_lowest=True) # Binning the market values \n",
    "\n",
    "# Splitting the dataset into testing and training sets\n",
    "X = NAC_df[['Goals', 'Age', 'xG', 'Duels per 90', 'Height', 'Assists per 90']]\n",
    "y = NAC_df['Bin']\n",
    "\n",
    "X_train, X_test, y_train, y_test = train_test_split(X, y, test_size=0.2, random_state=42)\n",
    "\n",
    "# Using one-hot encoding for adressing categorical data\n",
    "X_train_encoded = pd.get_dummies(X_train)\n",
    "X_test_encoded = pd.get_dummies(X_test)\n",
    "\n",
    "# Handling NaN values using a simple imputer\n",
    "imputer = SimpleImputer(strategy='mean')\n",
    "X_train_encoded = pd.DataFrame(imputer.fit_transform(X_train_encoded), columns=X_train_encoded.columns)\n",
    "X_test_encoded = pd.DataFrame(imputer.transform(X_test_encoded), columns=X_test_encoded.columns)"
   ]
  },
  {
   "cell_type": "markdown",
   "metadata": {},
   "source": [
    "#### Logistic Regression"
   ]
  },
  {
   "cell_type": "code",
   "execution_count": 4,
   "metadata": {},
   "outputs": [
    {
     "name": "stdout",
     "output_type": "stream",
     "text": [
      "              precision    recall  f1-score   support\n",
      "\n",
      "      Higher       0.00      0.00      0.00        28\n",
      "       Lower       0.92      1.00      0.96      3037\n",
      "      Middle       0.25      0.01      0.02       242\n",
      "\n",
      "    accuracy                           0.92      3307\n",
      "   macro avg       0.39      0.34      0.32      3307\n",
      "weighted avg       0.86      0.92      0.88      3307\n",
      "\n"
     ]
    },
    {
     "data": {
      "text/plain": [
       "Text(0.5, 23.52222222222222, 'Predicted values')"
      ]
     },
     "execution_count": 4,
     "metadata": {},
     "output_type": "execute_result"
    },
    {
     "data": {
      "image/png": "[encoded data removed]",
      "text/plain": [
       "<Figure size 640x480 with 2 Axes>"
      ]
     },
     "metadata": {},
     "output_type": "display_data"
    }
   ],
   "source": [
    "# Instantiating and fitting the model\n",
    "log_reg = LogisticRegression(max_iter=50000)\n",
    "log_reg.fit(X_train_encoded, y_train)\n",
    "\n",
    "# Predict on the test set\n",
    "y_pred = log_reg.predict(X_test_encoded)\n",
    "\n",
    "# Model Evaluation\n",
    "print(classification_report(y_test, y_pred))\n",
    "\n",
    "cm = confusion_matrix(y_test, y_pred, labels=['Lower', 'Middle', 'Higher'])\n",
    "sns.heatmap(cm, annot=True, cmap=\"Greens\", fmt='g', linewidths=2)\n",
    "plt.ylabel('Actual values')\n",
    "plt.xlabel('Predicted values')"
   ]
  },
  {
   "cell_type": "code",
   "execution_count": 5,
   "metadata": {},
   "outputs": [
    {
     "name": "stdout",
     "output_type": "stream",
     "text": [
      "Cross-Validation Score with 5 folds: [0.91043084 0.90891912 0.90891912 0.91115312 0.91153119]\n"
     ]
    }
   ],
   "source": [
    "# Perform cross validation \n",
    "#with 5 folds\n",
    "cv_scores = cross_val_score(log_reg, X_train_encoded, y_train, cv=5)\n",
    "\n",
    "print(\"Cross-Validation Score with 5 folds:\", cv_scores)"
   ]
  },
  {
   "cell_type": "code",
   "execution_count": 6,
   "metadata": {},
   "outputs": [
    {
     "name": "stdout",
     "output_type": "stream",
     "text": [
      "Cross-Validation Score with 7 folds: [0.91111111 0.90740741 0.91005291 0.91005291 0.91005291 0.91159344\n",
      " 0.91159344]\n"
     ]
    }
   ],
   "source": [
    "#with 7 folds\n",
    "cv_scores = cross_val_score(log_reg, X_train_encoded, y_train, cv=7)\n",
    "\n",
    "print(\"Cross-Validation Score with 7 folds:\", cv_scores)"
   ]
  },
  {
   "cell_type": "code",
   "execution_count": 7,
   "metadata": {},
   "outputs": [
    {
     "name": "stdout",
     "output_type": "stream",
     "text": [
      "Cross-Validation Score with 9 folds: [0.91020408 0.91020408 0.90816327 0.90952381 0.91088435 0.90884354\n",
      " 0.91020408 0.91150442 0.91218516]\n"
     ]
    }
   ],
   "source": [
    "#with 9 folds\n",
    "cv_scores = cross_val_score(log_reg, X_train_encoded, y_train, cv=9)\n",
    "\n",
    "print(\"Cross-Validation Score with 9 folds:\", cv_scores)"
   ]
  },
  {
   "cell_type": "code",
   "execution_count": 8,
   "metadata": {},
   "outputs": [
    {
     "name": "stdout",
     "output_type": "stream",
     "text": [
      "Cross-Validation Score with 10 folds: [0.91080877 0.91080877 0.90854119 0.91005291 0.90929705 0.90854119\n",
      " 0.91080877 0.91156463 0.91149773 0.91225416]\n"
     ]
    }
   ],
   "source": [
    "#with 10 folds\n",
    "cv_scores = cross_val_score(log_reg, X_train_encoded, y_train, cv=10)\n",
    "\n",
    "print(\"Cross-Validation Score with 10 folds:\", cv_scores)"
   ]
  },
  {
   "cell_type": "markdown",
   "metadata": {},
   "source": [
    "The performance is not constant across the different fold values."
   ]
  },
  {
   "cell_type": "markdown",
   "metadata": {},
   "source": [
    "#### I also tried to use the top-k accuracy score"
   ]
  },
  {
   "cell_type": "code",
   "execution_count": 9,
   "metadata": {},
   "outputs": [
    {
     "name": "stdout",
     "output_type": "stream",
     "text": [
      "Cross-val predict score: [[3.38334888e-03 9.30583028e-01 6.60336232e-02]\n",
      " [1.51618938e-04 9.97132862e-01 2.71551918e-03]\n",
      " [2.92068213e-03 9.45642048e-01 5.14372699e-02]\n",
      " ...\n",
      " [4.61345885e-03 9.26897428e-01 6.84891130e-02]\n",
      " [2.22906300e-02 8.36254134e-01 1.41455236e-01]\n",
      " [7.69823145e-03 9.00474321e-01 9.18274477e-02]]\n",
      "Top-k Accuracy Scores: 0.9903991533111581\n",
      "Mean Top-k Accuracy Score: 0.9903991533111581\n"
     ]
    }
   ],
   "source": [
    "from sklearn.metrics import top_k_accuracy_score\n",
    "from sklearn.model_selection import cross_val_predict\n",
    "\n",
    "# Perform cross-validation\n",
    "y_pred_cv = cross_val_predict(log_reg, X_train_encoded, y_train, cv=5, method='predict_proba')\n",
    "print('Cross-val predict score:', y_pred_cv)\n",
    "\n",
    "# Calculate top-k accuracy scores\n",
    "top_k_scores = top_k_accuracy_score(y_train, y_pred_cv, k=2) \n",
    "# Fit the model on the entire training set\n",
    "log_reg.fit(X_train_encoded, y_train)\n",
    "\n",
    "# Predict on the test set\n",
    "y_pred = log_reg.predict(X_test_encoded)\n",
    "\n",
    "# Model Evaluation\n",
    "print(\"Top-k Accuracy Scores:\", top_k_scores)\n",
    "print(\"Mean Top-k Accuracy Score:\", np.mean(top_k_scores))\n"
   ]
  },
  {
   "cell_type": "markdown",
   "metadata": {},
   "source": [
    "#### KNN model"
   ]
  },
  {
   "cell_type": "code",
   "execution_count": 10,
   "metadata": {},
   "outputs": [
    {
     "name": "stdout",
     "output_type": "stream",
     "text": [
      "0.8990021167221046\n",
      "              precision    recall  f1-score   support\n",
      "\n",
      "      Higher       0.15      0.11      0.12        28\n",
      "       Lower       0.92      0.97      0.95      3037\n",
      "      Middle       0.18      0.06      0.09       242\n",
      "\n",
      "    accuracy                           0.90      3307\n",
      "   macro avg       0.42      0.38      0.39      3307\n",
      "weighted avg       0.86      0.90      0.88      3307\n",
      "\n"
     ]
    },
    {
     "data": {
      "text/plain": [
       "Text(0.5, 23.52222222222222, 'Predicted values')"
      ]
     },
     "execution_count": 10,
     "metadata": {},
     "output_type": "execute_result"
    },
    {
     "data": {
      "image/png": "[encoded data removed]",
      "text/plain": [
       "<Figure size 640x480 with 2 Axes>"
      ]
     },
     "metadata": {},
     "output_type": "display_data"
    }
   ],
   "source": [
    "knn = KNeighborsClassifier(n_neighbors=3)\n",
    "knn.fit(X_train_encoded, y_train)\n",
    "\n",
    "print(knn.score(X_test_encoded, y_test))\n",
    "\n",
    "y_pred = knn.predict(X_test_encoded)\n",
    "\n",
    "# Model Evaluation\n",
    "cm = confusion_matrix(y_test, y_pred)\n",
    "print(classification_report(y_test, y_pred))\n",
    "\n",
    "sns.heatmap(confusion_matrix(y_test, y_pred), annot=True, cmap=\"YlGnBu\", linewidths=2)\n",
    "plt.ylabel('Actual values')\n",
    "plt.xlabel('Predicted values')"
   ]
  },
  {
   "cell_type": "code",
   "execution_count": 11,
   "metadata": {},
   "outputs": [
    {
     "name": "stdout",
     "output_type": "stream",
     "text": [
      "Cross-Validation Score with 5 folds: [0.88851096 0.88321995 0.88095238 0.88922495 0.87939509]\n"
     ]
    }
   ],
   "source": [
    "# Perform Cross-Validation\n",
    "cv_scores = cross_val_score(knn, X_train_encoded, y_train, cv=5)\n",
    "\n",
    "print(\"Cross-Validation Score with 5 folds:\", cv_scores)"
   ]
  },
  {
   "cell_type": "code",
   "execution_count": 12,
   "metadata": {},
   "outputs": [
    {
     "name": "stdout",
     "output_type": "stream",
     "text": [
      "Cross-Validation Score with 7 folds: [0.88677249 0.87936508 0.88835979 0.88571429 0.88306878 0.88035998\n",
      " 0.88035998]\n"
     ]
    }
   ],
   "source": [
    "#with 7 folds\n",
    "cv_scores = cross_val_score(knn, X_train_encoded, y_train, cv=7)\n",
    "\n",
    "print(\"Cross-Validation Score with 7 folds:\", cv_scores)"
   ]
  },
  {
   "cell_type": "code",
   "execution_count": 13,
   "metadata": {},
   "outputs": [
    {
     "name": "stdout",
     "output_type": "stream",
     "text": [
      "Cross-Validation Score with 9 folds: [0.8877551  0.88503401 0.88231293 0.89251701 0.88571429 0.88027211\n",
      " 0.88979592 0.88291355 0.87542546]\n"
     ]
    }
   ],
   "source": [
    "#with 9 folds\n",
    "cv_scores = cross_val_score(knn, X_train_encoded, y_train, cv=9)\n",
    "\n",
    "print(\"Cross-Validation Score with 9 folds:\", cv_scores)"
   ]
  },
  {
   "cell_type": "code",
   "execution_count": 14,
   "metadata": {},
   "outputs": [
    {
     "name": "stdout",
     "output_type": "stream",
     "text": [
      "Cross-Validation Score with 10 folds: [0.88888889 0.88813303 0.87830688 0.8851096  0.88813303 0.87679516\n",
      " 0.88662132 0.89115646 0.87897126 0.87972769]\n"
     ]
    }
   ],
   "source": [
    "#with 10 folds\n",
    "cv_scores = cross_val_score(knn, X_train_encoded, y_train, cv=10)\n",
    "\n",
    "print(\"Cross-Validation Score with 10 folds:\", cv_scores)"
   ]
  },
  {
   "cell_type": "markdown",
   "metadata": {},
   "source": [
    "#### Compare and contrast the limitations of K-Means, Hierarchical, and DBSCAN clustering algorithms. In what scenarios would you choose one type over the others?"
   ]
  },
  {
   "cell_type": "markdown",
   "metadata": {},
   "source": [
    "The choice between K-Means, Hierarchical, and DBSCAN depends on the nature of the data and the goal of the clustering analysis. K-Means is suitable for well-defined spherical clusters, Hierarchical is useful for exploring hierarchical relationships, and DBSCAN excels in identifying clusters with arbitrary shapes and handling noise.\n",
    "\n",
    "For larger datasets, K-means clustering would be a better choice because it is a computationally efficient method. For small to medium-sized datasets, Hierarchical Clustering would be better suited. However, when the number of clusters is unknown and difficult to specify beforehand, DBSCAN can automatically determine the number based on data density. Therefore, making it the best choice for this situation."
   ]
  }
 ],
 "metadata": {
  "kernelspec": {
   "display_name": "block_b",
   "language": "python",
   "name": "python3"
  },
  "language_info": {
   "codemirror_mode": {
    "name": "ipython",
    "version": 3
   },
   "file_extension": ".py",
   "mimetype": "text/x-python",
   "name": "python",
   "nbconvert_exporter": "python",
   "pygments_lexer": "ipython3",
   "version": "3.11.7"
  }
 },
 "nbformat": 4,
 "nbformat_minor": 2
}
