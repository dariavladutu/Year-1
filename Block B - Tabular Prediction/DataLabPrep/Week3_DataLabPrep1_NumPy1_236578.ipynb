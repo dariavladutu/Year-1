{
 "cells": [
  {
   "cell_type": "markdown",
   "metadata": {},
   "source": [
    "#### Broadcasting"
   ]
  },
  {
   "cell_type": "code",
   "execution_count": 5,
   "metadata": {},
   "outputs": [
    {
     "name": "stdout",
     "output_type": "stream",
     "text": [
      "[2. 4. 6.]\n"
     ]
    }
   ],
   "source": [
    "import numpy as np\n",
    "\n",
    "a = np.array([1.0, 2.0, 3.0])\n",
    "b = np.array([2.0, 2.0, 2.0])\n",
    "c = a * b\n",
    "print(c)"
   ]
  },
  {
   "cell_type": "code",
   "execution_count": 6,
   "metadata": {},
   "outputs": [
    {
     "name": "stdout",
     "output_type": "stream",
     "text": [
      "[2. 4. 6.]\n"
     ]
    }
   ],
   "source": [
    "import numpy as np\n",
    "\n",
    "a = np.array([1.0, 2.0, 3.0])\n",
    "b = np.array([2.0])\n",
    "c = a * b\n",
    "print(c)"
   ]
  },
  {
   "cell_type": "markdown",
   "metadata": {},
   "source": [
    "### Vectorising"
   ]
  },
  {
   "cell_type": "code",
   "execution_count": 7,
   "metadata": {},
   "outputs": [],
   "source": [
    "def myfunc(a, b):\n",
    "    \"Return a-b if a>b, otherwise return a+b\"\n",
    "    if a > b:\n",
    "        return a - b\n",
    "    else:\n",
    "        return a + b"
   ]
  },
  {
   "cell_type": "code",
   "execution_count": 8,
   "metadata": {},
   "outputs": [
    {
     "data": {
      "text/plain": [
       "array([3, 4, 1, 2])"
      ]
     },
     "execution_count": 8,
     "metadata": {},
     "output_type": "execute_result"
    }
   ],
   "source": [
    "vfunc = np.vectorize(myfunc)\n",
    "vfunc([1, 2, 3, 4], 2)"
   ]
  },
  {
   "cell_type": "markdown",
   "metadata": {},
   "source": [
    "## Datalab Prep"
   ]
  },
  {
   "cell_type": "code",
   "execution_count": 9,
   "metadata": {},
   "outputs": [],
   "source": [
    "list_1 = [1, 2, 3, 4, 5]\n",
    "list_2 = [3.14, 89, 400, 23, 1000, 657, 0]"
   ]
  },
  {
   "cell_type": "code",
   "execution_count": 10,
   "metadata": {},
   "outputs": [
    {
     "data": {
      "text/plain": [
       "[3.14, 178, 1200, 92, 5000, 657, 0]"
      ]
     },
     "execution_count": 10,
     "metadata": {},
     "output_type": "execute_result"
    }
   ],
   "source": [
    "def list_multiply(list_1, list_2):\n",
    "    \"\"\"\n",
    "    Multiply two lists element-wise, handling unequal sizes.\n",
    "\n",
    "    Parameters:\n",
    "    - list_1 (list): The first input list.\n",
    "    - list_2 (list): The second input list.\n",
    "\n",
    "    Returns:\n",
    "    - list: A new list containing the element-wise product of the input lists.\n",
    "    \"\"\"\n",
    "\n",
    "    # Initialize an empty list to store the result\n",
    "    list_result = []\n",
    "\n",
    "    # Iterate over the common elements of the lists\n",
    "    for element in range(min(len(list_1), len(list_2))):\n",
    "        list_result.append(list_1[element] * list_2[element])\n",
    "\n",
    "    # If list_1 is shorter, add the remaining elements of list_2\n",
    "    for obj in range(len(list_1), len(list_2)):\n",
    "        list_result.append(list_2[obj])\n",
    "\n",
    "    return list_result\n",
    "\n",
    "# Example usage\n",
    "list_1 = [1, 2, 3, 4, 5]\n",
    "list_2 = [2, 3, 4, 5, 6]\n",
    "result = list_multiply(list_1, list_2)\n",
    "print(result)"
   ]
  },
  {
   "cell_type": "code",
   "execution_count": 11,
   "metadata": {},
   "outputs": [
    {
     "name": "stdout",
     "output_type": "stream",
     "text": [
      "[3.14e+00 1.78e+02 1.20e+03 9.20e+01 5.00e+03 6.57e+02 0.00e+00]\n"
     ]
    }
   ],
   "source": [
    "one = np.array(list_1)\n",
    "two = np.array(list_2)\n",
    "matrice = np.ones(7)\n",
    "matrice[:5] = one\n",
    "result = (two * matrice)\n",
    "print(result)"
   ]
  },
  {
   "cell_type": "code",
   "execution_count": 12,
   "metadata": {},
   "outputs": [
    {
     "name": "stdout",
     "output_type": "stream",
     "text": [
      "[ 2  6 12 20 30]\n"
     ]
    }
   ],
   "source": [
    "def np_list_multiply(list_1, list_2):\n",
    "    # Convert lists to NumPy arrays\n",
    "    one = np.array(list_1)\n",
    "    two = np.array(list_2)\n",
    "    \n",
    "    # Perform element-wise multiplication\n",
    "    result = one * two\n",
    "    return result\n",
    "\n",
    "# Example usage\n",
    "list_1 = [1, 2, 3, 4, 5]\n",
    "list_2 = [2, 3, 4, 5, 6]\n",
    "\n",
    "result = np_list_multiply(list_1, list_2)\n",
    "print(result)"
   ]
  },
  {
   "cell_type": "markdown",
   "metadata": {},
   "source": [
    "Time the two functions and comment on the improvements you observe in speed."
   ]
  },
  {
   "cell_type": "code",
   "execution_count": 13,
   "metadata": {},
   "outputs": [
    {
     "name": "stdout",
     "output_type": "stream",
     "text": [
      "NumPy function time: 1.6521314580459148 seconds\n",
      "Function using loops time: 0.7265508340205997 seconds\n"
     ]
    }
   ],
   "source": [
    "import timeit\n",
    "import numpy as np\n",
    "\n",
    "# Function using NumPy\n",
    "def np_list_multiply(list_1, list_2):\n",
    "    one = np.array(list_1)\n",
    "    two = np.array(list_2)\n",
    "    result = one * two\n",
    "    return result\n",
    "\n",
    "# Function using loops\n",
    "def list_multiply(list_1, list_2):\n",
    "    list_result = []\n",
    "    for element in range(min(len(list_1), len(list_2))):\n",
    "        list_result.append(list_1[element] * list_2[element])\n",
    "    for obj in range(len(list_1), len(list_2)):\n",
    "        list_result.append(list_2[obj])\n",
    "    return list_result\n",
    "\n",
    "# Example lists\n",
    "list_1 = [1, 2, 3, 4, 5]\n",
    "list_2 = [2, 3, 4, 5, 6]\n",
    "\n",
    "# Time the NumPy function\n",
    "time_np = timeit.timeit(lambda: np_list_multiply(list_1, list_2), number=1000000)\n",
    "\n",
    "# Time the function using loops\n",
    "time_loop = timeit.timeit(lambda: list_multiply(list_1, list_2), number=1000000)\n",
    "\n",
    "# Print the results\n",
    "print(f\"NumPy function time: {time_np} seconds\")\n",
    "print(f\"Function using loops time: {time_loop} seconds\")"
   ]
  }
 ],
 "metadata": {
  "kernelspec": {
   "display_name": "block_b",
   "language": "python",
   "name": "python3"
  },
  "language_info": {
   "codemirror_mode": {
    "name": "ipython",
    "version": 3
   },
   "file_extension": ".py",
   "mimetype": "text/x-python",
   "name": "python",
   "nbconvert_exporter": "python",
   "pygments_lexer": "ipython3",
   "version": "3.8.18"
  }
 },
 "nbformat": 4,
 "nbformat_minor": 2
}
