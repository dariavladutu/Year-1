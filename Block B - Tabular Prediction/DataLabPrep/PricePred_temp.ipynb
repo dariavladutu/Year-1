{
 "cells": [
  {
   "cell_type": "markdown",
   "id": "b24a6132",
   "metadata": {},
   "source": [
    "## Implement Gradient Descent Algorithm for House Price Prediction\n",
    "\n",
    "This is a template for Assignment 2 of **Optimization and Linear Regression using Gradient Descent** (Monday of Week 8).\n",
    "\n",
    "Fill in the **None** part in this template. Feel free to add more cells to this notebook to perform all the tasks that you are asked to do.\n",
    "\n",
    "The goal in this assignment is to build a linear regression model to predict the house price based on its size."
   ]
  },
  {
   "cell_type": "code",
   "execution_count": null,
   "id": "1b123774",
   "metadata": {},
   "outputs": [],
   "source": [
    "# Put your code here (3 lines of code)\n",
    "# Import numpy, pandas, and matplotlib.pyplot \n",
    "None\n",
    "None\n",
    "None"
   ]
  },
  {
   "cell_type": "code",
   "execution_count": null,
   "id": "c3fcf8e7",
   "metadata": {},
   "outputs": [],
   "source": [
    "# Put your code here (1 line of code)\n",
    "# Load the dataset\n",
    "data = None"
   ]
  },
  {
   "cell_type": "code",
   "execution_count": null,
   "id": "e0518c79",
   "metadata": {},
   "outputs": [],
   "source": [
    "# Put your code here (1 line of code)\n",
    "# Take a look at the data, use head method for data\n",
    "None"
   ]
  },
  {
   "cell_type": "code",
   "execution_count": null,
   "id": "88fa5ccb",
   "metadata": {},
   "outputs": [],
   "source": [
    "# Select the size and price values from the dataset and assign them to \n",
    "# variables X and Y\n",
    "X_dat = data['SqFt'].to_numpy()\n",
    "Y_dat = data['Price'].to_numpy()"
   ]
  },
  {
   "cell_type": "code",
   "execution_count": null,
   "id": "c619c884",
   "metadata": {},
   "outputs": [],
   "source": [
    "# Put your code here (1 line of code)\n",
    "# Plot a scatter plot for X_dat and Y_dat\n",
    "# Take alook at our data\n",
    "None\n",
    "\n",
    "plt.xlabel('Size')\n",
    "plt.ylabel('Price')\n",
    "plt.show()"
   ]
  },
  {
   "cell_type": "markdown",
   "id": "400b9207",
   "metadata": {},
   "source": [
    "It is always good practice to normalize our data to increase the convergence rate of the Gradient Descent algorithm."
   ]
  },
  {
   "cell_type": "code",
   "execution_count": null,
   "id": "d560eb57",
   "metadata": {},
   "outputs": [],
   "source": [
    "# Normalize our data\n",
    "X = (np.max(X_dat) - X_dat)/(np.max(X_dat) - np.min(X_dat)) \n",
    "Y = (np.max(Y_dat) - Y_dat)/(np.max(Y_dat) - np.min(Y_dat)) "
   ]
  },
  {
   "cell_type": "markdown",
   "id": "ac0df89e",
   "metadata": {},
   "source": [
    "Now that our data is prepared, let's start creating the necessary functions to implement the Gradient Descent algorithm."
   ]
  },
  {
   "cell_type": "markdown",
   "id": "1b3967b5",
   "metadata": {},
   "source": [
    "### Linear Regression Model\n",
    "\n",
    "At first step, we need to define our linear regression model. The model is as follows:\n",
    "\n",
    "$$y=wx+b$$"
   ]
  },
  {
   "cell_type": "code",
   "execution_count": null,
   "id": "58421d0d",
   "metadata": {},
   "outputs": [],
   "source": [
    "# Define the linear regression model\n",
    "def LR_model(x, w, b):\n",
    "    # x: a scalar value, the size of the house\n",
    "    # w: the weight of the model, a scalar value\n",
    "    # b: the intercept of the model, a scalar value\n",
    "    \n",
    "    # Put your code here (1 line of code)\n",
    "    # Define the linear regression model\n",
    "    y = None\n",
    "    \n",
    "    return y"
   ]
  },
  {
   "cell_type": "markdown",
   "id": "ee68e64e",
   "metadata": {},
   "source": [
    "### Cost Function\n",
    "\n",
    "Now, we need to define the cost function. The cost function is a mean squared error function. \n",
    "\n",
    "The mean squared error cost function for our linear regression can be formulated as:\n",
    "\n",
    "$$J(w,b)=\\dfrac{1}{2m} \\sum_{i=1}^{m} {\\left(\\hat y^{(i)} - y^{(i)}\\right)^2}= \\dfrac{1}{2m} \\sum_{i=1}^{m} {\\left(wx+b - y^{(i)}\\right)^2}$$\n",
    "\n"
   ]
  },
  {
   "cell_type": "code",
   "execution_count": null,
   "id": "54cd1680",
   "metadata": {},
   "outputs": [],
   "source": [
    "# Implement the cost function (mean squared error function)\n",
    "def cost(X, Y, w, b):\n",
    "    # X: a vector contains the size of the houses\n",
    "    # Y: a vector contains the price of the houses\n",
    "    # w: weight of the linear regression model\n",
    "    # b: intercept of the model\n",
    "    \n",
    "    # Number of the observations\n",
    "    m = len(X)\n",
    "    \n",
    "    # Cost value\n",
    "    \n",
    "    # Put your code here (1 line of code)\n",
    "    # Initilize the sum as zero \n",
    "    J = None\n",
    "    \n",
    "    for i in range(m):\n",
    "        x = X[i]\n",
    "        y = Y[i]\n",
    "        \n",
    "        # Put your code here (1 line of code)\n",
    "        # Use LR_model to compute the prediction of the price based on the size\n",
    "        y_pred = None\n",
    "        \n",
    "        # Put your code here (1 line of code)\n",
    "        # Compute the cost function (mean squared error cost function)\n",
    "        J = None\n",
    "    \n",
    "    return J\n",
    "    "
   ]
  },
  {
   "cell_type": "markdown",
   "id": "23da1e00",
   "metadata": {},
   "source": [
    "To make sure that you have correctly implemented the cost function, run the following cell and compare the obtained result with the given value. "
   ]
  },
  {
   "cell_type": "code",
   "execution_count": null,
   "id": "90264fa7",
   "metadata": {},
   "outputs": [],
   "source": [
    "# Use your function to compute the cost for the following values\n",
    "cost(X, Y, 2, 3)"
   ]
  },
  {
   "cell_type": "markdown",
   "id": "5ccd2c7e",
   "metadata": {},
   "source": [
    "The expected value is: 6.050766241298438"
   ]
  },
  {
   "cell_type": "markdown",
   "id": "e8713c3d",
   "metadata": {},
   "source": [
    "### Gradient Descent Update Rule\n",
    "\n",
    "Now you need to implement the Gradient Descent update rule as follows:\n",
    "\n",
    "$$ \\qquad \\left\\{ \\begin{array}{l} w_{n+1} = w_{n} -  \\dfrac{\\alpha}{m} \\sum_{i=1}^{m} \\left( \\hat{y}^{(i)} - y^{(i)} \\right)x^{(i)} \\\\ b_{n+1} = b_{n} -  \\dfrac{\\alpha}{m} \\sum_{i=1}^{m} \\left( \\hat{y}^{(i)} - y^{(i)} \\right) \\end{array} \\right.$$\n",
    "\n",
    "\n",
    "Here, $\\alpha$ is the learning rate, $m$ is the number of the observations. Note that you are able to compute $\\hat{y}^{(i)}$ using your previously developed function **LR_model**."
   ]
  },
  {
   "cell_type": "code",
   "execution_count": null,
   "id": "ef320f59",
   "metadata": {},
   "outputs": [],
   "source": [
    "def grad_descent_step(X, Y, w, b, alf):\n",
    "    # X: a vector contains the size of the houses\n",
    "    # Y: a vector contains the price of the houses\n",
    "    # w: weight of the linear regression model\n",
    "    # b: intercept of the model\n",
    "    # alf: learning rate (a scalar value)\n",
    "    \n",
    "    # Number of the observations\n",
    "    m = len(X)\n",
    "    \n",
    "    # Put your code here (2 lines of code)\n",
    "    # Initilize both sum_w and sum_b as zero\n",
    "    sum_w = None\n",
    "    sum_b = None\n",
    "    \n",
    "    # A for loop to compute the sums appear in the update rule\n",
    "    for i in range(m):\n",
    "        x = X[i]\n",
    "        y = Y[i]\n",
    "        \n",
    "        # Put your code here (1 line of code)\n",
    "        # Use your LR_model to compute a prediction with x, w, b\n",
    "        y_pred = None\n",
    "        \n",
    "        # Put your code here (2 lines of code)\n",
    "        # Compute the sums appear in the update rule\n",
    "        sum_w = None\n",
    "        sum_b = None\n",
    "    \n",
    "    # Put your codes here (2 lines of code)\n",
    "    # Implement the update rule for the gradien descent\n",
    "    w_new = None\n",
    "    b_new = None \n",
    "    \n",
    "    return w_new, b_new"
   ]
  },
  {
   "cell_type": "markdown",
   "id": "cd1d1803",
   "metadata": {},
   "source": [
    "Now that you have implemented the Gradient Descent update rule, to ensure its correctness, run the following cell and compare your result with the provided one."
   ]
  },
  {
   "cell_type": "code",
   "execution_count": null,
   "id": "f4157dd7",
   "metadata": {},
   "outputs": [],
   "source": [
    "grad_descent_step(X, Y, 2, -3, 0.01)"
   ]
  },
  {
   "cell_type": "markdown",
   "id": "37fbe1a9",
   "metadata": {},
   "source": [
    "The expected values are as follows:\n",
    "    \n",
    "(2.0126078237441893, -2.97465021756207)"
   ]
  },
  {
   "cell_type": "markdown",
   "id": "69a61eb2",
   "metadata": {},
   "source": [
    "### Implement Gradient Descent Algorithm\n",
    "\n",
    "Now, it is time to implement the Gradient Descent algorithm using your already developed functions."
   ]
  },
  {
   "cell_type": "code",
   "execution_count": null,
   "id": "fa1cdb03",
   "metadata": {},
   "outputs": [],
   "source": [
    "# Put your code here (1 line of code)\n",
    "# Choose an initial value for w\n",
    "w_init = None\n",
    "\n",
    "# Put your code here (1 line of code)\n",
    "# Choose an initial value for b\n",
    "b_init = None\n",
    "\n",
    "# Put your code here (1 line of code)\n",
    "# Choose the learning rate\n",
    "alf = None\n",
    "\n",
    "# Put your code here (1 line of code)\n",
    "# Choose the number of iterations\n",
    "N = None\n",
    "\n",
    "# Save the values for w, b\n",
    "W = np.zeros(N + 1)\n",
    "B = np.zeros(N + 1)\n",
    "C = np.zeros(N + 1)\n",
    "\n",
    "# Save initial values\n",
    "W[0] = w_init\n",
    "B[0] = b_init\n",
    "\n",
    "# Put your code here (1 line of code)\n",
    "# Save the cost for w_init and b_init using cost function\n",
    "C[0] = None\n",
    "\n",
    "# A loop to iteratively apply the update rule \n",
    "for n in range(N):\n",
    "    \n",
    "    # Put your code here (1 line of code)\n",
    "    # Use grad_descent_step function to find new values for w, b\n",
    "    w_new, b_new = None\n",
    "    \n",
    "    # Put your code here (2 lines of code)\n",
    "    # Save the new values for w and b \n",
    "    W[n+1] = None\n",
    "    B[n+1] = None\n",
    "    \n",
    "    # Put your code here (1 line of code)\n",
    "    # Save the cost value for compute new values of w and b \n",
    "    # Use the cost function you have already implemented\n",
    "    C[n+1] = None\n",
    "\n",
    "# Plot the results\n",
    "plt.plot(range(N+1),C)\n",
    "plt.show()"
   ]
  },
  {
   "cell_type": "markdown",
   "id": "a49f8b70",
   "metadata": {},
   "source": [
    "Now, plot the obtained results:"
   ]
  },
  {
   "cell_type": "code",
   "execution_count": null,
   "id": "55430f52",
   "metadata": {},
   "outputs": [],
   "source": [
    "# Put your code here (1 line of code)\n",
    "# Plot the saved values of W against the iteration.\n",
    "None\n",
    "\n",
    "plt.show()"
   ]
  },
  {
   "cell_type": "code",
   "execution_count": null,
   "id": "a4fda684",
   "metadata": {},
   "outputs": [],
   "source": [
    "# Put your code here (1 line of code)\n",
    "# Plot the saved values of B against the iteration.\n",
    "None\n",
    "\n",
    "plt.show()"
   ]
  },
  {
   "cell_type": "code",
   "execution_count": null,
   "id": "d771ec5a",
   "metadata": {},
   "outputs": [],
   "source": [
    "# Put your code here (2 lines of code)\n",
    "# Define the final values (optimal values) of w and b\n",
    "w_opt = None\n",
    "b_opt = None\n",
    "\n",
    "print(\"The optimal value for w:\", w_opt)\n",
    "print(\"The optimal value for b:\", b_opt)"
   ]
  },
  {
   "cell_type": "markdown",
   "id": "eb569625",
   "metadata": {},
   "source": [
    "Since we initially normalized the data, in this section, we inverse the normalization to represent the model using the initial values of the data."
   ]
  },
  {
   "cell_type": "code",
   "execution_count": null,
   "id": "5af898d1",
   "metadata": {},
   "outputs": [],
   "source": [
    "X_max = np.max(X_dat)\n",
    "X_min = np.min(X_dat)\n",
    "\n",
    "Y_max = np.max(Y_dat)\n",
    "Y_min = np.min(Y_dat)\n",
    "\n",
    "X_line = np.linspace(X_min, X_max, 100)\n",
    "Y_line_norm = w_opt * (X_max - X_line)/(X_max - X_min) + b_opt\n",
    "Y_line = Y_max - Y_line_norm * (Y_max - Y_min) \n",
    "plt.plot(X_line,Y_line, 'r--')\n",
    "\n",
    "\n",
    "plt.scatter(X_dat,Y_dat)\n",
    "\n",
    "plt.xlabel('Size')\n",
    "plt.ylabel('Price')\n",
    "plt.show() "
   ]
  },
  {
   "cell_type": "markdown",
   "id": "f77c484f",
   "metadata": {},
   "source": [
    "### Compare with Scikit-learn\n",
    "\n",
    "Congratulations! You have finished building a linear regression model from scratch. Perhaps you are curious to compare your model with the one obtained using the Scikit-learn package. In what follows, you will train the same model using Scikit-learn, and you can compare your model with that one."
   ]
  },
  {
   "cell_type": "code",
   "execution_count": null,
   "id": "7dfd8649",
   "metadata": {},
   "outputs": [],
   "source": [
    "from sklearn.linear_model import LinearRegression\n",
    "\n",
    "reg = LinearRegression().fit(X.reshape(-1,1), Y)"
   ]
  },
  {
   "cell_type": "code",
   "execution_count": null,
   "id": "38777ec7",
   "metadata": {},
   "outputs": [],
   "source": [
    "print(\"The optimal value for w:\", reg.coef_)"
   ]
  },
  {
   "cell_type": "code",
   "execution_count": null,
   "id": "7e34bd4a",
   "metadata": {},
   "outputs": [],
   "source": [
    "print(\"The optimal value for b:\", reg.intercept_)"
   ]
  },
  {
   "cell_type": "markdown",
   "id": "788cb6b2",
   "metadata": {},
   "source": [
    "If your model is significantly different from that of Scikit-learn, try to fine-tune the hyperparameters in your algorithm, such as the learning rate and the number of iterations. You should aim to achieve similar results.\n",
    "\n",
    "Good Luck!"
   ]
  },
  {
   "cell_type": "code",
   "execution_count": null,
   "id": "32bbdd4b",
   "metadata": {},
   "outputs": [],
   "source": []
  }
 ],
 "metadata": {
  "kernelspec": {
   "display_name": "Python 3 (ipykernel)",
   "language": "python",
   "name": "python3"
  },
  "language_info": {
   "codemirror_mode": {
    "name": "ipython",
    "version": 3
   },
   "file_extension": ".py",
   "mimetype": "text/x-python",
   "name": "python",
   "nbconvert_exporter": "python",
   "pygments_lexer": "ipython3",
   "version": "3.10.4"
  }
 },
 "nbformat": 4,
 "nbformat_minor": 5
}
