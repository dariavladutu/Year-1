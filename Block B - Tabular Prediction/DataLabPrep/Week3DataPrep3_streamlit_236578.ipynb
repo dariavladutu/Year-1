{
 "cells": [
  {
   "cell_type": "markdown",
   "metadata": {},
   "source": [
    "### Streamlit introduction"
   ]
  },
  {
   "cell_type": "code",
   "execution_count": 1,
   "metadata": {},
   "outputs": [],
   "source": [
    "import streamlit as st"
   ]
  },
  {
   "cell_type": "code",
   "execution_count": 3,
   "metadata": {},
   "outputs": [],
   "source": [
    "st.title('My First Streamlit App')\n",
    "st.write('Hello, Streamlit!')"
   ]
  },
  {
   "cell_type": "code",
   "execution_count": 5,
   "metadata": {},
   "outputs": [
    {
     "ename": "SyntaxError",
     "evalue": "invalid syntax (2126779123.py, line 1)",
     "output_type": "error",
     "traceback": [
      "\u001b[0;36m  Cell \u001b[0;32mIn[5], line 1\u001b[0;36m\u001b[0m\n\u001b[0;31m    streamlit run /Users/daria/anaconda3/envs/block_b/lib/python3.8/site-packages/ipykernel_launcher.py\u001b[0m\n\u001b[0m              ^\u001b[0m\n\u001b[0;31mSyntaxError\u001b[0m\u001b[0;31m:\u001b[0m invalid syntax\n"
     ]
    }
   ],
   "source": [
    "streamlit run /Users/daria/anaconda3/envs/block_b/lib/python3.8/site-packages/ipykernel_launcher.py"
   ]
  },
  {
   "cell_type": "code",
   "execution_count": 6,
   "metadata": {},
   "outputs": [],
   "source": [
    "number = st.slider('Pick a number', 0, 100)\n",
    "st.write('You selected:', number)"
   ]
  },
  {
   "cell_type": "markdown",
   "metadata": {},
   "source": [
    "#### Code for the calculator app (stored in the calculator_app.py file):"
   ]
  },
  {
   "cell_type": "code",
   "execution_count": null,
   "metadata": {},
   "outputs": [],
   "source": [
    "import streamlit as st\n",
    "st.title('Hi, I am a Calculator app!')\n",
    "st.write('--')\n",
    "num1 = st.number_input(label=\"Enter first number\")\n",
    "num2 = st.number_input(label=\"Enter first number\")\n",
    "st.write('What operation should I perform?')\n",
    "operation = st.radio('Select below:', (\"+\", \"-\", \"*\", \"%\"))\n",
    "ans = 0\n",
    "\n",
    "def calculate():\n",
    "    if operation == \"+\":\n",
    "        ans = num1 + num2\n",
    "    elif operation == \"-\":\n",
    "        ans = num1 - num2\n",
    "    elif operation == \"*\":\n",
    "        ans = num1 * num2\n",
    "    elif operation==\"%\" and num2!=0:\n",
    "        ans = num1 / num2\n",
    "    else:\n",
    "        st.warning(\"Division by 0 error. Please enter a non-zero number.\")\n",
    "        ans = \"Not defined\"\n",
    "    st.success(f\"Here's your answer = {ans}\")\n",
    "\n",
    "if st.button(\"Calculate result\"):\n",
    "    calculate()"
   ]
  },
  {
   "cell_type": "code",
   "execution_count": null,
   "metadata": {},
   "outputs": [],
   "source": [
    "(block_b) daria@Darias-MacBook-Air ~ % cd /Users/daria/Desktop/2023-24b-fai1-adsai-dariavladutu236578/DataLabPrep/Streamlit\n",
    "(block_b) daria@Darias-MacBook-Air testtest % streamlit run calculator_app.py"
   ]
  }
 ],
 "metadata": {
  "kernelspec": {
   "display_name": "block_b",
   "language": "python",
   "name": "python3"
  },
  "language_info": {
   "codemirror_mode": {
    "name": "ipython",
    "version": 3
   },
   "file_extension": ".py",
   "mimetype": "text/x-python",
   "name": "python",
   "nbconvert_exporter": "python",
   "pygments_lexer": "ipython3",
   "version": "3.8.18"
  }
 },
 "nbformat": 4,
 "nbformat_minor": 2
}
