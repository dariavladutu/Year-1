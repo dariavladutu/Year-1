{
 "cells": [
  {
   "cell_type": "code",
   "execution_count": 15,
   "metadata": {},
   "outputs": [
    {
     "name": "stdout",
     "output_type": "stream",
     "text": [
      "Screenshots\n",
      ".DS_Store\n",
      "League of Legends\n",
      ".localized\n",
      "Week1Day4_Numpy_Warmup_Dir_236578.ipynb\n",
      "GitHub\n",
      "documents_file_names.txt\n",
      "\n"
     ]
    }
   ],
   "source": [
    "import os\n",
    "documents_contents_txt_file = os.path.join('/Users/daria/Desktop/2023-24b-fai1-adsai-dariavladutu236578/Exercises', \"Week1Day4_Numpy_Warmup_Dir_236578.txt\")\n",
    "with open(documents_contents_txt_file, 'w') as file:\n",
    "    file_names = os.listdir('/Users/daria/Documents')\n",
    "    for entry in file_names:\n",
    "            file.write(entry + '\\n')\n",
    "\n",
    "with open(documents_contents_txt_file, 'r') as file:\n",
    "    file_content = file.read()\n",
    "\n",
    "print(file_content)\n"
   ]
  },
  {
   "cell_type": "code",
   "execution_count": 13,
   "metadata": {},
   "outputs": [
    {
     "name": "stdout",
     "output_type": "stream",
     "text": [
      "/Users/daria/Documents\n"
     ]
    }
   ],
   "source": [
    "import os\n",
    "\n",
    "# Check the current working directory\n",
    "current_directory = os.getcwd()\n",
    "print(current_directory)"
   ]
  }
 ],
 "metadata": {
  "kernelspec": {
   "display_name": "block_b",
   "language": "python",
   "name": "python3"
  },
  "language_info": {
   "codemirror_mode": {
    "name": "ipython",
    "version": 3
   },
   "file_extension": ".py",
   "mimetype": "text/x-python",
   "name": "python",
   "nbconvert_exporter": "python",
   "pygments_lexer": "ipython3",
   "version": "3.8.18"
  }
 },
 "nbformat": 4,
 "nbformat_minor": 2
}
