{
 "cells": [
  {
   "cell_type": "markdown",
   "metadata": {},
   "source": [
    "## Evaluating Logistic Regression"
   ]
  },
  {
   "cell_type": "markdown",
   "metadata": {},
   "source": [
    "#### I will be exercising the learning material on the breast cancer data from yesterday."
   ]
  },
  {
   "cell_type": "code",
   "execution_count": 3,
   "metadata": {},
   "outputs": [
    {
     "data": {
      "text/plain": [
       "(id                         0\n",
       " diagnosis                  0\n",
       " radius_mean                0\n",
       " texture_mean               0\n",
       " perimeter_mean             0\n",
       " area_mean                  0\n",
       " smoothness_mean            0\n",
       " compactness_mean           0\n",
       " concavity_mean             0\n",
       " concave points_mean        0\n",
       " symmetry_mean              0\n",
       " fractal_dimension_mean     0\n",
       " radius_se                  0\n",
       " texture_se                 0\n",
       " perimeter_se               0\n",
       " area_se                    0\n",
       " smoothness_se              0\n",
       " compactness_se             0\n",
       " concavity_se               0\n",
       " concave points_se          0\n",
       " symmetry_se                0\n",
       " fractal_dimension_se       0\n",
       " radius_worst               0\n",
       " texture_worst              0\n",
       " perimeter_worst            0\n",
       " area_worst                 0\n",
       " smoothness_worst           0\n",
       " compactness_worst          0\n",
       " concavity_worst            0\n",
       " concave points_worst       0\n",
       " symmetry_worst             0\n",
       " fractal_dimension_worst    0\n",
       " dtype: int64,\n",
       " (455, 30),\n",
       " (114, 30),\n",
       " (455,),\n",
       " (114,))"
      ]
     },
     "execution_count": 3,
     "metadata": {},
     "output_type": "execute_result"
    }
   ],
   "source": [
    "import pandas as pd\n",
    "from sklearn.model_selection import train_test_split\n",
    "# Creating the DataFrame\n",
    "wisconsin_data = pd.read_excel('Wisconsin_BreastCancer_data.xlsx')\n",
    "breast_cancer_df = pd.DataFrame(wisconsin_data)\n",
    "\n",
    "# Checking for missing values\n",
    "missing_values = breast_cancer_df.isnull().sum()\n",
    "\n",
    "# Converting categorical data into numerical data\n",
    "from sklearn.preprocessing import LabelEncoder\n",
    "label_encoder = LabelEncoder()\n",
    "breast_cancer_df['diagnosis'] = label_encoder.fit_transform(breast_cancer_df['diagnosis'])\n",
    "breast_cancer_df\n",
    "\n",
    "# Splitting the dataset into features(X) and target variable(y)\n",
    "X_bc = breast_cancer_df.drop([\"diagnosis\", 'id'], axis=1).values\n",
    "y_bc = breast_cancer_df['diagnosis'].values\n",
    "\n",
    "# Splitting the data into training and test sets\n",
    "X_bc_train, X_bc_test, y_bc_train, y_bc_test = train_test_split(X_bc, y_bc, test_size=0.2, random_state=42)\n",
    "\n",
    "# Display the missing values and the shape of the dataset\n",
    "missing_values, X_bc_train.shape, X_bc_test.shape, y_bc_train.shape, y_bc_test.shape"
   ]
  },
  {
   "cell_type": "code",
   "execution_count": 4,
   "metadata": {},
   "outputs": [
    {
     "data": {
      "text/html": [
       "<style>#sk-container-id-1 {color: black;}#sk-container-id-1 pre{padding: 0;}#sk-container-id-1 div.sk-toggleable {background-color: white;}#sk-container-id-1 label.sk-toggleable__label {cursor: pointer;display: block;width: 100%;margin-bottom: 0;padding: 0.3em;box-sizing: border-box;text-align: center;}#sk-container-id-1 label.sk-toggleable__label-arrow:before {content: \"▸\";float: left;margin-right: 0.25em;color: #696969;}#sk-container-id-1 label.sk-toggleable__label-arrow:hover:before {color: black;}#sk-container-id-1 div.sk-estimator:hover label.sk-toggleable__label-arrow:before {color: black;}#sk-container-id-1 div.sk-toggleable__content {max-height: 0;max-width: 0;overflow: hidden;text-align: left;background-color: #f0f8ff;}#sk-container-id-1 div.sk-toggleable__content pre {margin: 0.2em;color: black;border-radius: 0.25em;background-color: #f0f8ff;}#sk-container-id-1 input.sk-toggleable__control:checked~div.sk-toggleable__content {max-height: 200px;max-width: 100%;overflow: auto;}#sk-container-id-1 input.sk-toggleable__control:checked~label.sk-toggleable__label-arrow:before {content: \"▾\";}#sk-container-id-1 div.sk-estimator input.sk-toggleable__control:checked~label.sk-toggleable__label {background-color: #d4ebff;}#sk-container-id-1 div.sk-label input.sk-toggleable__control:checked~label.sk-toggleable__label {background-color: #d4ebff;}#sk-container-id-1 input.sk-hidden--visually {border: 0;clip: rect(1px 1px 1px 1px);clip: rect(1px, 1px, 1px, 1px);height: 1px;margin: -1px;overflow: hidden;padding: 0;position: absolute;width: 1px;}#sk-container-id-1 div.sk-estimator {font-family: monospace;background-color: #f0f8ff;border: 1px dotted black;border-radius: 0.25em;box-sizing: border-box;margin-bottom: 0.5em;}#sk-container-id-1 div.sk-estimator:hover {background-color: #d4ebff;}#sk-container-id-1 div.sk-parallel-item::after {content: \"\";width: 100%;border-bottom: 1px solid gray;flex-grow: 1;}#sk-container-id-1 div.sk-label:hover label.sk-toggleable__label {background-color: #d4ebff;}#sk-container-id-1 div.sk-serial::before {content: \"\";position: absolute;border-left: 1px solid gray;box-sizing: border-box;top: 0;bottom: 0;left: 50%;z-index: 0;}#sk-container-id-1 div.sk-serial {display: flex;flex-direction: column;align-items: center;background-color: white;padding-right: 0.2em;padding-left: 0.2em;position: relative;}#sk-container-id-1 div.sk-item {position: relative;z-index: 1;}#sk-container-id-1 div.sk-parallel {display: flex;align-items: stretch;justify-content: center;background-color: white;position: relative;}#sk-container-id-1 div.sk-item::before, #sk-container-id-1 div.sk-parallel-item::before {content: \"\";position: absolute;border-left: 1px solid gray;box-sizing: border-box;top: 0;bottom: 0;left: 50%;z-index: -1;}#sk-container-id-1 div.sk-parallel-item {display: flex;flex-direction: column;z-index: 1;position: relative;background-color: white;}#sk-container-id-1 div.sk-parallel-item:first-child::after {align-self: flex-end;width: 50%;}#sk-container-id-1 div.sk-parallel-item:last-child::after {align-self: flex-start;width: 50%;}#sk-container-id-1 div.sk-parallel-item:only-child::after {width: 0;}#sk-container-id-1 div.sk-dashed-wrapped {border: 1px dashed gray;margin: 0 0.4em 0.5em 0.4em;box-sizing: border-box;padding-bottom: 0.4em;background-color: white;}#sk-container-id-1 div.sk-label label {font-family: monospace;font-weight: bold;display: inline-block;line-height: 1.2em;}#sk-container-id-1 div.sk-label-container {text-align: center;}#sk-container-id-1 div.sk-container {/* jupyter's `normalize.less` sets `[hidden] { display: none; }` but bootstrap.min.css set `[hidden] { display: none !important; }` so we also need the `!important` here to be able to override the default hidden behavior on the sphinx rendered scikit-learn.org. See: https://github.com/scikit-learn/scikit-learn/issues/21755 */display: inline-block !important;position: relative;}#sk-container-id-1 div.sk-text-repr-fallback {display: none;}</style><div id=\"sk-container-id-1\" class=\"sk-top-container\"><div class=\"sk-text-repr-fallback\"><pre>LogisticRegression(max_iter=10000)</pre><b>In a Jupyter environment, please rerun this cell to show the HTML representation or trust the notebook. <br />On GitHub, the HTML representation is unable to render, please try loading this page with nbviewer.org.</b></div><div class=\"sk-container\" hidden><div class=\"sk-item\"><div class=\"sk-estimator sk-toggleable\"><input class=\"sk-toggleable__control sk-hidden--visually\" id=\"sk-estimator-id-1\" type=\"checkbox\" checked><label for=\"sk-estimator-id-1\" class=\"sk-toggleable__label sk-toggleable__label-arrow\">LogisticRegression</label><div class=\"sk-toggleable__content\"><pre>LogisticRegression(max_iter=10000)</pre></div></div></div></div></div>"
      ],
      "text/plain": [
       "LogisticRegression(max_iter=10000)"
      ]
     },
     "execution_count": 4,
     "metadata": {},
     "output_type": "execute_result"
    }
   ],
   "source": [
    "# Training the model on the training data\n",
    "from sklearn.linear_model import LogisticRegression\n",
    "from sklearn.metrics import accuracy_score, confusion_matrix, classification_report\n",
    "\n",
    "# Instantiate the model\n",
    "bc_logreg = LogisticRegression(max_iter=10000)\n",
    "\n",
    "# Fit the model\n",
    "bc_logreg.fit(X_bc_train, y_bc_train)"
   ]
  },
  {
   "cell_type": "code",
   "execution_count": 5,
   "metadata": {},
   "outputs": [
    {
     "name": "stdout",
     "output_type": "stream",
     "text": [
      "0.956140350877193\n",
      "[[70  1]\n",
      " [ 4 39]]\n",
      "              precision    recall  f1-score   support\n",
      "\n",
      "           0       0.95      0.99      0.97        71\n",
      "           1       0.97      0.91      0.94        43\n",
      "\n",
      "    accuracy                           0.96       114\n",
      "   macro avg       0.96      0.95      0.95       114\n",
      "weighted avg       0.96      0.96      0.96       114\n",
      "\n"
     ]
    }
   ],
   "source": [
    "# Predicting the target variable for the test set\n",
    "y_bc_pred = bc_logreg.predict(X_bc_test)\n",
    "\n",
    "# Evaluating the model \n",
    "accuracy = accuracy_score(y_bc_test, y_bc_pred)\n",
    "conf_matrix = confusion_matrix(y_bc_test, y_bc_pred)\n",
    "class_report = classification_report(y_bc_test, y_bc_pred)\n",
    "print(accuracy)\n",
    "print(conf_matrix)\n",
    "print(class_report)"
   ]
  },
  {
   "cell_type": "markdown",
   "metadata": {},
   "source": [
    "### Confusion Matrix"
   ]
  },
  {
   "cell_type": "code",
   "execution_count": 6,
   "metadata": {},
   "outputs": [
    {
     "data": {
      "text/plain": [
       "array([[70,  1],\n",
       "       [ 4, 39]])"
      ]
     },
     "execution_count": 6,
     "metadata": {},
     "output_type": "execute_result"
    }
   ],
   "source": [
    "# This is quite confusing\n",
    "conf_matrix"
   ]
  },
  {
   "cell_type": "code",
   "execution_count": 7,
   "metadata": {},
   "outputs": [
    {
     "data": {
      "text/plain": [
       "array([0, 1])"
      ]
     },
     "execution_count": 7,
     "metadata": {},
     "output_type": "execute_result"
    }
   ],
   "source": [
    "# Getting dataframe labels\n",
    "from sklearn.utils.multiclass import unique_labels\n",
    "unique_labels(y_bc_test)"
   ]
  },
  {
   "cell_type": "code",
   "execution_count": 10,
   "metadata": {},
   "outputs": [
    {
     "data": {
      "text/html": [
       "<div>\n",
       "<style scoped>\n",
       "    .dataframe tbody tr th:only-of-type {\n",
       "        vertical-align: middle;\n",
       "    }\n",
       "\n",
       "    .dataframe tbody tr th {\n",
       "        vertical-align: top;\n",
       "    }\n",
       "\n",
       "    .dataframe thead th {\n",
       "        text-align: right;\n",
       "    }\n",
       "</style>\n",
       "<table border=\"1\" class=\"dataframe\">\n",
       "  <thead>\n",
       "    <tr style=\"text-align: right;\">\n",
       "      <th></th>\n",
       "      <th>Predicted 0</th>\n",
       "      <th>Predicted 1</th>\n",
       "    </tr>\n",
       "  </thead>\n",
       "  <tbody>\n",
       "    <tr>\n",
       "      <th>Actual 0</th>\n",
       "      <td>70</td>\n",
       "      <td>1</td>\n",
       "    </tr>\n",
       "    <tr>\n",
       "      <th>Actual 1</th>\n",
       "      <td>4</td>\n",
       "      <td>39</td>\n",
       "    </tr>\n",
       "  </tbody>\n",
       "</table>\n",
       "</div>"
      ],
      "text/plain": [
       "          Predicted 0  Predicted 1\n",
       "Actual 0           70            1\n",
       "Actual 1            4           39"
      ]
     },
     "execution_count": 10,
     "metadata": {},
     "output_type": "execute_result"
    }
   ],
   "source": [
    "# Combine the labels with the confusion metrics\n",
    "def plot(y_bc_test, y_bc_pred):\n",
    "    labels = unique_labels(y_bc_test)\n",
    "    columns = [f'Predicted {label}' for label in labels]\n",
    "    index = [f'Actual {label}' for label in labels]\n",
    "    table = pd.DataFrame(conf_matrix, columns= columns, index=index)\n",
    "    return table\n",
    "\n",
    "plot(y_bc_test, y_bc_pred)"
   ]
  },
  {
   "cell_type": "code",
   "execution_count": 13,
   "metadata": {},
   "outputs": [
    {
     "data": {
      "text/plain": [
       "<Axes: >"
      ]
     },
     "execution_count": 13,
     "metadata": {},
     "output_type": "execute_result"
    },
    {
     "data": {
      "image/png": "[encoded data removed]",
      "text/plain": [
       "<Figure size 640x480 with 2 Axes>"
      ]
     },
     "metadata": {},
     "output_type": "display_data"
    }
   ],
   "source": [
    "# Plotting the confusion matrix as a heatmap\n",
    "import seaborn as sns\n",
    "sns.heatmap(plot(y_bc_test, y_bc_pred), annot=True, fmt='d')"
   ]
  },
  {
   "cell_type": "markdown",
   "metadata": {},
   "source": [
    "### Precision score"
   ]
  },
  {
   "cell_type": "markdown",
   "metadata": {},
   "source": [
    "TP(True Positive) = 39 (Correctly predicted positive malignant diagnosis)\n",
    "\n",
    "FP(False Positive) = 1 (Incorrectly predicted positive malignant diagnosis)\n",
    "\n",
    "TN(True Negative) = 70 (Correctly predicted positive benign diagnosis)\n",
    "\n",
    "FN(False Negative) = 4 (Incorrectly predicted positive benign diagnosis)"
   ]
  },
  {
   "cell_type": "code",
   "execution_count": 31,
   "metadata": {},
   "outputs": [],
   "source": [
    "#True Positive \n",
    "TP = 39 #Correctly predicted positive malignant diagnosis\n",
    "\n",
    "#False Positive\n",
    "FP = 1 #Incorrectly predicted positive malignant diagnosis\n",
    "\n",
    "#True Negative\n",
    "TN = 70 #Correctly predicted positive benign diagnosis\n",
    "\n",
    "#False Negative\n",
    "FN = 4 #Incorrectly predicted positive benign diagnosis"
   ]
  },
  {
   "cell_type": "markdown",
   "metadata": {},
   "source": [
    "#### Precision = TP/(TP + FP)"
   ]
  },
  {
   "cell_type": "code",
   "execution_count": 30,
   "metadata": {},
   "outputs": [
    {
     "name": "stdout",
     "output_type": "stream",
     "text": [
      "Precision for correctly predicting positive malignant diagnosis is: 0.975\n",
      "Precision for correctly predicting positive benign diagnosis is: 0.9459459459459459\n",
      "[0.94594595 0.975     ]\n"
     ]
    }
   ],
   "source": [
    "from sklearn.metrics import precision_score\n",
    "\n",
    "# Calculating precision by hand\n",
    "print(f'Precision for correctly predicting positive malignant diagnosis is: {TP/(TP + FP)}\\n'\n",
    "      f'Precision for correctly predicting positive benign diagnosis is: {TN/(TN + FN)}')\n",
    "\n",
    "# Calculating precision for each class separately using the sklearn function\n",
    "print(precision_score(y_bc_test, y_bc_pred, average=None))"
   ]
  },
  {
   "cell_type": "markdown",
   "metadata": {},
   "source": [
    "### Recall = TP/(TP + FN)"
   ]
  },
  {
   "cell_type": "code",
   "execution_count": 33,
   "metadata": {},
   "outputs": [
    {
     "name": "stdout",
     "output_type": "stream",
     "text": [
      "Recall score for malignant is: 0.9069767441860465\n",
      "Recall score for belign is: 0.9859154929577465\n",
      "Recall for class 1 (Malignant): 0.9069767441860465\n",
      "Recall for class 0 (Benign): 0.9859154929577465\n"
     ]
    }
   ],
   "source": [
    "from sklearn.metrics import recall_score\n",
    "\n",
    "# Calculating recall by hand\n",
    "print(f'Recall score for malignant is: {TP/(TP + FN)}\\n'\n",
    "      f'Recall score for belign is: {TN/(TN + FP)}')\n",
    "\n",
    "# Calculating recall for each class separately using the sklearn function\n",
    "recall = recall_score(y_bc_test, y_bc_pred, average=None)\n",
    "print(f'Recall for class 1 (Malignant): {recall[1]}')\n",
    "print(f'Recall for class 0 (Benign): {recall[0]}')\n"
   ]
  },
  {
   "cell_type": "markdown",
   "metadata": {},
   "source": [
    "### F1 = 2(Precision * Recall)/ Precision + Recall"
   ]
  },
  {
   "cell_type": "code",
   "execution_count": 37,
   "metadata": {},
   "outputs": [
    {
     "name": "stdout",
     "output_type": "stream",
     "text": [
      "F1 score for malignant is: 0.9397590361445783\n",
      "F1 score for benign is: 0.9655172413793103\n",
      "F1-score for class 1 (Malignant): 0.9397590361445783\n",
      "F1-score for class 0 (Benign): 0.9655172413793103\n"
     ]
    }
   ],
   "source": [
    "from sklearn.metrics import f1_score\n",
    "\n",
    "# Calculating recall by hand\n",
    "print(f'F1 score for malignant is: {2*(TP/(TP + FN)) * (TP/(TP + FP))/ ((TP/(TP + FN)) + (TP/(TP + FP)))}\\n'\n",
    "      f'F1 score for benign is: {2*(TN/(TN + FP)) * (TN/(TN + FN))/ ((TN/(TN + FP)) + (TN/(TN + FN)))}')\n",
    "\n",
    "# Calculating recall for each class separately using the sklearn function\n",
    "f1 = f1_score(y_bc_test, y_bc_pred, average=None)\n",
    "print(f'F1-score for class 1 (Malignant): {f1[1]}')\n",
    "print(f'F1-score for class 0 (Benign): {f1[0]}')"
   ]
  },
  {
   "cell_type": "markdown",
   "metadata": {},
   "source": [
    "#### Classification Report (all the metrics can be found here)"
   ]
  },
  {
   "cell_type": "code",
   "execution_count": 39,
   "metadata": {},
   "outputs": [
    {
     "name": "stdout",
     "output_type": "stream",
     "text": [
      "              precision    recall  f1-score   support\n",
      "\n",
      "           0       0.95      0.99      0.97        71\n",
      "           1       0.97      0.91      0.94        43\n",
      "\n",
      "    accuracy                           0.96       114\n",
      "   macro avg       0.96      0.95      0.95       114\n",
      "weighted avg       0.96      0.96      0.96       114\n",
      "\n"
     ]
    }
   ],
   "source": [
    "class_report = classification_report(y_bc_test, y_bc_pred)\n",
    "print(class_report)"
   ]
  },
  {
   "cell_type": "markdown",
   "metadata": {},
   "source": [
    "## K Nearest Neighbours Algorithm"
   ]
  },
  {
   "cell_type": "code",
   "execution_count": 59,
   "metadata": {},
   "outputs": [
    {
     "name": "stdout",
     "output_type": "stream",
     "text": [
      "The accuracy of the knn model is: 0.9649122807017544\n"
     ]
    }
   ],
   "source": [
    "from sklearn.neighbors import KNeighborsClassifier\n",
    "\n",
    "# Installing K Nearest Neighbor Classifier and fitting the model\n",
    "knn = KNeighborsClassifier(n_neighbors=20) # The value of n has been chosen through trial and error based on the accuracy score\n",
    "knn.fit(X_bc_train, y_bc_train)\n",
    "\n",
    "# Printing accuracy of the model\n",
    "print(f'The accuracy of the knn model is: {knn.score(X_bc_test, y_bc_test)}')"
   ]
  },
  {
   "cell_type": "code",
   "execution_count": 69,
   "metadata": {},
   "outputs": [
    {
     "name": "stdout",
     "output_type": "stream",
     "text": [
      "[[71  0]\n",
      " [ 4 39]]\n",
      "              precision    recall  f1-score   support\n",
      "\n",
      "           0       0.95      1.00      0.97        71\n",
      "           1       1.00      0.91      0.95        43\n",
      "\n",
      "    accuracy                           0.96       114\n",
      "   macro avg       0.97      0.95      0.96       114\n",
      "weighted avg       0.97      0.96      0.96       114\n",
      "\n"
     ]
    }
   ],
   "source": [
    "# Prediction using the knn model\n",
    "y_knn_pred = knn.predict(X_bc_test)\n",
    "\n",
    "# Evaluating the model\n",
    "cm= confusion_matrix(y_bc_test, y_knn_pred)\n",
    "class_report_knn = classification_report(y_bc_test, y_knn_pred)\n",
    "\n",
    "print(cm)\n",
    "print(class_report_knn)"
   ]
  },
  {
   "cell_type": "code",
   "execution_count": 68,
   "metadata": {},
   "outputs": [
    {
     "data": {
      "text/plain": [
       "Text(50.722222222222214, 0.5, 'Truth')"
      ]
     },
     "execution_count": 68,
     "metadata": {},
     "output_type": "execute_result"
    },
    {
     "data": {
      "image/png": "[encoded data removed]",
      "text/plain": [
       "<Figure size 640x480 with 2 Axes>"
      ]
     },
     "metadata": {},
     "output_type": "display_data"
    }
   ],
   "source": [
    "# Plotting the confusion matrix into a heatmap for better visualisation\n",
    "import matplotlib.pyplot as plt\n",
    "sns.heatmap(cm, annot=True, fmt='d', cmap='Blues')\n",
    "plt.xlabel('Predicted')\n",
    "plt.ylabel('Truth')"
   ]
  },
  {
   "cell_type": "markdown",
   "metadata": {},
   "source": [
    "#### Comparison"
   ]
  },
  {
   "cell_type": "code",
   "execution_count": 70,
   "metadata": {},
   "outputs": [
    {
     "name": "stdout",
     "output_type": "stream",
     "text": [
      "              precision    recall  f1-score   support\n",
      "\n",
      "           0       0.95      0.99      0.97        71\n",
      "           1       0.97      0.91      0.94        43\n",
      "\n",
      "    accuracy                           0.96       114\n",
      "   macro avg       0.96      0.95      0.95       114\n",
      "weighted avg       0.96      0.96      0.96       114\n",
      "\n"
     ]
    }
   ],
   "source": [
    "# Logistic Regression model\n",
    "print(class_report)"
   ]
  },
  {
   "cell_type": "code",
   "execution_count": 71,
   "metadata": {},
   "outputs": [
    {
     "name": "stdout",
     "output_type": "stream",
     "text": [
      "              precision    recall  f1-score   support\n",
      "\n",
      "           0       0.95      1.00      0.97        71\n",
      "           1       1.00      0.91      0.95        43\n",
      "\n",
      "    accuracy                           0.96       114\n",
      "   macro avg       0.97      0.95      0.96       114\n",
      "weighted avg       0.97      0.96      0.96       114\n",
      "\n"
     ]
    }
   ],
   "source": [
    "# knn model\n",
    "print(class_report_knn)"
   ]
  },
  {
   "cell_type": "markdown",
   "metadata": {},
   "source": [
    "After comparing the confusion matrix of both models, we can see that the knn model correctly classified the diagnostic as benign at a difference of 1. Hence, the precision score is higher for the knn model. \n",
    "\n",
    "The recall score is also higher for the knn model for class label malignant, meaning that the model correctly predicted more positive instances.\n",
    "\n",
    "Therefore, the f1-score is higher for the knn model for the class label benign, meaning a better balance between precision and recall."
   ]
  }
 ],
 "metadata": {
  "kernelspec": {
   "display_name": "block_b",
   "language": "python",
   "name": "python3"
  },
  "language_info": {
   "codemirror_mode": {
    "name": "ipython",
    "version": 3
   },
   "file_extension": ".py",
   "mimetype": "text/x-python",
   "name": "python",
   "nbconvert_exporter": "python",
   "pygments_lexer": "ipython3",
   "version": "3.8.18"
  }
 },
 "nbformat": 4,
 "nbformat_minor": 2
}
