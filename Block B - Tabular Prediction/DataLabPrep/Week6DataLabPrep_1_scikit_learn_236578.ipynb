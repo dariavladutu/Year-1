{
 "cells": [
  {
   "cell_type": "markdown",
   "metadata": {},
   "source": [
    "## Decision Trees II"
   ]
  },
  {
   "cell_type": "code",
   "execution_count": 3,
   "metadata": {},
   "outputs": [],
   "source": [
    "from sklearn.ensemble import RandomForestClassifier\n",
    "import pandas as pd\n",
    "import numpy as np\n",
    "from sklearn.impute import SimpleImputer\n",
    "from sklearn.model_selection import train_test_split\n",
    "from sklearn.preprocessing import LabelEncoder"
   ]
  },
  {
   "cell_type": "code",
   "execution_count": 5,
   "metadata": {},
   "outputs": [
    {
     "name": "stdout",
     "output_type": "stream",
     "text": [
      "\n",
      "ACCURACY OF THE MODEL:  0.9766081871345029\n"
     ]
    }
   ],
   "source": [
    "# Data preprocessing\n",
    "wisconsin_data = pd.read_excel('Wisconsin_BreastCancer_data.xlsx')\n",
    "breast_cancer_df = pd.DataFrame(wisconsin_data)\n",
    "\n",
    "# Converting categorical data to numerical\n",
    "label_encoder = LabelEncoder()\n",
    "breast_cancer_df['diagnosis'] = label_encoder.fit_transform(breast_cancer_df['diagnosis'])\n",
    "\n",
    "# Splitting data\n",
    "X = breast_cancer_df.drop([\"diagnosis\", 'id'], axis=1).values\n",
    "y = breast_cancer_df['diagnosis'].values\n",
    "\n",
    "# i.e. 70 % training dataset and 30 % test datasets \n",
    "X_train, X_test, y_train, y_test = train_test_split(X, y, test_size = 0.30) \n",
    "\n",
    "# creating a RF classifier \n",
    "clf = RandomForestClassifier(n_estimators = 100)   \n",
    "  \n",
    "# Training the model on the training dataset \n",
    "# fit function is used to train the model using the training sets as parameters \n",
    "clf.fit(X_train, y_train) \n",
    "  \n",
    "# performing predictions on the test dataset \n",
    "y_pred = clf.predict(X_test) \n",
    "  \n",
    "# metrics are used to find accuracy or error \n",
    "from sklearn import metrics   \n",
    "  \n",
    "# using metrics module for accuracy calculation \n",
    "print(\"ACCURACY OF THE MODEL: \", metrics.accuracy_score(y_test, y_pred)) "
   ]
  }
 ],
 "metadata": {
  "kernelspec": {
   "display_name": "block_b",
   "language": "python",
   "name": "python3"
  },
  "language_info": {
   "codemirror_mode": {
    "name": "ipython",
    "version": 3
   },
   "file_extension": ".py",
   "mimetype": "text/x-python",
   "name": "python",
   "nbconvert_exporter": "python",
   "pygments_lexer": "ipython3",
   "version": "3.11.7"
  }
 },
 "nbformat": 4,
 "nbformat_minor": 2
}
