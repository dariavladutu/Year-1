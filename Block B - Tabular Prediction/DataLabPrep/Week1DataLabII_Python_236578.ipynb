{
 "cells": [
  {
   "cell_type": "markdown",
   "metadata": {},
   "source": [
    "### RIMV Cleansing"
   ]
  },
  {
   "cell_type": "code",
   "execution_count": 7,
   "metadata": {},
   "outputs": [
    {
     "name": "stdout",
     "output_type": "stream",
     "text": [
      "      Year of Birth   Vaccine registration      Vaccine    Location\n",
      "0   1931 or earlier   From 25 January 2021     BioNTech   Groningen\n",
      "1       1932 - 1936   From 29 January 2021       Pfizer      Arnhem\n",
      "2       1937 - 1941   From 5 February 2021       Pfizer       Breda\n",
      "3       1942 - 1946      From 6 March 2021      Moderna   Harlingen\n",
      "4       1947 - 1951      From 6 April 2021      Moderna        Edam\n",
      "5       1952 - 1955     From 15 April 2021  AstraZeneca   Amsterdam\n",
      "6       1956 - 1957  From 15 February 2021  AstraZeneca     Sittard\n",
      "7       1958 - 1960     From 15 April 2021      Moderna   Rotterdam\n",
      "8       1961 - 1971     From 27 April 2021      Janssen   Groningen\n",
      "9       1972 - 1981   From early June 2021      Janssen      Arnhem\n",
      "10      1982 - 1991     From mid-June 2021      Moderna       Breda\n",
      "11    1992 or later     From mid-June 2021     BioNTech  Maastricht\n"
     ]
    }
   ],
   "source": [
    "import pandas as pd\n",
    "vaccine_df = pd.read_csv(\"vaccine_data.csv\", delimiter = \";\")\n",
    "print(vaccine_df)"
   ]
  },
  {
   "cell_type": "code",
   "execution_count": 6,
   "metadata": {},
   "outputs": [
    {
     "name": "stdout",
     "output_type": "stream",
     "text": [
      "Breda\n"
     ]
    }
   ],
   "source": [
    "#Write a Python function that prints the Vaccine location, by taking the year as input\n",
    "def vaccine_location(year):\n",
    "    if (year <= 1931) or (1961 <= year <= 1971):\n",
    "        print(\"Groningen\")\n",
    "    elif (1932 <= year <= 1936) or (1972 <= year <= 1981):\n",
    "        print(\"Arnhem\")\n",
    "    elif (1937 <= year <= 1941) or (1982 <= year <= 1991):\n",
    "        print(\"Breda\")\n",
    "    elif (1942 <= year <= 1946):\n",
    "        print(\"Harlingen\")\n",
    "    elif (1947 <= year <= 1951):\n",
    "        print(\"Edam\")\n",
    "    elif (1952 <= year <= 1955):\n",
    "        print(\"Amsterdam\")\n",
    "    elif (1956 <= year <= 1957):\n",
    "        print(\"Sittard\")\n",
    "    elif (1958 <= year <= 1960):\n",
    "        print(\"Rotterdam\")\n",
    "    elif (year >= 1992):\n",
    "        print(\"Maastricht\")\n",
    "year = int(input('Enter birth year:' ))\n",
    "vaccine_location(year)"
   ]
  },
  {
   "cell_type": "code",
   "execution_count": 10,
   "metadata": {},
   "outputs": [
    {
     "name": "stdout",
     "output_type": "stream",
     "text": [
      "   Year of Birth   Vaccine registration      Vaccine    Location  Start Year  \\\n",
      "0    1900 - 1931   From 25 January 2021     BioNTech   Groningen        1900   \n",
      "1    1932 - 1936   From 29 January 2021       Pfizer      Arnhem        1932   \n",
      "2    1937 - 1941   From 5 February 2021       Pfizer       Breda        1937   \n",
      "3    1942 - 1946      From 6 March 2021      Moderna   Harlingen        1942   \n",
      "4    1947 - 1951      From 6 April 2021      Moderna        Edam        1947   \n",
      "5    1952 - 1955     From 15 April 2021  AstraZeneca   Amsterdam        1952   \n",
      "6    1956 - 1957  From 15 February 2021  AstraZeneca     Sittard        1956   \n",
      "7    1958 - 1960     From 15 April 2021      Moderna   Rotterdam        1958   \n",
      "8    1961 - 1971     From 27 April 2021      Janssen   Groningen        1961   \n",
      "9    1972 - 1981   From early June 2021      Janssen      Arnhem        1972   \n",
      "10   1982 - 1991     From mid-June 2021      Moderna       Breda        1982   \n",
      "11   1992 - 2023     From mid-June 2021     BioNTech  Maastricht        1992   \n",
      "\n",
      "    End Year  \n",
      "0       1931  \n",
      "1       1936  \n",
      "2       1941  \n",
      "3       1946  \n",
      "4       1951  \n",
      "5       1955  \n",
      "6       1957  \n",
      "7       1960  \n",
      "8       1971  \n",
      "9       1981  \n",
      "10      1991  \n",
      "11      2023  \n"
     ]
    }
   ],
   "source": [
    "#Write a Python function that creates 2 additional columns \"Start Year\" and \"End Year\" for the \"Year of Birth\" column. \n",
    "#(Consider 1900 as the lowest year, and 2023 as the highest year for first and last data point)\n",
    "def new_cols():\n",
    "    vaccine_df[\"Year of Birth\"] = vaccine_df[\"Year of Birth\"].replace(\"1931 or earlier\", \"1900 - 1931\")\n",
    "    vaccine_df[\"Year of Birth\"] = vaccine_df[\"Year of Birth\"].replace(\"1992 or later\", \"1992 - 2023\")\n",
    "    vaccine_df[[\"Start Year\", \"End Year\"]] = vaccine_df[\"Year of Birth\"].str.split(\"-\", expand=True)\n",
    "    vaccine_df[\"Start Year\"] = pd.to_numeric(vaccine_df[\"Start Year\"])\n",
    "    vaccine_df[\"End Year\"] = pd.to_numeric(vaccine_df[\"End Year\"])\n",
    "    print(vaccine_df)\n",
    "new_cols()"
   ]
  },
  {
   "cell_type": "code",
   "execution_count": 12,
   "metadata": {},
   "outputs": [
    {
     "name": "stdout",
     "output_type": "stream",
     "text": [
      "   Year of Birth   Vaccine registration      Vaccine    Location  Start Year  \\\n",
      "0    1900 - 1931   From 25 January 2021     BioNTech   Groningen        1900   \n",
      "1    1932 - 1936   From 29 January 2021       Pfizer      Arnhem        1932   \n",
      "2    1937 - 1941   From 5 February 2021       Pfizer       Breda        1937   \n",
      "3    1942 - 1946      From 6 March 2021      Moderna   Harlingen        1942   \n",
      "4    1947 - 1951      From 6 April 2021      Moderna        Edam        1947   \n",
      "5    1952 - 1955     From 15 April 2021  AstraZeneca   Amsterdam        1952   \n",
      "6    1956 - 1957  From 15 February 2021  AstraZeneca     Sittard        1956   \n",
      "7    1958 - 1960     From 15 April 2021      Moderna   Rotterdam        1958   \n",
      "8    1961 - 1971     From 27 April 2021      Janssen   Groningen        1961   \n",
      "9    1972 - 1981   From early June 2021      Janssen      Arnhem        1972   \n",
      "10   1982 - 1991     From mid-June 2021      Moderna       Breda        1982   \n",
      "11   1992 - 2023     From mid-June 2021     BioNTech  Maastricht        1992   \n",
      "\n",
      "    End Year  Age min  Age max  \n",
      "0       1931       92      123  \n",
      "1       1936       87       91  \n",
      "2       1941       82       86  \n",
      "3       1946       77       81  \n",
      "4       1951       72       76  \n",
      "5       1955       68       71  \n",
      "6       1957       66       67  \n",
      "7       1960       63       65  \n",
      "8       1971       52       62  \n",
      "9       1981       42       51  \n",
      "10      1991       32       41  \n",
      "11      2023        0       31  \n"
     ]
    }
   ],
   "source": [
    "#Write a Python function that creates 2 additional columns \"Age max\" and \"Age min\" for the \"Year of Birth\" column. \n",
    "#(i.e, for 1992, the Age max would be 32 and age min would be 1)\n",
    "def add_age_cols():\n",
    "    current_year = 2023\n",
    "    vaccine_df[\"Age min\"] = current_year - vaccine_df[\"End Year\"]\n",
    "    vaccine_df[\"Age max\"] = current_year - vaccine_df[\"Start Year\"]\n",
    "    print(vaccine_df)\n",
    "add_age_cols()"
   ]
  },
  {
   "cell_type": "code",
   "execution_count": 14,
   "metadata": {},
   "outputs": [
    {
     "name": "stdout",
     "output_type": "stream",
     "text": [
      "   Year of Birth Vaccine registration      Vaccine    Location  Start Year  \\\n",
      "0    1900 - 1931      25 January 2021     BioNTech   Groningen        1900   \n",
      "1    1932 - 1936      29 January 2021       Pfizer      Arnhem        1932   \n",
      "2    1937 - 1941      5 February 2021       Pfizer       Breda        1937   \n",
      "3    1942 - 1946         6 March 2021      Moderna   Harlingen        1942   \n",
      "4    1947 - 1951         6 April 2021      Moderna        Edam        1947   \n",
      "5    1952 - 1955        15 April 2021  AstraZeneca   Amsterdam        1952   \n",
      "6    1956 - 1957     15 February 2021  AstraZeneca     Sittard        1956   \n",
      "7    1958 - 1960        15 April 2021      Moderna   Rotterdam        1958   \n",
      "8    1961 - 1971        27 April 2021      Janssen   Groningen        1961   \n",
      "9    1972 - 1981          1 June 2021      Janssen      Arnhem        1972   \n",
      "10   1982 - 1991         15 June 2021      Moderna       Breda        1982   \n",
      "11   1992 - 2023         15 June 2021     BioNTech  Maastricht        1992   \n",
      "\n",
      "    End Year  Age min  Age max Vaccine registration date  \n",
      "0       1931       92      123                2021-01-25  \n",
      "1       1936       87       91                2021-01-29  \n",
      "2       1941       82       86                2021-02-05  \n",
      "3       1946       77       81                2021-03-06  \n",
      "4       1951       72       76                2021-04-06  \n",
      "5       1955       68       71                2021-04-15  \n",
      "6       1957       66       67                2021-02-15  \n",
      "7       1960       63       65                2021-04-15  \n",
      "8       1971       52       62                2021-04-27  \n",
      "9       1981       42       51                2021-06-01  \n",
      "10      1991       32       41                2021-06-15  \n",
      "11      2023        0       31                2021-06-15  \n"
     ]
    }
   ],
   "source": [
    "#Write a Python function that creates an additional column \"Vaccine registration date\" based on \"Vaccine registration\" column.\n",
    "#This has to be in date format.\n",
    "def vaccine_registration():\n",
    "    vaccine_df[\"Vaccine registration\"] = vaccine_df[\"Vaccine registration\"].str.replace(\"From \", \"\")\n",
    "    vaccine_df[\"Vaccine registration\"] = vaccine_df[\"Vaccine registration\"].str.replace(\"early \", \"1 \")\n",
    "    vaccine_df[\"Vaccine registration\"] = vaccine_df[\"Vaccine registration\"].str.replace(\"mid-\", \"15 \")\n",
    "    vaccine_df[\"Vaccine registration date\"] = pd.to_datetime(vaccine_df[\"Vaccine registration\"], errors='coerce')\n",
    "    print(vaccine_df)\n",
    "vaccine_registration()"
   ]
  },
  {
   "cell_type": "markdown",
   "metadata": {},
   "source": [
    "### Titanic Cleansing"
   ]
  },
  {
   "cell_type": "code",
   "execution_count": 16,
   "metadata": {},
   "outputs": [
    {
     "name": "stdout",
     "output_type": "stream",
     "text": [
      "   PassengerId  Survived  Pclass  \\\n",
      "0            1         0       3   \n",
      "1            2         1       1   \n",
      "2            3         1       3   \n",
      "3            4         1       1   \n",
      "4            5         0       3   \n",
      "\n",
      "                                                Name     Sex   Age  SibSp  \\\n",
      "0                            Braund, Mr. Owen Harris    male  22.0      1   \n",
      "1  Cumings, Mrs. John Bradley (Florence Briggs Th...  female  38.0      1   \n",
      "2                             Heikkinen, Miss. Laina  female  26.0      0   \n",
      "3       Futrelle, Mrs. Jacques Heath (Lily May Peel)  female  35.0      1   \n",
      "4                           Allen, Mr. William Henry    male  35.0      0   \n",
      "\n",
      "   Parch            Ticket     Fare Cabin Embarked  \n",
      "0      0         A/5 21171   7.2500   NaN        S  \n",
      "1      0          PC 17599  71.2833   C85        C  \n",
      "2      0  STON/O2. 3101282   7.9250   NaN        S  \n",
      "3      0            113803  53.1000  C123        S  \n",
      "4      0            373450   8.0500   NaN        S  \n"
     ]
    }
   ],
   "source": [
    "import pandas as pd\n",
    "titanic_data = pd.read_csv(\"train.csv\")\n",
    "print(titanic_data.head())"
   ]
  },
  {
   "cell_type": "code",
   "execution_count": 35,
   "metadata": {},
   "outputs": [
    {
     "name": "stdout",
     "output_type": "stream",
     "text": [
      "# of rows: 891 \n",
      "# of columns: 12\n"
     ]
    }
   ],
   "source": [
    "#How many rows and columns does the data contain?\n",
    "rows, columns = titanic_data.shape\n",
    "print(\"# of rows:\", rows, \"\\n# of columns:\", columns)"
   ]
  },
  {
   "cell_type": "code",
   "execution_count": 20,
   "metadata": {},
   "outputs": [
    {
     "name": "stdout",
     "output_type": "stream",
     "text": [
      "There are missing values in the dataframe\n"
     ]
    }
   ],
   "source": [
    "#Are there any missing values?\n",
    "if titanic_data.isna().any().any():\n",
    "    print(f\"There are missing values in the dataframe\")"
   ]
  },
  {
   "cell_type": "code",
   "execution_count": 50,
   "metadata": {},
   "outputs": [
    {
     "name": "stdout",
     "output_type": "stream",
     "text": [
      "There were 314 women on the ship\n"
     ]
    }
   ],
   "source": [
    "#How many woman were on the ship?\n",
    "def women_count(data):\n",
    "    counter = (data['Sex'] == 'female').sum()\n",
    "    return counter\n",
    "value = women_count(titanic_data)\n",
    "print(f\"There were {value} women on the ship\")"
   ]
  },
  {
   "cell_type": "code",
   "execution_count": 55,
   "metadata": {},
   "outputs": [
    {
     "name": "stdout",
     "output_type": "stream",
     "text": [
      "The average age of all passengers was 29.69911764705882\n"
     ]
    }
   ],
   "source": [
    "#What was the average age of all passengers on the ship?\n",
    "titanic_data.fillna(0)\n",
    "def avg_pas_age(titanic_data):\n",
    "    average_age = titanic_data[\"Age\"].mean()\n",
    "    return average_age\n",
    "average_age = avg_pas_age(titanic_data)\n",
    "print(f\"The average age of all passengers was {average_age}\")"
   ]
  },
  {
   "cell_type": "code",
   "execution_count": 44,
   "metadata": {},
   "outputs": [
    {
     "name": "stdout",
     "output_type": "stream",
     "text": [
      "Females had a higher chance of survival (0.6812865497076024)\n"
     ]
    }
   ],
   "source": [
    "#Which sex had a higher chance of surviving the disaster?\n",
    "fem_survived = (titanic_data[(titanic_data[\"Sex\"] == 'female') & (titanic_data[\"Survived\"] == 1)]).shape[0]\n",
    "male_survived = (titanic_data[(titanic_data[\"Sex\"] == 'male') & (titanic_data[\"Survived\"] == 1)]).shape[0]\n",
    "total_survived = (titanic_data[\"Survived\"] == 1).sum()\n",
    "chance_of_survival_fem = fem_survived / total_survived\n",
    "chance_of_survival_male = male_survived/ total_survived\n",
    "if chance_of_survival_fem > chance_of_survival_male:\n",
    "    print(f'Females had a higher chance of survival ({chance_of_survival_fem})')\n",
    "else:\n",
    "    print(f'Males had a higher chance of survival ({chance_of_survival_male})')"
   ]
  },
  {
   "cell_type": "code",
   "execution_count": 55,
   "metadata": {},
   "outputs": [
    {
     "name": "stdout",
     "output_type": "stream",
     "text": [
      "Adults had a higher chance of survival (0.8333333333333334)\n"
     ]
    }
   ],
   "source": [
    "#Group the data into age groups (young, adult, old) and find which age group had the highest chance of survival?\n",
    "#ages less than or equal to 18 are classified as young.\n",
    "#ages greater than 18 but lesser than or equal to 60 are classified as adult.\n",
    "#ages greater than 60 are classified as old.\n",
    "titanic_data.dropna()\n",
    "young_survived = (titanic_data[(titanic_data[\"Age\"] <= 18) & (titanic_data[\"Survived\"] == 1)]).shape[0]\n",
    "adult_survived = (titanic_data[(titanic_data[\"Age\"] <= 60) & (titanic_data[\"Survived\"] == 1)]).shape[0]\n",
    "old_survived = (titanic_data[(titanic_data[\"Age\"] >60 ) & (titanic_data[\"Survived\"] == 1)]).shape[0]\n",
    "total_survived = (titanic_data[\"Survived\"] == 1).sum()\n",
    "chance_of_survival_young = young_survived/total_survived\n",
    "chance_of_survival_adult = adult_survived/total_survived\n",
    "chance_of_survival_old = old_survived/total_survived\n",
    "if (chance_of_survival_young > chance_of_survival_adult) & (chance_of_survival_young > chance_of_survival_old):\n",
    "    print(f'Young people had a higher chance of survival ({chance_of_survival_young})')\n",
    "elif (chance_of_survival_adult > chance_of_survival_young) & (chance_of_survival_adult > chance_of_survival_old):\n",
    "    print(f'Adults had a higher chance of survival ({chance_of_survival_adult})')\n",
    "else:\n",
    "    print(f'Old people had a higher chance of survival ({chance_of_survival_old})')"
   ]
  },
  {
   "cell_type": "markdown",
   "metadata": {},
   "source": [
    "### Unit testing"
   ]
  },
  {
   "cell_type": "code",
   "execution_count": 29,
   "metadata": {},
   "outputs": [
    {
     "ename": "AssertionError",
     "evalue": "Expected 13 columns, but got 12 columns",
     "output_type": "error",
     "traceback": [
      "\u001b[0;31m---------------------------------------------------------------------------\u001b[0m",
      "\u001b[0;31mAssertionError\u001b[0m                            Traceback (most recent call last)",
      "\u001b[1;32m/Users/daria/Desktop/2023-24b-fai1-adsai-dariavladutu236578/DataLab Prep/pe ce lucrez acum.ipynb Cell 12\u001b[0m line \u001b[0;36m8\n\u001b[1;32m      <a href='vscode-notebook-cell:/Users/daria/Desktop/2023-24b-fai1-adsai-dariavladutu236578/DataLab%20Prep/pe%20ce%20lucrez%20acum.ipynb#X14sZmlsZQ%3D%3D?line=5'>6</a>\u001b[0m expected_cols \u001b[39m=\u001b[39m \u001b[39m13\u001b[39m\n\u001b[1;32m      <a href='vscode-notebook-cell:/Users/daria/Desktop/2023-24b-fai1-adsai-dariavladutu236578/DataLab%20Prep/pe%20ce%20lucrez%20acum.ipynb#X14sZmlsZQ%3D%3D?line=6'>7</a>\u001b[0m \u001b[39massert\u001b[39;00m df\u001b[39m.\u001b[39mshape[\u001b[39m0\u001b[39m] \u001b[39m==\u001b[39m expected_rows, \u001b[39mf\u001b[39m\u001b[39m'\u001b[39m\u001b[39mExpected \u001b[39m\u001b[39m{\u001b[39;00mexpected_rows\u001b[39m}\u001b[39;00m\u001b[39m rows, but got \u001b[39m\u001b[39m{\u001b[39;00mdf\u001b[39m.\u001b[39mshape[\u001b[39m0\u001b[39m]\u001b[39m}\u001b[39;00m\u001b[39m rows\u001b[39m\u001b[39m'\u001b[39m\n\u001b[0;32m----> <a href='vscode-notebook-cell:/Users/daria/Desktop/2023-24b-fai1-adsai-dariavladutu236578/DataLab%20Prep/pe%20ce%20lucrez%20acum.ipynb#X14sZmlsZQ%3D%3D?line=7'>8</a>\u001b[0m \u001b[39massert\u001b[39;00m df\u001b[39m.\u001b[39mshape[\u001b[39m1\u001b[39m] \u001b[39m==\u001b[39m expected_cols, \u001b[39mf\u001b[39m\u001b[39m'\u001b[39m\u001b[39mExpected \u001b[39m\u001b[39m{\u001b[39;00mexpected_cols\u001b[39m}\u001b[39;00m\u001b[39m columns, but got \u001b[39m\u001b[39m{\u001b[39;00mdf\u001b[39m.\u001b[39mshape[\u001b[39m1\u001b[39m]\u001b[39m}\u001b[39;00m\u001b[39m columns\u001b[39m\u001b[39m'\u001b[39m\n",
      "\u001b[0;31mAssertionError\u001b[0m: Expected 13 columns, but got 12 columns"
     ]
    }
   ],
   "source": [
    "#Ensuring that you read in the dataset correctly (use the number of rows and columns as a test parameter)\n",
    "import pytest\n",
    "import pandas as pd\n",
    "df = pd.read_csv(\"train.csv\")\n",
    "expected_rows = 891\n",
    "expected_cols = 13\n",
    "assert df.shape[0] == expected_rows, f'Expected {expected_rows} rows, but got {df.shape[0]} rows'\n",
    "assert df.shape[1] == expected_cols, f'Expected {expected_cols} columns, but got {df.shape[1]} columns'"
   ]
  },
  {
   "cell_type": "code",
   "execution_count": 83,
   "metadata": {},
   "outputs": [
    {
     "name": "stdout",
     "output_type": "stream",
     "text": [
      "Function works\n"
     ]
    }
   ],
   "source": [
    "#Check if the function you created in the previous exercise to count the number of woman in the dataset returns the correct values, \n",
    "#when you pass in the dummy dataset in place of the original dataset.\n",
    "dummy_data = pd.DataFrame({\n",
    "    'Name': ['Alice', 'Bob', 'Charlie', 'Diana', 'Eve'],\n",
    "    'Sex': ['female', 'male', 'female', 'female', 'female'],\n",
    "    'Age': [25, 30, 22, 35, 28]\n",
    "    })\n",
    "test_num_of_women = women_count(dummy_data)\n",
    "assert women_count(dummy_data) == 4, f\"Expected 4 number of women\" \n",
    "print('Function works')"
   ]
  },
  {
   "cell_type": "code",
   "execution_count": 82,
   "metadata": {},
   "outputs": [
    {
     "name": "stdout",
     "output_type": "stream",
     "text": [
      "what it should return: 28.0\n",
      "Everything seems fine!\n"
     ]
    }
   ],
   "source": [
    "#Check if the function you created in the previous exercise to return the average age of all passengers.\n",
    "what_it_should_asses = (25 + 30 + 22 + 35 + 28)/5\n",
    "print(f\"what it should return: {what_it_should_asses}\")\n",
    "dummy_data = pd.DataFrame({\n",
    "    'Name': ['Alice', 'Bob', 'Charlie', 'Diana', 'Eve'],\n",
    "    'Sex': ['female', 'male', 'female', 'female', 'female'],\n",
    "    'Age': [25, 30, 22, 35, 28]\n",
    "    })\n",
    "test_avg_pas_age = avg_pas_age(dummy_data)    \n",
    "assert test_avg_pas_age == 28,f'Expected 28 average age of all passengers' \n",
    "print('Everything seems fine!')"
   ]
  },
  {
   "cell_type": "markdown",
   "metadata": {},
   "source": [
    "### Integration challenge!\n"
   ]
  },
  {
   "cell_type": "code",
   "execution_count": 23,
   "metadata": {},
   "outputs": [
    {
     "data": {
      "text/html": [
       "<div>\n",
       "<style scoped>\n",
       "    .dataframe tbody tr th:only-of-type {\n",
       "        vertical-align: middle;\n",
       "    }\n",
       "\n",
       "    .dataframe tbody tr th {\n",
       "        vertical-align: top;\n",
       "    }\n",
       "\n",
       "    .dataframe thead th {\n",
       "        text-align: right;\n",
       "    }\n",
       "</style>\n",
       "<table border=\"1\" class=\"dataframe\">\n",
       "  <thead>\n",
       "    <tr style=\"text-align: right;\">\n",
       "      <th></th>\n",
       "      <th>PassengerId</th>\n",
       "      <th>Survived</th>\n",
       "      <th>Pclass</th>\n",
       "      <th>Name</th>\n",
       "      <th>Sex</th>\n",
       "      <th>Age</th>\n",
       "      <th>SibSp</th>\n",
       "      <th>Parch</th>\n",
       "      <th>Ticket</th>\n",
       "      <th>Fare</th>\n",
       "      <th>Cabin</th>\n",
       "      <th>Embarked</th>\n",
       "      <th>Vaccination location</th>\n",
       "    </tr>\n",
       "  </thead>\n",
       "  <tbody>\n",
       "    <tr>\n",
       "      <th>0</th>\n",
       "      <td>1</td>\n",
       "      <td>0</td>\n",
       "      <td>3</td>\n",
       "      <td>Braund, Mr. Owen Harris</td>\n",
       "      <td>male</td>\n",
       "      <td>22.0</td>\n",
       "      <td>1</td>\n",
       "      <td>0</td>\n",
       "      <td>A/5 21171</td>\n",
       "      <td>7.2500</td>\n",
       "      <td>NaN</td>\n",
       "      <td>S</td>\n",
       "      <td>Maastricht</td>\n",
       "    </tr>\n",
       "    <tr>\n",
       "      <th>1</th>\n",
       "      <td>2</td>\n",
       "      <td>1</td>\n",
       "      <td>1</td>\n",
       "      <td>Cumings, Mrs. John Bradley (Florence Briggs Th...</td>\n",
       "      <td>female</td>\n",
       "      <td>38.0</td>\n",
       "      <td>1</td>\n",
       "      <td>0</td>\n",
       "      <td>PC 17599</td>\n",
       "      <td>71.2833</td>\n",
       "      <td>C85</td>\n",
       "      <td>C</td>\n",
       "      <td>Breda</td>\n",
       "    </tr>\n",
       "    <tr>\n",
       "      <th>2</th>\n",
       "      <td>3</td>\n",
       "      <td>1</td>\n",
       "      <td>3</td>\n",
       "      <td>Heikkinen, Miss. Laina</td>\n",
       "      <td>female</td>\n",
       "      <td>26.0</td>\n",
       "      <td>0</td>\n",
       "      <td>0</td>\n",
       "      <td>STON/O2. 3101282</td>\n",
       "      <td>7.9250</td>\n",
       "      <td>NaN</td>\n",
       "      <td>S</td>\n",
       "      <td>Maastricht</td>\n",
       "    </tr>\n",
       "    <tr>\n",
       "      <th>3</th>\n",
       "      <td>4</td>\n",
       "      <td>1</td>\n",
       "      <td>1</td>\n",
       "      <td>Futrelle, Mrs. Jacques Heath (Lily May Peel)</td>\n",
       "      <td>female</td>\n",
       "      <td>35.0</td>\n",
       "      <td>1</td>\n",
       "      <td>0</td>\n",
       "      <td>113803</td>\n",
       "      <td>53.1000</td>\n",
       "      <td>C123</td>\n",
       "      <td>S</td>\n",
       "      <td>Breda</td>\n",
       "    </tr>\n",
       "    <tr>\n",
       "      <th>4</th>\n",
       "      <td>5</td>\n",
       "      <td>0</td>\n",
       "      <td>3</td>\n",
       "      <td>Allen, Mr. William Henry</td>\n",
       "      <td>male</td>\n",
       "      <td>35.0</td>\n",
       "      <td>0</td>\n",
       "      <td>0</td>\n",
       "      <td>373450</td>\n",
       "      <td>8.0500</td>\n",
       "      <td>NaN</td>\n",
       "      <td>S</td>\n",
       "      <td>Breda</td>\n",
       "    </tr>\n",
       "    <tr>\n",
       "      <th>...</th>\n",
       "      <td>...</td>\n",
       "      <td>...</td>\n",
       "      <td>...</td>\n",
       "      <td>...</td>\n",
       "      <td>...</td>\n",
       "      <td>...</td>\n",
       "      <td>...</td>\n",
       "      <td>...</td>\n",
       "      <td>...</td>\n",
       "      <td>...</td>\n",
       "      <td>...</td>\n",
       "      <td>...</td>\n",
       "      <td>...</td>\n",
       "    </tr>\n",
       "    <tr>\n",
       "      <th>886</th>\n",
       "      <td>887</td>\n",
       "      <td>0</td>\n",
       "      <td>2</td>\n",
       "      <td>Montvila, Rev. Juozas</td>\n",
       "      <td>male</td>\n",
       "      <td>27.0</td>\n",
       "      <td>0</td>\n",
       "      <td>0</td>\n",
       "      <td>211536</td>\n",
       "      <td>13.0000</td>\n",
       "      <td>NaN</td>\n",
       "      <td>S</td>\n",
       "      <td>Maastricht</td>\n",
       "    </tr>\n",
       "    <tr>\n",
       "      <th>887</th>\n",
       "      <td>888</td>\n",
       "      <td>1</td>\n",
       "      <td>1</td>\n",
       "      <td>Graham, Miss. Margaret Edith</td>\n",
       "      <td>female</td>\n",
       "      <td>19.0</td>\n",
       "      <td>0</td>\n",
       "      <td>0</td>\n",
       "      <td>112053</td>\n",
       "      <td>30.0000</td>\n",
       "      <td>B42</td>\n",
       "      <td>S</td>\n",
       "      <td>Maastricht</td>\n",
       "    </tr>\n",
       "    <tr>\n",
       "      <th>888</th>\n",
       "      <td>889</td>\n",
       "      <td>0</td>\n",
       "      <td>3</td>\n",
       "      <td>Johnston, Miss. Catherine Helen \"Carrie\"</td>\n",
       "      <td>female</td>\n",
       "      <td>NaN</td>\n",
       "      <td>1</td>\n",
       "      <td>2</td>\n",
       "      <td>W./C. 6607</td>\n",
       "      <td>23.4500</td>\n",
       "      <td>NaN</td>\n",
       "      <td>S</td>\n",
       "      <td>NaN</td>\n",
       "    </tr>\n",
       "    <tr>\n",
       "      <th>889</th>\n",
       "      <td>890</td>\n",
       "      <td>1</td>\n",
       "      <td>1</td>\n",
       "      <td>Behr, Mr. Karl Howell</td>\n",
       "      <td>male</td>\n",
       "      <td>26.0</td>\n",
       "      <td>0</td>\n",
       "      <td>0</td>\n",
       "      <td>111369</td>\n",
       "      <td>30.0000</td>\n",
       "      <td>C148</td>\n",
       "      <td>C</td>\n",
       "      <td>Maastricht</td>\n",
       "    </tr>\n",
       "    <tr>\n",
       "      <th>890</th>\n",
       "      <td>891</td>\n",
       "      <td>0</td>\n",
       "      <td>3</td>\n",
       "      <td>Dooley, Mr. Patrick</td>\n",
       "      <td>male</td>\n",
       "      <td>32.0</td>\n",
       "      <td>0</td>\n",
       "      <td>0</td>\n",
       "      <td>370376</td>\n",
       "      <td>7.7500</td>\n",
       "      <td>NaN</td>\n",
       "      <td>Q</td>\n",
       "      <td>Breda</td>\n",
       "    </tr>\n",
       "  </tbody>\n",
       "</table>\n",
       "<p>891 rows × 13 columns</p>\n",
       "</div>"
      ],
      "text/plain": [
       "     PassengerId  Survived  Pclass  \\\n",
       "0              1         0       3   \n",
       "1              2         1       1   \n",
       "2              3         1       3   \n",
       "3              4         1       1   \n",
       "4              5         0       3   \n",
       "..           ...       ...     ...   \n",
       "886          887         0       2   \n",
       "887          888         1       1   \n",
       "888          889         0       3   \n",
       "889          890         1       1   \n",
       "890          891         0       3   \n",
       "\n",
       "                                                  Name     Sex   Age  SibSp  \\\n",
       "0                              Braund, Mr. Owen Harris    male  22.0      1   \n",
       "1    Cumings, Mrs. John Bradley (Florence Briggs Th...  female  38.0      1   \n",
       "2                               Heikkinen, Miss. Laina  female  26.0      0   \n",
       "3         Futrelle, Mrs. Jacques Heath (Lily May Peel)  female  35.0      1   \n",
       "4                             Allen, Mr. William Henry    male  35.0      0   \n",
       "..                                                 ...     ...   ...    ...   \n",
       "886                              Montvila, Rev. Juozas    male  27.0      0   \n",
       "887                       Graham, Miss. Margaret Edith  female  19.0      0   \n",
       "888           Johnston, Miss. Catherine Helen \"Carrie\"  female   NaN      1   \n",
       "889                              Behr, Mr. Karl Howell    male  26.0      0   \n",
       "890                                Dooley, Mr. Patrick    male  32.0      0   \n",
       "\n",
       "     Parch            Ticket     Fare Cabin Embarked Vaccination location  \n",
       "0        0         A/5 21171   7.2500   NaN        S           Maastricht  \n",
       "1        0          PC 17599  71.2833   C85        C                Breda  \n",
       "2        0  STON/O2. 3101282   7.9250   NaN        S           Maastricht  \n",
       "3        0            113803  53.1000  C123        S                Breda  \n",
       "4        0            373450   8.0500   NaN        S                Breda  \n",
       "..     ...               ...      ...   ...      ...                  ...  \n",
       "886      0            211536  13.0000   NaN        S           Maastricht  \n",
       "887      0            112053  30.0000   B42        S           Maastricht  \n",
       "888      2        W./C. 6607  23.4500   NaN        S                  NaN  \n",
       "889      0            111369  30.0000  C148        C           Maastricht  \n",
       "890      0            370376   7.7500   NaN        Q                Breda  \n",
       "\n",
       "[891 rows x 13 columns]"
      ]
     },
     "execution_count": 23,
     "metadata": {},
     "output_type": "execute_result"
    }
   ],
   "source": [
    "def find_vaccination_location_for_passengers(df_titanic, df_vaccination):\n",
    "    for index, row in df_titanic.iterrows():\n",
    "        matching_indices = df_vaccination.loc[(df_vaccination['Age min'] <= row['Age']) & (df_vaccination['Age max'] >= row['Age'])].index\n",
    "        if not matching_indices.empty:\n",
    "            index_vac = matching_indices[0]\n",
    "            df_titanic.at[index, 'Vaccination location'] = df_vaccination.at[index_vac, 'Location']\n",
    "\n",
    "    return df_titanic\n",
    "\n",
    "find_vaccination_location_for_passengers(titanic_data, vaccine_df)"
   ]
  }
 ],
 "metadata": {
  "kernelspec": {
   "display_name": "block_b",
   "language": "python",
   "name": "python3"
  },
  "language_info": {
   "codemirror_mode": {
    "name": "ipython",
    "version": 3
   },
   "file_extension": ".py",
   "mimetype": "text/x-python",
   "name": "python",
   "nbconvert_exporter": "python",
   "pygments_lexer": "ipython3",
   "version": "3.8.18"
  }
 },
 "nbformat": 4,
 "nbformat_minor": 2
}
