{
 "cells": [
  {
   "cell_type": "code",
   "execution_count": 73,
   "id": "534f6c7c-6ceb-4486-92de-8fc3c182d95e",
   "metadata": {},
   "outputs": [],
   "source": [
    "# Import necessary packages\n",
    "from sqlalchemy import create_engine, text, Column, Integer, String\n",
    "from sqlalchemy.ext.declarative import declarative_base\n",
    "from sqlalchemy.orm import sessionmaker\n",
    "import psycopg2\n",
    "import numpy as np\n",
    "import pandas as pd\n",
    "import matplotlib.pyplot as plt\n",
    "from sklearn.preprocessing import RobustScaler\n",
    "from sklearn.model_selection import train_test_split\n",
    "from sklearn.preprocessing import LabelEncoder\n",
    "import requests\n",
    "from sqlalchemy import create_engine, text, Column, Integer, String\n",
    "from sqlalchemy.ext.declarative import declarative_base\n",
    "from sqlalchemy.orm import sessionmaker\n",
    "import psycopg2\n",
    "import numpy as np\n",
    "import pandas as pd\n",
    "import matplotlib.pyplot as plt\n",
    "from sklearn.preprocessing import RobustScaler\n",
    "from sklearn.preprocessing import StandardScaler\n",
    "from sklearn.preprocessing import LabelEncoder\n",
    "import sqlite3\n",
    "import psycopg2\n",
    "import seaborn as sns\n",
    "\n",
    "# Database connection parameters\n",
    "db_params = {\n",
    "    'host': '194.171.191.226',\n",
    "    'port': '6379',\n",
    "    'database': 'postgres',\n",
    "    'user': 'group18',\n",
    "    'password': 'blockd_2024group18_44'\n",
    "}\n"
   ]
  },
  {
   "cell_type": "code",
   "execution_count": 9,
   "id": "172c2f5d-f528-4b9d-804b-d6bacce026e1",
   "metadata": {},
   "outputs": [],
   "source": [
    "# Create the connection string\n",
    "conn_string = f\"postgresql+psycopg2://{db_params['user']}:{db_params['password']}@{db_params['host']}:{db_params['port']}/{db_params['database']}\"\n",
    "\n",
    "# Create SQLAlchemy engine\n",
    "engine = create_engine(conn_string)"
   ]
  },
  {
   "cell_type": "markdown",
   "id": "4b4f3d3f-6787-4a87-8e0a-b9b4b17d08b5",
   "metadata": {},
   "source": [
    "### Task 5.2 - Accessing Data in Database\n",
    "\n",
    "Please provide the corresponding code for a simple query to access the data. This requirement is related to the **insufficient** criterion.\n",
    "\n",
    "__Important!__ Do __NOT__ include usernames or passwords in plain text in your submission. \n",
    "You can replace them with Environment Variables, Placeholders, etc. "
   ]
  },
  {
   "cell_type": "markdown",
   "id": "731308fd-8213-45c2-8fd4-a50a591ab072",
   "metadata": {},
   "source": [
    "### ANWB Dataset"
   ]
  },
  {
   "cell_type": "code",
   "execution_count": 10,
   "id": "31b4605e-c962-4c57-a6f4-082a1d934014",
   "metadata": {},
   "outputs": [
    {
     "name": "stdout",
     "output_type": "stream",
     "text": [
      "             eventid             event_start               event_end  \\\n",
      "date                                                                   \n",
      "2018-05-29  10569875 2018-05-29 14:47:57.800 2018-05-29 14:48:00.000   \n",
      "2018-05-29   9870743 2018-05-29 05:19:21.600 2018-05-29 05:19:23.000   \n",
      "2018-05-29  10095377 2018-05-29 11:01:08.500 2018-05-29 11:01:17.500   \n",
      "2018-05-29   9615362 2018-05-29 07:55:48.500 2018-05-29 07:55:54.500   \n",
      "2018-05-29   9666737 2018-05-29 14:51:54.400 2018-05-29 14:51:56.200   \n",
      "...              ...                     ...                     ...   \n",
      "2018-05-29  10585535 2018-05-29 12:02:43.500 2018-05-29 12:03:05.500   \n",
      "2018-05-29   9750035 2018-05-29 18:01:25.500 2018-05-29 18:01:26.800   \n",
      "2018-05-29  10668884 2018-05-29 16:53:46.000 2018-05-29 16:54:04.000   \n",
      "2018-05-29  10440233 2018-05-29 04:02:58.500 2018-05-29 04:03:11.500   \n",
      "2018-05-29  10297886 2018-05-29 10:25:07.500 2018-05-29 10:25:15.500   \n",
      "\n",
      "            duration_seconds  latitude  longitude  speed_kmh  end_speed_kmh  \\\n",
      "date                                                                          \n",
      "2018-05-29               2.2  51.58767   4.784380  25.749504      32.186880   \n",
      "2018-05-29               1.4  51.59381   4.822447  46.670975      45.061630   \n",
      "2018-05-29               9.0  51.60378   4.746891  62.764416      62.764416   \n",
      "2018-05-29               6.0  51.58456   4.750347  43.452290      45.061630   \n",
      "2018-05-29               1.8  51.56584   4.746744  33.796223      27.358849   \n",
      "...                      ...       ...        ...        ...            ...   \n",
      "2018-05-29              22.0  51.58073   4.809551  82.076546      82.076546   \n",
      "2018-05-29               1.3  51.58229   4.821120  33.796223      38.624256   \n",
      "2018-05-29              18.0  51.61248   4.764566  74.029820      74.029820   \n",
      "2018-05-29              13.0  51.57172   4.761175  69.201790      62.764416   \n",
      "2018-05-29               8.0  51.56500   4.798200  43.452290      41.842945   \n",
      "\n",
      "            maxwaarde          category incident_severity  is_valid  \\\n",
      "date                                                                  \n",
      "2018-05-29   0.753173  HARSH CORNERING              HC1        True   \n",
      "2018-05-29   0.729033  HARSH CORNERING              HC1        True   \n",
      "2018-05-29  64.373760  SPEED                        SP1        True   \n",
      "2018-05-29  49.889664  SPEED                        SP1        True   \n",
      "2018-05-29   0.878702  HARSH CORNERING              HC1        True   \n",
      "...               ...               ...               ...       ...   \n",
      "2018-05-29  93.341950  SPEED                        SP1        True   \n",
      "2018-05-29   0.703283  HARSH CORNERING              HC1        True   \n",
      "2018-05-29  75.639170  SPEED                        SP2        True   \n",
      "2018-05-29  69.201790  SPEED                        SP1        True   \n",
      "2018-05-29  46.670975  SPEED                        SP1        True   \n",
      "\n",
      "            road_segment_id road_manager_type road_number  \\\n",
      "date                                                        \n",
      "2018-05-29        600892985                 G               \n",
      "2018-05-29        600123821                 G               \n",
      "2018-05-29        600750282                 G               \n",
      "2018-05-29        221199140                 G               \n",
      "2018-05-29        600914067                 G               \n",
      "...                     ...               ...         ...   \n",
      "2018-05-29        600754811                 G               \n",
      "2018-05-29        231198020                 G               \n",
      "2018-05-29        600893106                 G               \n",
      "2018-05-29        600751227                 G               \n",
      "2018-05-29        228194023                 G               \n",
      "\n",
      "                         road_name place_name municipality_name  \\\n",
      "date                                                              \n",
      "2018-05-29    Claudius Prinsenlaan      Breda             Breda   \n",
      "2018-05-29            Tilburgseweg      Breda             Breda   \n",
      "2018-05-29            Emerparklaan      Breda             Breda   \n",
      "2018-05-29              Zandoogjes      Breda             Breda   \n",
      "2018-05-29     Graaf Engelbertlaan      Breda             Breda   \n",
      "...                            ...        ...               ...   \n",
      "2018-05-29  Franklin Rooseveltlaan      Breda             Breda   \n",
      "2018-05-29  Franklin Rooseveltlaan      Breda             Breda   \n",
      "2018-05-29               Moerlaken      Breda             Breda   \n",
      "2018-05-29     Graaf Engelbertlaan      Breda             Breda   \n",
      "2018-05-29             Bavelselaan      Breda             Breda   \n",
      "\n",
      "           road_manager_name  \n",
      "date                          \n",
      "2018-05-29             Breda  \n",
      "2018-05-29             Breda  \n",
      "2018-05-29             Breda  \n",
      "2018-05-29             Breda  \n",
      "2018-05-29             Breda  \n",
      "...                      ...  \n",
      "2018-05-29             Breda  \n",
      "2018-05-29             Breda  \n",
      "2018-05-29             Breda  \n",
      "2018-05-29             Breda  \n",
      "2018-05-29             Breda  \n",
      "\n",
      "[964488 rows x 19 columns]\n"
     ]
    }
   ],
   "source": [
    "# Convert the fetched data into a dataframe\n",
    "\n",
    "# Query the data\n",
    "query = '''SELECT * FROM data_lake.safe_driving'''\n",
    "\n",
    "# Execute the query and fetch the data\n",
    "with engine.connect() as connection:\n",
    "    result = connection.execute(text(query))\n",
    "    data = result.fetchall()\n",
    "\n",
    "# Define column names\n",
    "columns = ['eventid', 'event_start', 'event_end', 'duration_seconds', 'latitude', 'longitude', 'speed_kmh', 'end_speed_kmh', 'maxwaarde', 'category', 'incident_severity', 'is_valid', 'road_segment_id', 'road_manager_type', 'road_number', 'road_name', 'place_name', 'municipality_name', 'road_manager_name']\n",
    "\n",
    "# Create a DataFrame\n",
    "df = pd.DataFrame(data, columns=columns)\n",
    "\n",
    "# Convert 'event_start' column to datetime format and use it as an index\n",
    "df['date'] = pd.to_datetime(df['event_start']).dt.date\n",
    "df.set_index('date', inplace=True)\n",
    "\n",
    "# Display the DataFrame\n",
    "print(df)"
   ]
  },
  {
   "cell_type": "markdown",
   "id": "f945e29b-8c08-49ba-bf47-3f700a47baef",
   "metadata": {},
   "source": [
    "### Open-Meteo Dataset"
   ]
  },
  {
   "cell_type": "code",
   "execution_count": 11,
   "id": "b05d7f1b-8df0-40fc-bff4-984735824171",
   "metadata": {},
   "outputs": [
    {
     "name": "stdout",
     "output_type": "stream",
     "text": [
      "                     temperature_2m  rain  snowfall  snow_depth  weather_code\n",
      "time                                                                         \n",
      "2018-08-15 00:00:00            17.7   0.0       0.0         0.0             3\n",
      "2018-08-15 01:00:00            17.5   0.0       0.0         0.0             3\n",
      "2018-08-15 02:00:00            17.2   0.0       0.0         0.0             2\n",
      "2018-08-15 03:00:00            17.1   0.0       0.0         0.0             3\n",
      "2018-08-15 04:00:00            17.2   0.0       0.0         0.0             2\n"
     ]
    }
   ],
   "source": [
    "# Define the API endpoint\n",
    "api_url = \"https://archive-api.open-meteo.com/v1/archive\"\n",
    "\n",
    "# Define the parameters for the API request\n",
    "params = {\n",
    "    \"latitude\": 51.5904,\n",
    "    \"longitude\": 4.7936,\n",
    "    \"start_date\": \"2018-08-15\",\n",
    "    \"end_date\": \"2024-02-29\",\n",
    "    \"hourly\": \"temperature_2m,rain,snowfall,snow_depth,weather_code\",\n",
    "    \"timezone\": \"auto\"\n",
    "}\n",
    "\n",
    "# Make the API request\n",
    "response = requests.get(api_url, params=params)\n",
    "\n",
    "\n",
    "# Parse the JSON response\n",
    "data = response.json()\n",
    "    \n",
    "# Convert the hourly data to a DataFrame\n",
    "hourly_data = data['hourly']\n",
    "df_api = pd.DataFrame(hourly_data)\n",
    "    \n",
    "# Convert the 'time' column to datetime format\n",
    "df_api['time'] = pd.to_datetime(df_api['time'])\n",
    "    \n",
    "# Set the 'time' column as the index\n",
    "df_api.set_index('time', inplace=True)\n",
    "    \n",
    "# Display the DataFrame\n",
    "print(df_api.head())"
   ]
  },
  {
   "cell_type": "markdown",
   "id": "a63a5d2a-f1ba-4d98-9897-759d2d64ac0f",
   "metadata": {},
   "source": [
    "### Task 5.3 - Pre-processing the Data\n",
    "\n",
    "Please provide the relevant code to perform preprocessing on the data. Refer to the related criterion for detailed instructions on the preprocessing steps. This criterion is associated with the **sufficient** criterion.\n",
    "\n",
    "__Important!__ Do __NOT__ include usernames or passwords in plain text in your submission. \n",
    "You can replace them with Environment Variables, Placeholders, etc."
   ]
  },
  {
   "cell_type": "markdown",
   "id": "935d0a10-a7a9-426f-9ae6-ee7d8609b010",
   "metadata": {},
   "source": [
    "### ANWB Dataset"
   ]
  },
  {
   "cell_type": "code",
   "execution_count": 12,
   "id": "a93c2bf0-b0d9-4af3-9878-ae62383da6a1",
   "metadata": {},
   "outputs": [
    {
     "name": "stdout",
     "output_type": "stream",
     "text": [
      "             eventid             event_start               event_end  \\\n",
      "date                                                                   \n",
      "2018-05-29  10569875 2018-05-29 14:47:57.800 2018-05-29 14:48:00.000   \n",
      "2018-05-29   9870743 2018-05-29 05:19:21.600 2018-05-29 05:19:23.000   \n",
      "2018-05-29  10095377 2018-05-29 11:01:08.500 2018-05-29 11:01:17.500   \n",
      "2018-05-29   9615362 2018-05-29 07:55:48.500 2018-05-29 07:55:54.500   \n",
      "2018-05-29   9666737 2018-05-29 14:51:54.400 2018-05-29 14:51:56.200   \n",
      "...              ...                     ...                     ...   \n",
      "2018-05-29  10585535 2018-05-29 12:02:43.500 2018-05-29 12:03:05.500   \n",
      "2018-05-29   9750035 2018-05-29 18:01:25.500 2018-05-29 18:01:26.800   \n",
      "2018-05-29  10668884 2018-05-29 16:53:46.000 2018-05-29 16:54:04.000   \n",
      "2018-05-29  10440233 2018-05-29 04:02:58.500 2018-05-29 04:03:11.500   \n",
      "2018-05-29  10297886 2018-05-29 10:25:07.500 2018-05-29 10:25:15.500   \n",
      "\n",
      "            duration_seconds  latitude  longitude  speed_kmh  end_speed_kmh  \\\n",
      "date                                                                          \n",
      "2018-05-29               2.2  51.58767   4.784380  25.749504      32.186880   \n",
      "2018-05-29               1.4  51.59381   4.822447  46.670975      45.061630   \n",
      "2018-05-29               9.0  51.60378   4.746891  62.764416      62.764416   \n",
      "2018-05-29               6.0  51.58456   4.750347  43.452290      45.061630   \n",
      "2018-05-29               1.8  51.56584   4.746744  33.796223      27.358849   \n",
      "...                      ...       ...        ...        ...            ...   \n",
      "2018-05-29              22.0  51.58073   4.809551  82.076546      82.076546   \n",
      "2018-05-29               1.3  51.58229   4.821120  33.796223      38.624256   \n",
      "2018-05-29              18.0  51.61248   4.764566  74.029820      74.029820   \n",
      "2018-05-29              13.0  51.57172   4.761175  69.201790      62.764416   \n",
      "2018-05-29               8.0  51.56500   4.798200  43.452290      41.842945   \n",
      "\n",
      "            maxwaarde          category incident_severity  is_valid  \\\n",
      "date                                                                  \n",
      "2018-05-29   0.753173  HARSH CORNERING              HC1        True   \n",
      "2018-05-29   0.729033  HARSH CORNERING              HC1        True   \n",
      "2018-05-29  64.373760  SPEED                        SP1        True   \n",
      "2018-05-29  49.889664  SPEED                        SP1        True   \n",
      "2018-05-29   0.878702  HARSH CORNERING              HC1        True   \n",
      "...               ...               ...               ...       ...   \n",
      "2018-05-29  93.341950  SPEED                        SP1        True   \n",
      "2018-05-29   0.703283  HARSH CORNERING              HC1        True   \n",
      "2018-05-29  75.639170  SPEED                        SP2        True   \n",
      "2018-05-29  69.201790  SPEED                        SP1        True   \n",
      "2018-05-29  46.670975  SPEED                        SP1        True   \n",
      "\n",
      "            road_segment_id road_manager_type road_number  \\\n",
      "date                                                        \n",
      "2018-05-29        600892985                 G               \n",
      "2018-05-29        600123821                 G               \n",
      "2018-05-29        600750282                 G               \n",
      "2018-05-29        221199140                 G               \n",
      "2018-05-29        600914067                 G               \n",
      "...                     ...               ...         ...   \n",
      "2018-05-29        600754811                 G               \n",
      "2018-05-29        231198020                 G               \n",
      "2018-05-29        600893106                 G               \n",
      "2018-05-29        600751227                 G               \n",
      "2018-05-29        228194023                 G               \n",
      "\n",
      "                         road_name place_name municipality_name  \\\n",
      "date                                                              \n",
      "2018-05-29    Claudius Prinsenlaan      Breda             Breda   \n",
      "2018-05-29            Tilburgseweg      Breda             Breda   \n",
      "2018-05-29            Emerparklaan      Breda             Breda   \n",
      "2018-05-29              Zandoogjes      Breda             Breda   \n",
      "2018-05-29     Graaf Engelbertlaan      Breda             Breda   \n",
      "...                            ...        ...               ...   \n",
      "2018-05-29  Franklin Rooseveltlaan      Breda             Breda   \n",
      "2018-05-29  Franklin Rooseveltlaan      Breda             Breda   \n",
      "2018-05-29               Moerlaken      Breda             Breda   \n",
      "2018-05-29     Graaf Engelbertlaan      Breda             Breda   \n",
      "2018-05-29             Bavelselaan      Breda             Breda   \n",
      "\n",
      "           road_manager_name  \n",
      "date                          \n",
      "2018-05-29             Breda  \n",
      "2018-05-29             Breda  \n",
      "2018-05-29             Breda  \n",
      "2018-05-29             Breda  \n",
      "2018-05-29             Breda  \n",
      "...                      ...  \n",
      "2018-05-29             Breda  \n",
      "2018-05-29             Breda  \n",
      "2018-05-29             Breda  \n",
      "2018-05-29             Breda  \n",
      "2018-05-29             Breda  \n",
      "\n",
      "[964488 rows x 19 columns]\n"
     ]
    }
   ],
   "source": [
    "# Convert the fetched data into a dataframe\n",
    "\n",
    "# Query the data\n",
    "query = '''SELECT * FROM data_lake.safe_driving'''\n",
    "\n",
    "# Execute the query and fetch the data\n",
    "with engine.connect() as connection:\n",
    "    result = connection.execute(text(query))\n",
    "    data = result.fetchall()\n",
    "\n",
    "# Define column names\n",
    "columns = ['eventid', 'event_start', 'event_end', 'duration_seconds', 'latitude', 'longitude', 'speed_kmh', 'end_speed_kmh', 'maxwaarde', 'category', 'incident_severity', 'is_valid', 'road_segment_id', 'road_manager_type', 'road_number', 'road_name', 'place_name', 'municipality_name', 'road_manager_name']\n",
    "\n",
    "# Create a DataFrame\n",
    "df = pd.DataFrame(data, columns=columns)\n",
    "\n",
    "# Convert 'event_start' column to datetime format and use it as an index\n",
    "df['date'] = pd.to_datetime(df['event_start']).dt.date\n",
    "df.set_index('date', inplace=True)\n",
    "\n",
    "# Display the DataFrame\n",
    "print(df)"
   ]
  },
  {
   "cell_type": "code",
   "execution_count": 13,
   "id": "12c37a5f-851f-42ed-994f-18b667d020d5",
   "metadata": {},
   "outputs": [],
   "source": [
    "# Define a function to check if there is any other municipality included besides Breda\n",
    "def check_municipality(municipality):\n",
    "    if municipality != 'Breda':\n",
    "        print(municipality)\n",
    "\n",
    "# Apply the function to each item in the column\n",
    "_ = df['municipality_name'].apply(lambda x: check_municipality(x))"
   ]
  },
  {
   "cell_type": "code",
   "execution_count": 14,
   "id": "a5a685e5-4f63-418a-9450-8829336d49b4",
   "metadata": {},
   "outputs": [],
   "source": [
    "# Define average speed column\n",
    "df['avg_speed'] = ((df['speed_kmh'] + df['end_speed_kmh'])/2).astype(int)\n",
    "\n",
    "# Convert 'maaxwarde' column from float64 to int64\n",
    "df['maxwaarde'] = df['maxwaarde'].astype(int)\n",
    "\n",
    "# Drop uneccessary columns\n",
    "columns_to_drop = ['event_end', 'municipality_name', 'speed_kmh', 'end_speed_kmh', 'road_manager_name', 'event_start', 'is_valid']\n",
    "df = df.drop(columns = columns_to_drop)"
   ]
  },
  {
   "cell_type": "code",
   "execution_count": 15,
   "id": "5ac27ca7-4cfb-4af1-9493-303961cea3cd",
   "metadata": {},
   "outputs": [
    {
     "name": "stdout",
     "output_type": "stream",
     "text": [
      "              eventid  duration_seconds  latitude  longitude  maxwaarde  \\\n",
      "date                                                                      \n",
      "2024-02-29  132304141               2.6  51.60061   4.794189          1   \n",
      "2024-02-29  132299375               1.8  51.58859   4.785225          0   \n",
      "2024-02-29  132320471               2.9  51.58179   4.826815          0   \n",
      "2024-02-29  132304878               0.8  51.59071   4.789520          0   \n",
      "2024-02-29  132358125              28.0  51.60067   4.808380         86   \n",
      "...               ...               ...       ...        ...        ...   \n",
      "2018-01-01    5350340               1.1  51.60173   4.769984          0   \n",
      "2018-01-01    5849524               1.7  51.58178   4.826831          0   \n",
      "2018-01-01    5866239              17.0  51.57177   4.761276         65   \n",
      "2018-01-01    5396238              14.0  51.59264   4.830792         67   \n",
      "2018-01-01    5718272               2.7  51.60253   4.720942          0   \n",
      "\n",
      "                    category incident_severity  road_segment_id  \\\n",
      "date                                                              \n",
      "2024-02-29   HARSH CORNERING               HC3        227202078   \n",
      "2024-02-29   HARSH CORNERING               HC1        226200046   \n",
      "2024-02-29   HARSH CORNERING               HC1        231198030   \n",
      "2024-02-29           BRAKING               HB1        601075122   \n",
      "2024-02-29             SPEED               SP1        601041451   \n",
      "...                      ...               ...              ...   \n",
      "2018-01-01  HARSH CORNERING              HC1          600750684   \n",
      "2018-01-01  HARSH CORNERING              HC1          231198030   \n",
      "2018-01-01  SPEED                        SP1          600751227   \n",
      "2018-01-01  SPEED                        SP1          232201079   \n",
      "2018-01-01  HARSH CORNERING              HC1          217203086   \n",
      "\n",
      "           road_manager_type road_number               road_name   place_name  \\\n",
      "date                                                                            \n",
      "2024-02-29                 G                      Grote Doornbos        Breda   \n",
      "2024-02-29                 G                          Chasséveld        Breda   \n",
      "2024-02-29                 G              Franklin Rooseveltlaan        Breda   \n",
      "2024-02-29                 G                    Wilhelminasingel        Breda   \n",
      "2024-02-29                 G                       Nieuwe Kadijk        Breda   \n",
      "...                      ...         ...                     ...          ...   \n",
      "2018-01-01                 G                   Backer en Ruebweg        Breda   \n",
      "2018-01-01                 G              Franklin Rooseveltlaan        Breda   \n",
      "2018-01-01                 G                 Graaf Engelbertlaan        Breda   \n",
      "2018-01-01                 G                        Tilburgseweg        Breda   \n",
      "2018-01-01                 G                   Backer en Ruebweg  Prinsenbeek   \n",
      "\n",
      "            avg_speed  \n",
      "date                   \n",
      "2024-02-29          0  \n",
      "2024-02-29         24  \n",
      "2024-02-29         38  \n",
      "2024-02-29         18  \n",
      "2024-02-29         81  \n",
      "...               ...  \n",
      "2018-01-01         29  \n",
      "2018-01-01         28  \n",
      "2018-01-01         63  \n",
      "2018-01-01         63  \n",
      "2018-01-01         32  \n",
      "\n",
      "[964488 rows x 13 columns]\n"
     ]
    }
   ],
   "source": [
    "# Sort the DataFrame in descending order based on the index (date)\n",
    "df = df.sort_values(by='date', ascending=False)\n",
    "\n",
    "# Display the sorted DataFrame\n",
    "print(df)"
   ]
  },
  {
   "cell_type": "code",
   "execution_count": 16,
   "id": "292a0a17-6319-4e6d-9681-a061503408fe",
   "metadata": {},
   "outputs": [],
   "source": [
    "# Convert 'incident_severity' column to string\n",
    "df['incident_severity'] = df['incident_severity'].astype(str)"
   ]
  },
  {
   "cell_type": "code",
   "execution_count": 17,
   "id": "4ac82650-73e9-4895-97d6-3220db45aef6",
   "metadata": {},
   "outputs": [
    {
     "name": "stdout",
     "output_type": "stream",
     "text": [
      "Column 'eventid': 0 missing values\n",
      "Column 'duration_seconds': 0 missing values\n",
      "Column 'latitude': 0 missing values\n",
      "Column 'longitude': 0 missing values\n",
      "Column 'maxwaarde': 0 missing values\n",
      "Column 'category': 0 missing values\n",
      "Column 'incident_severity': 0 missing values\n",
      "Column 'road_segment_id': 0 missing values\n",
      "Column 'road_manager_type': 0 missing values\n",
      "Column 'road_number': 0 missing values\n",
      "Column 'road_name': 0 missing values\n",
      "Column 'place_name': 0 missing values\n",
      "Column 'avg_speed': 0 missing values\n"
     ]
    }
   ],
   "source": [
    "# Check for missing values\n",
    "for column in df.columns:\n",
    "    missing_values = df[column].isnull().sum()\n",
    "    print(f\"Column '{column}': {missing_values} missing values\")"
   ]
  },
  {
   "cell_type": "code",
   "execution_count": 18,
   "id": "9f7cf1c9-d40c-41f5-a644-a73355966361",
   "metadata": {},
   "outputs": [
    {
     "name": "stdout",
     "output_type": "stream",
     "text": [
      "              eventid  duration_seconds  latitude  longitude  maxwaarde  \\\n",
      "date                                                                      \n",
      "2024-02-29  132304141               2.6  51.60061   4.794189          1   \n",
      "2024-02-29  132299375               1.8  51.58859   4.785225          0   \n",
      "2024-02-29  132320471               2.9  51.58179   4.826815          0   \n",
      "2024-02-29  132304878               0.8  51.59071   4.789520          0   \n",
      "2024-02-29  132358125              28.0  51.60067   4.808380         86   \n",
      "\n",
      "                   category incident_severity  road_segment_id  \\\n",
      "date                                                             \n",
      "2024-02-29  HARSH CORNERING               HC3        227202078   \n",
      "2024-02-29  HARSH CORNERING               HC1        226200046   \n",
      "2024-02-29  HARSH CORNERING               HC1        231198030   \n",
      "2024-02-29          BRAKING               HB1        601075122   \n",
      "2024-02-29            SPEED               SP1        601041451   \n",
      "\n",
      "           road_manager_type road_number               road_name place_name  \\\n",
      "date                                                                          \n",
      "2024-02-29                 G                      Grote Doornbos      Breda   \n",
      "2024-02-29                 G                          Chasséveld      Breda   \n",
      "2024-02-29                 G              Franklin Rooseveltlaan      Breda   \n",
      "2024-02-29                 G                    Wilhelminasingel      Breda   \n",
      "2024-02-29                 G                       Nieuwe Kadijk      Breda   \n",
      "\n",
      "            avg_speed risk_category  \n",
      "date                                 \n",
      "2024-02-29          0      low risk  \n",
      "2024-02-29         24      low risk  \n",
      "2024-02-29         38      low risk  \n",
      "2024-02-29         18      low risk  \n",
      "2024-02-29         81      low risk  \n"
     ]
    }
   ],
   "source": [
    "# Define a new function to classify incident types into 3 categories: low, medium, and high-risk\n",
    "def classify_risk(severity):\n",
    "    severity_number = int(re.search(r'\\d+', severity).group()) # extract numeric part from incident severity description\n",
    "    if severity_number <= 7:\n",
    "        return 'low risk'\n",
    "    elif 8 <= severity_number <= 14:\n",
    "        return 'medium risk'\n",
    "    else:\n",
    "        return 'high risk'\n",
    "\n",
    "# Apply the function to incident_severity column\n",
    "df['risk_category'] = df['incident_severity'].apply(classify_risk)\n",
    "\n",
    "# Print the updated DataFrame\n",
    "print(df.head(5))"
   ]
  },
  {
   "cell_type": "code",
   "execution_count": 19,
   "id": "dd00a9f5-4102-4b19-91af-3f7100f533b7",
   "metadata": {},
   "outputs": [],
   "source": [
    "# Remove duplicate entries in the 'category' column\n",
    "df['category'] = df['category'].str.strip()  # Remove whitespaces\n",
    "df['category'] = df['category'].str.upper()  # Convert to uppercase for consistency\n",
    "\n",
    "# Drop duplicate rows\n",
    "df.drop_duplicates(inplace=True)"
   ]
  },
  {
   "cell_type": "code",
   "execution_count": 20,
   "id": "4099978d-ba1e-4af0-a286-07a292cbcfb1",
   "metadata": {},
   "outputs": [
    {
     "name": "stdout",
     "output_type": "stream",
     "text": [
      "Number of incidents per road:\n",
      "road_name\n",
      "Franklin Rooseveltlaan    73053\n",
      "Graaf Engelbertlaan       71242\n",
      "Backer en Ruebweg         54888\n",
      "Tilburgseweg              47826\n",
      "Moerlaken                 35200\n",
      "                          ...  \n",
      "Baroniestraat                 1\n",
      "Ringelbergstraat              1\n",
      "Scherp Zand                   1\n",
      "Pieter Brueghelstraat         1\n",
      "Jan de Wijsestraat            1\n",
      "Name: count, Length: 1883, dtype: int64\n",
      "\n",
      "Types of incidents per road:\n",
      "category                        ACCELERATING  BRAKING  HARSH CORNERING  SPEED\n",
      "road_name                                                                    \n",
      "'t Blok                                    6        9               31      1\n",
      "'t Haantje                                 0        0                0      9\n",
      "'t Hofflandt                               2       12                7     14\n",
      "'t Zand                                    0        0                0      2\n",
      "Aalststraat                                2        1                7      1\n",
      "...                                      ...      ...              ...    ...\n",
      "van Vlietstraat                            2        2                2      1\n",
      "van Voorst tot Voorststraat               26       18                7      1\n",
      "van de Spiegelstraat                       1        0                1     11\n",
      "van der Borchlaan                          0        6                8     13\n",
      "van der Duyn van Maasdamstraat            10        0                0      1\n",
      "\n",
      "[1883 rows x 4 columns]\n",
      "\n",
      "Road with the most incidents: Franklin Rooseveltlaan\n",
      "\n",
      "Types of incidents on the road with the most incidents:\n",
      "category\n",
      "ACCELERATING        1759\n",
      "BRAKING             1949\n",
      "HARSH CORNERING    37499\n",
      "SPEED              31846\n",
      "Name: Franklin Rooseveltlaan, dtype: int64\n"
     ]
    }
   ],
   "source": [
    "# Identifying which roads have the highest number of incidents and what their types are\n",
    "# 1. Count the number of incidents per road\n",
    "incident_counts = df['road_name'].value_counts()\n",
    "print(\"Number of incidents per road:\")\n",
    "print(incident_counts)\n",
    "\n",
    "# 2. Count the types of incidents per road\n",
    "incident_types_per_road = df.groupby(['road_name', 'category']).size().unstack(fill_value=0)\n",
    "print(\"\\nTypes of incidents per road:\")\n",
    "print(incident_types_per_road)\n",
    "\n",
    "# 3. Identify the roads with the most incidents\n",
    "most_incidents_road = incident_counts.idxmax()\n",
    "print(\"\\nRoad with the most incidents:\", most_incidents_road)\n",
    "\n",
    "# 4. Get the types of incidents on the road with the most incidents\n",
    "types_of_incidents_most_road = incident_types_per_road.loc[most_incidents_road]\n",
    "print(\"\\nTypes of incidents on the road with the most incidents:\")\n",
    "print(types_of_incidents_most_road)"
   ]
  },
  {
   "cell_type": "markdown",
   "id": "d423e4f7-d972-423d-b49b-430028b06549",
   "metadata": {},
   "source": [
    "#### Identifying outliers\n"
   ]
  },
  {
   "cell_type": "code",
   "execution_count": 21,
   "id": "61152670-8696-4ee0-98bb-9fd5cd5832a0",
   "metadata": {},
   "outputs": [],
   "source": [
    "plt.style.use('Solarize_Light2')"
   ]
  },
  {
   "cell_type": "code",
   "execution_count": 22,
   "id": "0d4ce513-981c-4757-b879-62bf0e092558",
   "metadata": {},
   "outputs": [
    {
     "name": "stdout",
     "output_type": "stream",
     "text": [
      "incident_severity\n",
      "HC1     440243\n",
      "SP1     374078\n",
      "HB1      50406\n",
      "HA1      30473\n",
      "SP2      29801\n",
      "HC2       8876\n",
      "HA2       8096\n",
      "HB2       7100\n",
      "SP3       3329\n",
      "HC13      2151\n",
      "HC4       2045\n",
      "HA3       1606\n",
      "HB3       1421\n",
      "HC3       1192\n",
      "SP4        880\n",
      "HC16       624\n",
      "HC7        574\n",
      "HC5        487\n",
      "HC14       450\n",
      "SP5        316\n",
      "HC8        102\n",
      "HC17        71\n",
      "HC6         48\n",
      "HC15        46\n",
      "HC10        44\n",
      "HC19        23\n",
      "HC11         2\n",
      "HC18         2\n",
      "HC20         1\n",
      "HC21         1\n",
      "Name: count, dtype: int64\n"
     ]
    }
   ],
   "source": [
    "# Remove duplicate entries in the 'incident_severity' column, since some severity categories are mentioned multiple times\n",
    "df['incident_severity'] = df['incident_severity'].str.strip()  # Remove whitespaces\n",
    "df['incident_severity'] = df['incident_severity'].str.upper()  # Convert to uppercase for consistency\n",
    "\n",
    "# Drop duplicate rows\n",
    "df.drop_duplicates(inplace=True)\n",
    "\n",
    "# Checking the number of incidents per incident category again\n",
    "print(df['incident_severity'].value_counts())"
   ]
  },
  {
   "cell_type": "markdown",
   "id": "bcfac8e6-19bb-4a76-90b1-6bdc9b83b096",
   "metadata": {},
   "source": [
    "Filtering for incident severity types that have one/ two occurences\n",
    "\n",
    "HC11 - 2\n",
    "\n",
    "HC18 - 2\n",
    "\n",
    "HC20 - 1\n",
    "\n",
    "HC21 - 1"
   ]
  },
  {
   "cell_type": "code",
   "execution_count": 23,
   "id": "56f2dd36-c756-46b6-af4e-64471e6039b5",
   "metadata": {},
   "outputs": [
    {
     "name": "stdout",
     "output_type": "stream",
     "text": [
      "Roads with HC11 incidents:\n",
      "['Rozenlaan' 'Kloosterlaan']\n",
      "\n",
      "Details of incidents with severity type HC11:\n",
      "              eventid  duration_seconds   latitude  longitude  maxwaarde  \\\n",
      "date                                                                       \n",
      "2023-12-20  128926042               0.4  51.572350   4.785080          0   \n",
      "2021-07-16   67454339               1.7  51.588303   4.783929          0   \n",
      "\n",
      "                   category incident_severity  road_segment_id  \\\n",
      "date                                                             \n",
      "2023-12-20  HARSH CORNERING              HC11        226196054   \n",
      "2021-07-16  HARSH CORNERING              HC11        226200114   \n",
      "\n",
      "           road_manager_type road_number     road_name place_name  avg_speed  \\\n",
      "date                                                                           \n",
      "2023-12-20                 G                 Rozenlaan      Breda          0   \n",
      "2021-07-16                 G              Kloosterlaan      Breda          6   \n",
      "\n",
      "           risk_category  \n",
      "date                      \n",
      "2023-12-20   medium risk  \n",
      "2021-07-16   medium risk  \n"
     ]
    }
   ],
   "source": [
    "# Filter for HC3 incidents\n",
    "hc11_incidents = df[df['incident_severity'] == 'HC11']\n",
    "\n",
    "# Display the roads where HC11 incidents are recorded\n",
    "roads_with_hc11 = hc11_incidents['road_name'].unique()\n",
    "print(\"Roads with HC11 incidents:\")\n",
    "print(roads_with_hc11)\n",
    "\n",
    "# Display the rows with HC11 incidents\n",
    "print(\"\\nDetails of incidents with severity type HC11:\")\n",
    "print(hc11_incidents)"
   ]
  },
  {
   "cell_type": "code",
   "execution_count": 24,
   "id": "0b72d3a7-ef5c-4985-8bd6-20f25cbe25ae",
   "metadata": {},
   "outputs": [
    {
     "name": "stdout",
     "output_type": "stream",
     "text": [
      "Roads with HC18 incidents:\n",
      "['Baliëndijk']\n",
      "\n",
      "Details of incidents with severity type HC18:\n",
      "             eventid  duration_seconds  latitude  longitude  maxwaarde  \\\n",
      "date                                                                     \n",
      "2019-08-10  33630897               0.8  51.59966   4.795754          0   \n",
      "2019-08-10  33630898               2.6  51.59964   4.795615          0   \n",
      "\n",
      "                   category incident_severity  road_segment_id  \\\n",
      "date                                                             \n",
      "2019-08-10  HARSH CORNERING              HC18        227202103   \n",
      "2019-08-10  HARSH CORNERING              HC18        227202103   \n",
      "\n",
      "           road_manager_type road_number   road_name place_name  avg_speed  \\\n",
      "date                                                                         \n",
      "2019-08-10                 G              Baliëndijk      Breda         33   \n",
      "2019-08-10                 G              Baliëndijk      Breda         35   \n",
      "\n",
      "           risk_category  \n",
      "date                      \n",
      "2019-08-10     high risk  \n",
      "2019-08-10     high risk  \n"
     ]
    }
   ],
   "source": [
    "# Filter for HC18 incidents\n",
    "hc18_incidents = df[df['incident_severity'] == 'HC18']\n",
    "roads_with_hc18 = hc18_incidents['road_name'].unique()\n",
    "print(\"Roads with HC18 incidents:\")\n",
    "print(roads_with_hc18)\n",
    "\n",
    "# Display the rows with HC18 incidents\n",
    "print(\"\\nDetails of incidents with severity type HC18:\")\n",
    "print(hc18_incidents)"
   ]
  },
  {
   "cell_type": "code",
   "execution_count": 25,
   "id": "b1555d19-e314-42c9-b23a-df628607ab00",
   "metadata": {},
   "outputs": [
    {
     "name": "stdout",
     "output_type": "stream",
     "text": [
      "Roads with HC20 incidents:\n",
      "['Groenedijk']\n",
      "\n",
      "Details of incidents with severity type HC20:\n",
      "              eventid  duration_seconds  latitude  longitude  maxwaarde  \\\n",
      "date                                                                      \n",
      "2023-02-06  109764804               0.4  51.60938     4.7892          0   \n",
      "\n",
      "                   category incident_severity  road_segment_id  \\\n",
      "date                                                             \n",
      "2023-02-06  HARSH CORNERING              HC20        600121446   \n",
      "\n",
      "           road_manager_type road_number   road_name place_name  avg_speed  \\\n",
      "date                                                                         \n",
      "2023-02-06                 G              Groenedijk      Breda         36   \n",
      "\n",
      "           risk_category  \n",
      "date                      \n",
      "2023-02-06     high risk  \n"
     ]
    }
   ],
   "source": [
    "# Filter for HC20 incidents\n",
    "hc20_incidents = df[df['incident_severity'] == 'HC20']\n",
    "roads_with_hc20 = hc20_incidents['road_name'].unique()\n",
    "print(\"Roads with HC20 incidents:\")\n",
    "print(roads_with_hc20)\n",
    "\n",
    "# Display the rows with HC20 incidents\n",
    "print(\"\\nDetails of incidents with severity type HC20:\")\n",
    "print(hc20_incidents)"
   ]
  },
  {
   "cell_type": "code",
   "execution_count": 26,
   "id": "83df6289-94d4-4712-9904-45740d58176b",
   "metadata": {},
   "outputs": [
    {
     "name": "stdout",
     "output_type": "stream",
     "text": [
      "Roads with HC21 incidents:\n",
      "['Baliëndijk']\n",
      "\n",
      "Details of incidents with severity type HC21:\n",
      "             eventid  duration_seconds  latitude  longitude  maxwaarde  \\\n",
      "date                                                                     \n",
      "2019-08-10  33630899               0.4  51.59959   4.795319          0   \n",
      "\n",
      "                   category incident_severity  road_segment_id  \\\n",
      "date                                                             \n",
      "2019-08-10  HARSH CORNERING              HC21        227202103   \n",
      "\n",
      "           road_manager_type road_number   road_name place_name  avg_speed  \\\n",
      "date                                                                         \n",
      "2019-08-10                 G              Baliëndijk      Breda         37   \n",
      "\n",
      "           risk_category  \n",
      "date                      \n",
      "2019-08-10     high risk  \n"
     ]
    }
   ],
   "source": [
    "# Filter for HC21 incidents\n",
    "hc21_incidents = df[df['incident_severity'] == 'HC21']\n",
    "roads_with_hc21 = hc21_incidents['road_name'].unique()\n",
    "print(\"Roads with HC21 incidents:\")\n",
    "print(roads_with_hc21)\n",
    "\n",
    "# Display the rows with HC21 incidents\n",
    "print(\"\\nDetails of incidents with severity type HC21:\")\n",
    "print(hc21_incidents)"
   ]
  },
  {
   "cell_type": "code",
   "execution_count": 27,
   "id": "d9a2b3d0-fa7a-4d73-9f63-38c8f9077ca1",
   "metadata": {},
   "outputs": [
    {
     "name": "stdout",
     "output_type": "stream",
     "text": [
      "Filtered DataFrame:\n",
      "              eventid  duration_seconds  latitude  longitude  maxwaarde  \\\n",
      "date                                                                      \n",
      "2024-02-29  132304141               2.6  51.60061   4.794189          1   \n",
      "2024-02-29  132299375               1.8  51.58859   4.785225          0   \n",
      "2024-02-29  132320471               2.9  51.58179   4.826815          0   \n",
      "2024-02-29  132304878               0.8  51.59071   4.789520          0   \n",
      "2024-02-29  132358125              28.0  51.60067   4.808380         86   \n",
      "...               ...               ...       ...        ...        ...   \n",
      "2018-01-01    5350340               1.1  51.60173   4.769984          0   \n",
      "2018-01-01    5849524               1.7  51.58178   4.826831          0   \n",
      "2018-01-01    5866239              17.0  51.57177   4.761276         65   \n",
      "2018-01-01    5396238              14.0  51.59264   4.830792         67   \n",
      "2018-01-01    5718272               2.7  51.60253   4.720942          0   \n",
      "\n",
      "                   category incident_severity  road_segment_id  \\\n",
      "date                                                             \n",
      "2024-02-29  HARSH CORNERING               HC3        227202078   \n",
      "2024-02-29  HARSH CORNERING               HC1        226200046   \n",
      "2024-02-29  HARSH CORNERING               HC1        231198030   \n",
      "2024-02-29          BRAKING               HB1        601075122   \n",
      "2024-02-29            SPEED               SP1        601041451   \n",
      "...                     ...               ...              ...   \n",
      "2018-01-01  HARSH CORNERING               HC1        600750684   \n",
      "2018-01-01  HARSH CORNERING               HC1        231198030   \n",
      "2018-01-01            SPEED               SP1        600751227   \n",
      "2018-01-01            SPEED               SP1        232201079   \n",
      "2018-01-01  HARSH CORNERING               HC1        217203086   \n",
      "\n",
      "           road_manager_type road_number               road_name   place_name  \\\n",
      "date                                                                            \n",
      "2024-02-29                 G                      Grote Doornbos        Breda   \n",
      "2024-02-29                 G                          Chasséveld        Breda   \n",
      "2024-02-29                 G              Franklin Rooseveltlaan        Breda   \n",
      "2024-02-29                 G                    Wilhelminasingel        Breda   \n",
      "2024-02-29                 G                       Nieuwe Kadijk        Breda   \n",
      "...                      ...         ...                     ...          ...   \n",
      "2018-01-01                 G                   Backer en Ruebweg        Breda   \n",
      "2018-01-01                 G              Franklin Rooseveltlaan        Breda   \n",
      "2018-01-01                 G                 Graaf Engelbertlaan        Breda   \n",
      "2018-01-01                 G                        Tilburgseweg        Breda   \n",
      "2018-01-01                 G                   Backer en Ruebweg  Prinsenbeek   \n",
      "\n",
      "            avg_speed risk_category  \n",
      "date                                 \n",
      "2024-02-29          0      low risk  \n",
      "2024-02-29         24      low risk  \n",
      "2024-02-29         38      low risk  \n",
      "2024-02-29         18      low risk  \n",
      "2024-02-29         81      low risk  \n",
      "...               ...           ...  \n",
      "2018-01-01         29      low risk  \n",
      "2018-01-01         28      low risk  \n",
      "2018-01-01         63      low risk  \n",
      "2018-01-01         63      low risk  \n",
      "2018-01-01         32      low risk  \n",
      "\n",
      "[961896 rows x 14 columns]\n"
     ]
    }
   ],
   "source": [
    "# Define the list of incident severity types to remove\n",
    "severity_to_remove = ['HC11', 'HC18', 'HC21', 'HC20']\n",
    "\n",
    "# Filter the DataFrame to exclude the rows with specified severity types\n",
    "df = df.drop(df[(df['incident_severity'].isin(severity_to_remove))].index)\n",
    "\n",
    "# Display the resulting DataFrame\n",
    "print(\"Filtered DataFrame:\")\n",
    "print(df)"
   ]
  },
  {
   "cell_type": "markdown",
   "id": "dcb12e35-d4b3-4ed3-87d2-e75c3c19fbee",
   "metadata": {},
   "source": [
    "### The distribution of data\n"
   ]
  },
  {
   "cell_type": "code",
   "execution_count": 28,
   "id": "d219ea41-de92-420d-94d4-157fc813f36a",
   "metadata": {},
   "outputs": [
    {
     "name": "stdout",
     "output_type": "stream",
     "text": [
      "            eventid  duration_seconds       latitude      longitude  \\\n",
      "count  9.618960e+05     961896.000000  961896.000000  961896.000000   \n",
      "mean   6.944138e+07          6.349353      51.589575       4.771983   \n",
      "std    3.744535e+07          7.728412       0.018712       0.035390   \n",
      "min    5.345485e+06          0.300000      51.485760       4.661410   \n",
      "25%    3.785430e+07          1.400000      51.578460       4.745217   \n",
      "50%    6.681447e+07          2.500000      51.592690       4.770160   \n",
      "75%    1.056508e+08          9.000000      51.601960       4.800753   \n",
      "max    1.323910e+08        517.000000      51.638050       4.871680   \n",
      "\n",
      "           maxwaarde  road_segment_id      avg_speed  \n",
      "count  961896.000000     9.618960e+05  961896.000000  \n",
      "mean       27.755132     4.533113e+08      42.899909  \n",
      "std        33.563992     1.836790e+08      19.852889  \n",
      "min         0.000000     2.092070e+08       0.000000  \n",
      "25%         0.000000     2.271971e+08      28.000000  \n",
      "50%         1.000000     6.003838e+08      41.000000  \n",
      "75%        65.000000     6.007548e+08      62.000000  \n",
      "max       238.000000     6.010751e+08     208.000000  \n"
     ]
    }
   ],
   "source": [
    "print(df.describe())"
   ]
  },
  {
   "cell_type": "code",
   "execution_count": 29,
   "id": "a70b8b10-783e-4098-a1e3-f757c01c3e06",
   "metadata": {},
   "outputs": [
    {
     "data": {
      "image/png": "[encoded data removed]",
      "text/plain": [
       "<Figure size 640x480 with 1 Axes>"
      ]
     },
     "metadata": {},
     "output_type": "display_data"
    },
    {
     "data": {
      "image/png": "[encoded data removed]",
      "text/plain": [
       "<Figure size 640x480 with 1 Axes>"
      ]
     },
     "metadata": {},
     "output_type": "display_data"
    }
   ],
   "source": [
    "df['duration_seconds'].hist(bins=50)\n",
    "plt.title('Histogram of duration_seconds')\n",
    "plt.xlabel('duration_seconds')\n",
    "plt.ylabel('Frequency')\n",
    "plt.show()\n",
    "\n",
    "df['avg_speed'].hist(bins=50)\n",
    "plt.title('Histogram of avg_speed')\n",
    "plt.xlabel('avg_speed')\n",
    "plt.ylabel('Frequency')\n",
    "plt.show()"
   ]
  },
  {
   "cell_type": "code",
   "execution_count": 30,
   "id": "bad8ee46-1a68-4a01-8b58-8e507856df39",
   "metadata": {},
   "outputs": [
    {
     "data": {
      "image/png": "[encoded data removed]",
      "text/plain": [
       "<Figure size 1800x600 with 3 Axes>"
      ]
     },
     "metadata": {},
     "output_type": "display_data"
    }
   ],
   "source": [
    "# Box plot for numerical columns\n",
    "df[['duration_seconds', 'avg_speed']].plot(kind='box', subplots=True, layout=(1, 3), sharey=False, figsize=(18, 6))\n",
    "plt.show()"
   ]
  },
  {
   "cell_type": "code",
   "execution_count": 31,
   "id": "d9b3cb28-f78c-4edb-92ad-59de2d972037",
   "metadata": {},
   "outputs": [
    {
     "name": "stdout",
     "output_type": "stream",
     "text": [
      "Roads with the most instances of speeding:\n",
      "                   road_name  speeding_count\n",
      "239     Graaf Engelbertlaan           48806\n",
      "219  Franklin Rooseveltlaan           33363\n",
      "483               Moerlaken           27084\n",
      "684            Tilburgseweg           19807\n",
      "356             Kapittelweg           19629\n",
      "..                      ...             ...\n",
      "671            Tennisstraat               1\n",
      "308            Hoge Eikberg               1\n",
      "304          Hoenderparkweg               1\n",
      "303               Hoeksteen               1\n",
      "0              't Hofflandt               1\n",
      "\n",
      "[814 rows x 2 columns]\n"
     ]
    }
   ],
   "source": [
    "# Define the threshold for speeding (e.g., 50 km/h)\n",
    "speed_threshold = 50\n",
    "\n",
    "# Mark speeding incidents in the original DataFrame\n",
    "df['is_speeding'] = df['avg_speed'] > speed_threshold\n",
    "\n",
    "# Group by road_name and count the number of speeding incidents\n",
    "speeding_counts = df[df['is_speeding']].groupby('road_name').size().reset_index(name='speeding_count')\n",
    "\n",
    "# Sort dataframe\n",
    "speeding_counts = speeding_counts.sort_values(by='speeding_count', ascending=False)\n",
    "\n",
    "# Display the result\n",
    "print('Roads with the most instances of speeding:\\n', speeding_counts)"
   ]
  },
  {
   "cell_type": "code",
   "execution_count": 32,
   "id": "7331075d-2595-4ce2-94ee-09a1e12d0742",
   "metadata": {},
   "outputs": [
    {
     "data": {
      "image/png": "[encoded data removed]",
      "text/plain": [
       "<Figure size 1000x600 with 1 Axes>"
      ]
     },
     "metadata": {},
     "output_type": "display_data"
    }
   ],
   "source": [
    "# Filter the top 5 roads\n",
    "top_5_speeding = speeding_counts.head(5)\n",
    "\n",
    "# Plot the top 5 roads with the most instances of speeding\n",
    "plt.figure(figsize=(10, 6))\n",
    "plt.barh(top_5_speeding['road_name'], top_5_speeding['speeding_count'], color='skyblue')\n",
    "plt.xlabel('Number of Speeding Incidents')\n",
    "plt.ylabel('Road Name')\n",
    "plt.title('Top 5 Roads with the Most Instances of Speeding')\n",
    "plt.gca().invert_yaxis()  # Invert y-axis to display the road with the highest count at the top\n",
    "plt.show()"
   ]
  },
  {
   "cell_type": "code",
   "execution_count": 33,
   "id": "77c29914-5b8f-4522-ad8d-0bdd3b95864c",
   "metadata": {},
   "outputs": [],
   "source": [
    "# Calculate the mean of non-zero duration_seconds\n",
    "mean_duration = df[df['duration_seconds'] > 0]['duration_seconds'].mean()\n",
    "\n",
    "# Impute the 0 values with the mean duration\n",
    "df['duration_seconds'] = df['duration_seconds'].replace(0, mean_duration)"
   ]
  },
  {
   "cell_type": "code",
   "execution_count": 34,
   "id": "2281a011-12e0-44af-94c0-d3ff6e6f351b",
   "metadata": {},
   "outputs": [
    {
     "data": {
      "image/png": "[encoded data removed]",
      "text/plain": [
       "<Figure size 640x480 with 1 Axes>"
      ]
     },
     "metadata": {},
     "output_type": "display_data"
    }
   ],
   "source": [
    "df['duration_seconds'].hist(bins=50)\n",
    "plt.title('Histogram of duration_seconds')\n",
    "plt.xlabel('duration_seconds')\n",
    "plt.ylabel('Frequency')\n",
    "plt.show()"
   ]
  },
  {
   "cell_type": "code",
   "execution_count": 35,
   "id": "5359a297-1232-482d-8616-3f4eb8f14c43",
   "metadata": {},
   "outputs": [
    {
     "data": {
      "image/png": "[encoded data removed]",
      "text/plain": [
       "<Figure size 1800x600 with 3 Axes>"
      ]
     },
     "metadata": {},
     "output_type": "display_data"
    }
   ],
   "source": [
    "# Remove all instances where the avg_speed < 30kmh\n",
    "min_speed = 30\n",
    "df = df[df['avg_speed'] >= min_speed]\n",
    "\n",
    "# Box plot for numerical columns\n",
    "df['avg_speed'].plot(kind='box', subplots=True, layout=(1, 3), sharey=False, figsize=(18, 6))\n",
    "plt.show()"
   ]
  },
  {
   "cell_type": "code",
   "execution_count": 36,
   "id": "59314b52-067f-4964-96e4-d7bc46ffeb12",
   "metadata": {},
   "outputs": [],
   "source": [
    "# Remove values considered outliers (over average speed of 200)\n",
    "df = df[df['avg_speed']<=200]"
   ]
  },
  {
   "cell_type": "code",
   "execution_count": 37,
   "id": "8c51a03a-667a-44a4-a266-11beb00bf70a",
   "metadata": {},
   "outputs": [
    {
     "name": "stdout",
     "output_type": "stream",
     "text": [
      "Outliers in duration_seconds:\n",
      "               eventid  duration_seconds   latitude  longitude  maxwaarde  \\\n",
      "date                                                                       \n",
      "2024-01-01  129263691             125.0  51.571960   4.778275        101   \n",
      "2023-08-26  122311627             120.0  51.571720   4.775342        101   \n",
      "2023-08-03  121153499             106.0  51.606180   4.683664         76   \n",
      "2023-04-18  112984976             206.0  51.565440   4.807289         41   \n",
      "2023-04-13  113014971             104.0  51.552090   4.729252         99   \n",
      "2023-03-20  111490122             517.0  51.574000   4.782903         51   \n",
      "2023-03-03  112147978             113.0  51.603310   4.815840        104   \n",
      "2023-02-02  108862285             215.6  51.583220   4.803463         59   \n",
      "2023-02-02  108862283             215.6  51.583220   4.803463         59   \n",
      "2022-09-29  101107630             102.0  51.571740   4.761246         86   \n",
      "2022-08-19   98857252             104.0  51.602650   4.747773         83   \n",
      "2022-02-04   78686663             158.0  51.576790   4.792370         97   \n",
      "2021-12-31   76103136             144.0  51.576670   4.791680         90   \n",
      "2021-12-02   76077647             104.0  51.576640   4.791580         93   \n",
      "2021-10-21   72664501             111.0  51.534690   4.743470        163   \n",
      "2020-12-05   56847015             101.0  51.571880   4.776321         86   \n",
      "2020-08-05   51954007             128.0  51.581260   4.782519         45   \n",
      "2020-05-23   47231943             112.0  51.550488   4.727676        117   \n",
      "2020-03-28   49760984             107.0  51.636180   4.698430        102   \n",
      "2019-11-05   38991961             105.0  51.588390   4.783640         46   \n",
      "2019-05-08   27418374             164.0  51.573970   4.783746         46   \n",
      "2019-02-24   22682577             106.1  51.592600   4.820925         77   \n",
      "2018-08-12   14072301             109.0  51.571810   4.776654        106   \n",
      "2018-02-04    7027572             125.1  51.582270   4.818964        106   \n",
      "\n",
      "           category incident_severity  road_segment_id road_manager_type  \\\n",
      "date                                                                       \n",
      "2024-01-01    SPEED               SP1        225196089                 G   \n",
      "2023-08-26    SPEED               SP1        600383819                 G   \n",
      "2023-08-03    SPEED               SP1        600742924                 G   \n",
      "2023-04-18    SPEED               SP1        229195065                 G   \n",
      "2023-04-13    SPEED               SP1        218191004                 G   \n",
      "2023-03-20    SPEED               SP1        226197018                 G   \n",
      "2023-03-03    SPEED               SP1        600922036                 G   \n",
      "2023-02-02    SPEED               SP2        229199039                 G   \n",
      "2023-02-02    SPEED               SP1        229199039                 G   \n",
      "2022-09-29    SPEED               SP1        600751227                 G   \n",
      "2022-08-19    SPEED               SP1        600912179                 G   \n",
      "2022-02-04    SPEED               SP1        600387592                 G   \n",
      "2021-12-31    SPEED               SP1        600387592                 G   \n",
      "2021-12-02    SPEED               SP1        600387592                 G   \n",
      "2021-10-21    SPEED               SP1        601074718                 G   \n",
      "2020-12-05    SPEED               SP1        600912216                 G   \n",
      "2020-08-05    SPEED               SP1        226198087                 G   \n",
      "2020-05-23    SPEED               SP1        218191001                 G   \n",
      "2020-03-28    SPEED               SP1        214211001                 G   \n",
      "2019-11-05    SPEED               SP1        226200114                 G   \n",
      "2019-05-08    SPEED               SP1        226196125                 G   \n",
      "2019-02-24    SPEED               SP1        601041529                 G   \n",
      "2018-08-12    SPEED               SP1        600383819                 G   \n",
      "2018-02-04    SPEED               SP1        600396976                 G   \n",
      "\n",
      "           road_number               road_name   place_name  avg_speed  \\\n",
      "date                                                                     \n",
      "2024-01-01              Johan Willem Frisolaan        Breda         78   \n",
      "2023-08-26                 Graaf Engelbertlaan        Breda         74   \n",
      "2023-08-03                       Strijpenseweg  Prinsenbeek         74   \n",
      "2023-04-18                         Bavelselaan        Breda         41   \n",
      "2023-04-13                       Rijsbergseweg        Breda         92   \n",
      "2023-03-20                         Zandbergweg        Breda         48   \n",
      "2023-03-03                     Oosterhoutseweg   Teteringen         79   \n",
      "2023-02-02                             Bijster        Breda         59   \n",
      "2023-02-02                             Bijster        Breda         59   \n",
      "2022-09-29                 Graaf Engelbertlaan        Breda         70   \n",
      "2022-08-19                        Emerparklaan        Breda         63   \n",
      "2022-02-04              Franklin Rooseveltlaan        Breda         73   \n",
      "2021-12-31              Franklin Rooseveltlaan        Breda         74   \n",
      "2021-12-02              Franklin Rooseveltlaan        Breda         70   \n",
      "2021-10-21                          Overaseweg        Breda        137   \n",
      "2020-12-05                 Graaf Engelbertlaan        Breda         73   \n",
      "2020-08-05                      Wilhelminapark        Breda         45   \n",
      "2020-05-23                       Rijsbergseweg        Breda         91   \n",
      "2020-03-28                             Markweg  Prinsenbeek        100   \n",
      "2019-11-05                        Kloosterlaan        Breda         46   \n",
      "2019-05-08                  Saksen Weimarplein        Breda         46   \n",
      "2019-02-24                            Heerbaan        Breda         64   \n",
      "2018-08-12                 Graaf Engelbertlaan        Breda         75   \n",
      "2018-02-04              Franklin Rooseveltlaan        Breda         74   \n",
      "\n",
      "           risk_category  is_speeding  \n",
      "date                                   \n",
      "2024-01-01      low risk         True  \n",
      "2023-08-26      low risk         True  \n",
      "2023-08-03      low risk         True  \n",
      "2023-04-18      low risk        False  \n",
      "2023-04-13      low risk         True  \n",
      "2023-03-20      low risk        False  \n",
      "2023-03-03      low risk         True  \n",
      "2023-02-02      low risk         True  \n",
      "2023-02-02      low risk         True  \n",
      "2022-09-29      low risk         True  \n",
      "2022-08-19      low risk         True  \n",
      "2022-02-04      low risk         True  \n",
      "2021-12-31      low risk         True  \n",
      "2021-12-02      low risk         True  \n",
      "2021-10-21      low risk         True  \n",
      "2020-12-05      low risk         True  \n",
      "2020-08-05      low risk        False  \n",
      "2020-05-23      low risk         True  \n",
      "2020-03-28      low risk         True  \n",
      "2019-11-05      low risk        False  \n",
      "2019-05-08      low risk        False  \n",
      "2019-02-24      low risk         True  \n",
      "2018-08-12      low risk         True  \n",
      "2018-02-04      low risk         True  \n",
      "Outliers in avg_speed:\n",
      "               eventid  duration_seconds  latitude  longitude  maxwaarde  \\\n",
      "date                                                                      \n",
      "2024-02-27  132096376              10.0  51.61592   4.714360        140   \n",
      "2024-02-27  132096405              10.0  51.61592   4.714360        140   \n",
      "2024-02-27  132096361              10.0  51.61592   4.714360        140   \n",
      "2024-02-27  132096872              10.0  51.61592   4.714360        140   \n",
      "2024-02-27  132096394              10.0  51.61592   4.714360        140   \n",
      "...               ...               ...       ...        ...        ...   \n",
      "2018-01-04    5407694              19.0  51.62485   4.706405        117   \n",
      "2018-01-04    5407697              30.0  51.62785   4.704322        117   \n",
      "2018-01-04    5407685               8.0  51.61531   4.713069        117   \n",
      "2018-01-04    5407687               6.0  51.62703   4.704891        117   \n",
      "2018-01-04    5407695               8.0  51.61531   4.713069        117   \n",
      "\n",
      "           category incident_severity  road_segment_id road_manager_type  \\\n",
      "date                                                                       \n",
      "2024-02-27    SPEED               SP5        216206002                 G   \n",
      "2024-02-27    SPEED               SP3        216206002                 G   \n",
      "2024-02-27    SPEED               SP2        216206002                 G   \n",
      "2024-02-27    SPEED               SP4        216206002                 G   \n",
      "2024-02-27    SPEED               SP1        216206002                 G   \n",
      "...             ...               ...              ...               ...   \n",
      "2018-01-04    SPEED               SP4        215208001                 G   \n",
      "2018-01-04    SPEED               SP2        215209005                 G   \n",
      "2018-01-04    SPEED               SP1        216207006                 G   \n",
      "2018-01-04    SPEED               SP5        215209005                 G   \n",
      "2018-01-04    SPEED               SP4        216207006                 G   \n",
      "\n",
      "           road_number     road_name   place_name  avg_speed risk_category  \\\n",
      "date                                                                         \n",
      "2024-02-27                  Grintweg        Breda        137      low risk   \n",
      "2024-02-27                  Grintweg        Breda        137      low risk   \n",
      "2024-02-27                  Grintweg        Breda        137      low risk   \n",
      "2024-02-27                  Grintweg        Breda        137      low risk   \n",
      "2024-02-27                  Grintweg        Breda        137      low risk   \n",
      "...                ...           ...          ...        ...           ...   \n",
      "2018-01-04              Nieuwveerweg  Prinsenbeek        117      low risk   \n",
      "2018-01-04              Nieuwveerweg  Prinsenbeek        116      low risk   \n",
      "2018-01-04              Nieuwveerweg  Prinsenbeek        117      low risk   \n",
      "2018-01-04              Nieuwveerweg  Prinsenbeek        117      low risk   \n",
      "2018-01-04              Nieuwveerweg  Prinsenbeek        117      low risk   \n",
      "\n",
      "            is_speeding  \n",
      "date                     \n",
      "2024-02-27         True  \n",
      "2024-02-27         True  \n",
      "2024-02-27         True  \n",
      "2024-02-27         True  \n",
      "2024-02-27         True  \n",
      "...                 ...  \n",
      "2018-01-04         True  \n",
      "2018-01-04         True  \n",
      "2018-01-04         True  \n",
      "2018-01-04         True  \n",
      "2018-01-04         True  \n",
      "\n",
      "[2637 rows x 15 columns]\n"
     ]
    }
   ],
   "source": [
    "def find_outliers(df, column):\n",
    "    Q1 = df[column].quantile(0.25)\n",
    "    Q3 = df[column].quantile(0.75)\n",
    "    IQR = Q3 - Q1\n",
    "    lower_bound = Q1 - 1.5 * IQR\n",
    "    upper_bound = Q3 + 1.5 * IQR\n",
    "    outliers = df[(df[column] < lower_bound) | (df[column] > upper_bound)]\n",
    "    return outliers\n",
    "\n",
    "outliers_duration = find_outliers(df, 'duration_seconds')\n",
    "outliers_avg_speed = find_outliers(df, 'avg_speed')\n",
    "\n",
    "# Filter outliers where duration_seconds > 60\n",
    "outliers_duration_filtered = outliers_duration[outliers_duration['duration_seconds'] > 100]\n",
    "\n",
    "print(\"Outliers in duration_seconds:\\n\", outliers_duration_filtered)\n",
    "print(\"Outliers in avg_speed:\\n\", outliers_avg_speed)"
   ]
  },
  {
   "cell_type": "code",
   "execution_count": 38,
   "id": "6bdae682-0b7b-4a0a-90df-191e8455cc91",
   "metadata": {},
   "outputs": [
    {
     "name": "stdout",
     "output_type": "stream",
     "text": [
      "Roads with the highest duration of incidents:\n",
      "                  road_name  outlier_count_duration  mean_duration_seconds\n",
      "3   Franklin Rooseveltlaan                       4                132.775\n",
      "4      Graaf Engelbertlaan                       4                108.000\n",
      "1                  Bijster                       2                215.600\n",
      "11           Rijsbergseweg                       2                108.000\n",
      "0              Bavelselaan                       1                206.000\n",
      "2             Emerparklaan                       1                104.000\n",
      "5                 Heerbaan                       1                106.100\n",
      "6   Johan Willem Frisolaan                       1                125.000\n",
      "7             Kloosterlaan                       1                105.000\n",
      "8                  Markweg                       1                107.000\n",
      "9          Oosterhoutseweg                       1                113.000\n",
      "10              Overaseweg                       1                111.000\n",
      "12      Saksen Weimarplein                       1                164.000\n",
      "13           Strijpenseweg                       1                106.000\n",
      "14          Wilhelminapark                       1                128.000\n",
      "15             Zandbergweg                       1                517.000\n"
     ]
    }
   ],
   "source": [
    "# Mark outliers in the original DataFrame\n",
    "df['is_outlier_duration'] = df['duration_seconds'].isin(outliers_duration_filtered['duration_seconds'])\n",
    "\n",
    "# Group by road_name and count the number of outliers\n",
    "outlier_counts = df[df['is_outlier_duration']].groupby('road_name')['duration_seconds'].agg(['size', 'mean']).reset_index()\n",
    "outlier_counts.columns = ['road_name', 'outlier_count_duration', 'mean_duration_seconds']\n",
    "\n",
    "# Sort dataframe\n",
    "outlier_counts = outlier_counts.sort_values(by='outlier_count_duration', ascending=False)\n",
    "\n",
    "# Display the result\n",
    "print('Roads with the highest duration of incidents:\\n', outlier_counts)"
   ]
  },
  {
   "cell_type": "markdown",
   "id": "49243e43-e775-4230-9856-42ab0d8d146c",
   "metadata": {},
   "source": [
    "### Normalization of the data"
   ]
  },
  {
   "cell_type": "code",
   "execution_count": 39,
   "id": "7213020b-8bd8-4b21-a36e-377b898957d5",
   "metadata": {},
   "outputs": [
    {
     "name": "stdout",
     "output_type": "stream",
     "text": [
      "              eventid  duration_seconds  latitude  longitude  maxwaarde  \\\n",
      "date                                                                      \n",
      "2024-02-29  132320471               2.9  51.58179   4.826815          0   \n",
      "2024-02-29  132358125              28.0  51.60067   4.808380         86   \n",
      "2024-02-29  132333087               1.5  51.59643   4.749850          1   \n",
      "2024-02-29  132299654              10.0  51.59943   4.729712         46   \n",
      "2024-02-29  132283868               7.0  51.57697   4.794880         69   \n",
      "...               ...               ...       ...        ...        ...   \n",
      "2018-01-01    5965664              22.9  51.58698   4.697569         78   \n",
      "2018-01-01    5653662               2.4  51.59909   4.791214          0   \n",
      "2018-01-01    5866239              17.0  51.57177   4.761276         65   \n",
      "2018-01-01    5396238              14.0  51.59264   4.830792         67   \n",
      "2018-01-01    5718272               2.7  51.60253   4.720942          0   \n",
      "\n",
      "           incident_severity  road_segment_id road_manager_type road_number  \\\n",
      "date                                                                          \n",
      "2024-02-29               HC1        231198030                 G               \n",
      "2024-02-29               SP1        601041451                 G               \n",
      "2024-02-29               HB1        600750253                 G               \n",
      "2024-02-29               SP1        218202001                 G               \n",
      "2024-02-29               SP1        227197120                 G               \n",
      "...                      ...              ...               ...         ...   \n",
      "2018-01-01               SP1        600746395                 G               \n",
      "2018-01-01               HC1        600753776                 G               \n",
      "2018-01-01               SP1        600751227                 G               \n",
      "2018-01-01               SP1        232201079                 G               \n",
      "2018-01-01               HC1        217203086                 G               \n",
      "\n",
      "                         road_name  ...  is_outlier_duration  \\\n",
      "date                                ...                        \n",
      "2024-02-29  Franklin Rooseveltlaan  ...                False   \n",
      "2024-02-29           Nieuwe Kadijk  ...                False   \n",
      "2024-02-29             Lunetstraat  ...                False   \n",
      "2024-02-29          Gageldonkseweg  ...                False   \n",
      "2024-02-29  Franklin Rooseveltlaan  ...                False   \n",
      "...                            ...  ...                  ...   \n",
      "2018-01-01              Leursebaan  ...                False   \n",
      "2018-01-01            Doornboslaan  ...                False   \n",
      "2018-01-01     Graaf Engelbertlaan  ...                False   \n",
      "2018-01-01            Tilburgseweg  ...                False   \n",
      "2018-01-01       Backer en Ruebweg  ...                False   \n",
      "\n",
      "           category_ACCELERATING  category_BRAKING  category_HARSH CORNERING  \\\n",
      "date                                                                           \n",
      "2024-02-29                 False             False                      True   \n",
      "2024-02-29                 False             False                     False   \n",
      "2024-02-29                 False              True                     False   \n",
      "2024-02-29                 False             False                     False   \n",
      "2024-02-29                 False             False                     False   \n",
      "...                          ...               ...                       ...   \n",
      "2018-01-01                 False             False                     False   \n",
      "2018-01-01                 False             False                      True   \n",
      "2018-01-01                 False             False                     False   \n",
      "2018-01-01                 False             False                     False   \n",
      "2018-01-01                 False             False                      True   \n",
      "\n",
      "            category_SPEED  place_name_Bavel  place_name_Breda  \\\n",
      "date                                                             \n",
      "2024-02-29           False             False              True   \n",
      "2024-02-29            True             False              True   \n",
      "2024-02-29           False             False              True   \n",
      "2024-02-29            True             False              True   \n",
      "2024-02-29            True             False              True   \n",
      "...                    ...               ...               ...   \n",
      "2018-01-01            True             False              True   \n",
      "2018-01-01           False             False              True   \n",
      "2018-01-01            True             False              True   \n",
      "2018-01-01            True             False              True   \n",
      "2018-01-01           False             False             False   \n",
      "\n",
      "            place_name_Prinsenbeek  place_name_Teteringen  \\\n",
      "date                                                        \n",
      "2024-02-29                   False                  False   \n",
      "2024-02-29                   False                  False   \n",
      "2024-02-29                   False                  False   \n",
      "2024-02-29                   False                  False   \n",
      "2024-02-29                   False                  False   \n",
      "...                            ...                    ...   \n",
      "2018-01-01                   False                  False   \n",
      "2018-01-01                   False                  False   \n",
      "2018-01-01                   False                  False   \n",
      "2018-01-01                   False                  False   \n",
      "2018-01-01                    True                  False   \n",
      "\n",
      "            place_name_Ulvenhout  \n",
      "date                              \n",
      "2024-02-29                 False  \n",
      "2024-02-29                 False  \n",
      "2024-02-29                 False  \n",
      "2024-02-29                 False  \n",
      "2024-02-29                 False  \n",
      "...                          ...  \n",
      "2018-01-01                 False  \n",
      "2018-01-01                 False  \n",
      "2018-01-01                 False  \n",
      "2018-01-01                 False  \n",
      "2018-01-01                 False  \n",
      "\n",
      "[685604 rows x 23 columns]\n"
     ]
    }
   ],
   "source": [
    "# One-hot encode categorical columns\n",
    "df = pd.get_dummies(df, columns=['category', 'place_name'])\n",
    "print(df)"
   ]
  },
  {
   "cell_type": "code",
   "execution_count": 40,
   "id": "1e57745a-7f1a-4b88-ac26-f8ca37ca2722",
   "metadata": {},
   "outputs": [
    {
     "name": "stdout",
     "output_type": "stream",
     "text": [
      "           risk_category  risk_category_encoded\n",
      "date                                           \n",
      "2024-02-29      low risk                      0\n",
      "2024-02-29      low risk                      0\n",
      "2024-02-29      low risk                      0\n",
      "2024-02-29      low risk                      0\n",
      "2024-02-29      low risk                      0\n",
      "...                  ...                    ...\n",
      "2018-01-01      low risk                      0\n",
      "2018-01-01      low risk                      0\n",
      "2018-01-01      low risk                      0\n",
      "2018-01-01      low risk                      0\n",
      "2018-01-01      low risk                      0\n",
      "\n",
      "[685604 rows x 2 columns]\n"
     ]
    }
   ],
   "source": [
    "# Define the mapping of original categories to encoded values\n",
    "mapping = {'low risk': 0, 'medium risk': 1, 'high risk': 2}\n",
    "\n",
    "# Create a new column with the encoded values\n",
    "df['risk_category_encoded'] = df['risk_category'].map(mapping)\n",
    "\n",
    "# Display the updated DataFrame\n",
    "print(df[['risk_category', 'risk_category_encoded']])"
   ]
  },
  {
   "cell_type": "code",
   "execution_count": 41,
   "id": "1697f34c-605e-4395-8710-c55db47446d5",
   "metadata": {},
   "outputs": [
    {
     "name": "stdout",
     "output_type": "stream",
     "text": [
      "                road_name  total_incidents   HA1  HA2  HA3   HB1  HB2  HB3  \\\n",
      "0     Graaf Engelbertlaan            63439   778  227   32  1161  170   24   \n",
      "1  Franklin Rooseveltlaan            60053   928  274   52  1023  176   31   \n",
      "2            Tilburgseweg            43205   369   93   18   555   71    8   \n",
      "3       Backer en Ruebweg            38580  1096  294   65  2590  263   37   \n",
      "4               Moerlaken            30480   159   40    4   173   27    3   \n",
      "\n",
      "     HC1  HC10  ...  HC14.weighted  SP2.weighted  SP3.weighted  HC15.weighted  \\\n",
      "0  13478     0  ...             30         10120           842              6   \n",
      "1  25124     0  ...             26          5042           356              0   \n",
      "2  30096     0  ...              6          1332            92              0   \n",
      "3  27109     2  ...             54           738            98              9   \n",
      "4   3109     0  ...              4          6862           630              0   \n",
      "\n",
      "   HC16.weighted  HC17.weighted  HC19.weighted  SP4.weighted  SP5.weighted  \\\n",
      "0             51              3              0           129            15   \n",
      "1             75              0              0            48             9   \n",
      "2              6              0              0             6             0   \n",
      "3             93              3              6            33            12   \n",
      "4             24              3              0            75             9   \n",
      "\n",
      "   severity_score  \n",
      "0           69593  \n",
      "1           63474  \n",
      "2           44154  \n",
      "3           39923  \n",
      "4           34396  \n",
      "\n",
      "[5 rows x 55 columns]\n",
      "\n",
      "Top 10 roads with highest severity scores:                 road_name  severity_score\n",
      "0     Graaf Engelbertlaan           69593\n",
      "1  Franklin Rooseveltlaan           63474\n",
      "2            Tilburgseweg           44154\n",
      "3       Backer en Ruebweg           39923\n",
      "4               Moerlaken           34396\n"
     ]
    }
   ],
   "source": [
    "# Calculate the total number of incidents per road\n",
    "incident_counts = df['road_name'].value_counts().reset_index()\n",
    "incident_counts.columns = ['road_name', 'total_incidents']\n",
    "\n",
    "# Calculate the counts of each type of incident per road\n",
    "incident_types_per_road = df.groupby(['road_name', 'incident_severity']).size().unstack(fill_value=0).reset_index()\n",
    "\n",
    "# Merge incident counts and types\n",
    "road_incident_data = pd.merge(incident_counts, incident_types_per_road, on='road_name')\n",
    "\n",
    "# Define weights for severity\n",
    "severity_weights = {\n",
    "    'HA1':1, 'HB1':1, 'HC1':1, 'HC2':1,  'HC3':1, 'HC4':1, 'HC5':1, 'SP1':1,\n",
    "    'HA2':2, 'HA3':2, 'HB2':2, 'HB3':2, 'HC6':2, 'HC7':2, 'HC8':2, 'HC10':2, 'HC11':2, 'HC13':2, 'HC14':2, 'SP2':2, 'SP3':2,\n",
    "    'HC15':3, 'HC16':3, 'HC17':3, 'HC18':3, 'HC19':3, 'HC20':3, 'HC21':3, 'SP4':3, 'SP5':3\n",
    "}\n",
    "\n",
    "# Assign weights to incident types based on severity levels\n",
    "for severity, weight in severity_weights.items():\n",
    "    if severity in road_incident_data.columns:\n",
    "        road_incident_data[f\"{severity}.weighted\"] = road_incident_data[severity] * weight\n",
    "\n",
    "# Calculate a weighted severity score\n",
    "incident_columns = [col for col in road_incident_data.columns if 'weighted' in col]\n",
    "road_incident_data['severity_score'] = road_incident_data[incident_columns].sum(axis = 1)\n",
    "\n",
    "# Display df\n",
    "print(road_incident_data.head())\n",
    "\n",
    "# Identify roads with the highest severity scores\n",
    "top_risk_roads = road_incident_data.sort_values(by='severity_score', ascending=False).head(5)\n",
    "print(\"\\nTop 10 roads with highest severity scores:\", top_risk_roads[['road_name', 'severity_score']])"
   ]
  },
  {
   "cell_type": "code",
   "execution_count": 42,
   "id": "c408e1e1-572a-4982-a765-88da7caefae0",
   "metadata": {},
   "outputs": [
    {
     "data": {
      "text/plain": [
       "604"
      ]
     },
     "execution_count": 42,
     "metadata": {},
     "output_type": "execute_result"
    }
   ],
   "source": [
    "df.reset_index(inplace=True)\n",
    "df.rename(columns={'index': 'date'}, inplace=True)  # Ensures the date column is named and treated correctly\n",
    "df.to_sql('ANWB_data', engine, schema='group18_warehouse', if_exists='replace', index=False)"
   ]
  },
  {
   "cell_type": "code",
   "execution_count": 43,
   "id": "3eaa271c-f27f-47f1-8e58-54e1a678a106",
   "metadata": {},
   "outputs": [],
   "source": [
    "# Create SQLAlchemy engine\n",
    "engine = create_engine(conn_string)\n",
    "\n",
    "# Define the schema where you want to store the table\n",
    "schema = 'group18_warehouse'\n",
    " \n",
    "# Convert DataFrame to SQL table\n",
    "df.to_sql('ANWB_data', engine, schema='group18_warehouse', if_exists='replace', index=False)\n",
    " \n",
    "# Close the connection\n",
    "engine.dispose()"
   ]
  },
  {
   "cell_type": "markdown",
   "id": "2bab1196-c85f-4fbc-8be4-8c6423276d74",
   "metadata": {},
   "source": [
    "### Open-Meteo Dataset"
   ]
  },
  {
   "cell_type": "markdown",
   "id": "76ff5111-b1dd-4df4-bf94-3cc674fd7d6c",
   "metadata": {},
   "source": [
    "### Introduction to the Weather Data Set\n",
    "\n",
    "This weather dataset contains meteorological data spanning from January 1, 2015, to May 1, 2024. The data was sourced from the Open-Meteo API and includes various weather parameters recorded at a specific location with latitude 51.5904 and longitude 4.7936 (Breda). The dataset is structured to provide insights into weather patterns and trends over nearly a decade.\n",
    "\n",
    "#### Data Fields\n",
    "\n",
    "1. **time**: Timestamp of the recorded data, indicating the specific date and hour of observation. This column is crucial for temporal analysis and trend detection.\n",
    "   \n",
    "2. **temperature_2m (°C)**: Temperature measured at a height of 2 meters above ground level, expressed in degrees Celsius. This field helps in understanding the daily and seasonal temperature variations.\n",
    "\n",
    "3. **rain (mm)**: The amount of rainfall recorded, expressed in millimeters.\n",
    "\n",
    "4. **snowfall (cm)**: The amount of snowfall recorded, expressed in centimeters.\n",
    "\n",
    "5. **snow_depth (m)**: The depth of snow on the ground, expressed in meters.\n",
    "\n",
    "6. **weather_code (wmo code)**: The weather condition code according to the World Meteorological Organization (WMO) standards. This code provides standardized information about the observed weather conditions, such as clear skies, fog, drizzle, rain, snow, and thunderstorms.\n",
    "\n",
    "WMO weather codes are numeric and correspond to specific weather conditions.\n",
    "\n",
    "0: Clear sky\n",
    "\n",
    "1: Mainly clear, a few clouds\n",
    "\n",
    "2: Partly cloudy\n",
    "\n",
    "3: Overcast\n",
    "\n",
    "45: Fog\n",
    "\n",
    "51: Light drizzle\n",
    "\n",
    "53: Moderate drizzle\n",
    "\n",
    "55: Heavy drizzle\n",
    "\n",
    "61: Light rain\n",
    "\n",
    "63: Moderate rain\n",
    "\n",
    "65: Heavy rain\n",
    "\n",
    "71: Light snow\n",
    "\n",
    "73: Moderate snow\n",
    "\n",
    "75: Heavy snow\n",
    "\n",
    "95: Thunderstorm, slight or moderate\n",
    "\n",
    "97: Thunderstorm with hail\n",
    "\n",
    "Using WMO Weather Codes\n",
    "These codes can be useful for adding another dimension to your risk level analysis.\n",
    "\n",
    "#### Risk Level\n",
    "\n",
    "Low Risk: Total intensity less than 0.4 cm (4 mm of rain or snow).\n",
    "\n",
    "Medium Risk: Total intensity between 0.4 cm and 1.25 cm (4 mm to 12.5 mm of rain or snow).\n",
    "\n",
    "High Risk: Total intensity greater than 1.25 cm (12.5 mm of rain or snow).\n",
    "\n",
    "#### Data Source\n",
    "\n",
    "The dataset was retrieved using the [Open-Meteo API](https://open-meteo.com/en/docs/historical-weather-api#latitude=51.5904&longitude=4.7936&hourly=temperature_2m,rain,snowfall,snow_depth,weather_code&timezone=auto), a reliable source for historical weather data.\n"
   ]
  },
  {
   "cell_type": "code",
   "execution_count": 44,
   "id": "47240b81-b66c-4e81-9ad3-b6184f85fe87",
   "metadata": {},
   "outputs": [
    {
     "name": "stdout",
     "output_type": "stream",
     "text": [
      "                     temperature_2m  rain  snowfall  snow_depth  weather_code\n",
      "time                                                                         \n",
      "2018-08-15 00:00:00            17.7   0.0       0.0         0.0             3\n",
      "2018-08-15 01:00:00            17.5   0.0       0.0         0.0             3\n",
      "2018-08-15 02:00:00            17.2   0.0       0.0         0.0             2\n",
      "2018-08-15 03:00:00            17.1   0.0       0.0         0.0             3\n",
      "2018-08-15 04:00:00            17.2   0.0       0.0         0.0             2\n"
     ]
    }
   ],
   "source": [
    "# Display the DataFrame\n",
    "print(df_api.head())"
   ]
  },
  {
   "cell_type": "code",
   "execution_count": 45,
   "id": "5d5beb08-8439-4b7c-ac16-d65a5fc3236f",
   "metadata": {},
   "outputs": [
    {
     "name": "stdout",
     "output_type": "stream",
     "text": [
      "<class 'pandas.core.frame.DataFrame'>\n",
      "DatetimeIndex: 48600 entries, 2018-08-15 00:00:00 to 2024-02-29 23:00:00\n",
      "Data columns (total 5 columns):\n",
      " #   Column          Non-Null Count  Dtype  \n",
      "---  ------          --------------  -----  \n",
      " 0   temperature_2m  48600 non-null  float64\n",
      " 1   rain            48600 non-null  float64\n",
      " 2   snowfall        48600 non-null  float64\n",
      " 3   snow_depth      48600 non-null  float64\n",
      " 4   weather_code    48600 non-null  int64  \n",
      "dtypes: float64(4), int64(1)\n",
      "memory usage: 2.2 MB\n"
     ]
    }
   ],
   "source": [
    "df_api.info()"
   ]
  },
  {
   "cell_type": "code",
   "execution_count": 46,
   "id": "f81f666c-2b1a-4eda-9e9b-fb29687cedf3",
   "metadata": {},
   "outputs": [
    {
     "name": "stdout",
     "output_type": "stream",
     "text": [
      "        time  temperature_2m      rain  snowfall  snow_depth  weather_code\n",
      "0 2018-08-15       19.425000  0.025000       0.0         0.0     12.458333\n",
      "1 2018-08-16       19.683333  0.008333       0.0         0.0      5.333333\n",
      "2 2018-08-17       18.229167  0.354167       0.0         0.0     19.291667\n",
      "3 2018-08-18       17.583333  0.012500       0.0         0.0      5.333333\n",
      "4 2018-08-19       18.916667  0.000000       0.0         0.0      1.875000\n"
     ]
    }
   ],
   "source": [
    "# Aggregate data daily\n",
    "daily_aggregated = df_api.resample('D').mean().reset_index()\n",
    "\n",
    "# Verify the result\n",
    "print(daily_aggregated.head())"
   ]
  },
  {
   "cell_type": "markdown",
   "id": "8036b105-8e96-42e3-8c6b-69969f076428",
   "metadata": {},
   "source": [
    "Defines the function to determine the risk level based on WMO weather codes.\n",
    "\n",
    "Applies this function to create a new risk level column based on weather codes."
   ]
  },
  {
   "cell_type": "code",
   "execution_count": 47,
   "id": "170cebcb-7496-4eb5-8564-178a38e923fa",
   "metadata": {},
   "outputs": [
    {
     "name": "stdout",
     "output_type": "stream",
     "text": [
      "                     weather_code risk_level_wmo\n",
      "time                                            \n",
      "2018-08-15 00:00:00             3              0\n",
      "2018-08-15 01:00:00             3              0\n",
      "2018-08-15 02:00:00             2              0\n",
      "2018-08-15 03:00:00             3              0\n",
      "2018-08-15 04:00:00             2              0\n",
      "...                           ...            ...\n",
      "2024-02-29 19:00:00            53              1\n",
      "2024-02-29 20:00:00            51              1\n",
      "2024-02-29 21:00:00            53              1\n",
      "2024-02-29 22:00:00            53              1\n",
      "2024-02-29 23:00:00            53              1\n",
      "\n",
      "[48600 rows x 2 columns]\n"
     ]
    }
   ],
   "source": [
    "def determine_risk_wmo(weather_code):\n",
    "    high_risk_codes = [95, 97]  # Thunderstorm codes\n",
    "    if weather_code in high_risk_codes:\n",
    "        return '2'\n",
    "    elif weather_code in [61, 63, 65, 71, 73, 75, 45, 51, 53, 55]:  # Moderate risk weather conditions\n",
    "        return '1'\n",
    "    else:\n",
    "        return '0'\n",
    "\n",
    "# Apply the function to determine the risk level based on WMO weather codes\n",
    "df_api['risk_level_wmo'] = df_api['weather_code'].apply(determine_risk_wmo)\n",
    "\n",
    "# Print the DataFrame with the new column\n",
    "print(df_api[['weather_code', 'risk_level_wmo']])\n"
   ]
  },
  {
   "cell_type": "code",
   "execution_count": 48,
   "id": "f53a4457-3144-4acc-af6f-0ffeff022823",
   "metadata": {},
   "outputs": [],
   "source": [
    "conn_string = f\"postgresql+psycopg2://{db_params['user']}:{db_params['password']}@{db_params['host']}:{db_params['port']}/{db_params['database']}\"\n",
    "\n",
    "# Create SQLAlchemy engine\n",
    "engine = create_engine(conn_string)\n",
    "\n",
    "# Define the schema where you want to store the table\n",
    "schema = 'group18_warehouse'\n",
    "\n",
    "# Convert DataFrame to SQL table\n",
    "# Ensure df_api is your DataFrame containing the weather data and risk levels\n",
    "df_api.reset_index(inplace=True)  # Reset the index to include 'time' in the table\n",
    "df_api.to_sql('weather_risk_data', engine, schema=schema, if_exists='replace', index=False)\n",
    "\n",
    "# Close the connection\n",
    "engine.dispose()"
   ]
  },
  {
   "cell_type": "code",
   "execution_count": 49,
   "id": "450a916d-3db9-40d8-8f0e-ae6b5d436aa2",
   "metadata": {},
   "outputs": [
    {
     "name": "stdout",
     "output_type": "stream",
     "text": [
      "                      time  temperature_2m          rain      snowfall  \\\n",
      "count                48600    48600.000000  48600.000000  48600.000000   \n",
      "mean   2021-05-23 11:30:00       11.277056      0.097461      0.001806   \n",
      "min    2018-08-15 00:00:00       -9.500000      0.000000      0.000000   \n",
      "25%    2020-01-03 05:45:00        6.400000      0.000000      0.000000   \n",
      "50%    2021-05-23 11:30:00       10.800000      0.000000      0.000000   \n",
      "75%    2022-10-11 17:15:00       16.000000      0.000000      0.000000   \n",
      "max    2024-02-29 23:00:00       37.500000     15.700000      2.170000   \n",
      "std                    NaN        6.657822      0.363864      0.034492   \n",
      "\n",
      "         snow_depth  weather_code  \n",
      "count  48600.000000  48600.000000  \n",
      "mean       0.000942     12.099835  \n",
      "min        0.000000      0.000000  \n",
      "25%        0.000000      1.000000  \n",
      "50%        0.000000      2.000000  \n",
      "75%        0.000000      3.000000  \n",
      "max        0.140000     75.000000  \n",
      "std        0.008741     21.062767  \n"
     ]
    }
   ],
   "source": [
    "print(df_api.describe())"
   ]
  },
  {
   "cell_type": "code",
   "execution_count": 50,
   "id": "bd2928ec-6fa1-46ac-a96e-1a6a7bcfa256",
   "metadata": {},
   "outputs": [
    {
     "name": "stdout",
     "output_type": "stream",
     "text": [
      "                 time  temperature_2m  rain  snowfall  snow_depth  \\\n",
      "0 2018-08-15 00:00:00            17.7   0.0       0.0         0.0   \n",
      "1 2018-08-15 01:00:00            17.5   0.0       0.0         0.0   \n",
      "2 2018-08-15 02:00:00            17.2   0.0       0.0         0.0   \n",
      "3 2018-08-15 03:00:00            17.1   0.0       0.0         0.0   \n",
      "4 2018-08-15 04:00:00            17.2   0.0       0.0         0.0   \n",
      "\n",
      "   weather_code risk_level_wmo  \n",
      "0             3              0  \n",
      "1             3              0  \n",
      "2             2              0  \n",
      "3             3              0  \n",
      "4             2              0  \n"
     ]
    }
   ],
   "source": [
    "print(df_api.head())"
   ]
  },
  {
   "cell_type": "markdown",
   "id": "60701a01-a8e0-4d87-a997-0118c9ff42e9",
   "metadata": {},
   "source": [
    "### Task 5.4 - Advanced Pre-processing of Data\n",
    "\n",
    "Please provide the relevant code for joining datasets and performing advanced data preprocessing. Refer to the **good** criterion explanation for a better understanding of the steps to consider for this criterion. This evidence corresponds to the **good** criterion.\n",
    "\n",
    "__Important!__ Do __NOT__ include usernames or passwords in plain text in your submission. \n",
    "You can replace them with Environment Variables, Placeholders, etc."
   ]
  },
  {
   "cell_type": "code",
   "execution_count": 51,
   "id": "16dd2f67-f48d-4fa8-ad3e-10283e2aec9f",
   "metadata": {},
   "outputs": [
    {
     "name": "stdout",
     "output_type": "stream",
     "text": [
      "          table_name\n",
      "0          rain_data\n",
      "1  weather_risk_data\n",
      "2          ANWB_data\n"
     ]
    }
   ],
   "source": [
    "engine = create_engine(conn_string)\n",
    "\n",
    "# SQL Query to get table names from the schema\n",
    "sql_query = text(\"\"\"\n",
    "SELECT table_name\n",
    "FROM information_schema.tables\n",
    "WHERE table_schema = 'group18_warehouse';\n",
    "\"\"\")\n",
    "\n",
    "# Execute the SQL query\n",
    "with engine.connect() as connection:\n",
    "    result = connection.execute(sql_query)\n",
    "\n",
    "# Fetch\n",
    "tables = result.fetchall()\n",
    "\n",
    "# Convert to df\n",
    "df_tables = pd.DataFrame(tables, columns=['table_name'])\n",
    "\n",
    "# Display df\n",
    "print(df_tables)\n",
    "\n",
    "# Close the connection\n",
    "engine.dispose()"
   ]
  },
  {
   "cell_type": "code",
   "execution_count": 52,
   "id": "aeca4aa5-ff24-4ed1-8de7-169307195ff5",
   "metadata": {},
   "outputs": [
    {
     "name": "stdout",
     "output_type": "stream",
     "text": [
      "<class 'pandas.core.frame.DataFrame'>\n",
      "RangeIndex: 685604 entries, 0 to 685603\n",
      "Data columns (total 25 columns):\n",
      " #   Column                    Non-Null Count   Dtype  \n",
      "---  ------                    --------------   -----  \n",
      " 0   date                      685604 non-null  object \n",
      " 1   eventid                   685604 non-null  int64  \n",
      " 2   duration_seconds          685604 non-null  float64\n",
      " 3   latitude                  685604 non-null  float64\n",
      " 4   longitude                 685604 non-null  float64\n",
      " 5   maxwaarde                 685604 non-null  int64  \n",
      " 6   incident_severity         685604 non-null  object \n",
      " 7   road_segment_id           685604 non-null  int64  \n",
      " 8   road_manager_type         685604 non-null  object \n",
      " 9   road_number               685604 non-null  object \n",
      " 10  road_name                 685604 non-null  object \n",
      " 11  avg_speed                 685604 non-null  int64  \n",
      " 12  risk_category             685604 non-null  object \n",
      " 13  is_speeding               685604 non-null  bool   \n",
      " 14  is_outlier_duration       685604 non-null  bool   \n",
      " 15  category_ACCELERATING     685604 non-null  bool   \n",
      " 16  category_BRAKING          685604 non-null  bool   \n",
      " 17  category_HARSH CORNERING  685604 non-null  bool   \n",
      " 18  category_SPEED            685604 non-null  bool   \n",
      " 19  place_name_Bavel          685604 non-null  bool   \n",
      " 20  place_name_Breda          685604 non-null  bool   \n",
      " 21  place_name_Prinsenbeek    685604 non-null  bool   \n",
      " 22  place_name_Teteringen     685604 non-null  bool   \n",
      " 23  place_name_Ulvenhout      685604 non-null  bool   \n",
      " 24  risk_category_encoded     685604 non-null  int64  \n",
      "dtypes: bool(11), float64(3), int64(5), object(6)\n",
      "memory usage: 80.4+ MB\n"
     ]
    }
   ],
   "source": [
    "df.info()"
   ]
  },
  {
   "cell_type": "code",
   "execution_count": 53,
   "id": "7da580f0-b19c-449e-84d9-507fae62acae",
   "metadata": {},
   "outputs": [
    {
     "name": "stdout",
     "output_type": "stream",
     "text": [
      "                 column_name\n",
      "0                       date\n",
      "1                    eventid\n",
      "2           duration_seconds\n",
      "3                   latitude\n",
      "4                  longitude\n",
      "5                  maxwaarde\n",
      "6          incident_severity\n",
      "7            road_segment_id\n",
      "8          road_manager_type\n",
      "9                road_number\n",
      "10                 road_name\n",
      "11                 avg_speed\n",
      "12             risk_category\n",
      "13               is_speeding\n",
      "14       is_outlier_duration\n",
      "15     category_ACCELERATING\n",
      "16          category_BRAKING\n",
      "17  category_HARSH CORNERING\n",
      "18            category_SPEED\n",
      "19          place_name_Bavel\n",
      "20          place_name_Breda\n",
      "21    place_name_Prinsenbeek\n",
      "22     place_name_Teteringen\n",
      "23      place_name_Ulvenhout\n",
      "24     risk_category_encoded\n"
     ]
    }
   ],
   "source": [
    "engine = create_engine(conn_string)\n",
    "\n",
    "# Prepared SQL query\n",
    "sql_query = text(\"\"\"\n",
    "SELECT column_name\n",
    "FROM information_schema.columns\n",
    "WHERE table_schema = 'group18_warehouse' AND table_name = 'ANWB_data';\n",
    "\"\"\")\n",
    "\n",
    "# Execute the query and fetch the data\n",
    "with engine.connect() as connection:\n",
    "    result = connection.execute(sql_query)\n",
    "    rows = result.fetchall()\n",
    "\n",
    "# Convert fetched data to df\n",
    "df_columns = pd.DataFrame(rows, columns=['column_name'])\n",
    "\n",
    "# Display the df\n",
    "print(df_columns)\n",
    "\n",
    "# Dispose the engine\n",
    "engine.dispose()\n"
   ]
  },
  {
   "cell_type": "code",
   "execution_count": 54,
   "id": "ee21d470-852c-4c76-9f33-4e4a73013a2e",
   "metadata": {},
   "outputs": [
    {
     "name": "stdout",
     "output_type": "stream",
     "text": [
      "         date   eventid  latitude  longitude  duration_seconds  maxwaarde  \\\n",
      "0  2018-08-15  14112155  51.59747   4.748264               1.1          0   \n",
      "1  2018-08-15  13473933  51.61236   4.765297              17.0         65   \n",
      "2  2018-08-15  14120070  51.57692   4.793971              14.0         67   \n",
      "3  2018-08-15  13473935  51.60031   4.747981               2.0          0   \n",
      "4  2018-08-15  13783481  51.56931   4.776554               6.0         41   \n",
      "\n",
      "  incident_severity  road_segment_id road_manager_type road_number  ...  \\\n",
      "0               HC1        600750255                 G              ...   \n",
      "1               SP1        600893106                 G              ...   \n",
      "2               SP1        227197120                 G              ...   \n",
      "3               HC1        221203014                 G              ...   \n",
      "4               SP1        225196018                 G              ...   \n",
      "\n",
      "  place_name_Prinsenbeek  place_name_Teteringen place_name_Ulvenhout  \\\n",
      "0                  False                  False                False   \n",
      "1                  False                  False                False   \n",
      "2                  False                  False                False   \n",
      "3                  False                  False                False   \n",
      "4                  False                  False                False   \n",
      "\n",
      "   risk_category_encoded  temperature_2m  rain  snowfall  snow_depth  \\\n",
      "0                      0            17.7   0.0       0.0         0.0   \n",
      "1                      0            17.7   0.0       0.0         0.0   \n",
      "2                      0            17.7   0.0       0.0         0.0   \n",
      "3                      0            17.7   0.0       0.0         0.0   \n",
      "4                      0            17.7   0.0       0.0         0.0   \n",
      "\n",
      "   weather_code  risk_level_wmo  \n",
      "0             3               0  \n",
      "1             3               0  \n",
      "2             3               0  \n",
      "3             3               0  \n",
      "4             3               0  \n",
      "\n",
      "[5 rows x 27 columns]\n"
     ]
    }
   ],
   "source": [
    "engine = create_engine(conn_string)\n",
    "\n",
    "# Prepared SQL query\n",
    "sql_query = text(\"\"\"\n",
    "SELECT \n",
    "    a.\"date\", a.\"eventid\", a.\"latitude\", a.\"longitude\", a.\"duration_seconds\", a.\"maxwaarde\", a.\"incident_severity\",\n",
    "    a.\"road_segment_id\", a.\"road_manager_type\", a.\"road_number\", a.\"road_name\", a.\"avg_speed\",\n",
    "    a.\"risk_category\", a.\"is_speeding\", a.\"is_outlier_duration\",\n",
    "    a.\"place_name_Bavel\", a.\"place_name_Breda\", a.\"place_name_Prinsenbeek\",\n",
    "    a.\"place_name_Teteringen\", a.\"place_name_Ulvenhout\", a.\"risk_category_encoded\",\n",
    "    b.\"temperature_2m\", b.\"rain\", b.\"snowfall\", b.\"snow_depth\", b.\"weather_code\", b.\"risk_level_wmo\"\n",
    "FROM \n",
    "    group18_warehouse.\"ANWB_data\" AS a\n",
    "JOIN \n",
    "    group18_warehouse.\"weather_risk_data\" AS b\n",
    "ON \n",
    "    a.\"date\" = b.\"time\";\n",
    "\"\"\")\n",
    "\n",
    "# Execute the query and fetch the data\n",
    "with engine.connect() as connection:\n",
    "    result = connection.execute(sql_query)\n",
    "    rows = result.fetchall()\n",
    "\n",
    "# Columns must match the SELECT\n",
    "columns = [\n",
    "    'date', 'eventid', 'latitude', 'longitude', 'duration_seconds', 'maxwaarde', 'incident_severity',\n",
    "    'road_segment_id', 'road_manager_type', 'road_number', 'road_name', 'avg_speed',\n",
    "    'risk_category', 'is_speeding', 'is_outlier_duration',\n",
    "    'place_name_Bavel', 'place_name_Breda', 'place_name_Prinsenbeek',\n",
    "    'place_name_Teteringen', 'place_name_Ulvenhout', 'risk_category_encoded',\n",
    "    'temperature_2m', 'rain', 'snowfall', 'snow_depth', 'weather_code', 'risk_level_wmo'\n",
    "]\n",
    "\n",
    "# Create a df from the fetched data\n",
    "df_joined = pd.DataFrame(rows, columns=columns)\n",
    "\n",
    "# Print the first rows of the DataFrame \n",
    "print(df_joined.head())\n",
    "\n",
    "# Dispose the engine when done\n",
    "engine.dispose()"
   ]
  },
  {
   "cell_type": "code",
   "execution_count": 55,
   "id": "9dc78d11-3cf8-4283-8f1b-557564283fe6",
   "metadata": {},
   "outputs": [
    {
     "name": "stdout",
     "output_type": "stream",
     "text": [
      "0                    Lunetstraat\n",
      "1                      Moerlaken\n",
      "2         Franklin Rooseveltlaan\n",
      "3                   Emerparklaan\n",
      "4                    Baronielaan\n",
      "                   ...          \n",
      "640675            Westerhagelaan\n",
      "640676               Kapittelweg\n",
      "640677               Ettensebaan\n",
      "640678          Loevesteinstraat\n",
      "640679           Bavelseparklaan\n",
      "Name: road_name, Length: 640680, dtype: object\n"
     ]
    }
   ],
   "source": [
    "print(df_joined['road_name'])"
   ]
  },
  {
   "cell_type": "markdown",
   "id": "369a5202-0522-4167-aed7-12796ac9034a",
   "metadata": {},
   "source": [
    "Please provide a link to a PDF file in the following cell. This PDF should explain all the preprocessing steps and configurations used to prepare the data before proceeding to the modeling phase of the project. In addition, the PDF should include a schema diagram of your data warehouse this corresponds with the **Excellent** criterion."
   ]
  },
  {
   "cell_type": "markdown",
   "id": "cac8fc5b-7e98-42a4-b809-52a9bf4b4733",
   "metadata": {},
   "source": [
    "### Data Split"
   ]
  },
  {
   "cell_type": "code",
   "execution_count": 56,
   "id": "5afa20dd-665b-4fb7-809e-ca37aa2b3a33",
   "metadata": {},
   "outputs": [],
   "source": [
    "# Selecting the relevant columns and creating a copy\n",
    "df_selected = df_joined[['date', 'eventid', 'duration_seconds', 'road_name', 'maxwaarde',\n",
    "                         'incident_severity', 'risk_category_encoded', 'weather_code', 'risk_level_wmo']].copy()\n",
    "\n",
    "# Encoding categorical variables\n",
    "encoder = LabelEncoder()\n",
    "df_selected.loc[:, 'incident_severity'] = encoder.fit_transform(df_selected['incident_severity'])\n",
    "df_selected.loc[:, 'road_name'] = encoder.fit_transform(df_selected['road_name'].astype(str))\n",
    "df_selected.loc[:, 'risk_level_wmo'] = encoder.fit_transform(df_selected['risk_level_wmo'])\n",
    "\n",
    "# Preparing feature X and target y\n",
    "X = df_selected.drop(columns=['road_name'])  # Features\n",
    "y = df_selected['road_name']  # Target\n",
    "\n",
    "# Splitting the dataset into training and testing sets\n",
    "X_train, X_test, y_train, y_test = train_test_split(X, y, test_size=0.2, random_state=42)"
   ]
  },
  {
   "cell_type": "markdown",
   "id": "489f7e6b-3aa7-4b85-986e-bb4a2c1cc845",
   "metadata": {},
   "source": [
    "## ILO 6.0: Modelling, Evaluation, and Iteration\n",
    "\n",
    "The student is able to select, implement and evaluate machine learning models, and improve their performance through iteration(s) to meet the business requirement. \t\n",
    "\n",
    "Demonstrates basic knowledge of modeling, evaluation, and iteration in developing both traditional and deep machine learning models, as well as understanding of the concept of the trade-off between model complexity and performance:\n",
    "\n",
    "- **Poor**: Clear individual contribution is documented. The student demonstrates the ability to  select a suitable machine learning algorithm based on the task's nature (e.g., classification, regression, time series prediction) and data characteristics. The student is able to  train a model using the chosen algorithm on the training dataset. \n",
    "\n",
    "- **Insufficient**: The student demonstrates the ability to evaluate a trained model's performance on a dataset, measuring its ability to generalize to new, unseen data. Additionally, the student exhibits the ability to select suitable evaluation metrics based on the type of task the model is designed for. And meeting all criteria in poor.\n",
    "\n",
    "- **Sufficient**: The student demonstrates the ability to iteratively refine and enhance the model's performance on a specific problem through a cycle involving training, evaluating results, and making adjustments. These adjustments encompass fine-tuning hyperparameters, modifying the model architecture, and improving data pre-processing steps. And meeting all criteria in insufficient. \n",
    "\n",
    "- **Good**: The student demonstrates the ability to select the appropriate machine learning algorithm, considering the trade-off between the desired model complexity and the required level of performance for a specific task. The students is able to compare at least two different relevant machine learning models for a specific task based on their final performance and complexity. And meeting all criteria in sufficient.\n",
    "\n",
    "- **Excellent**: The student demonstrates the capability to develop deep machine learning models, such as conducting time series forecasting using recurrent neural networks, implementing deep neural networks for classification or regression, training autoencoder neural networks for unsupervised learning or feature learning. And meeting all criteria in good.  "
   ]
  },
  {
   "cell_type": "markdown",
   "id": "7b59e207-9d84-4ca5-bc42-5b2381b98bed",
   "metadata": {},
   "source": [
    "### Task 6.1 - Modelling\n",
    "\n",
    "Please provide a link to a file in the following cell, which clarifies the individual contributions of all your team members. This is the first part of the evidences for the **poor** criterion. "
   ]
  },
  {
   "cell_type": "markdown",
   "id": "7d30157c-c6c6-45df-bed7-f1d1d4355703",
   "metadata": {},
   "source": [
    "Please provide the corresponding code for training the model based on your chosen algorithm. This is the second piece of evidence corresponding to the **poor** criterion."
   ]
  },
  {
   "cell_type": "markdown",
   "id": "a470241f-4522-489f-8d0b-b769672ddc83",
   "metadata": {},
   "source": [
    "### Decision Trees"
   ]
  },
  {
   "cell_type": "code",
   "execution_count": 63,
   "id": "d20842a2-81f2-430f-a72f-c97a520acc8e",
   "metadata": {},
   "outputs": [
    {
     "name": "stdout",
     "output_type": "stream",
     "text": [
      "                road_name  total_incidents   HA1  HA2  HA3   HB1  HB2  HB3  \\\n",
      "0     Graaf Engelbertlaan            63439   778  227   32  1161  170   24   \n",
      "1  Franklin Rooseveltlaan            60053   928  274   52  1023  176   31   \n",
      "2            Tilburgseweg            43205   369   93   18   555   71    8   \n",
      "3       Backer en Ruebweg            38580  1096  294   65  2590  263   37   \n",
      "4               Moerlaken            30480   159   40    4   173   27    3   \n",
      "\n",
      "     HC1  HC10  ...  SP2_weighted  SP3_weighted  HC15_weighted  HC16_weighted  \\\n",
      "0  13478     0  ...         10120           842              6             51   \n",
      "1  25124     0  ...          5042           356              0             75   \n",
      "2  30096     0  ...          1332            92              0              6   \n",
      "3  27109     2  ...           738            98              9             93   \n",
      "4   3109     0  ...          6862           630              0             24   \n",
      "\n",
      "   HC17_weighted  HC19_weighted  SP4_weighted  SP5_weighted  severity_score  \\\n",
      "0              3              0           129            15           69593   \n",
      "1              0              0            48             9           63474   \n",
      "2              0              0             6             0           44154   \n",
      "3              3              6            33            12           39923   \n",
      "4              3              0            75             9           34396   \n",
      "\n",
      "   risk_level  \n",
      "0        high  \n",
      "1        high  \n",
      "2        high  \n",
      "3        high  \n",
      "4        high  \n",
      "\n",
      "[5 rows x 56 columns]\n"
     ]
    }
   ],
   "source": [
    "# Calculate the total number of incidents per road\n",
    "incident_counts = df['road_name'].value_counts().reset_index()\n",
    "incident_counts.columns = ['road_name', 'total_incidents']\n",
    "\n",
    "# Calculate the counts of each type of incident per road\n",
    "incident_types_per_road = df.groupby(['road_name', 'incident_severity']).size().unstack(fill_value=0).reset_index()\n",
    "\n",
    "# Merge incident counts and types\n",
    "road_incident_data = pd.merge(incident_counts, incident_types_per_road, on='road_name')\n",
    "# Define weights for severity\n",
    "severity_weights = {\n",
    "    'HA1': 1, 'HB1': 1, 'HC1': 1, 'HC2': 1, 'HC3': 1, 'HC4': 1, 'HC5': 1, 'SP1': 1,\n",
    "    'HA2': 2, 'HA3': 2, 'HB2': 2, 'HB3': 2, 'HC6': 2, 'HC7': 2, 'HC8': 2, 'HC10': 2, 'HC13': 2, 'HC14': 2, 'HC11': 2, 'SP2': 2, 'SP3': 2,\n",
    "    'HC15': 3, 'HC16': 3, 'HC17': 3, 'HC18': 3, 'HC19': 3, 'HC20': 3, 'HC21': 3, 'SP4': 3, 'SP5': 3\n",
    "}\n",
    "\n",
    "# Assign weights to incident types based on severity levels\n",
    "for severity, weight in severity_weights.items():\n",
    "    if severity in road_incident_data.columns:\n",
    "        road_incident_data[f\"{severity}_weighted\"] = road_incident_data[severity] * weight\n",
    "\n",
    "# Calculate a weighted severity score\n",
    "incident_columns = [col for col in road_incident_data.columns if 'weighted' in col]\n",
    "road_incident_data['severity_score'] = road_incident_data[incident_columns].sum(axis=1)\n",
    "\n",
    "# Define risk levels based on severity score\n",
    "bins = [-float('inf'), 7000, 34000, float('inf')]\n",
    "labels = ['low', 'mid', 'high']\n",
    "road_incident_data['risk_level'] = pd.cut(road_incident_data['severity_score'], bins=bins, labels=labels)\n",
    "\n",
    "# Display the dataframe\n",
    "print(road_incident_data.head())"
   ]
  },
  {
   "cell_type": "markdown",
   "id": "33068799-296a-42c9-b5d3-0130cc628aa8",
   "metadata": {},
   "source": [
    "### Iteration 1"
   ]
  },
  {
   "cell_type": "code",
   "execution_count": 69,
   "id": "b1de3174-b9ba-4667-9cd3-5dcdd887caa0",
   "metadata": {},
   "outputs": [
    {
     "name": "stdout",
     "output_type": "stream",
     "text": [
      "Accuracy: 0.9952380952380953\n",
      "Confusion Matrix:\n",
      "[[418   1]\n",
      " [  1   0]]\n",
      "Classification Report:\n",
      "              precision    recall  f1-score   support\n",
      "\n",
      "         low       1.00      1.00      1.00       419\n",
      "         mid       0.00      0.00      0.00         1\n",
      "\n",
      "    accuracy                           1.00       420\n",
      "   macro avg       0.50      0.50      0.50       420\n",
      "weighted avg       1.00      1.00      1.00       420\n",
      "\n"
     ]
    }
   ],
   "source": [
    "import pandas as pd\n",
    "from sklearn.model_selection import train_test_split\n",
    "from sklearn.tree import DecisionTreeClassifier\n",
    "from sklearn.metrics import accuracy_score, confusion_matrix, classification_report, mean_squared_error, r2_score\n",
    "from sqlalchemy import create_engine\n",
    "\n",
    "# Assuming 'target' is the name of your target column and the rest are features\n",
    "X = road_incident_data.drop(columns=['road_name', 'total_incidents', 'risk_level', 'severity_score', 'HA1', 'HB1', 'HC1', 'HC2', 'HC3', 'HC4', 'HC5', 'SP1',\n",
    "    'HA2', 'HA3', 'HB2', 'HB3', 'HC6', 'HC7', 'HC8', 'HC10', 'HC13', 'HC14', 'SP2', 'SP3',\n",
    "    'HC15', 'HC16', 'HC17', 'HC19', 'SP4', 'SP5'])\n",
    "\n",
    "y = road_incident_data['risk_level']\n",
    "\n",
    "# Split the data into training and test sets\n",
    "X_train, X_test, y_train, y_test = train_test_split(X, y, test_size=0.3, random_state=42)\n",
    "\n",
    "# Initialize the decision tree classifier\n",
    "clf = DecisionTreeClassifier(random_state=42)\n",
    "\n",
    "# Train the model\n",
    "clf.fit(X_train, y_train)\n",
    "\n",
    "# Make predictions\n",
    "y_pred = clf.predict(X_test)\n",
    "\n",
    "# Evaluate the model\n",
    "accuracy = accuracy_score(y_test, y_pred)\n",
    "conf_matrix = confusion_matrix(y_test, y_pred)\n",
    "class_report = classification_report(y_test, y_pred)\n",
    "\n",
    "print(f'Accuracy: {accuracy}')\n",
    "print(f'Confusion Matrix:\\n{conf_matrix}')\n",
    "print(f'Classification Report:\\n{class_report}')"
   ]
  },
  {
   "cell_type": "markdown",
   "id": "bcbc8d41-76ea-4b07-81fd-6be5eecb6f88",
   "metadata": {},
   "source": [
    "### Task 6.2 - Evaluation\n",
    "\n",
    "Please provide the related link for the evaluation of the trained model. This evidence relates to the **insufficient** criterion. "
   ]
  },
  {
   "cell_type": "code",
   "execution_count": 68,
   "id": "f941a2f1-77f3-4bef-bdcc-e5f437585342",
   "metadata": {},
   "outputs": [
    {
     "ename": "ValueError",
     "evalue": "could not convert string to float: 'low'",
     "output_type": "error",
     "traceback": [
      "\u001b[0;31m---------------------------------------------------------------------------\u001b[0m",
      "\u001b[0;31mValueError\u001b[0m                                Traceback (most recent call last)",
      "Cell \u001b[0;32mIn[68], line 2\u001b[0m\n\u001b[1;32m      1\u001b[0m \u001b[38;5;66;03m# Tree-based model\u001b[39;00m\n\u001b[0;32m----> 2\u001b[0m mse \u001b[38;5;241m=\u001b[39m \u001b[43mmean_squared_error\u001b[49m\u001b[43m(\u001b[49m\u001b[43my_test\u001b[49m\u001b[43m,\u001b[49m\u001b[43m \u001b[49m\u001b[43my_pred\u001b[49m\u001b[43m)\u001b[49m\n\u001b[1;32m      3\u001b[0m rmse \u001b[38;5;241m=\u001b[39m mse \u001b[38;5;241m*\u001b[39m\u001b[38;5;241m*\u001b[39m \u001b[38;5;241m0.5\u001b[39m  \u001b[38;5;66;03m# Root Mean Squared Error\u001b[39;00m\n\u001b[1;32m      4\u001b[0m r2 \u001b[38;5;241m=\u001b[39m r2_score(y_test, y_pred_tree)\n",
      "File \u001b[0;32m/usr/local/lib/python3.11/dist-packages/sklearn/utils/_param_validation.py:213\u001b[0m, in \u001b[0;36mvalidate_params.<locals>.decorator.<locals>.wrapper\u001b[0;34m(*args, **kwargs)\u001b[0m\n\u001b[1;32m    207\u001b[0m \u001b[38;5;28;01mtry\u001b[39;00m:\n\u001b[1;32m    208\u001b[0m     \u001b[38;5;28;01mwith\u001b[39;00m config_context(\n\u001b[1;32m    209\u001b[0m         skip_parameter_validation\u001b[38;5;241m=\u001b[39m(\n\u001b[1;32m    210\u001b[0m             prefer_skip_nested_validation \u001b[38;5;129;01mor\u001b[39;00m global_skip_validation\n\u001b[1;32m    211\u001b[0m         )\n\u001b[1;32m    212\u001b[0m     ):\n\u001b[0;32m--> 213\u001b[0m         \u001b[38;5;28;01mreturn\u001b[39;00m \u001b[43mfunc\u001b[49m\u001b[43m(\u001b[49m\u001b[38;5;241;43m*\u001b[39;49m\u001b[43margs\u001b[49m\u001b[43m,\u001b[49m\u001b[43m \u001b[49m\u001b[38;5;241;43m*\u001b[39;49m\u001b[38;5;241;43m*\u001b[39;49m\u001b[43mkwargs\u001b[49m\u001b[43m)\u001b[49m\n\u001b[1;32m    214\u001b[0m \u001b[38;5;28;01mexcept\u001b[39;00m InvalidParameterError \u001b[38;5;28;01mas\u001b[39;00m e:\n\u001b[1;32m    215\u001b[0m     \u001b[38;5;66;03m# When the function is just a wrapper around an estimator, we allow\u001b[39;00m\n\u001b[1;32m    216\u001b[0m     \u001b[38;5;66;03m# the function to delegate validation to the estimator, but we replace\u001b[39;00m\n\u001b[1;32m    217\u001b[0m     \u001b[38;5;66;03m# the name of the estimator by the name of the function in the error\u001b[39;00m\n\u001b[1;32m    218\u001b[0m     \u001b[38;5;66;03m# message to avoid confusion.\u001b[39;00m\n\u001b[1;32m    219\u001b[0m     msg \u001b[38;5;241m=\u001b[39m re\u001b[38;5;241m.\u001b[39msub(\n\u001b[1;32m    220\u001b[0m         \u001b[38;5;124mr\u001b[39m\u001b[38;5;124m\"\u001b[39m\u001b[38;5;124mparameter of \u001b[39m\u001b[38;5;124m\\\u001b[39m\u001b[38;5;124mw+ must be\u001b[39m\u001b[38;5;124m\"\u001b[39m,\n\u001b[1;32m    221\u001b[0m         \u001b[38;5;124mf\u001b[39m\u001b[38;5;124m\"\u001b[39m\u001b[38;5;124mparameter of \u001b[39m\u001b[38;5;132;01m{\u001b[39;00mfunc\u001b[38;5;241m.\u001b[39m\u001b[38;5;18m__qualname__\u001b[39m\u001b[38;5;132;01m}\u001b[39;00m\u001b[38;5;124m must be\u001b[39m\u001b[38;5;124m\"\u001b[39m,\n\u001b[1;32m    222\u001b[0m         \u001b[38;5;28mstr\u001b[39m(e),\n\u001b[1;32m    223\u001b[0m     )\n",
      "File \u001b[0;32m/usr/local/lib/python3.11/dist-packages/sklearn/metrics/_regression.py:506\u001b[0m, in \u001b[0;36mmean_squared_error\u001b[0;34m(y_true, y_pred, sample_weight, multioutput, squared)\u001b[0m\n\u001b[1;32m    501\u001b[0m     \u001b[38;5;28;01mif\u001b[39;00m \u001b[38;5;129;01mnot\u001b[39;00m squared:\n\u001b[1;32m    502\u001b[0m         \u001b[38;5;28;01mreturn\u001b[39;00m root_mean_squared_error(\n\u001b[1;32m    503\u001b[0m             y_true, y_pred, sample_weight\u001b[38;5;241m=\u001b[39msample_weight, multioutput\u001b[38;5;241m=\u001b[39mmultioutput\n\u001b[1;32m    504\u001b[0m         )\n\u001b[0;32m--> 506\u001b[0m y_type, y_true, y_pred, multioutput \u001b[38;5;241m=\u001b[39m \u001b[43m_check_reg_targets\u001b[49m\u001b[43m(\u001b[49m\n\u001b[1;32m    507\u001b[0m \u001b[43m    \u001b[49m\u001b[43my_true\u001b[49m\u001b[43m,\u001b[49m\u001b[43m \u001b[49m\u001b[43my_pred\u001b[49m\u001b[43m,\u001b[49m\u001b[43m \u001b[49m\u001b[43mmultioutput\u001b[49m\n\u001b[1;32m    508\u001b[0m \u001b[43m\u001b[49m\u001b[43m)\u001b[49m\n\u001b[1;32m    509\u001b[0m check_consistent_length(y_true, y_pred, sample_weight)\n\u001b[1;32m    510\u001b[0m output_errors \u001b[38;5;241m=\u001b[39m np\u001b[38;5;241m.\u001b[39maverage((y_true \u001b[38;5;241m-\u001b[39m y_pred) \u001b[38;5;241m*\u001b[39m\u001b[38;5;241m*\u001b[39m \u001b[38;5;241m2\u001b[39m, axis\u001b[38;5;241m=\u001b[39m\u001b[38;5;241m0\u001b[39m, weights\u001b[38;5;241m=\u001b[39msample_weight)\n",
      "File \u001b[0;32m/usr/local/lib/python3.11/dist-packages/sklearn/metrics/_regression.py:113\u001b[0m, in \u001b[0;36m_check_reg_targets\u001b[0;34m(y_true, y_pred, multioutput, dtype, xp)\u001b[0m\n\u001b[1;32m    111\u001b[0m check_consistent_length(y_true, y_pred)\n\u001b[1;32m    112\u001b[0m y_true \u001b[38;5;241m=\u001b[39m check_array(y_true, ensure_2d\u001b[38;5;241m=\u001b[39m\u001b[38;5;28;01mFalse\u001b[39;00m, dtype\u001b[38;5;241m=\u001b[39mdtype)\n\u001b[0;32m--> 113\u001b[0m y_pred \u001b[38;5;241m=\u001b[39m \u001b[43mcheck_array\u001b[49m\u001b[43m(\u001b[49m\u001b[43my_pred\u001b[49m\u001b[43m,\u001b[49m\u001b[43m \u001b[49m\u001b[43mensure_2d\u001b[49m\u001b[38;5;241;43m=\u001b[39;49m\u001b[38;5;28;43;01mFalse\u001b[39;49;00m\u001b[43m,\u001b[49m\u001b[43m \u001b[49m\u001b[43mdtype\u001b[49m\u001b[38;5;241;43m=\u001b[39;49m\u001b[43mdtype\u001b[49m\u001b[43m)\u001b[49m\n\u001b[1;32m    115\u001b[0m \u001b[38;5;28;01mif\u001b[39;00m y_true\u001b[38;5;241m.\u001b[39mndim \u001b[38;5;241m==\u001b[39m \u001b[38;5;241m1\u001b[39m:\n\u001b[1;32m    116\u001b[0m     y_true \u001b[38;5;241m=\u001b[39m xp\u001b[38;5;241m.\u001b[39mreshape(y_true, (\u001b[38;5;241m-\u001b[39m\u001b[38;5;241m1\u001b[39m, \u001b[38;5;241m1\u001b[39m))\n",
      "File \u001b[0;32m/usr/local/lib/python3.11/dist-packages/sklearn/utils/validation.py:1007\u001b[0m, in \u001b[0;36mcheck_array\u001b[0;34m(array, accept_sparse, accept_large_sparse, dtype, order, copy, force_all_finite, ensure_2d, allow_nd, ensure_min_samples, ensure_min_features, estimator, input_name)\u001b[0m\n\u001b[1;32m   1005\u001b[0m         array \u001b[38;5;241m=\u001b[39m xp\u001b[38;5;241m.\u001b[39mastype(array, dtype, copy\u001b[38;5;241m=\u001b[39m\u001b[38;5;28;01mFalse\u001b[39;00m)\n\u001b[1;32m   1006\u001b[0m     \u001b[38;5;28;01melse\u001b[39;00m:\n\u001b[0;32m-> 1007\u001b[0m         array \u001b[38;5;241m=\u001b[39m \u001b[43m_asarray_with_order\u001b[49m\u001b[43m(\u001b[49m\u001b[43marray\u001b[49m\u001b[43m,\u001b[49m\u001b[43m \u001b[49m\u001b[43morder\u001b[49m\u001b[38;5;241;43m=\u001b[39;49m\u001b[43morder\u001b[49m\u001b[43m,\u001b[49m\u001b[43m \u001b[49m\u001b[43mdtype\u001b[49m\u001b[38;5;241;43m=\u001b[39;49m\u001b[43mdtype\u001b[49m\u001b[43m,\u001b[49m\u001b[43m \u001b[49m\u001b[43mxp\u001b[49m\u001b[38;5;241;43m=\u001b[39;49m\u001b[43mxp\u001b[49m\u001b[43m)\u001b[49m\n\u001b[1;32m   1008\u001b[0m \u001b[38;5;28;01mexcept\u001b[39;00m ComplexWarning \u001b[38;5;28;01mas\u001b[39;00m complex_warning:\n\u001b[1;32m   1009\u001b[0m     \u001b[38;5;28;01mraise\u001b[39;00m \u001b[38;5;167;01mValueError\u001b[39;00m(\n\u001b[1;32m   1010\u001b[0m         \u001b[38;5;124m\"\u001b[39m\u001b[38;5;124mComplex data not supported\u001b[39m\u001b[38;5;130;01m\\n\u001b[39;00m\u001b[38;5;132;01m{}\u001b[39;00m\u001b[38;5;130;01m\\n\u001b[39;00m\u001b[38;5;124m\"\u001b[39m\u001b[38;5;241m.\u001b[39mformat(array)\n\u001b[1;32m   1011\u001b[0m     ) \u001b[38;5;28;01mfrom\u001b[39;00m \u001b[38;5;21;01mcomplex_warning\u001b[39;00m\n",
      "File \u001b[0;32m/usr/local/lib/python3.11/dist-packages/sklearn/utils/_array_api.py:746\u001b[0m, in \u001b[0;36m_asarray_with_order\u001b[0;34m(array, dtype, order, copy, xp, device)\u001b[0m\n\u001b[1;32m    744\u001b[0m     array \u001b[38;5;241m=\u001b[39m numpy\u001b[38;5;241m.\u001b[39marray(array, order\u001b[38;5;241m=\u001b[39morder, dtype\u001b[38;5;241m=\u001b[39mdtype)\n\u001b[1;32m    745\u001b[0m \u001b[38;5;28;01melse\u001b[39;00m:\n\u001b[0;32m--> 746\u001b[0m     array \u001b[38;5;241m=\u001b[39m numpy\u001b[38;5;241m.\u001b[39masarray(array, order\u001b[38;5;241m=\u001b[39morder, dtype\u001b[38;5;241m=\u001b[39mdtype)\n\u001b[1;32m    748\u001b[0m \u001b[38;5;66;03m# At this point array is a NumPy ndarray. We convert it to an array\u001b[39;00m\n\u001b[1;32m    749\u001b[0m \u001b[38;5;66;03m# container that is consistent with the input's namespace.\u001b[39;00m\n\u001b[1;32m    750\u001b[0m \u001b[38;5;28;01mreturn\u001b[39;00m xp\u001b[38;5;241m.\u001b[39masarray(array)\n",
      "\u001b[0;31mValueError\u001b[0m: could not convert string to float: 'low'"
     ]
    }
   ],
   "source": [
    "# Tree-based model\n",
    "mse = mean_squared_error(y_test, y_pred)\n",
    "rmse = mse ** 0.5  # Root Mean Squared Error\n",
    "r2 = r2_score(y_test, y_pred_tree)\n",
    "\n",
    "print(\"Mean Squared Error:\", mse)\n",
    "print(\"Root Mean Squared Error:\", rmse)\n",
    "print(\"R squared:\", r2)"
   ]
  },
  {
   "cell_type": "code",
   "execution_count": 70,
   "id": "3c13b76b-d314-4ddf-8e6b-20dc7a7098f9",
   "metadata": {},
   "outputs": [
    {
     "name": "stdout",
     "output_type": "stream",
     "text": [
      "Accuracy: 0.9952380952380953\n",
      "Confusion Matrix:\n",
      " [[418   1]\n",
      " [  1   0]]\n",
      "Classification report:\n",
      "               precision    recall  f1-score   support\n",
      "\n",
      "         low       1.00      1.00      1.00       419\n",
      "         mid       0.00      0.00      0.00         1\n",
      "\n",
      "    accuracy                           1.00       420\n",
      "   macro avg       0.50      0.50      0.50       420\n",
      "weighted avg       1.00      1.00      1.00       420\n",
      "\n"
     ]
    }
   ],
   "source": [
    "accuracy = accuracy_score(y_pred, y_test)\n",
    "conf_matrix = confusion_matrix(y_pred, y_test)\n",
    "class_report = classification_report(y_pred, y_test, zero_division=1)\n",
    "\n",
    "print(\"Accuracy:\", accuracy)\n",
    "print(\"Confusion Matrix:\\n\",conf_matrix)\n",
    "print(\"Classification report:\\n\",class_report)"
   ]
  },
  {
   "cell_type": "code",
   "execution_count": 74,
   "id": "6c1c3c62-21ed-4739-b8fc-762ff3d5d293",
   "metadata": {},
   "outputs": [
    {
     "data": {
      "text/plain": [
       "Text(0.5, 23.52222222222222, 'Predicted values')"
      ]
     },
     "execution_count": 74,
     "metadata": {},
     "output_type": "execute_result"
    },
    {
     "data": {
      "image/png": "[encoded data removed]",
      "text/plain": [
       "<Figure size 640x480 with 2 Axes>"
      ]
     },
     "metadata": {},
     "output_type": "display_data"
    }
   ],
   "source": [
    "# Logistic Regression Heatmap\n",
    "sns.heatmap(conf_matrix, annot=True, cmap=\"YlGnBu\", fmt='g', linewidths=2)\n",
    "plt.ylabel('Actual values')\n",
    "plt.xlabel('Predicted values')"
   ]
  },
  {
   "cell_type": "markdown",
   "id": "d53cac8f-6d3b-40f4-b454-a97aaa6df61c",
   "metadata": {},
   "source": [
    "### Task 6.3 - Iteration\n",
    "\n",
    "Please provide all the corresponding code for improving the model performance, taking into account the iterations. For more details on the types of iterations required, please refer to the explanation for the sufficient criterion. This evidence corresponds to the **sufficient** criterion."
   ]
  }
 ],
 "metadata": {
  "kernelspec": {
   "display_name": "Python 3 (ipykernel)",
   "language": "python",
   "name": "python3"
  },
  "language_info": {
   "codemirror_mode": {
    "name": "ipython",
    "version": 3
   },
   "file_extension": ".py",
   "mimetype": "text/x-python",
   "name": "python",
   "nbconvert_exporter": "python",
   "pygments_lexer": "ipython3",
   "version": "3.11.0rc1"
  }
 },
 "nbformat": 4,
 "nbformat_minor": 5
}
