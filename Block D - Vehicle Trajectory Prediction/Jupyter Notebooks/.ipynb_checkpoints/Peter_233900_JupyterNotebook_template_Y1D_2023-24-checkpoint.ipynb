{
 "cells": [
  {
   "cell_type": "markdown",
   "id": "eef78e6e",
   "metadata": {},
   "source": [
    "# Jupyter Notebook Template for Block 1D"
   ]
  },
  {
   "cell_type": "markdown",
   "id": "a3533a4e",
   "metadata": {},
   "source": [
    "Please insert your name and the team number in the following cell:"
   ]
  },
  {
   "cell_type": "markdown",
   "id": "539d4f3f",
   "metadata": {},
   "source": [
    "#### Student Name: Peter Husen\n",
    "#### Team No.: 18"
   ]
  },
  {
   "cell_type": "markdown",
   "id": "36aa276e",
   "metadata": {},
   "source": [
    "This template is meant to help you provide the related evidence for ILOs 3.0 to 7.0 of block 1D-2023-2024. Please don't change the order of the cells. You can still add as many cells as you want in the designated place to provide evidence for each ILO. To remind you about the criteria of each ILO, the criteria for each ILO are provided in each section. We hope that you find immense enjoyment and fulfillment as you embark on your project journey."
   ]
  },
  {
   "cell_type": "markdown",
   "id": "1cd9ef6e",
   "metadata": {},
   "source": [
    "## ILO 3.0: Legal Framework\n",
    "\n",
    "The student demonstrates knowledge of relevant legal frameworks by providing evidence of legal decision-making while working with data.\n",
    "\n",
    "Demonstrates the basic knowledge of european legal frameworks governing AI by providing evidence of legal decision-making while working with (privacy-sensitive) data:\n",
    "\n",
    "- **Poor**: The individual contribution to the project is merely documented, rather than reflected upon. There is no mention of releveant legal frameworks and the group assessment is hardly mentioned.\n",
    "\n",
    "- **Insufficient**: The student is able to individually identify the level of risk associated with their AI system and explain it clearly.  The group collaboratively identifies the level of risk associated with the developed AI system. The explanation is superficial and meeting all criteria in poor.\n",
    "\n",
    "- **Sufficient**: The individual reflection on the legality of the individual contributions made to the project is thorough. The group legal assessment of the project is based on relevant  frameworks provided during the module. The legal requirements and obligations that are vital to address for the development of  AI system are identified. The legal requirements and obligations that don’t need to be addressed for the development of AI system are identified. And meeting all criteria in insufficient.\n",
    "\n",
    "- **Good**: The relevance of legal requirements and obligations included in the group assessment for this project is explained. The reasoning for not including certain legal requirements and obligations in the assessment is justified. Argumentation for including and excluding legal requirements and obligations for the assessment is based on important facts, details, examples, and explanations from multiple authoritative sources and data. And meeting all criteria in sufficient.\n",
    "\n",
    "- **Excellent**: The student provides evidence and explanations of legal decision-making for obligations within the group assessment (where possible). And meeting all criteria in good.\n"
   ]
  },
  {
   "cell_type": "markdown",
   "id": "5905a56a",
   "metadata": {},
   "source": [
    "### Task 3.1 - Risk assessment of your initial proposal (Idividual Task 1)\n",
    "\n",
    "Based on the content covered during the block (Week 3, Thursday), assess the level of risk associated with the AI system proposed in your project proposal presentation. \n",
    "\n",
    "This evidence is related to **insufficient** criteria."
   ]
  },
  {
   "cell_type": "markdown",
   "id": "8fa1e992",
   "metadata": {},
   "source": [
    "Our AI system is intended to be used as a safety component (safer driving)\n",
    "\n",
    "It does use third-party as we aren't directly related to anwb (yet)\n",
    "\n",
    "THerefore the system is high risk"
   ]
  },
  {
   "cell_type": "code",
   "execution_count": null,
   "id": "cfcc206f",
   "metadata": {},
   "outputs": [],
   "source": [
    "# Make sure to include your answers to the project proposal presentation."
   ]
  },
  {
   "cell_type": "markdown",
   "id": "0badc513",
   "metadata": {},
   "source": [
    "### Task 3.2 - Explanation of the risk (Individual Task 2)\n",
    "\n",
    "Based on the content learned during the block (Week 3, Thursday), **explain and justify** the level of risk associated with the AI system you will individually propose during your project proposal presentation. \n",
    "\n",
    "Outline the legal obligations that must be followed. If no legal obligations apply to your AI system, please provide the reasoning.\n",
    "\n",
    "Additionally, explain your approach for addressing legal obligations during the implementation process of your AI system. \n",
    "\n",
    "This evidence is related to **poor** and **insufficient** criteria. "
   ]
  },
  {
   "cell_type": "markdown",
   "id": "8aa58cf7",
   "metadata": {},
   "source": [
    "We have to make sure that we\n",
    "\n",
    "Only collect data that is relevant, private information is anonymised, we have explicit consent to use it for the purposes we use it for, make sure people can remove themselves from our data if they wish to and ensure private data is secure. This is for GDPR compliance\n",
    "\n",
    "For the AI act we have to make sure that we have a system in place to manage the potential risks that our model presents, ensure human feedback into the system is possible, as well as being transparent that our system is AI driven not human driven. "
   ]
  },
  {
   "cell_type": "markdown",
   "id": "736ae431",
   "metadata": {},
   "source": [
    "In order to achieve this we\n",
    "\n",
    "set up a system to monitor the performance of how well the model rates certain roads\n",
    "\n",
    "\n",
    "Develop XAI models so we can show what decisions our models make\n",
    "\n",
    "Use encrypted systems to make sure private data isn't accessible (like the server provided requiring a password)\n"
   ]
  },
  {
   "cell_type": "markdown",
   "id": "273d8cd1",
   "metadata": {},
   "source": [
    "### Task 3.3 -  Reflection (Individual Task 3)\n",
    "\n",
    "For the group assignment you are required to contribute to the group legal assessment of the project. Provide evidences of your contribution and reflection on the legality of the individual contributions made to the project.\n",
    "\n",
    "This evidence is related to **sufficient** criterion. "
   ]
  },
  {
   "cell_type": "code",
   "execution_count": null,
   "id": "96a738ab",
   "metadata": {},
   "outputs": [],
   "source": [
    "# Include your reflection here and upload evidence of your individual contribution to GitHub. \n",
    "\n",
    "# Make sure to link your evidence in your learning log."
   ]
  },
  {
   "cell_type": "markdown",
   "id": "cb42b382",
   "metadata": {},
   "source": [
    "### Task 3.4 - Legal assessment (Group Task 1)\n",
    "\n",
    "For the group assignment, the team is expected to identify and explain the level of risk associated with the developed AI system. \n",
    "\n",
    "This evidence is related to **insufficient** criterion. "
   ]
  },
  {
   "cell_type": "markdown",
   "id": "1563f7d3",
   "metadata": {},
   "source": [
    "Article 6 mentions how we can identify our system as high-risk.\n",
    "\n",
    "Our AI system is intended to be used as a safety component (safer driving)\n",
    "\n",
    "It does use third-party as we aren't directly related to anwb (yet)\n",
    "\n",
    "Therefore the system is high risk"
   ]
  },
  {
   "cell_type": "code",
   "execution_count": null,
   "id": "d88d8535",
   "metadata": {},
   "outputs": [],
   "source": [
    "# Make sure to include it to your final presentation."
   ]
  },
  {
   "cell_type": "markdown",
   "id": "6bd7b91b",
   "metadata": {},
   "source": [
    "### Task 3.5 - Legal requirements and obligations (Group Task 2)\n",
    "\n",
    "Identify and mention the legal requirements and obligations vital for addressing in the development of an AI system. Also, identify and mention the legal requirements and obligations that are not necessary to address in the development of an AI system. The legal assessment should be conducted in accordance with the AI Act.\n",
    "\n",
    "This evidence is related to **sufficient** criterion. "
   ]
  },
  {
   "cell_type": "markdown",
   "metadata": {},
   "source": [
    "To comply with legal requirements the articles we have examined are articles 5-63, most of these articles provide relevant information for the providers of AI systems, which would be us, and some provide information for other parties. This section will first detail the articles which mentions things providers have to comply with, and then mention which articles do not require further attention, either at all or for the scope of this project.\n",
    "\n",
    "Articles 5-17, 19-21, 25-27, 40, 47-50, 52, 60-63 are relevant for our project. Some of these are steps that are to be taken during the scope of this project, others would be relevant in a future stage of deployment. To be compliant with these rules we have to\n",
    "- Make sure we don't subvert the ability to make decisions, or take advantage of vulnerabilities.\n",
    "- Implement a risk management system.\n",
    "- Ensure our data is representative of what we are examining, and that this data is relevant. Make sure our data is diverse to avoid bias, and implement cybersecurity measures.\n",
    "- Document our architecture algorithms and source in a seperate file.\n",
    "- State the intended purpose of our model, and include performance metrics and document improvements.\n",
    "- Keep logs of performance after deployment.\n",
    "- Ensure transparency to users about them using AI as well as how the AI works and in which ways it is limited. Also provide a way for them to contact a person for assistance.\n",
    "- Allow humans to override AI decisions in places it is necessary.\n",
    "- Test the model on different systems to ensure the model is accurate and secure.\n",
    "- Implement quality management for the model, and conduct external audits to ensure compliance. Integrate user feedback into the project\n",
    "- Generate output logs, and save these logs to enable monitoring.\n",
    "- Allow our documentation and logs to be accessible to relevant authorities upon inquiry.\n",
    "- Describe how the system will be used, and whether or not natural persons will be affected by our AI model.\n",
    "- Adhere to standardisation requests from the EU if they arrive at a later point in time.\n",
    "- Provide a written document of conformity.\n",
    "- Acquire a CE mark and make sure it is easily accessible within our documentation.\n",
    "- Register in the EU database of AI systems before deploying the model on the market.\n",
    "- Inform users of our system that they are using an AI model.\n",
    "- Should we wish to test our model at a later date in real-time we have to submit a request for a permit.\n",
    "- If we test our model in this way we need explicit consent from everyone involved.\n",
    "- Standardised templates are being created, as well as sandbox environments where systems can be tested. We could contact these services once available.\n",
    "\n",
    "\n",
    "Article 18 is about the documentation of the previously mentioned articles and keeping those up to date, after placing the system on the market. Our system will not actually go on the market yet during this project therefore it is not yet relevant.\n",
    "\n",
    "Articles 22-24 are for providers from outside the EU, we are not from outside the EU so this does not apply to us.\n",
    "\n",
    "Articles 28-39 are all for authorities that check whether or not AI systems are in compliance with the regulations. If we claim to adhere to other rules then these authorities \n",
    "follow the rules mentioned within these articles to ensure that we actually do.\n",
    "\n",
    "Articles 41-46 discuss the specifics of certain certificates that legal authorities can grant as proof that AI systems are compliant with rules, as well as discussing the \n",
    "processes on how to prove that examined AI models are compliant. These are relevant for authorities examining our models and not for us.\n",
    "\n",
    "Article 51 mentions special requirements for computationally intensive, or systemically risky AI models. We do not qualify for this. Article 52 provides procedures that AI providers have to take, which would only be relevant if we develop much further on the scope of the project.\n",
    "\n",
    "Articles 53-56 link back to articles mentioned prior to this, adhering to other articles means adherence to these articles as well.\n",
    "\n",
    "Articles 57-59 are about nations within the EU providing resources, we can make use of these once they have been set up but are not actions we have to take.\n"
   ]
  },
  {
   "cell_type": "code",
   "execution_count": null,
   "id": "74cf19aa",
   "metadata": {},
   "outputs": [],
   "source": [
    "# Provide your answers here."
   ]
  },
  {
   "cell_type": "code",
   "execution_count": null,
   "id": "c954ede6",
   "metadata": {},
   "outputs": [],
   "source": [
    "# Make sure to include the list of legal requirements and obligations that are vital to address for the development of \n",
    "# your AI system to your final presentation.\n",
    "\n",
    "# In case you are developing an AI system that has no or minimum risks, make sure to mention it. "
   ]
  },
  {
   "cell_type": "markdown",
   "id": "aa147373",
   "metadata": {},
   "source": [
    "### Task 3.6 - Relevance of legal requirements and obligations (Group Task 3)\n",
    "\n",
    "The group must explain the relevance of legal requirements and obligations included in the group assessment of the project. Ensure to provide reasoning and arguments for both including and excluding specific legal requirements and obligations in the assessment. The reasoning should be supported by facts, details, and examples drawn from multiple sources to substantiate your claims.\n",
    "\n",
    "If you are developing an AI system that has no or minimal risks, you need to explain the exclusion of each legal requirement and obligation one by one. Provide an explanation and reasoning for why each factor is not applicable to your AI system. \n",
    "\n",
    "This evidence is related to **good** criterion. "
   ]
  },
  {
   "cell_type": "markdown",
   "id": "699d0c01",
   "metadata": {},
   "source": [
    "[This link](https://github.com/BredaUniversityADSAI/2023-24d-fai1-adsai-teamwork-t18/blob/main/Legal/3.6%20documentation.pdf) contains the full list of articles of the AI act that we have examined, as well as how we would be compliant with them or why they are not important for our examination.\n",
    "\n",
    "The decisions have been based on the requirements on the [EU AI act](https://artificialintelligenceact.eu/chapter/3/)"
   ]
  },
  {
   "cell_type": "markdown",
   "id": "a0b09ef5",
   "metadata": {},
   "source": [
    "### Task 3.7 - Addressing legal obligations (Group Task 3)\n",
    "\n",
    "The group provides evidence and explanations of their AI system's compliance with legal requirements and obligations.\n",
    "\n",
    "If you are developing an AI system with no or minimal risks, ensure to write a paragraph explaining how your AI system complies with EU regulations (AI Act).\n",
    "\n",
    "This evidence is related to **excellent** criterion. "
   ]
  },
  {
   "cell_type": "code",
   "execution_count": null,
   "id": "68304d96",
   "metadata": {},
   "outputs": [],
   "source": [
    "# Provide your answers here."
   ]
  },
  {
   "cell_type": "markdown",
   "id": "1c392bae",
   "metadata": {},
   "source": [
    "## ILO 4.0: Business Understanding\n",
    "\n",
    "The student is capable to develop a project proposal  and deliver an impactful presentation to communicate the business values, objectives, and outcomes. \t\n",
    "\n",
    "Demonstrate the ability to develop a compelling project proposal  and deliver an impactful presentation that effectively communicates the business value, objectives, and outcomes of the proposed project:\n",
    "\n",
    "- **Poor**: Clear individual contribution is documented. A project proposal, compliant with professional standards, is prepared and presented. \n",
    "\n",
    "- **Insufficient**: A final presentation, compliant with professional standards, is prepared and presented. And meeting all criteria in poor.\n",
    "\n",
    "- **Sufficient**: The students demonstrate a profound understanding of business needs and industry context by developing a project proposal that effectively identifies and addresses client requirements. The proposal includes a clear problem statement, define project objectives, and propose feasible solutions that demonstrate a good understanding of the business environment. And meeting all criteria in insufficient.\n",
    "\n",
    "- **Good**: The students showcase a strong understanding of the business context in the final project presentation, effectively communicating insights. The final presentation is  engaging, well-structured, and emphasizes the practical implications within the broader business context. And meeting all criteria in sufficient.\n",
    "\n",
    "- **Excellent**: The students have developed an innovative solution that not only aligns closely with the client's specific requirements but also possesses considerable business value. And meeting all criteria in good."
   ]
  },
  {
   "cell_type": "markdown",
   "id": "97a8b774",
   "metadata": {},
   "source": [
    "### Task 4.1 - Proposal\n",
    "\n",
    "Please provide the related link to your team proposal in the following cell. This evidence is related to **poor** and **sufficient** criteria."
   ]
  },
  {
   "cell_type": "code",
   "execution_count": 5,
   "id": "86bc5282",
   "metadata": {},
   "outputs": [],
   "source": [
    "# Put the link to your team proposal here"
   ]
  },
  {
   "cell_type": "markdown",
   "id": "13af22d7",
   "metadata": {},
   "source": [
    "[presentation proposal](https://www.canva.com/design/DAGFfegE_aU/Gv7h-szOVtHVipyugFPkZw/view?utm_content=DAGFfegE_aU&utm_campaign=designshare&utm_medium=link&utm_source=editor)"
   ]
  },
  {
   "cell_type": "markdown",
   "id": "6e615047",
   "metadata": {},
   "source": [
    "### Task 4.2 - Final Presentation\n",
    "\n",
    "Please provide the related link to your final presentation in the following cell. This evidence pertains to **insufficient**, **good**, and **excellent** criteria.If possible, please save your presentation file as a PDF and provide the corresponding link here."
   ]
  },
  {
   "cell_type": "code",
   "execution_count": 7,
   "id": "cbbc1d23",
   "metadata": {},
   "outputs": [],
   "source": [
    "# Put the link to the final presentation here"
   ]
  },
  {
   "cell_type": "markdown",
   "id": "507c0c04",
   "metadata": {},
   "source": [
    "## ILO 5.0: Data Understanding and Preparation\n",
    "\n",
    "The student is able to collect, combine, explore, and preprocess  data, while assessing data quality, and providing recommendations to improve the data management strategy.\t\n",
    "\n",
    "Shows understanding of the data and is able to preprocess a dataset which is suited for further modelling:\n",
    "\n",
    "- **Poor**: Clear individual contribution is documented. Demonstrates the ability to connect to a SQL database. \n",
    "\n",
    "- **Insufficient**: Demonstrates the ability to access data in a SQL database using a simple query and meeting all requirements in Poor.\n",
    "\n",
    "- **Sufficient**: Demonstrates the ability to access data stored in a SQL database from a scripting language such as Python, removes unnecessary columns, handles missing values, addresses any inconsistencies, errors, or outliers, standardizes formats, and encodes categorical variables appropriately, splits the dataset into training, validation, and test sets appropriately and meeting all criteria in insufficient.\n",
    "\n",
    "- **Good**: Demonstrates the ability to combine data stored in a SQL database using techniques such as a Join, normalize and standardize numerical features, extracts relevant features, or creates new features from date and time information (if applicable), creates new features from existing features to generate more informative ones (if applicable), and meeting all criteria in sufficient.\n",
    "\n",
    "- **Excellent**: Demonstrates advanced data modelling techniques by expanding out the data warehouse using techniques such as views, balance data considering techniques such as oversampling or undersampling to balance the class distribution (if applicable), normalizes the target variable if it has a skewed distribution, and saves the preprocessing steps and configuration used to be applied consistently to new data and meeting all criteria in good.\n"
   ]
  },
  {
   "cell_type": "markdown",
   "id": "24628cea",
   "metadata": {},
   "source": [
    "### Task 5.1 - Connecting to SQL database\n",
    "\n",
    "Please provide the necessary code to connect to SQL database in the following cell. This requirement relates to **poor** criterion.\n",
    "\n",
    "__Important!__ Do __NOT__ include usernames or passwords in plain text in your submission. \n",
    "You can replace them with Environment Variables, Placeholders, etc."
   ]
  },
  {
   "cell_type": "code",
   "execution_count": 3,
   "id": "853863c6",
   "metadata": {},
   "outputs": [],
   "source": [
    "db_params = {\n",
    "    'host': '<host>',\n",
    "    'port': '<port>',\n",
    "    'database': 'postgres',\n",
    "    'user': '<username>',\n",
    "    'password': '<password>'\n",
    "}\n",
    "\n",
    "conn_psycopg2 = psycopg2.connect(**db_params)\n",
    "\n",
    "cur = conn_psycopg2.cursor()"
   ]
  },
  {
   "cell_type": "markdown",
   "id": "5df7d182",
   "metadata": {},
   "source": [
    "### Task 5.2 - Accessing Data in Database\n",
    "\n",
    "Please provide the corresponding code for a simple query to access the data. This requirement is related to the **insufficient** criterion.\n",
    "\n",
    "__Important!__ Do __NOT__ include usernames or passwords in plain text in your submission. \n",
    "You can replace them with Environment Variables, Placeholders, etc. "
   ]
  },
  {
   "cell_type": "code",
   "execution_count": null,
   "id": "1469feb0",
   "metadata": {},
   "outputs": [],
   "source": [
    "# Define the query to count unique categories\n",
    "query = \"SELECT COUNT(DISTINCT category) AS unique_category_count FROM data_lake.safe_driving;\"\n",
    "\n",
    "# Execute the query\n",
    "cur.execute(query)\n",
    "\n",
    "# Fetch the result\n",
    "unique_category_count = cur.fetchone()[0]\n",
    "\n",
    "# Print the result\n",
    "print(f\"Number of unique categories: {unique_category_count}\")"
   ]
  },
  {
   "cell_type": "markdown",
   "id": "fffa7b67",
   "metadata": {},
   "source": [
    "### Task 5.3 - Pre-processing the Data\n",
    "\n",
    "Please provide the relevant code to perform preprocessing on the data. Refer to the related criterion for detailed instructions on the preprocessing steps. This criterion is associated with the **sufficient** criterion.\n",
    "\n",
    "__Important!__ Do __NOT__ include usernames or passwords in plain text in your submission. \n",
    "You can replace them with Environment Variables, Placeholders, etc."
   ]
  },
  {
   "cell_type": "code",
   "execution_count": null,
   "id": "c1d20aa5",
   "metadata": {},
   "outputs": [],
   "source": [
    "# Put your codes here"
   ]
  },
  {
   "cell_type": "markdown",
   "id": "d1525bc4",
   "metadata": {},
   "source": [
    "### Task 5.4 - Advanced Pre-processing of Data\n",
    "\n",
    "Please provide the relevant code for joining datasets and performing advanced data preprocessing. Refer to the **good** criterion explanation for a better understanding of the steps to consider for this criterion. This evidence corresponds to the **good** criterion.\n",
    "\n",
    "__Important!__ Do __NOT__ include usernames or passwords in plain text in your submission. \n",
    "You can replace them with Environment Variables, Placeholders, etc."
   ]
  },
  {
   "cell_type": "code",
   "execution_count": null,
   "id": "93ccc1be",
   "metadata": {},
   "outputs": [],
   "source": [
    "# Put your codes here"
   ]
  },
  {
   "cell_type": "markdown",
   "id": "cad74437",
   "metadata": {},
   "source": [
    "### Task 5.5 - Final Data Preparation\n",
    "\n",
    "Please provide evidence of the techniques used to balance the class distribution and normalize the target variable, if applicable. This corresponds to the first part of the **Excellent** criterion.  \n",
    "\n",
    "__Important!__ Do __NOT__ include usernames or passwords in plain text in your submission. \n",
    "You can replace them with Environment Variables, Placeholders, etc."
   ]
  },
  {
   "cell_type": "code",
   "execution_count": null,
   "id": "b06ab92c",
   "metadata": {},
   "outputs": [],
   "source": [
    "# Put the codes here"
   ]
  },
  {
   "cell_type": "markdown",
   "id": "e7961346",
   "metadata": {},
   "source": [
    "Please provide a link to a PDF file in the following cell. This PDF should explain all the preprocessing steps and configurations used to prepare the data before proceeding to the modeling phase of the project. In addition, the PDF should include a schema diagram of your data warehouse this corresponds with the **Excellent** criterion."
   ]
  },
  {
   "cell_type": "code",
   "execution_count": null,
   "id": "1bff7b58",
   "metadata": {},
   "outputs": [],
   "source": [
    "# Put the link to the PDF file here"
   ]
  },
  {
   "cell_type": "markdown",
   "id": "e6ee2e1b",
   "metadata": {},
   "source": [
    "## ILO 6.0: Modelling, Evaluation, and Iteration\n",
    "\n",
    "The student is able to select, implement and evaluate machine learning models, and improve their performance through iteration(s) to meet the business requirement. \t\n",
    "\n",
    "Demonstrates basic knowledge of modeling, evaluation, and iteration in developing both traditional and deep machine learning models, as well as understanding of the concept of the trade-off between model complexity and performance:\n",
    "\n",
    "- **Poor**: Clear individual contribution is documented. The student demonstrates the ability to  select a suitable machine learning algorithm based on the task's nature (e.g., classification, regression, time series prediction) and data characteristics. The student is able to  train a model using the chosen algorithm on the training dataset. \n",
    "\n",
    "- **Insufficient**: The student demonstrates the ability to evaluate a trained model's performance on a dataset, measuring its ability to generalize to new, unseen data. Additionally, the student exhibits the ability to select suitable evaluation metrics based on the type of task the model is designed for. And meeting all criteria in poor.\n",
    "\n",
    "- **Sufficient**: The student demonstrates the ability to iteratively refine and enhance the model's performance on a specific problem through a cycle involving training, evaluating results, and making adjustments. These adjustments encompass fine-tuning hyperparameters, modifying the model architecture, and improving data pre-processing steps. And meeting all criteria in insufficient. \n",
    "\n",
    "- **Good**: The student demonstrates the ability to select the appropriate machine learning algorithm, considering the trade-off between the desired model complexity and the required level of performance for a specific task. The students is able to compare at least two different relevant machine learning models for a specific task based on their final performance and complexity. And meeting all criteria in sufficient.\n",
    "\n",
    "- **Excellent**: The student demonstrates the capability to develop deep machine learning models, such as conducting time series forecasting using recurrent neural networks, implementing deep neural networks for classification or regression, training autoencoder neural networks for unsupervised learning or feature learning. And meeting all criteria in good.  "
   ]
  },
  {
   "cell_type": "markdown",
   "id": "ffe00359",
   "metadata": {},
   "source": [
    "### Task 6.1 - Modelling\n",
    "\n",
    "Please provide a link to a file in the following cell, which clarifies the individual contributions of all your team members. This is the first part of the evidences for the **poor** criterion. "
   ]
  },
  {
   "cell_type": "code",
   "execution_count": 1,
   "id": "e0ac491d",
   "metadata": {},
   "outputs": [],
   "source": [
    "# Put the related link here"
   ]
  },
  {
   "cell_type": "markdown",
   "id": "719c0497",
   "metadata": {},
   "source": [
    "Please provide the corresponding code for training the model based on your chosen algorithm. This is the second piece of evidence corresponding to the **poor** criterion."
   ]
  },
  {
   "cell_type": "code",
   "execution_count": null,
   "id": "d8d0cae7",
   "metadata": {},
   "outputs": [],
   "source": [
    "# Put your codes here"
   ]
  },
  {
   "cell_type": "markdown",
   "id": "6e8f937f",
   "metadata": {},
   "source": [
    "### Task 6.2 - Evaluation\n",
    "\n",
    "Please provide the related link for the evaluation of the trained model. This evidence relates to the **insufficient** criterion. "
   ]
  },
  {
   "cell_type": "code",
   "execution_count": null,
   "id": "2810bf0c",
   "metadata": {},
   "outputs": [],
   "source": [
    "# Put your codes here"
   ]
  },
  {
   "cell_type": "markdown",
   "id": "efe5ba41",
   "metadata": {},
   "source": [
    "### Task 6.3 - Iteration\n",
    "\n",
    "Please provide all the corresponding code for improving the model performance, taking into account the iterations. For more details on the types of iterations required, please refer to the explanation for the sufficient criterion. This evidence corresponds to the **sufficient** criterion."
   ]
  },
  {
   "cell_type": "code",
   "execution_count": null,
   "id": "260682a8",
   "metadata": {},
   "outputs": [],
   "source": [
    "# Put you codes here"
   ]
  },
  {
   "cell_type": "markdown",
   "id": "ab97320c",
   "metadata": {},
   "source": [
    "### Task 6.4 - Model Comparison\n",
    "\n",
    "Please provide the related code for evaluating the model complexity and performance. Refer to the explanation for the **good** criterion. Note that you need to compare at least two different models based on performance and model complexity. This criterion corresponds to the **good** criterion."
   ]
  },
  {
   "cell_type": "code",
   "execution_count": null,
   "id": "91705425",
   "metadata": {},
   "outputs": [],
   "source": [
    "# Put your codes here"
   ]
  },
  {
   "cell_type": "markdown",
   "id": "9205bfb7",
   "metadata": {},
   "source": [
    "### Task 6.5 - Complex Machine Learning Model\n",
    "\n",
    "Please provide the corresponding code for the deep machine learning model. For more details, please refer to the **excellent** criterion. For this section, you need to use **Keras** to train a deep machine learning model. This evidence corresponds to the **excellent** criterion."
   ]
  },
  {
   "cell_type": "code",
   "execution_count": null,
   "id": "57308ade",
   "metadata": {},
   "outputs": [],
   "source": [
    "# Put your codes here"
   ]
  },
  {
   "cell_type": "markdown",
   "id": "415b0e32",
   "metadata": {},
   "source": [
    "## ILO 7.0: Deployment\n",
    "\n",
    "The student is able to deliver value to the stakeholders by delivering production-ready code that is designed to be implemented into practical real-world scenarios such as applications or products.\n",
    "\n",
    "Delivers value to the stakeholders by providing production-ready code that can be implemented into practical real-world scenarios through a proof of concept deployment:\n",
    "\n",
    "- **Poor**: Clear Individual contribution is documented. Python scripts are delivered.\n",
    "\n",
    "- **Insufficient**: Creates a virtual environment and utilizes it alongside a package manager, enabling efficient management of dependencies and packages required for a data science project. And meeting all criteria in poor.\n",
    "\n",
    "- **Sufficient**: Works towards delivering clean code according to industry standards, for example, by using logging, linting, doc strings, code formatting, refactoring etc. And meeting all criteria in insufficient.\n",
    "\n",
    "- **Good**: Unit tests are conducted to check the robustness of the delivered code with a test coverage of at least 30%. Industry-standard tools are used to document the code (e.g., sphinx). And meeting all criteria in sufficient.\n",
    "\n",
    "- **Excellent**: Industry ready applications are created and ready to be deployed. Streamlit or other such tools are used to create user friendly interface, which serves the business objective. And meeting all criteria in good."
   ]
  },
  {
   "cell_type": "markdown",
   "id": "e30933da",
   "metadata": {},
   "source": [
    "### Task 7.1 - Python Scripts\n",
    "\n",
    "Please add Individual Python scripts, and/or the link to your peers' Python scripts, if needed. Links should direct only to your own GitHub repository. This evidence corresponds to the **poor** criterion."
   ]
  },
  {
   "cell_type": "code",
   "execution_count": null,
   "id": "3a2d8336",
   "metadata": {},
   "outputs": [],
   "source": [
    "# Put your code and/or link here."
   ]
  },
  {
   "cell_type": "markdown",
   "id": "cd5e5c23",
   "metadata": {},
   "source": [
    "### Task 7.2 - Virtual Environment\n",
    "\n",
    "Please provide the link to the requirements.txt file here for Virtual environment. Also add the screenshots of creating the virtual environment and running the code in the virtual environment. This evidence corresponds to the **insufficient** criterion."
   ]
  },
  {
   "cell_type": "code",
   "execution_count": null,
   "id": "0c15bc4c",
   "metadata": {},
   "outputs": [],
   "source": [
    "\n",
    "# Put your evidence here"
   ]
  },
  {
   "cell_type": "markdown",
   "id": "fddc3408",
   "metadata": {},
   "source": [
    "### Task 7.3 - Cleaning your code\n",
    "\n",
    "Please provide an example of how you commneted, and how you structured your code [Linting, Logging, Docstrings etc]. This evidence corresponds to **sufficient** criterion."
   ]
  },
  {
   "cell_type": "code",
   "execution_count": 1,
   "id": "ea540093",
   "metadata": {},
   "outputs": [],
   "source": [
    "# Put your evidence here"
   ]
  },
  {
   "cell_type": "markdown",
   "id": "c9ea62fe",
   "metadata": {},
   "source": [
    "### Task 7.4 - Test Coverage\n",
    "\n",
    "Please provide sample unit test cases and evidence that you managed to meet 30% of the code coverage. This evidence corresponds to **good** criterion."
   ]
  },
  {
   "cell_type": "code",
   "execution_count": null,
   "id": "480f8816",
   "metadata": {},
   "outputs": [],
   "source": [
    "# Put your evidence here"
   ]
  },
  {
   "cell_type": "markdown",
   "id": "c9c5c4af",
   "metadata": {},
   "source": [
    "### Task 7.5 - Production Ready application\n",
    "\n",
    "Please provide evidence regarding how you intended to deliver this Python application to the end user / client. Examples include Streamlit, Flask, Django, FastAPI, etc. This evidence corresponds to **excellent** criterion."
   ]
  },
  {
   "cell_type": "code",
   "execution_count": null,
   "id": "efdbc620",
   "metadata": {},
   "outputs": [],
   "source": [
    "# Put your evidence here"
   ]
  }
 ],
 "metadata": {
  "kernelspec": {
   "display_name": "Python 3 (ipykernel)",
   "language": "python",
   "name": "python3"
  },
  "language_info": {
   "codemirror_mode": {
    "name": "ipython",
    "version": 3
   },
   "file_extension": ".py",
   "mimetype": "text/x-python",
   "name": "python",
   "nbconvert_exporter": "python",
   "pygments_lexer": "ipython3",
   "version": "3.9.6"
  }
 },
 "nbformat": 4,
 "nbformat_minor": 5
}
