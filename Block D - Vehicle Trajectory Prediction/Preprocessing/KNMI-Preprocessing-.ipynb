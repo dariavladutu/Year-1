{
 "cells": [
  {
   "cell_type": "markdown",
   "id": "0114eb47-c477-4c1a-a643-4709d3ddc7bc",
   "metadata": {},
   "source": [
    "### Install Packages needed"
   ]
  },
  {
   "cell_type": "code",
   "execution_count": 1,
   "id": "0ee69689-4227-4b63-840b-c509f2b20dc7",
   "metadata": {},
   "outputs": [
    {
     "name": "stdout",
     "output_type": "stream",
     "text": [
      "Requirement already satisfied: psycopg2-binary in /usr/local/lib/python3.10/dist-packages (2.9.9)\n",
      "\u001b[33mWARNING: Running pip as the 'root' user can result in broken permissions and conflicting behaviour with the system package manager. It is recommended to use a virtual environment instead: https://pip.pypa.io/warnings/venv\u001b[0m\u001b[33m\n",
      "\u001b[0mNote: you may need to restart the kernel to use updated packages.\n"
     ]
    }
   ],
   "source": [
    "pip install psycopg2-binary"
   ]
  },
  {
   "cell_type": "code",
   "execution_count": 2,
   "id": "4013c469-2edb-4e20-8378-5778145e06af",
   "metadata": {},
   "outputs": [
    {
     "name": "stdout",
     "output_type": "stream",
     "text": [
      "Requirement already satisfied: scikit-learn in /usr/local/lib/python3.10/dist-packages (1.5.0)\n",
      "Requirement already satisfied: numpy>=1.19.5 in /usr/local/lib/python3.10/dist-packages (from scikit-learn) (1.26.4)\n",
      "Requirement already satisfied: scipy>=1.6.0 in /usr/local/lib/python3.10/dist-packages (from scikit-learn) (1.13.1)\n",
      "Requirement already satisfied: joblib>=1.2.0 in /usr/local/lib/python3.10/dist-packages (from scikit-learn) (1.4.2)\n",
      "Requirement already satisfied: threadpoolctl>=3.1.0 in /usr/local/lib/python3.10/dist-packages (from scikit-learn) (3.5.0)\n",
      "\u001b[33mWARNING: Running pip as the 'root' user can result in broken permissions and conflicting behaviour with the system package manager. It is recommended to use a virtual environment instead: https://pip.pypa.io/warnings/venv\u001b[0m\u001b[33m\n",
      "\u001b[0mNote: you may need to restart the kernel to use updated packages.\n"
     ]
    }
   ],
   "source": [
    "pip install scikit-learn"
   ]
  },
  {
   "cell_type": "code",
   "execution_count": 3,
   "id": "db78eb17-28b6-4914-a701-0edf4cab0bb8",
   "metadata": {},
   "outputs": [
    {
     "name": "stdout",
     "output_type": "stream",
     "text": [
      "Requirement already satisfied: sqlalchemy in /usr/local/lib/python3.10/dist-packages (2.0.30)\n",
      "Requirement already satisfied: typing-extensions>=4.6.0 in /usr/local/lib/python3.10/dist-packages (from sqlalchemy) (4.11.0)\n",
      "Requirement already satisfied: greenlet!=0.4.17 in /usr/local/lib/python3.10/dist-packages (from sqlalchemy) (3.0.3)\n",
      "\u001b[33mWARNING: Running pip as the 'root' user can result in broken permissions and conflicting behaviour with the system package manager. It is recommended to use a virtual environment instead: https://pip.pypa.io/warnings/venv\u001b[0m\u001b[33m\n",
      "\u001b[0mNote: you may need to restart the kernel to use updated packages.\n"
     ]
    }
   ],
   "source": [
    "pip install sqlalchemy"
   ]
  },
  {
   "cell_type": "code",
   "execution_count": 4,
   "id": "5e22f7f5-adec-4dc8-bbfa-561cad4b9f7c",
   "metadata": {},
   "outputs": [
    {
     "name": "stdout",
     "output_type": "stream",
     "text": [
      "Requirement already satisfied: pandas in /usr/local/lib/python3.10/dist-packages (2.2.2)\n",
      "Requirement already satisfied: numpy>=1.22.4 in /usr/local/lib/python3.10/dist-packages (from pandas) (1.26.4)\n",
      "Requirement already satisfied: python-dateutil>=2.8.2 in /usr/local/lib/python3.10/dist-packages (from pandas) (2.9.0.post0)\n",
      "Requirement already satisfied: pytz>=2020.1 in /usr/local/lib/python3.10/dist-packages (from pandas) (2024.1)\n",
      "Requirement already satisfied: tzdata>=2022.7 in /usr/local/lib/python3.10/dist-packages (from pandas) (2024.1)\n",
      "Requirement already satisfied: six>=1.5 in /usr/local/lib/python3.10/dist-packages (from python-dateutil>=2.8.2->pandas) (1.16.0)\n",
      "\u001b[33mWARNING: Running pip as the 'root' user can result in broken permissions and conflicting behaviour with the system package manager. It is recommended to use a virtual environment instead: https://pip.pypa.io/warnings/venv\u001b[0m\u001b[33m\n",
      "\u001b[0mNote: you may need to restart the kernel to use updated packages.\n"
     ]
    }
   ],
   "source": [
    "pip install pandas"
   ]
  },
  {
   "cell_type": "code",
   "execution_count": 5,
   "id": "2d0f4f49-4230-4962-a545-9cd2c8f20edf",
   "metadata": {},
   "outputs": [
    {
     "name": "stdout",
     "output_type": "stream",
     "text": [
      "Requirement already satisfied: seaborn in /usr/local/lib/python3.10/dist-packages (0.13.2)\n",
      "Requirement already satisfied: numpy!=1.24.0,>=1.20 in /usr/local/lib/python3.10/dist-packages (from seaborn) (1.26.4)\n",
      "Requirement already satisfied: pandas>=1.2 in /usr/local/lib/python3.10/dist-packages (from seaborn) (2.2.2)\n",
      "Requirement already satisfied: matplotlib!=3.6.1,>=3.4 in /usr/local/lib/python3.10/dist-packages (from seaborn) (3.9.0)\n",
      "Requirement already satisfied: contourpy>=1.0.1 in /usr/local/lib/python3.10/dist-packages (from matplotlib!=3.6.1,>=3.4->seaborn) (1.2.1)\n",
      "Requirement already satisfied: cycler>=0.10 in /usr/local/lib/python3.10/dist-packages (from matplotlib!=3.6.1,>=3.4->seaborn) (0.12.1)\n",
      "Requirement already satisfied: fonttools>=4.22.0 in /usr/local/lib/python3.10/dist-packages (from matplotlib!=3.6.1,>=3.4->seaborn) (4.52.4)\n",
      "Requirement already satisfied: kiwisolver>=1.3.1 in /usr/local/lib/python3.10/dist-packages (from matplotlib!=3.6.1,>=3.4->seaborn) (1.4.5)\n",
      "Requirement already satisfied: packaging>=20.0 in /usr/local/lib/python3.10/dist-packages (from matplotlib!=3.6.1,>=3.4->seaborn) (24.0)\n",
      "Requirement already satisfied: pillow>=8 in /usr/local/lib/python3.10/dist-packages (from matplotlib!=3.6.1,>=3.4->seaborn) (10.3.0)\n",
      "Requirement already satisfied: pyparsing>=2.3.1 in /usr/local/lib/python3.10/dist-packages (from matplotlib!=3.6.1,>=3.4->seaborn) (3.1.2)\n",
      "Requirement already satisfied: python-dateutil>=2.7 in /usr/local/lib/python3.10/dist-packages (from matplotlib!=3.6.1,>=3.4->seaborn) (2.9.0.post0)\n",
      "Requirement already satisfied: pytz>=2020.1 in /usr/local/lib/python3.10/dist-packages (from pandas>=1.2->seaborn) (2024.1)\n",
      "Requirement already satisfied: tzdata>=2022.7 in /usr/local/lib/python3.10/dist-packages (from pandas>=1.2->seaborn) (2024.1)\n",
      "Requirement already satisfied: six>=1.5 in /usr/local/lib/python3.10/dist-packages (from python-dateutil>=2.7->matplotlib!=3.6.1,>=3.4->seaborn) (1.16.0)\n",
      "\u001b[33mWARNING: Running pip as the 'root' user can result in broken permissions and conflicting behaviour with the system package manager. It is recommended to use a virtual environment instead: https://pip.pypa.io/warnings/venv\u001b[0m\u001b[33m\n",
      "\u001b[0mNote: you may need to restart the kernel to use updated packages.\n"
     ]
    }
   ],
   "source": [
    "pip install seaborn"
   ]
  },
  {
   "cell_type": "code",
   "execution_count": 6,
   "id": "7fd06367-96c2-4629-bd9d-8c651243acae",
   "metadata": {},
   "outputs": [],
   "source": [
    "import psycopg2\n",
    "from sqlalchemy import create_engine, Column, Integer, String\n",
    "from sqlalchemy.ext.declarative import declarative_base\n",
    "from sqlalchemy.orm import sessionmaker\n",
    "import pandas as pd\n",
    "import numpy as np\n",
    "import matplotlib.pyplot as plt\n",
    "from scipy import stats\n",
    "from sklearn.model_selection import train_test_split\n",
    "import seaborn as sns"
   ]
  },
  {
   "cell_type": "markdown",
   "id": "fc1ba1ee-9d5f-4619-89c7-8042486b7ba8",
   "metadata": {},
   "source": [
    "### Load dataset from the database & create DataFrame"
   ]
  },
  {
   "cell_type": "code",
   "execution_count": 7,
   "id": "2b79876e-d219-481d-8fa9-caab850e0852",
   "metadata": {},
   "outputs": [
    {
     "data": {
      "text/html": [
       "<div>\n",
       "<style scoped>\n",
       "    .dataframe tbody tr th:only-of-type {\n",
       "        vertical-align: middle;\n",
       "    }\n",
       "\n",
       "    .dataframe tbody tr th {\n",
       "        vertical-align: top;\n",
       "    }\n",
       "\n",
       "    .dataframe thead th {\n",
       "        text-align: right;\n",
       "    }\n",
       "</style>\n",
       "<table border=\"1\" class=\"dataframe\">\n",
       "  <thead>\n",
       "    <tr style=\"text-align: right;\">\n",
       "      <th></th>\n",
       "      <th>dtg</th>\n",
       "      <th>LOCATION</th>\n",
       "      <th>NAME</th>\n",
       "      <th>latitude</th>\n",
       "      <th>longitude</th>\n",
       "      <th>altitude</th>\n",
       "      <th>dr_pws_10</th>\n",
       "      <th>dr_regenm_10</th>\n",
       "      <th>ww_cor_10</th>\n",
       "      <th>ri_pws_10</th>\n",
       "      <th>ri_regenm_10</th>\n",
       "    </tr>\n",
       "  </thead>\n",
       "  <tbody>\n",
       "    <tr>\n",
       "      <th>0</th>\n",
       "      <td>2004-12-18 06:30:00</td>\n",
       "      <td>350_R_a</td>\n",
       "      <td>Gilze-Rijen locatie 10t</td>\n",
       "      <td>51.565</td>\n",
       "      <td>4.935278</td>\n",
       "      <td>14.9</td>\n",
       "      <td>0.0</td>\n",
       "      <td>0.0</td>\n",
       "      <td>0.0</td>\n",
       "      <td>0.0</td>\n",
       "      <td>0.0</td>\n",
       "    </tr>\n",
       "    <tr>\n",
       "      <th>1</th>\n",
       "      <td>2004-12-18 06:40:00</td>\n",
       "      <td>350_R_a</td>\n",
       "      <td>Gilze-Rijen locatie 10t</td>\n",
       "      <td>51.565</td>\n",
       "      <td>4.935278</td>\n",
       "      <td>14.9</td>\n",
       "      <td>0.0</td>\n",
       "      <td>0.0</td>\n",
       "      <td>0.0</td>\n",
       "      <td>0.0</td>\n",
       "      <td>0.0</td>\n",
       "    </tr>\n",
       "    <tr>\n",
       "      <th>2</th>\n",
       "      <td>2004-12-18 06:50:00</td>\n",
       "      <td>350_R_a</td>\n",
       "      <td>Gilze-Rijen locatie 10t</td>\n",
       "      <td>51.565</td>\n",
       "      <td>4.935278</td>\n",
       "      <td>14.9</td>\n",
       "      <td>0.0</td>\n",
       "      <td>0.0</td>\n",
       "      <td>0.0</td>\n",
       "      <td>0.0</td>\n",
       "      <td>0.0</td>\n",
       "    </tr>\n",
       "    <tr>\n",
       "      <th>3</th>\n",
       "      <td>2004-12-18 07:00:00</td>\n",
       "      <td>350_R_a</td>\n",
       "      <td>Gilze-Rijen locatie 10t</td>\n",
       "      <td>51.565</td>\n",
       "      <td>4.935278</td>\n",
       "      <td>14.9</td>\n",
       "      <td>0.0</td>\n",
       "      <td>0.0</td>\n",
       "      <td>0.0</td>\n",
       "      <td>0.0</td>\n",
       "      <td>0.0</td>\n",
       "    </tr>\n",
       "    <tr>\n",
       "      <th>4</th>\n",
       "      <td>2004-12-18 07:10:00</td>\n",
       "      <td>350_R_a</td>\n",
       "      <td>Gilze-Rijen locatie 10t</td>\n",
       "      <td>51.565</td>\n",
       "      <td>4.935278</td>\n",
       "      <td>14.9</td>\n",
       "      <td>0.0</td>\n",
       "      <td>0.0</td>\n",
       "      <td>0.0</td>\n",
       "      <td>0.0</td>\n",
       "      <td>0.0</td>\n",
       "    </tr>\n",
       "    <tr>\n",
       "      <th>...</th>\n",
       "      <td>...</td>\n",
       "      <td>...</td>\n",
       "      <td>...</td>\n",
       "      <td>...</td>\n",
       "      <td>...</td>\n",
       "      <td>...</td>\n",
       "      <td>...</td>\n",
       "      <td>...</td>\n",
       "      <td>...</td>\n",
       "      <td>...</td>\n",
       "      <td>...</td>\n",
       "    </tr>\n",
       "    <tr>\n",
       "      <th>1098427</th>\n",
       "      <td>2004-12-18 05:40:00</td>\n",
       "      <td>350_R_a</td>\n",
       "      <td>Gilze-Rijen locatie 10t</td>\n",
       "      <td>51.565</td>\n",
       "      <td>4.935278</td>\n",
       "      <td>14.9</td>\n",
       "      <td>0.0</td>\n",
       "      <td>0.0</td>\n",
       "      <td>0.0</td>\n",
       "      <td>0.0</td>\n",
       "      <td>0.0</td>\n",
       "    </tr>\n",
       "    <tr>\n",
       "      <th>1098428</th>\n",
       "      <td>2004-12-18 05:50:00</td>\n",
       "      <td>350_R_a</td>\n",
       "      <td>Gilze-Rijen locatie 10t</td>\n",
       "      <td>51.565</td>\n",
       "      <td>4.935278</td>\n",
       "      <td>14.9</td>\n",
       "      <td>0.0</td>\n",
       "      <td>0.0</td>\n",
       "      <td>0.0</td>\n",
       "      <td>0.0</td>\n",
       "      <td>0.0</td>\n",
       "    </tr>\n",
       "    <tr>\n",
       "      <th>1098429</th>\n",
       "      <td>2004-12-18 06:00:00</td>\n",
       "      <td>350_R_a</td>\n",
       "      <td>Gilze-Rijen locatie 10t</td>\n",
       "      <td>51.565</td>\n",
       "      <td>4.935278</td>\n",
       "      <td>14.9</td>\n",
       "      <td>0.0</td>\n",
       "      <td>0.0</td>\n",
       "      <td>0.0</td>\n",
       "      <td>0.0</td>\n",
       "      <td>0.0</td>\n",
       "    </tr>\n",
       "    <tr>\n",
       "      <th>1098430</th>\n",
       "      <td>2004-12-18 06:10:00</td>\n",
       "      <td>350_R_a</td>\n",
       "      <td>Gilze-Rijen locatie 10t</td>\n",
       "      <td>51.565</td>\n",
       "      <td>4.935278</td>\n",
       "      <td>14.9</td>\n",
       "      <td>0.0</td>\n",
       "      <td>0.0</td>\n",
       "      <td>0.0</td>\n",
       "      <td>0.0</td>\n",
       "      <td>0.0</td>\n",
       "    </tr>\n",
       "    <tr>\n",
       "      <th>1098431</th>\n",
       "      <td>2004-12-18 06:20:00</td>\n",
       "      <td>350_R_a</td>\n",
       "      <td>Gilze-Rijen locatie 10t</td>\n",
       "      <td>51.565</td>\n",
       "      <td>4.935278</td>\n",
       "      <td>14.9</td>\n",
       "      <td>0.0</td>\n",
       "      <td>0.0</td>\n",
       "      <td>0.0</td>\n",
       "      <td>0.0</td>\n",
       "      <td>0.0</td>\n",
       "    </tr>\n",
       "  </tbody>\n",
       "</table>\n",
       "<p>1098432 rows × 11 columns</p>\n",
       "</div>"
      ],
      "text/plain": [
       "                        dtg LOCATION                     NAME  latitude  longitude  altitude  dr_pws_10  dr_regenm_10  ww_cor_10  ri_pws_10  ri_regenm_10\n",
       "0       2004-12-18 06:30:00  350_R_a  Gilze-Rijen locatie 10t    51.565   4.935278      14.9        0.0           0.0        0.0        0.0           0.0\n",
       "1       2004-12-18 06:40:00  350_R_a  Gilze-Rijen locatie 10t    51.565   4.935278      14.9        0.0           0.0        0.0        0.0           0.0\n",
       "2       2004-12-18 06:50:00  350_R_a  Gilze-Rijen locatie 10t    51.565   4.935278      14.9        0.0           0.0        0.0        0.0           0.0\n",
       "3       2004-12-18 07:00:00  350_R_a  Gilze-Rijen locatie 10t    51.565   4.935278      14.9        0.0           0.0        0.0        0.0           0.0\n",
       "4       2004-12-18 07:10:00  350_R_a  Gilze-Rijen locatie 10t    51.565   4.935278      14.9        0.0           0.0        0.0        0.0           0.0\n",
       "...                     ...      ...                      ...       ...        ...       ...        ...           ...        ...        ...           ...\n",
       "1098427 2004-12-18 05:40:00  350_R_a  Gilze-Rijen locatie 10t    51.565   4.935278      14.9        0.0           0.0        0.0        0.0           0.0\n",
       "1098428 2004-12-18 05:50:00  350_R_a  Gilze-Rijen locatie 10t    51.565   4.935278      14.9        0.0           0.0        0.0        0.0           0.0\n",
       "1098429 2004-12-18 06:00:00  350_R_a  Gilze-Rijen locatie 10t    51.565   4.935278      14.9        0.0           0.0        0.0        0.0           0.0\n",
       "1098430 2004-12-18 06:10:00  350_R_a  Gilze-Rijen locatie 10t    51.565   4.935278      14.9        0.0           0.0        0.0        0.0           0.0\n",
       "1098431 2004-12-18 06:20:00  350_R_a  Gilze-Rijen locatie 10t    51.565   4.935278      14.9        0.0           0.0        0.0        0.0           0.0\n",
       "\n",
       "[1098432 rows x 11 columns]"
      ]
     },
     "metadata": {},
     "output_type": "display_data"
    }
   ],
   "source": [
    "# Database connection parameters\n",
    "db_params = {\n",
    "    'host': '194.171.191.226',\n",
    "    'port': '6379',\n",
    "    'dbname': 'postgres',\n",
    "    'user': 'group18',\n",
    "    'password': 'blockd_2024group18_44'\n",
    "}\n",
    "\n",
    "# Establish the connection\n",
    "conn_psycopg2 = psycopg2.connect(\n",
    "    host=db_params['host'],\n",
    "    port=db_params['port'],\n",
    "    dbname=db_params['dbname'],\n",
    "    user=db_params['user'],\n",
    "    password=db_params['password']\n",
    ")\n",
    "\n",
    "try:\n",
    "    cursor = conn_psycopg2.cursor()\n",
    "    # Select all columns from the table\n",
    "    cursor.execute('SELECT * FROM data_lake.Precipitation')\n",
    "    \n",
    "    # Fetch all rows\n",
    "    rows = cursor.fetchall()\n",
    "    \n",
    "    # Get column names\n",
    "    colnames = [desc[0] for desc in cursor.description]\n",
    "    \n",
    "    # Create a pandas DataFrame\n",
    "    df = pd.DataFrame(rows, columns=colnames)\n",
    "    \n",
    "    # Set display options\n",
    "    pd.set_option('display.max_columns', None)  # Show all columns\n",
    "    pd.set_option('display.width', 1000)        # Set the display width\n",
    "    pd.set_option('display.max_colwidth', 30)   # Set max column width\n",
    "\n",
    "\n",
    "    from IPython.display import display\n",
    "    display(df)  # Display the first 5 rows\n",
    "    \n",
    "    conn_psycopg2.commit()  # Commit the transaction if all commands succeed\n",
    "except Exception as e:\n",
    "    conn_psycopg2.rollback()  # Rollback the transaction if any command fails\n",
    "    print(f\"An error occurred: {e}\")\n",
    "finally:\n",
    "    cursor.close()\n",
    "    conn_psycopg2.close()"
   ]
  },
  {
   "cell_type": "markdown",
   "id": "9de01981-748a-4190-baa0-93d0c6627c72",
   "metadata": {},
   "source": [
    "### Remove unnecessary columns from the dataset"
   ]
  },
  {
   "cell_type": "code",
   "execution_count": 8,
   "id": "34af9797-b6d6-411c-a0d7-05b12822b6a2",
   "metadata": {},
   "outputs": [
    {
     "data": {
      "text/html": [
       "<div>\n",
       "<style scoped>\n",
       "    .dataframe tbody tr th:only-of-type {\n",
       "        vertical-align: middle;\n",
       "    }\n",
       "\n",
       "    .dataframe tbody tr th {\n",
       "        vertical-align: top;\n",
       "    }\n",
       "\n",
       "    .dataframe thead th {\n",
       "        text-align: right;\n",
       "    }\n",
       "</style>\n",
       "<table border=\"1\" class=\"dataframe\">\n",
       "  <thead>\n",
       "    <tr style=\"text-align: right;\">\n",
       "      <th></th>\n",
       "      <th>dtg</th>\n",
       "      <th>LOCATION</th>\n",
       "      <th>dr_regenm_10</th>\n",
       "      <th>ri_regenm_10</th>\n",
       "    </tr>\n",
       "  </thead>\n",
       "  <tbody>\n",
       "    <tr>\n",
       "      <th>0</th>\n",
       "      <td>2004-12-18 06:30:00</td>\n",
       "      <td>350_R_a</td>\n",
       "      <td>0.0</td>\n",
       "      <td>0.0</td>\n",
       "    </tr>\n",
       "    <tr>\n",
       "      <th>1</th>\n",
       "      <td>2004-12-18 06:40:00</td>\n",
       "      <td>350_R_a</td>\n",
       "      <td>0.0</td>\n",
       "      <td>0.0</td>\n",
       "    </tr>\n",
       "    <tr>\n",
       "      <th>2</th>\n",
       "      <td>2004-12-18 06:50:00</td>\n",
       "      <td>350_R_a</td>\n",
       "      <td>0.0</td>\n",
       "      <td>0.0</td>\n",
       "    </tr>\n",
       "    <tr>\n",
       "      <th>3</th>\n",
       "      <td>2004-12-18 07:00:00</td>\n",
       "      <td>350_R_a</td>\n",
       "      <td>0.0</td>\n",
       "      <td>0.0</td>\n",
       "    </tr>\n",
       "    <tr>\n",
       "      <th>4</th>\n",
       "      <td>2004-12-18 07:10:00</td>\n",
       "      <td>350_R_a</td>\n",
       "      <td>0.0</td>\n",
       "      <td>0.0</td>\n",
       "    </tr>\n",
       "  </tbody>\n",
       "</table>\n",
       "</div>"
      ],
      "text/plain": [
       "                  dtg LOCATION  dr_regenm_10  ri_regenm_10\n",
       "0 2004-12-18 06:30:00  350_R_a           0.0           0.0\n",
       "1 2004-12-18 06:40:00  350_R_a           0.0           0.0\n",
       "2 2004-12-18 06:50:00  350_R_a           0.0           0.0\n",
       "3 2004-12-18 07:00:00  350_R_a           0.0           0.0\n",
       "4 2004-12-18 07:10:00  350_R_a           0.0           0.0"
      ]
     },
     "metadata": {},
     "output_type": "display_data"
    }
   ],
   "source": [
    "# Select only the required columns\n",
    "columns_to_keep = ['dtg', 'LOCATION', 'dr_regenm_10', 'ri_regenm_10']\n",
    "df_1 = df[columns_to_keep]\n",
    "    \n",
    "# Set display options\n",
    "pd.set_option('display.max_columns', None)  # Show all columns\n",
    "pd.set_option('display.width', 1000)        # Set the display width\n",
    "pd.set_option('display.max_colwidth', 30)   # Set max column width\n",
    "    \n",
    "display(df_1.head())  # Display the first 5 rows"
   ]
  },
  {
   "cell_type": "markdown",
   "id": "c70656b3-51f7-4022-9a18-5ea2f84dc9cd",
   "metadata": {},
   "source": [
    "### Split dtg column into date & time"
   ]
  },
  {
   "cell_type": "code",
   "execution_count": 9,
   "id": "f7226781-17c9-46cb-8309-49139c2ce528",
   "metadata": {},
   "outputs": [
    {
     "name": "stderr",
     "output_type": "stream",
     "text": [
      "/tmp/ipykernel_19899/467967243.py:2: SettingWithCopyWarning: \n",
      "A value is trying to be set on a copy of a slice from a DataFrame.\n",
      "Try using .loc[row_indexer,col_indexer] = value instead\n",
      "\n",
      "See the caveats in the documentation: https://pandas.pydata.org/pandas-docs/stable/user_guide/indexing.html#returning-a-view-versus-a-copy\n",
      "  df_1['date'] = df_1['dtg'].dt.date\n",
      "/tmp/ipykernel_19899/467967243.py:3: SettingWithCopyWarning: \n",
      "A value is trying to be set on a copy of a slice from a DataFrame.\n",
      "Try using .loc[row_indexer,col_indexer] = value instead\n",
      "\n",
      "See the caveats in the documentation: https://pandas.pydata.org/pandas-docs/stable/user_guide/indexing.html#returning-a-view-versus-a-copy\n",
      "  df_1['time'] = df_1['dtg'].dt.time\n",
      "/tmp/ipykernel_19899/467967243.py:6: SettingWithCopyWarning: \n",
      "A value is trying to be set on a copy of a slice from a DataFrame\n",
      "\n",
      "See the caveats in the documentation: https://pandas.pydata.org/pandas-docs/stable/user_guide/indexing.html#returning-a-view-versus-a-copy\n",
      "  df_1.drop(columns=['dtg'], inplace=True)\n"
     ]
    },
    {
     "data": {
      "text/html": [
       "<div>\n",
       "<style scoped>\n",
       "    .dataframe tbody tr th:only-of-type {\n",
       "        vertical-align: middle;\n",
       "    }\n",
       "\n",
       "    .dataframe tbody tr th {\n",
       "        vertical-align: top;\n",
       "    }\n",
       "\n",
       "    .dataframe thead th {\n",
       "        text-align: right;\n",
       "    }\n",
       "</style>\n",
       "<table border=\"1\" class=\"dataframe\">\n",
       "  <thead>\n",
       "    <tr style=\"text-align: right;\">\n",
       "      <th></th>\n",
       "      <th>LOCATION</th>\n",
       "      <th>dr_regenm_10</th>\n",
       "      <th>ri_regenm_10</th>\n",
       "      <th>date</th>\n",
       "      <th>time</th>\n",
       "    </tr>\n",
       "  </thead>\n",
       "  <tbody>\n",
       "    <tr>\n",
       "      <th>0</th>\n",
       "      <td>350_R_a</td>\n",
       "      <td>0.0</td>\n",
       "      <td>0.0</td>\n",
       "      <td>2004-12-18</td>\n",
       "      <td>06:30:00</td>\n",
       "    </tr>\n",
       "    <tr>\n",
       "      <th>1</th>\n",
       "      <td>350_R_a</td>\n",
       "      <td>0.0</td>\n",
       "      <td>0.0</td>\n",
       "      <td>2004-12-18</td>\n",
       "      <td>06:40:00</td>\n",
       "    </tr>\n",
       "    <tr>\n",
       "      <th>2</th>\n",
       "      <td>350_R_a</td>\n",
       "      <td>0.0</td>\n",
       "      <td>0.0</td>\n",
       "      <td>2004-12-18</td>\n",
       "      <td>06:50:00</td>\n",
       "    </tr>\n",
       "    <tr>\n",
       "      <th>3</th>\n",
       "      <td>350_R_a</td>\n",
       "      <td>0.0</td>\n",
       "      <td>0.0</td>\n",
       "      <td>2004-12-18</td>\n",
       "      <td>07:00:00</td>\n",
       "    </tr>\n",
       "    <tr>\n",
       "      <th>4</th>\n",
       "      <td>350_R_a</td>\n",
       "      <td>0.0</td>\n",
       "      <td>0.0</td>\n",
       "      <td>2004-12-18</td>\n",
       "      <td>07:10:00</td>\n",
       "    </tr>\n",
       "    <tr>\n",
       "      <th>...</th>\n",
       "      <td>...</td>\n",
       "      <td>...</td>\n",
       "      <td>...</td>\n",
       "      <td>...</td>\n",
       "      <td>...</td>\n",
       "    </tr>\n",
       "    <tr>\n",
       "      <th>1098427</th>\n",
       "      <td>350_R_a</td>\n",
       "      <td>0.0</td>\n",
       "      <td>0.0</td>\n",
       "      <td>2004-12-18</td>\n",
       "      <td>05:40:00</td>\n",
       "    </tr>\n",
       "    <tr>\n",
       "      <th>1098428</th>\n",
       "      <td>350_R_a</td>\n",
       "      <td>0.0</td>\n",
       "      <td>0.0</td>\n",
       "      <td>2004-12-18</td>\n",
       "      <td>05:50:00</td>\n",
       "    </tr>\n",
       "    <tr>\n",
       "      <th>1098429</th>\n",
       "      <td>350_R_a</td>\n",
       "      <td>0.0</td>\n",
       "      <td>0.0</td>\n",
       "      <td>2004-12-18</td>\n",
       "      <td>06:00:00</td>\n",
       "    </tr>\n",
       "    <tr>\n",
       "      <th>1098430</th>\n",
       "      <td>350_R_a</td>\n",
       "      <td>0.0</td>\n",
       "      <td>0.0</td>\n",
       "      <td>2004-12-18</td>\n",
       "      <td>06:10:00</td>\n",
       "    </tr>\n",
       "    <tr>\n",
       "      <th>1098431</th>\n",
       "      <td>350_R_a</td>\n",
       "      <td>0.0</td>\n",
       "      <td>0.0</td>\n",
       "      <td>2004-12-18</td>\n",
       "      <td>06:20:00</td>\n",
       "    </tr>\n",
       "  </tbody>\n",
       "</table>\n",
       "<p>1098432 rows × 5 columns</p>\n",
       "</div>"
      ],
      "text/plain": [
       "        LOCATION  dr_regenm_10  ri_regenm_10        date      time\n",
       "0        350_R_a           0.0           0.0  2004-12-18  06:30:00\n",
       "1        350_R_a           0.0           0.0  2004-12-18  06:40:00\n",
       "2        350_R_a           0.0           0.0  2004-12-18  06:50:00\n",
       "3        350_R_a           0.0           0.0  2004-12-18  07:00:00\n",
       "4        350_R_a           0.0           0.0  2004-12-18  07:10:00\n",
       "...          ...           ...           ...         ...       ...\n",
       "1098427  350_R_a           0.0           0.0  2004-12-18  05:40:00\n",
       "1098428  350_R_a           0.0           0.0  2004-12-18  05:50:00\n",
       "1098429  350_R_a           0.0           0.0  2004-12-18  06:00:00\n",
       "1098430  350_R_a           0.0           0.0  2004-12-18  06:10:00\n",
       "1098431  350_R_a           0.0           0.0  2004-12-18  06:20:00\n",
       "\n",
       "[1098432 rows x 5 columns]"
      ]
     },
     "execution_count": 9,
     "metadata": {},
     "output_type": "execute_result"
    }
   ],
   "source": [
    "# Create 'date' and 'time' columns\n",
    "df_1['date'] = df_1['dtg'].dt.date\n",
    "df_1['time'] = df_1['dtg'].dt.time\n",
    "    \n",
    "# Drop the original 'dtg' column\n",
    "df_1.drop(columns=['dtg'], inplace=True)\n",
    "\n",
    "df_1"
   ]
  },
  {
   "cell_type": "markdown",
   "id": "74df4185-6aea-42fa-a59a-d5e983a00ef5",
   "metadata": {},
   "source": [
    "### Filter dates between 01-01-2018 and 29-02-2024"
   ]
  },
  {
   "cell_type": "code",
   "execution_count": 10,
   "id": "d8ccead8-8356-4478-9281-484555aecfde",
   "metadata": {},
   "outputs": [
    {
     "name": "stderr",
     "output_type": "stream",
     "text": [
      "/tmp/ipykernel_19899/473945757.py:2: SettingWithCopyWarning: \n",
      "A value is trying to be set on a copy of a slice from a DataFrame.\n",
      "Try using .loc[row_indexer,col_indexer] = value instead\n",
      "\n",
      "See the caveats in the documentation: https://pandas.pydata.org/pandas-docs/stable/user_guide/indexing.html#returning-a-view-versus-a-copy\n",
      "  df_1['date'] = pd.to_datetime(df_1['date'])\n"
     ]
    },
    {
     "name": "stdout",
     "output_type": "stream",
     "text": [
      "        LOCATION  dr_regenm_10  ri_regenm_10       date      time\n",
      "684249   350_R_a           0.0           0.0 2018-01-01  00:00:00\n",
      "684250   350_R_a           0.0           0.0 2018-01-01  00:10:00\n",
      "684251   350_R_a           0.0           0.0 2018-01-01  00:20:00\n",
      "684252   350_R_a           0.0           0.0 2018-01-01  00:30:00\n",
      "684253   350_R_a           0.0           0.0 2018-01-01  00:40:00\n",
      "...          ...           ...           ...        ...       ...\n",
      "1003924  350_R_a           0.0           0.0 2024-02-29  23:10:00\n",
      "1003925  350_R_a           0.0           0.0 2024-02-29  23:20:00\n",
      "1003926  350_R_a           0.0           0.0 2024-02-29  23:30:00\n",
      "1003927  350_R_a           0.0           0.0 2024-02-29  23:40:00\n",
      "1003928  350_R_a           0.0           0.0 2024-02-29  23:50:00\n",
      "\n",
      "[319680 rows x 5 columns]\n"
     ]
    }
   ],
   "source": [
    "# Convert 'date' column to datetime type\n",
    "df_1['date'] = pd.to_datetime(df_1['date'])\n",
    "\n",
    "\n",
    "start_date = '2018-01-01'\n",
    "end_date = '2024-2-29'\n",
    "df_1 = df_1[(df_1['date'] >= start_date) & (df_1['date'] <= end_date)]\n",
    "\n",
    "# Print the filtered dataframe\n",
    "print(df_1)"
   ]
  },
  {
   "cell_type": "markdown",
   "id": "8ad3829a-edec-46e9-9a40-920ff7a49146",
   "metadata": {},
   "source": [
    "### Handling missing values by: \n",
    "- Removing Missing Values\n",
    "- Filling Missing values: fill missing values with a specific values, such as \n",
    "the mean, median, mode, or a fixed value\n",
    "- Interpolation: use interpolation methods to estimate and fill missing \n",
    "values\n",
    "- Flagging Missing value: Create an additional column to indicate the \n",
    "presence of missing values"
   ]
  },
  {
   "cell_type": "code",
   "execution_count": 11,
   "id": "c005f14e-e92e-48f0-82d3-c19fd80db6a8",
   "metadata": {},
   "outputs": [
    {
     "name": "stdout",
     "output_type": "stream",
     "text": [
      "Column 'LOCATION': 0 missing values\n",
      "Column 'dr_regenm_10': 194 missing values\n",
      "Column 'ri_regenm_10': 5828 missing values\n",
      "Column 'date': 0 missing values\n",
      "Column 'time': 0 missing values\n"
     ]
    }
   ],
   "source": [
    "# Check for missing values\n",
    "for column in df_1.columns:\n",
    "    missing_values = df_1[column].isnull().sum()\n",
    "    print(f\"Column '{column}': {missing_values} missing values\")"
   ]
  },
  {
   "cell_type": "code",
   "execution_count": 12,
   "id": "415e113d-9469-4949-a392-7a5ad51c5835",
   "metadata": {},
   "outputs": [
    {
     "data": {
      "text/html": [
       "<div>\n",
       "<style scoped>\n",
       "    .dataframe tbody tr th:only-of-type {\n",
       "        vertical-align: middle;\n",
       "    }\n",
       "\n",
       "    .dataframe tbody tr th {\n",
       "        vertical-align: top;\n",
       "    }\n",
       "\n",
       "    .dataframe thead th {\n",
       "        text-align: right;\n",
       "    }\n",
       "</style>\n",
       "<table border=\"1\" class=\"dataframe\">\n",
       "  <thead>\n",
       "    <tr style=\"text-align: right;\">\n",
       "      <th></th>\n",
       "      <th>LOCATION</th>\n",
       "      <th>dr_regenm_10</th>\n",
       "      <th>ri_regenm_10</th>\n",
       "      <th>date</th>\n",
       "      <th>time</th>\n",
       "    </tr>\n",
       "  </thead>\n",
       "  <tbody>\n",
       "    <tr>\n",
       "      <th>684249</th>\n",
       "      <td>350_R_a</td>\n",
       "      <td>0.0</td>\n",
       "      <td>0.0</td>\n",
       "      <td>2018-01-01</td>\n",
       "      <td>00:00:00</td>\n",
       "    </tr>\n",
       "    <tr>\n",
       "      <th>684250</th>\n",
       "      <td>350_R_a</td>\n",
       "      <td>0.0</td>\n",
       "      <td>0.0</td>\n",
       "      <td>2018-01-01</td>\n",
       "      <td>00:10:00</td>\n",
       "    </tr>\n",
       "    <tr>\n",
       "      <th>684251</th>\n",
       "      <td>350_R_a</td>\n",
       "      <td>0.0</td>\n",
       "      <td>0.0</td>\n",
       "      <td>2018-01-01</td>\n",
       "      <td>00:20:00</td>\n",
       "    </tr>\n",
       "    <tr>\n",
       "      <th>684252</th>\n",
       "      <td>350_R_a</td>\n",
       "      <td>0.0</td>\n",
       "      <td>0.0</td>\n",
       "      <td>2018-01-01</td>\n",
       "      <td>00:30:00</td>\n",
       "    </tr>\n",
       "    <tr>\n",
       "      <th>684253</th>\n",
       "      <td>350_R_a</td>\n",
       "      <td>0.0</td>\n",
       "      <td>0.0</td>\n",
       "      <td>2018-01-01</td>\n",
       "      <td>00:40:00</td>\n",
       "    </tr>\n",
       "    <tr>\n",
       "      <th>...</th>\n",
       "      <td>...</td>\n",
       "      <td>...</td>\n",
       "      <td>...</td>\n",
       "      <td>...</td>\n",
       "      <td>...</td>\n",
       "    </tr>\n",
       "    <tr>\n",
       "      <th>1003924</th>\n",
       "      <td>350_R_a</td>\n",
       "      <td>0.0</td>\n",
       "      <td>0.0</td>\n",
       "      <td>2024-02-29</td>\n",
       "      <td>23:10:00</td>\n",
       "    </tr>\n",
       "    <tr>\n",
       "      <th>1003925</th>\n",
       "      <td>350_R_a</td>\n",
       "      <td>0.0</td>\n",
       "      <td>0.0</td>\n",
       "      <td>2024-02-29</td>\n",
       "      <td>23:20:00</td>\n",
       "    </tr>\n",
       "    <tr>\n",
       "      <th>1003926</th>\n",
       "      <td>350_R_a</td>\n",
       "      <td>0.0</td>\n",
       "      <td>0.0</td>\n",
       "      <td>2024-02-29</td>\n",
       "      <td>23:30:00</td>\n",
       "    </tr>\n",
       "    <tr>\n",
       "      <th>1003927</th>\n",
       "      <td>350_R_a</td>\n",
       "      <td>0.0</td>\n",
       "      <td>0.0</td>\n",
       "      <td>2024-02-29</td>\n",
       "      <td>23:40:00</td>\n",
       "    </tr>\n",
       "    <tr>\n",
       "      <th>1003928</th>\n",
       "      <td>350_R_a</td>\n",
       "      <td>0.0</td>\n",
       "      <td>0.0</td>\n",
       "      <td>2024-02-29</td>\n",
       "      <td>23:50:00</td>\n",
       "    </tr>\n",
       "  </tbody>\n",
       "</table>\n",
       "<p>313852 rows × 5 columns</p>\n",
       "</div>"
      ],
      "text/plain": [
       "        LOCATION  dr_regenm_10  ri_regenm_10       date      time\n",
       "684249   350_R_a           0.0           0.0 2018-01-01  00:00:00\n",
       "684250   350_R_a           0.0           0.0 2018-01-01  00:10:00\n",
       "684251   350_R_a           0.0           0.0 2018-01-01  00:20:00\n",
       "684252   350_R_a           0.0           0.0 2018-01-01  00:30:00\n",
       "684253   350_R_a           0.0           0.0 2018-01-01  00:40:00\n",
       "...          ...           ...           ...        ...       ...\n",
       "1003924  350_R_a           0.0           0.0 2024-02-29  23:10:00\n",
       "1003925  350_R_a           0.0           0.0 2024-02-29  23:20:00\n",
       "1003926  350_R_a           0.0           0.0 2024-02-29  23:30:00\n",
       "1003927  350_R_a           0.0           0.0 2024-02-29  23:40:00\n",
       "1003928  350_R_a           0.0           0.0 2024-02-29  23:50:00\n",
       "\n",
       "[313852 rows x 5 columns]"
      ]
     },
     "execution_count": 12,
     "metadata": {},
     "output_type": "execute_result"
    }
   ],
   "source": [
    "#Removing Missing Values\n",
    "df_1.dropna()"
   ]
  },
  {
   "cell_type": "code",
   "execution_count": 13,
   "id": "d3a02148-7bbf-487d-9c6d-a88c62b97f07",
   "metadata": {},
   "outputs": [
    {
     "name": "stdout",
     "output_type": "stream",
     "text": [
      "\n",
      "DataFrame after Filling Missing Values with Mean:\n",
      "       LOCATION  dr_regenm_10  ri_regenm_10       date      time\n",
      "684249  350_R_a           0.0           0.0 2018-01-01  00:00:00\n",
      "684250  350_R_a           0.0           0.0 2018-01-01  00:10:00\n",
      "684251  350_R_a           0.0           0.0 2018-01-01  00:20:00\n",
      "684252  350_R_a           0.0           0.0 2018-01-01  00:30:00\n",
      "684253  350_R_a           0.0           0.0 2018-01-01  00:40:00\n"
     ]
    }
   ],
   "source": [
    "# Filling Missing Values\n",
    "df_1_mean = df_1.fillna(df_1.mean(numeric_only=True))  # Fill missing values with the mean\n",
    "df_1_median = df_1.fillna(df_1.median(numeric_only=True))  # Fill missing values with the median\n",
    "df_1_mode = df_1.fillna(df_1.mode().iloc[0])  # Fill missing values with the mode\n",
    "df_1_fixed = df_1.fillna(0)  # Fill missing values with a fixed value (e.g., 0)\n",
    "\n",
    "print(\"\\nDataFrame after Filling Missing Values with Mean:\")\n",
    "print(df_1_mean.head())"
   ]
  },
  {
   "cell_type": "code",
   "execution_count": 14,
   "id": "c35724ca-340b-4fb2-8ad9-4184f3d48022",
   "metadata": {},
   "outputs": [
    {
     "name": "stderr",
     "output_type": "stream",
     "text": [
      "/tmp/ipykernel_19899/3348428278.py:2: FutureWarning: DataFrame.interpolate with object dtype is deprecated and will raise in a future version. Call obj.infer_objects(copy=False) before interpolating instead.\n",
      "  df_interpolated = df_1.infer_objects(copy=False).interpolate()  # Convert object columns and interpolate missing values\n"
     ]
    },
    {
     "data": {
      "text/html": [
       "<div>\n",
       "<style scoped>\n",
       "    .dataframe tbody tr th:only-of-type {\n",
       "        vertical-align: middle;\n",
       "    }\n",
       "\n",
       "    .dataframe tbody tr th {\n",
       "        vertical-align: top;\n",
       "    }\n",
       "\n",
       "    .dataframe thead th {\n",
       "        text-align: right;\n",
       "    }\n",
       "</style>\n",
       "<table border=\"1\" class=\"dataframe\">\n",
       "  <thead>\n",
       "    <tr style=\"text-align: right;\">\n",
       "      <th></th>\n",
       "      <th>LOCATION</th>\n",
       "      <th>dr_regenm_10</th>\n",
       "      <th>ri_regenm_10</th>\n",
       "      <th>date</th>\n",
       "      <th>time</th>\n",
       "    </tr>\n",
       "  </thead>\n",
       "  <tbody>\n",
       "    <tr>\n",
       "      <th>684249</th>\n",
       "      <td>350_R_a</td>\n",
       "      <td>0.0</td>\n",
       "      <td>0.0</td>\n",
       "      <td>2018-01-01</td>\n",
       "      <td>00:00:00</td>\n",
       "    </tr>\n",
       "    <tr>\n",
       "      <th>684250</th>\n",
       "      <td>350_R_a</td>\n",
       "      <td>0.0</td>\n",
       "      <td>0.0</td>\n",
       "      <td>2018-01-01</td>\n",
       "      <td>00:10:00</td>\n",
       "    </tr>\n",
       "    <tr>\n",
       "      <th>684251</th>\n",
       "      <td>350_R_a</td>\n",
       "      <td>0.0</td>\n",
       "      <td>0.0</td>\n",
       "      <td>2018-01-01</td>\n",
       "      <td>00:20:00</td>\n",
       "    </tr>\n",
       "    <tr>\n",
       "      <th>684252</th>\n",
       "      <td>350_R_a</td>\n",
       "      <td>0.0</td>\n",
       "      <td>0.0</td>\n",
       "      <td>2018-01-01</td>\n",
       "      <td>00:30:00</td>\n",
       "    </tr>\n",
       "    <tr>\n",
       "      <th>684253</th>\n",
       "      <td>350_R_a</td>\n",
       "      <td>0.0</td>\n",
       "      <td>0.0</td>\n",
       "      <td>2018-01-01</td>\n",
       "      <td>00:40:00</td>\n",
       "    </tr>\n",
       "    <tr>\n",
       "      <th>...</th>\n",
       "      <td>...</td>\n",
       "      <td>...</td>\n",
       "      <td>...</td>\n",
       "      <td>...</td>\n",
       "      <td>...</td>\n",
       "    </tr>\n",
       "    <tr>\n",
       "      <th>1003924</th>\n",
       "      <td>350_R_a</td>\n",
       "      <td>0.0</td>\n",
       "      <td>0.0</td>\n",
       "      <td>2024-02-29</td>\n",
       "      <td>23:10:00</td>\n",
       "    </tr>\n",
       "    <tr>\n",
       "      <th>1003925</th>\n",
       "      <td>350_R_a</td>\n",
       "      <td>0.0</td>\n",
       "      <td>0.0</td>\n",
       "      <td>2024-02-29</td>\n",
       "      <td>23:20:00</td>\n",
       "    </tr>\n",
       "    <tr>\n",
       "      <th>1003926</th>\n",
       "      <td>350_R_a</td>\n",
       "      <td>0.0</td>\n",
       "      <td>0.0</td>\n",
       "      <td>2024-02-29</td>\n",
       "      <td>23:30:00</td>\n",
       "    </tr>\n",
       "    <tr>\n",
       "      <th>1003927</th>\n",
       "      <td>350_R_a</td>\n",
       "      <td>0.0</td>\n",
       "      <td>0.0</td>\n",
       "      <td>2024-02-29</td>\n",
       "      <td>23:40:00</td>\n",
       "    </tr>\n",
       "    <tr>\n",
       "      <th>1003928</th>\n",
       "      <td>350_R_a</td>\n",
       "      <td>0.0</td>\n",
       "      <td>0.0</td>\n",
       "      <td>2024-02-29</td>\n",
       "      <td>23:50:00</td>\n",
       "    </tr>\n",
       "  </tbody>\n",
       "</table>\n",
       "<p>319680 rows × 5 columns</p>\n",
       "</div>"
      ],
      "text/plain": [
       "        LOCATION  dr_regenm_10  ri_regenm_10       date      time\n",
       "684249   350_R_a           0.0           0.0 2018-01-01  00:00:00\n",
       "684250   350_R_a           0.0           0.0 2018-01-01  00:10:00\n",
       "684251   350_R_a           0.0           0.0 2018-01-01  00:20:00\n",
       "684252   350_R_a           0.0           0.0 2018-01-01  00:30:00\n",
       "684253   350_R_a           0.0           0.0 2018-01-01  00:40:00\n",
       "...          ...           ...           ...        ...       ...\n",
       "1003924  350_R_a           0.0           0.0 2024-02-29  23:10:00\n",
       "1003925  350_R_a           0.0           0.0 2024-02-29  23:20:00\n",
       "1003926  350_R_a           0.0           0.0 2024-02-29  23:30:00\n",
       "1003927  350_R_a           0.0           0.0 2024-02-29  23:40:00\n",
       "1003928  350_R_a           0.0           0.0 2024-02-29  23:50:00\n",
       "\n",
       "[319680 rows x 5 columns]"
      ]
     },
     "execution_count": 14,
     "metadata": {},
     "output_type": "execute_result"
    }
   ],
   "source": [
    "# Interpolation\n",
    "df_interpolated = df_1.infer_objects(copy=False).interpolate()  # Convert object columns and interpolate missing values\n",
    "df_interpolated"
   ]
  },
  {
   "cell_type": "code",
   "execution_count": 15,
   "id": "81a44368-9a12-44be-9d18-42ebc2ca1a40",
   "metadata": {},
   "outputs": [
    {
     "name": "stdout",
     "output_type": "stream",
     "text": [
      "Column 'LOCATION': 0 missing values\n",
      "Column 'dr_regenm_10': 0 missing values\n",
      "Column 'ri_regenm_10': 0 missing values\n",
      "Column 'date': 0 missing values\n",
      "Column 'time': 0 missing values\n"
     ]
    },
    {
     "name": "stderr",
     "output_type": "stream",
     "text": [
      "/tmp/ipykernel_19899/2726259739.py:2: FutureWarning: A value is trying to be set on a copy of a DataFrame or Series through chained assignment using an inplace method.\n",
      "The behavior will change in pandas 3.0. This inplace method will never work because the intermediate object on which we are setting values always behaves as a copy.\n",
      "\n",
      "For example, when doing 'df[col].method(value, inplace=True)', try using 'df.method({col: value}, inplace=True)' or df[col] = df[col].method(value) instead, to perform the operation inplace on the original object.\n",
      "\n",
      "\n",
      "  df_1['dr_regenm_10'].fillna(df_1['dr_regenm_10'].mean(), inplace=True)\n",
      "/tmp/ipykernel_19899/2726259739.py:2: SettingWithCopyWarning: \n",
      "A value is trying to be set on a copy of a slice from a DataFrame\n",
      "\n",
      "See the caveats in the documentation: https://pandas.pydata.org/pandas-docs/stable/user_guide/indexing.html#returning-a-view-versus-a-copy\n",
      "  df_1['dr_regenm_10'].fillna(df_1['dr_regenm_10'].mean(), inplace=True)\n",
      "/tmp/ipykernel_19899/2726259739.py:5: FutureWarning: A value is trying to be set on a copy of a DataFrame or Series through chained assignment using an inplace method.\n",
      "The behavior will change in pandas 3.0. This inplace method will never work because the intermediate object on which we are setting values always behaves as a copy.\n",
      "\n",
      "For example, when doing 'df[col].method(value, inplace=True)', try using 'df.method({col: value}, inplace=True)' or df[col] = df[col].method(value) instead, to perform the operation inplace on the original object.\n",
      "\n",
      "\n",
      "  df_1['ri_regenm_10'].fillna(df_1['ri_regenm_10'].mean(), inplace=True)\n",
      "/tmp/ipykernel_19899/2726259739.py:5: SettingWithCopyWarning: \n",
      "A value is trying to be set on a copy of a slice from a DataFrame\n",
      "\n",
      "See the caveats in the documentation: https://pandas.pydata.org/pandas-docs/stable/user_guide/indexing.html#returning-a-view-versus-a-copy\n",
      "  df_1['ri_regenm_10'].fillna(df_1['ri_regenm_10'].mean(), inplace=True)\n"
     ]
    }
   ],
   "source": [
    "# Fill missing values in 'dr_regenm_10' with the column mean\n",
    "df_1['dr_regenm_10'].fillna(df_1['dr_regenm_10'].mean(), inplace=True)\n",
    "\n",
    "# Fill missing values in 'ri_regenm_10' with the column mean\n",
    "df_1['ri_regenm_10'].fillna(df_1['ri_regenm_10'].mean(), inplace=True)\n",
    "\n",
    "# Check the result\n",
    "for column in df_1.columns:\n",
    "    missing_values = df_1[column].isnull().sum()\n",
    "    print(f\"Column '{column}': {missing_values} missing values\")"
   ]
  },
  {
   "cell_type": "markdown",
   "id": "061e573c-0221-457d-9914-7dc603360165",
   "metadata": {},
   "source": [
    "###  Handling outliers"
   ]
  },
  {
   "cell_type": "code",
   "execution_count": 16,
   "id": "ca99b03b-7843-483f-b026-b2458b61f10e",
   "metadata": {},
   "outputs": [
    {
     "name": "stdout",
     "output_type": "stream",
     "text": [
      "Number of outliers detected: 21003\n",
      "Outliers:         LOCATION  dr_regenm_10  ri_regenm_10       date      time\n",
      "684258   350_R_a         600.0         2.220 2018-01-01  01:30:00\n",
      "684259   350_R_a         600.0         4.830 2018-01-01  01:40:00\n",
      "684260   350_R_a         600.0         1.610 2018-01-01  01:50:00\n",
      "684261   350_R_a         600.0         0.917 2018-01-01  02:00:00\n",
      "684262   350_R_a         600.0         0.696 2018-01-01  02:10:00\n",
      "...          ...           ...           ...        ...       ...\n",
      "1003908  350_R_a         600.0         0.924 2024-02-29  20:30:00\n",
      "1003909  350_R_a         600.0         1.260 2024-02-29  20:40:00\n",
      "1003910  350_R_a         600.0         0.294 2024-02-29  20:50:00\n",
      "1003913  350_R_a         600.0         0.864 2024-02-29  21:20:00\n",
      "1003914  350_R_a         600.0         0.659 2024-02-29  21:30:00\n",
      "\n",
      "[21003 rows x 5 columns]\n"
     ]
    }
   ],
   "source": [
    "from scipy import stats\n",
    "\n",
    "# Compute Z-scores for the 'dr_regenm_10' column\n",
    "z_scores = np.abs(stats.zscore(df_1['dr_regenm_10']))\n",
    "\n",
    "# Identify outliers\n",
    "threshold = 3\n",
    "outliers = df_1[np.abs(z_scores) > threshold]\n",
    "\n",
    "print(\"Number of outliers detected:\", len(outliers))\n",
    "print(\"Outliers:\", outliers)"
   ]
  },
  {
   "cell_type": "code",
   "execution_count": 17,
   "id": "46b417c4-5e5b-4614-bdc4-7a20ac7dfdef",
   "metadata": {},
   "outputs": [
    {
     "data": {
      "image/png": "[encoded data removed]",
      "text/plain": [
       "<Figure size 800x600 with 1 Axes>"
      ]
     },
     "metadata": {},
     "output_type": "display_data"
    }
   ],
   "source": [
    "# Create a boxplot of the 'dr_regenm_10' column\n",
    "plt.figure(figsize=(8, 6))\n",
    "sns.boxplot(data=df_1, x='dr_regenm_10')\n",
    "plt.title('Boxplot of dr_regenm_10')\n",
    "plt.show()"
   ]
  },
  {
   "cell_type": "code",
   "execution_count": 18,
   "id": "35fe5584-15fa-4824-8863-00982ef5f0e3",
   "metadata": {},
   "outputs": [
    {
     "data": {
      "image/png": "[encoded data removed]",
      "text/plain": [
       "<Figure size 1500x600 with 1 Axes>"
      ]
     },
     "metadata": {},
     "output_type": "display_data"
    }
   ],
   "source": [
    "# Identify Outliers\n",
    "# Visualize using scatter plot\n",
    "plt.figure(figsize=(15, 6))\n",
    "sns.scatterplot(data=df_1, x='dr_regenm_10', y='ri_regenm_10')\n",
    "plt.title('Scatter Plot of Rain Intensity vs Duration')\n",
    "plt.xlabel('Rain Duration')\n",
    "plt.ylabel('Rain Intensity')\n",
    "plt.show()"
   ]
  },
  {
   "cell_type": "code",
   "execution_count": 19,
   "id": "64143754-ead5-4ea4-96d8-f6ba38d9eadf",
   "metadata": {},
   "outputs": [
    {
     "name": "stdout",
     "output_type": "stream",
     "text": [
      "Number of outliers in rain intensity column detected: 3054\n",
      "Outliers in rain intensity column:         LOCATION  dr_regenm_10  ri_regenm_10       date      time\n",
      "684259   350_R_a         600.0          4.83 2018-01-01  01:40:00\n",
      "684344   350_R_a         600.0          2.25 2018-01-01  15:50:00\n",
      "684542   350_R_a         600.0          2.90 2018-01-03  00:50:00\n",
      "684546   350_R_a         600.0          3.51 2018-01-03  01:30:00\n",
      "684547   350_R_a         600.0          2.96 2018-01-03  01:40:00\n",
      "...          ...           ...           ...        ...       ...\n",
      "1002911  350_R_a         600.0          2.53 2024-02-22  22:20:00\n",
      "1002914  350_R_a         600.0          2.80 2024-02-22  22:50:00\n",
      "1003044  350_R_a         600.0          2.59 2024-02-23  20:30:00\n",
      "1003376  350_R_a         600.0          2.49 2024-02-26  03:50:00\n",
      "1003429  350_R_a         600.0          2.26 2024-02-26  12:40:00\n",
      "\n",
      "[3054 rows x 5 columns]\n"
     ]
    }
   ],
   "source": [
    "# Compute Z-scores for the 'ri_regenm_10' column\n",
    "z_scores_intensity = np.abs(stats.zscore(df_1['ri_regenm_10']))\n",
    "\n",
    "# Identify outliers\n",
    "threshold = 3\n",
    "outliers_intensity = df_1[np.abs(z_scores_intensity) > threshold]\n",
    "\n",
    "print(\"Number of outliers in rain intensity column detected:\", len(outliers_intensity))\n",
    "print(\"Outliers in rain intensity column:\", outliers_intensity)\n"
   ]
  },
  {
   "cell_type": "code",
   "execution_count": 20,
   "id": "df85b468-a033-439f-98c5-44091e828c14",
   "metadata": {},
   "outputs": [
    {
     "data": {
      "image/png": "[encoded data removed]",
      "text/plain": [
       "<Figure size 800x600 with 1 Axes>"
      ]
     },
     "metadata": {},
     "output_type": "display_data"
    }
   ],
   "source": [
    "# Create a boxplot of the 'ri_regenm_10' column\n",
    "plt.figure(figsize=(8, 6))\n",
    "sns.boxplot(data=df_1, x='ri_regenm_10')\n",
    "plt.title('Boxplot of ri_regenm_10')\n",
    "plt.show()"
   ]
  },
  {
   "cell_type": "code",
   "execution_count": 21,
   "id": "ce5aaeb4-59f8-47f7-8933-44a11a4ff448",
   "metadata": {},
   "outputs": [
    {
     "name": "stdout",
     "output_type": "stream",
     "text": [
      "DataFrame after Log Transformation:\n",
      "       LOCATION  dr_regenm_10  ri_regenm_10       date      time\n",
      "684249  350_R_a           0.0           0.0 2018-01-01  00:00:00\n",
      "684250  350_R_a           0.0           0.0 2018-01-01  00:10:00\n",
      "684251  350_R_a           0.0           0.0 2018-01-01  00:20:00\n",
      "684252  350_R_a           0.0           0.0 2018-01-01  00:30:00\n",
      "684253  350_R_a           0.0           0.0 2018-01-01  00:40:00\n",
      "DataFrame after Square Root Transformation:\n",
      "       LOCATION  dr_regenm_10  ri_regenm_10       date      time\n",
      "684249  350_R_a           0.0           0.0 2018-01-01  00:00:00\n",
      "684250  350_R_a           0.0           0.0 2018-01-01  00:10:00\n",
      "684251  350_R_a           0.0           0.0 2018-01-01  00:20:00\n",
      "684252  350_R_a           0.0           0.0 2018-01-01  00:30:00\n",
      "684253  350_R_a           0.0           0.0 2018-01-01  00:40:00\n"
     ]
    }
   ],
   "source": [
    "# Transforming Data\n",
    "# Log Transformation\n",
    "df_log_transformed = df_1.copy()\n",
    "df_log_transformed['dr_regenm_10'] = np.log1p(df_log_transformed['dr_regenm_10'])\n",
    "df_log_transformed['ri_regenm_10'] = np.log1p(df_log_transformed['ri_regenm_10'])\n",
    "print(\"DataFrame after Log Transformation:\")\n",
    "print(df_log_transformed.head())\n",
    "\n",
    "# Square Root Transformation\n",
    "df_sqrt_transformed = df_1.copy()\n",
    "df_sqrt_transformed['dr_regenm_10'] = np.sqrt(df_sqrt_transformed['dr_regenm_10'])\n",
    "df_sqrt_transformed['ri_regenm_10'] = np.sqrt(df_sqrt_transformed['ri_regenm_10'])\n",
    "print(\"DataFrame after Square Root Transformation:\")\n",
    "print(df_sqrt_transformed.head())"
   ]
  },
  {
   "cell_type": "markdown",
   "id": "2f56e3b8-fb28-4823-a467-96d798a31650",
   "metadata": {},
   "source": [
    "### Create a risk level feature\n",
    "\n",
    "Low risk: < 0.4 mm/10min \n",
    "\n",
    "Mid risk: 0.4 to 1.25 mm/10min\n",
    "\n",
    "High risk: > 1.25 mm/10min"
   ]
  },
  {
   "cell_type": "code",
   "execution_count": 22,
   "id": "978668a3-725c-4167-9bf1-a8b229ec26fa",
   "metadata": {},
   "outputs": [
    {
     "name": "stdout",
     "output_type": "stream",
     "text": [
      "        LOCATION  dr_regenm_10  ri_regenm_10       date      time risk_level\n",
      "684249   350_R_a           0.0           0.0 2018-01-01  00:00:00        Low\n",
      "684250   350_R_a           0.0           0.0 2018-01-01  00:10:00        Low\n",
      "684251   350_R_a           0.0           0.0 2018-01-01  00:20:00        Low\n",
      "684252   350_R_a           0.0           0.0 2018-01-01  00:30:00        Low\n",
      "684253   350_R_a           0.0           0.0 2018-01-01  00:40:00        Low\n",
      "...          ...           ...           ...        ...       ...        ...\n",
      "1003924  350_R_a           0.0           0.0 2024-02-29  23:10:00        Low\n",
      "1003925  350_R_a           0.0           0.0 2024-02-29  23:20:00        Low\n",
      "1003926  350_R_a           0.0           0.0 2024-02-29  23:30:00        Low\n",
      "1003927  350_R_a           0.0           0.0 2024-02-29  23:40:00        Low\n",
      "1003928  350_R_a           0.0           0.0 2024-02-29  23:50:00        Low\n",
      "\n",
      "[319680 rows x 6 columns]\n"
     ]
    },
    {
     "name": "stderr",
     "output_type": "stream",
     "text": [
      "/tmp/ipykernel_19899/2327651555.py:12: SettingWithCopyWarning: \n",
      "A value is trying to be set on a copy of a slice from a DataFrame.\n",
      "Try using .loc[row_indexer,col_indexer] = value instead\n",
      "\n",
      "See the caveats in the documentation: https://pandas.pydata.org/pandas-docs/stable/user_guide/indexing.html#returning-a-view-versus-a-copy\n",
      "  df_1['risk_level'] = df_1.apply(lambda row: determine_risk(row['dr_regenm_10'], row['ri_regenm_10']), axis=1)\n"
     ]
    }
   ],
   "source": [
    "# Define the function to determine risk level based on rainfall intensity and duration\n",
    "def determine_risk(intensity, duration):\n",
    "    rainfall_intensity = intensity * (duration / 600)  # Convert duration to 10 minutes (600 seconds)\n",
    "    if rainfall_intensity < 0.4:\n",
    "        return 'Low'\n",
    "    elif 0.4 <= rainfall_intensity <= 1.25:\n",
    "        return 'Mid'\n",
    "    else:\n",
    "        return 'High'\n",
    "\n",
    "# Apply the function to determine the risk level\n",
    "df_1['risk_level'] = df_1.apply(lambda row: determine_risk(row['dr_regenm_10'], row['ri_regenm_10']), axis=1)\n",
    "\n",
    "# Print the DataFrame with the new column\n",
    "print(df_1)"
   ]
  },
  {
   "cell_type": "code",
   "execution_count": 23,
   "id": "142febad-12b9-4bfd-a7ac-70cad30ec7a3",
   "metadata": {},
   "outputs": [
    {
     "name": "stderr",
     "output_type": "stream",
     "text": [
      "/tmp/ipykernel_19899/264530064.py:3: FutureWarning: \n",
      "\n",
      "Passing `palette` without assigning `hue` is deprecated and will be removed in v0.14.0. Assign the `x` variable to `hue` and set `legend=False` for the same effect.\n",
      "\n",
      "  sns.countplot(x='risk_level', data=df_1, palette='viridis')\n"
     ]
    },
    {
     "data": {
      "image/png": "[encoded data removed]",
      "text/plain": [
       "<Figure size 1000x600 with 1 Axes>"
      ]
     },
     "metadata": {},
     "output_type": "display_data"
    }
   ],
   "source": [
    "# Count plot for risk levels\n",
    "plt.figure(figsize=(10, 6))\n",
    "sns.countplot(x='risk_level', data=df_1, palette='viridis')\n",
    "\n",
    "# Add title and labels\n",
    "plt.title('Distribution of Risk Levels')\n",
    "plt.xlabel('Risk Level')\n",
    "plt.ylabel('Count')\n",
    "\n",
    "# Show plot\n",
    "plt.show()"
   ]
  },
  {
   "cell_type": "code",
   "execution_count": 24,
   "id": "9c1500c8-521b-4644-8e3c-5df64688e1bc",
   "metadata": {},
   "outputs": [
    {
     "name": "stderr",
     "output_type": "stream",
     "text": [
      "/tmp/ipykernel_19899/2464289003.py:2: SettingWithCopyWarning: \n",
      "A value is trying to be set on a copy of a slice from a DataFrame.\n",
      "Try using .loc[row_indexer,col_indexer] = value instead\n",
      "\n",
      "See the caveats in the documentation: https://pandas.pydata.org/pandas-docs/stable/user_guide/indexing.html#returning-a-view-versus-a-copy\n",
      "  df_1['date'] = pd.to_datetime(df_1['date'])\n"
     ]
    }
   ],
   "source": [
    "# Convert date column to datetime\n",
    "df_1['date'] = pd.to_datetime(df_1['date'])\n",
    "\n",
    "# Group by LOCATION and date and calculate the mean of rain intensity\n",
    "df1 = df_1.groupby(['LOCATION', 'date'])['ri_regenm_10'].mean().reset_index()\n",
    "\n",
    "# Rename the column for clarity\n",
    "df1.rename(columns={'ri_regenm_10': 'rain'}, inplace=True)"
   ]
  },
  {
   "cell_type": "code",
   "execution_count": 31,
   "id": "796e46de-89a5-4bfc-b71d-012c2f73f8a7",
   "metadata": {},
   "outputs": [
    {
     "data": {
      "image/png": "[encoded data removed]",
      "text/plain": [
       "<Figure size 1200x600 with 1 Axes>"
      ]
     },
     "metadata": {},
     "output_type": "display_data"
    }
   ],
   "source": [
    "import matplotlib.pyplot as plt\n",
    "\n",
    "# Assuming result DataFrame is already defined with columns 'LOCATION', 'date', and 'average_daily_intensity'\n",
    "\n",
    "# Set the figure size for the plot\n",
    "plt.figure(figsize=(12, 6))\n",
    "\n",
    "# Plotting each location's data separately\n",
    "for location in df1['LOCATION'].unique():\n",
    "    location_data = df1[df1['LOCATION'] == location]\n",
    "    plt.plot(location_data['date'], location_data['rain'], label=location)\n",
    "\n",
    "# Adding labels and title\n",
    "plt.xlabel('Date')\n",
    "plt.ylabel('rain')\n",
    "plt.title('Average Daily Rain Over Time')\n",
    "plt.legend(title='Location')\n",
    "plt.grid(True)\n",
    "\n",
    "# Display the plot\n",
    "plt.show()"
   ]
  },
  {
   "cell_type": "code",
   "execution_count": 32,
   "id": "76204c1e-54cd-488a-ae1b-93f4fd173120",
   "metadata": {},
   "outputs": [
    {
     "name": "stdout",
     "output_type": "stream",
     "text": [
      "     LOCATION       date      rain risk_level\n",
      "0     350_R_a 2018-01-01  3.570833        Low\n",
      "1     350_R_a 2018-01-02  1.604444        Low\n",
      "2     350_R_a 2018-01-03  4.392569        Mid\n",
      "3     350_R_a 2018-01-04  0.578073        Low\n",
      "4     350_R_a 2018-01-05  3.768621        Low\n",
      "...       ...        ...       ...        ...\n",
      "2216  350_R_a 2024-02-25  0.475278        Low\n",
      "2217  350_R_a 2024-02-26  6.515139        Mid\n",
      "2218  350_R_a 2024-02-27  0.000000        Low\n",
      "2219  350_R_a 2024-02-28  0.045086        Low\n",
      "2220  350_R_a 2024-02-29  2.603681        Low\n",
      "\n",
      "[2221 rows x 4 columns]\n"
     ]
    }
   ],
   "source": [
    "# Define the function to determine risk level based on daily rainfall intensity\n",
    "def determine_risk(intensity):\n",
    "    if intensity < 4:\n",
    "        return 'Low'\n",
    "    elif 4 <= intensity < 8:\n",
    "        return 'Mid'\n",
    "    else:\n",
    "        return 'High'\n",
    "\n",
    "# Apply the function to determine the risk level\n",
    "df1['risk_level'] = df1['rain'].apply(determine_risk)\n",
    "\n",
    "# Print the DataFrame with the new column\n",
    "print(df1)"
   ]
  },
  {
   "cell_type": "markdown",
   "id": "c5f0731f-e463-4559-ad18-1ee859e04fb3",
   "metadata": {},
   "source": [
    "### Convert dataframe into SQL table"
   ]
  },
  {
   "cell_type": "code",
   "execution_count": 33,
   "id": "4a5ebc5f-3756-4f1b-b0ab-eb1a1abedca0",
   "metadata": {},
   "outputs": [],
   "source": [
    "from sqlalchemy import create_engine\n",
    "\n",
    "# Define your DataFrame (replace df with your DataFrame)\n",
    "db_params = {\n",
    "    'host': '194.171.191.226',\n",
    "    'port': '6379',\n",
    "    'dbname': 'postgres',\n",
    "    'user': 'group18',\n",
    "    'password': 'blockd_2024group18_44'\n",
    "}\n",
    "\n",
    "# Define the schema where you want to store the table\n",
    "schema = 'group18_warehouse'\n",
    "\n",
    "# Create an SQLAlchemy engine\n",
    "engine = create_engine(f'postgresql://{db_params[\"user\"]}:{db_params[\"password\"]}@{db_params[\"host\"]}:{db_params[\"port\"]}/{db_params[\"dbname\"]}')\n",
    "\n",
    "# Convert DataFrame to SQL table\n",
    "df1.to_sql('rain_data', engine, schema=schema, if_exists='replace', index=False)\n",
    "\n",
    "# Close the connection\n",
    "engine.dispose()"
   ]
  },
  {
   "cell_type": "markdown",
   "id": "e0c6ebe5-cbbd-4015-8b71-8040398f8ac6",
   "metadata": {},
   "source": [
    "### Check if the DataFrame was successfully converted into an SQL table"
   ]
  },
  {
   "cell_type": "code",
   "execution_count": 34,
   "id": "8638333c-300f-4f02-8242-350e657ddb26",
   "metadata": {},
   "outputs": [
    {
     "name": "stdout",
     "output_type": "stream",
     "text": [
      "('LOCATION',)\n",
      "('date',)\n",
      "('rain',)\n",
      "('risk_level',)\n"
     ]
    }
   ],
   "source": [
    "import psycopg2\n",
    "\n",
    "# Define your DataFrame (replace df with your DataFrame)\n",
    "db_params = {\n",
    "    'host': '194.171.191.226',\n",
    "    'port': '6379',\n",
    "    'dbname': 'postgres',\n",
    "    'user': 'group18',\n",
    "    'password': 'blockd_2024group18_44'\n",
    "}\n",
    "\n",
    "try:\n",
    "    # Establish the connection\n",
    "    conn = psycopg2.connect(\n",
    "        host=db_params['host'],\n",
    "        port=db_params['port'],\n",
    "        dbname=db_params['dbname'],\n",
    "        user=db_params['user'],\n",
    "        password=db_params['password']\n",
    "    )\n",
    "\n",
    "    # Create a cursor object\n",
    "    cursor = conn.cursor()\n",
    "\n",
    "    # Execute SQL query\n",
    "    cursor.execute(\"SELECT column_name FROM information_schema.columns WHERE table_schema = 'group18_warehouse' AND table_name = 'rain_data';\")\n",
    "\n",
    "    # Fetch and print the data\n",
    "    rows = cursor.fetchall()\n",
    "    for row in rows:\n",
    "        print(row)\n",
    "\n",
    "except psycopg2.Error as e:\n",
    "    print(\"Error:\", e)\n",
    "\n",
    "finally:\n",
    "    # Close the cursor and connection\n",
    "    cursor.close()\n",
    "    conn.close()"
   ]
  }
 ],
 "metadata": {
  "kernelspec": {
   "display_name": "Python 3 (ipykernel)",
   "language": "python",
   "name": "python3"
  },
  "language_info": {
   "codemirror_mode": {
    "name": "ipython",
    "version": 3
   },
   "file_extension": ".py",
   "mimetype": "text/x-python",
   "name": "python",
   "nbconvert_exporter": "python",
   "pygments_lexer": "ipython3",
   "version": "3.10.12"
  }
 },
 "nbformat": 4,
 "nbformat_minor": 5
}
