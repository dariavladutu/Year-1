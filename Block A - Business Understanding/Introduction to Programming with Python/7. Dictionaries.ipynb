{
 "cells": [
  {
   "attachments": {},
   "cell_type": "markdown",
   "metadata": {},
   "source": [
    "# 7. Dictionaries"
   ]
  },
  {
   "attachments": {},
   "cell_type": "markdown",
   "metadata": {},
   "source": [
    "Here is the table of contents for this notebook:\n",
    "\n",
    "- 7.1 Introduction\n",
    "- 7.2 Dictionary as a set of counters\n",
    "- 7.3 Looping and dictionaries\n",
    "- 7.4 Debugging\n",
    "- 7.5 Exercises"
   ]
  },
  {
   "attachments": {},
   "cell_type": "markdown",
   "metadata": {},
   "source": [
    "## 7.1 Introduction"
   ]
  },
  {
   "attachments": {},
   "cell_type": "markdown",
   "metadata": {},
   "source": [
    "A _dictionary_ is like a list, but more general. In a list, the index positions have to be integers; in a dictionary, the indices can be (almost) any type.\n",
    "\n",
    "You can think of a dictionary as a mapping between a set of indices (which are called _keys_) and a set of values. Each key maps to a value. The association of a key and a value is called a _key-value pair_ or sometimes an _item_.\n",
    "\n",
    "As an example, we’ll build a dictionary that maps from English to Spanish words, so the keys and the values are all strings.\n",
    "\n",
    "The function `dict` creates a new dictionary with no items. Because `dict` is the name of a built-in function, you should avoid using it as a variable name."
   ]
  },
  {
   "cell_type": "code",
   "execution_count": 1,
   "metadata": {},
   "outputs": [
    {
     "name": "stdout",
     "output_type": "stream",
     "text": [
      "{}\n"
     ]
    }
   ],
   "source": [
    "eng2sp = dict()\n",
    "print(eng2sp)"
   ]
  },
  {
   "attachments": {},
   "cell_type": "markdown",
   "metadata": {},
   "source": [
    "The curly brackets, `{}`, represent an empty dictionary. To add items to the dictionary, you can use square brackets:"
   ]
  },
  {
   "cell_type": "code",
   "execution_count": 2,
   "metadata": {},
   "outputs": [],
   "source": [
    "eng2sp['one'] = 'uno'"
   ]
  },
  {
   "attachments": {},
   "cell_type": "markdown",
   "metadata": {},
   "source": [
    "This line creates an item that maps from the key `'one'` to the value “uno”. If we print the dictionary again, we see a key-value pair with a colon between the key and value:"
   ]
  },
  {
   "cell_type": "code",
   "execution_count": 3,
   "metadata": {},
   "outputs": [
    {
     "name": "stdout",
     "output_type": "stream",
     "text": [
      "{'one': 'uno'}\n"
     ]
    }
   ],
   "source": [
    "print(eng2sp)"
   ]
  },
  {
   "attachments": {},
   "cell_type": "markdown",
   "metadata": {},
   "source": [
    "This output format is also an input format. For example, you can create a new dictionary with three items."
   ]
  },
  {
   "cell_type": "code",
   "execution_count": 4,
   "metadata": {},
   "outputs": [
    {
     "data": {
      "text/plain": [
       "{'one': 'uno', 'two': 'dos', 'three': 'tres'}"
      ]
     },
     "execution_count": 4,
     "metadata": {},
     "output_type": "execute_result"
    }
   ],
   "source": [
    "eng2sp = {'one': 'uno', 'two': 'dos', 'three': 'tres'}\n",
    "eng2sp"
   ]
  },
  {
   "attachments": {},
   "cell_type": "markdown",
   "metadata": {},
   "source": [
    "❗Note❗\n",
    "\n",
    "Since Python 3.7x the order of key-value pairs is the same as their input order, i.e. dictionaries are now ordered structures.\n",
    "\n",
    "Elements of a dictionary are never indexed with integer indices. Instead, you use the keys to look up the corresponding values:"
   ]
  },
  {
   "cell_type": "code",
   "execution_count": 5,
   "metadata": {},
   "outputs": [
    {
     "name": "stdout",
     "output_type": "stream",
     "text": [
      "dos\n"
     ]
    }
   ],
   "source": [
    "print(eng2sp['two'])"
   ]
  },
  {
   "attachments": {},
   "cell_type": "markdown",
   "metadata": {},
   "source": [
    "The key `'two'` always maps to the value “dos”.\n",
    "\n",
    "If the key isn’t in the dictionary, you get an exception:"
   ]
  },
  {
   "cell_type": "code",
   "execution_count": 6,
   "metadata": {},
   "outputs": [
    {
     "ename": "KeyError",
     "evalue": "'four'",
     "output_type": "error",
     "traceback": [
      "\u001b[0;31m---------------------------------------------------------------------------\u001b[0m",
      "\u001b[0;31mKeyError\u001b[0m                                  Traceback (most recent call last)",
      "\u001b[1;32m/Users/daria/Desktop/2023-24a-fai1-adsai-dariavladutu236578/Introduction to Programming with Python/7. Dictionaries.ipynb Cell 15\u001b[0m line \u001b[0;36m1\n\u001b[0;32m----> <a href='vscode-notebook-cell:/Users/daria/Desktop/2023-24a-fai1-adsai-dariavladutu236578/Introduction%20to%20Programming%20with%20Python/7.%20Dictionaries.ipynb#X20sZmlsZQ%3D%3D?line=0'>1</a>\u001b[0m \u001b[39mprint\u001b[39m(eng2sp[\u001b[39m'\u001b[39;49m\u001b[39mfour\u001b[39;49m\u001b[39m'\u001b[39;49m])\n",
      "\u001b[0;31mKeyError\u001b[0m: 'four'"
     ]
    }
   ],
   "source": [
    "print(eng2sp['four'])"
   ]
  },
  {
   "attachments": {},
   "cell_type": "markdown",
   "metadata": {},
   "source": [
    "The `len` function works on dictionaries; it returns the number of key-value pairs:"
   ]
  },
  {
   "cell_type": "code",
   "execution_count": 7,
   "metadata": {},
   "outputs": [
    {
     "data": {
      "text/plain": [
       "3"
      ]
     },
     "execution_count": 7,
     "metadata": {},
     "output_type": "execute_result"
    }
   ],
   "source": [
    "len(eng2sp)"
   ]
  },
  {
   "attachments": {},
   "cell_type": "markdown",
   "metadata": {},
   "source": [
    "The `in` operator works on dictionaries; it tells you whether something appears as a _key_ in the dictionary (appearing as a value is not good enough)."
   ]
  },
  {
   "cell_type": "code",
   "execution_count": 8,
   "metadata": {},
   "outputs": [
    {
     "data": {
      "text/plain": [
       "True"
      ]
     },
     "execution_count": 8,
     "metadata": {},
     "output_type": "execute_result"
    }
   ],
   "source": [
    "'one' in eng2sp"
   ]
  },
  {
   "cell_type": "code",
   "execution_count": 9,
   "metadata": {},
   "outputs": [
    {
     "data": {
      "text/plain": [
       "False"
      ]
     },
     "execution_count": 9,
     "metadata": {},
     "output_type": "execute_result"
    }
   ],
   "source": [
    "'uno' in eng2sp"
   ]
  },
  {
   "attachments": {},
   "cell_type": "markdown",
   "metadata": {},
   "source": [
    "To see whether something appears as a value in a dictionary, you can use the method `values`, which returns the values as a type that can be converted to a list, and then use the `in` operator:"
   ]
  },
  {
   "cell_type": "code",
   "execution_count": 12,
   "metadata": {},
   "outputs": [
    {
     "data": {
      "text/plain": [
       "True"
      ]
     },
     "execution_count": 12,
     "metadata": {},
     "output_type": "execute_result"
    }
   ],
   "source": [
    "vals = list(eng2sp.values())\n",
    "'uno' in vals"
   ]
  },
  {
   "attachments": {},
   "cell_type": "markdown",
   "metadata": {},
   "source": [
    "The `in` operator uses different algorithms for lists and dictionaries. For lists, it uses a linear search algorithm. As the list gets longer, the search time gets longer in direct proportion to the length of the list. For dictionaries, Python uses an algorithm called a _hash table_ that has a remarkable property: the `in` operator takes about the same amount of time no matter how many items there are in a dictionary. I won’t explain why hash functions are so magical, but you can read more about it at: https://en.wikipedia.org/wiki/Hash_table"
   ]
  },
  {
   "cell_type": "markdown",
   "metadata": {},
   "source": [
    "**Exercise 7.1**\n",
    "\n",
    "Create a dictionary called `roman` where keys are the Roman numerals 'I', 'II', 'III', 'IV', 'V' and values are the corresponding integers."
   ]
  },
  {
   "cell_type": "code",
   "execution_count": 15,
   "metadata": {},
   "outputs": [
    {
     "data": {
      "text/plain": [
       "3"
      ]
     },
     "execution_count": 15,
     "metadata": {},
     "output_type": "execute_result"
    }
   ],
   "source": [
    "# YOUR CODE HERE\n",
    "roman = dict()\n",
    "roman = {'I': 1, 'II': 2, 'III': 3, 'IV': 4, 'V': 5}\n",
    "roman['III']"
   ]
  },
  {
   "attachments": {},
   "cell_type": "markdown",
   "metadata": {},
   "source": [
    "**Exercise 7.2**\n",
    "\n",
    "Write a function called `country_dictionary_maker` that takes a list of strings in the following format:\n",
    "\n",
    "`['country1 number1', 'country2 number2']`\n",
    "\n",
    "and returns a dictionary in the following format:\n",
    "\n",
    "`{'country1': 'number1', 'country2': 'number2'}`\n",
    "\n",
    "Example:\n",
    "\n",
    "country_dictionary_maker(['Germany 20', 'Netherlands 80', 'Belgium 50']) -> {'Germany': '20', 'Netherlands': '80', 'Belgium': '50'}"
   ]
  },
  {
   "cell_type": "code",
   "execution_count": 3,
   "metadata": {},
   "outputs": [],
   "source": [
    "def country_dictionary_maker(listussy):\n",
    "    new_dict = dict()\n",
    "    for i in listussy:\n",
    "        country, number = i.split()\n",
    "        item = {country: number}\n",
    "        new_dict.update(item)\n",
    "    return new_dict"
   ]
  },
  {
   "cell_type": "code",
   "execution_count": 4,
   "metadata": {},
   "outputs": [
    {
     "data": {
      "text/plain": [
       "{'Germany': '20', 'Netherlands': '80', 'Belgium': '50'}"
      ]
     },
     "execution_count": 4,
     "metadata": {},
     "output_type": "execute_result"
    }
   ],
   "source": [
    "country_dictionary_maker(['Germany 20', 'Netherlands 80', 'Belgium 50'])"
   ]
  },
  {
   "attachments": {},
   "cell_type": "markdown",
   "metadata": {},
   "source": [
    "## 7.2 Dictionary as a set of counters\n"
   ]
  },
  {
   "attachments": {},
   "cell_type": "markdown",
   "metadata": {},
   "source": [
    "Suppose you are given a string and you want to count how many times each letter appears. There are several ways you could do it:\n",
    "\n",
    "1. You could create 26 variables, one for each letter of the alphabet. Then you could traverse the string and, for each character, increment the corresponding counter, probably using a chained conditional.\n",
    "\n",
    "2. You could create a list with 26 zeros, loop through the string and write 26 conditional statements.\n",
    "\n",
    "```\n",
    "letter_counts = [0, 0, 0 ... 0]\n",
    "for letter in string:\n",
    "    if letter == 'a':\n",
    "        letter_counts[0] += 1\n",
    "    elif letter == 'b':\n",
    "        letter_counts[1] += 1\n",
    "    ...\n",
    "```\n",
    "\n",
    "which is insane.\n",
    "\n",
    "3. You could create a dictionary with characters as keys and counters as the corresponding values. The first time you see a character, you would add an item to the dictionary. After that you would increment the value of an existing item.\n",
    "\n",
    "Each of these options performs the same computation, but each of them implements that computation in a different way.\n",
    "\n",
    "An _implementation_ is a way of performing a computation; some implementations are better than others. For example, an advantage of the dictionary implementation is that we don’t have to know ahead of time which letters appear in the string and we only have to make room for the letters that do appear.\n",
    "\n",
    "Here is what the code might look like:"
   ]
  },
  {
   "cell_type": "code",
   "execution_count": 29,
   "metadata": {},
   "outputs": [],
   "source": [
    "word = 'brontosaurus'\n",
    "d = dict()\n",
    "for c in word:\n",
    "    if c not in d:\n",
    "        d[c] = 1\n",
    "    else:\n",
    "        d[c] = d[c] + 1"
   ]
  },
  {
   "attachments": {},
   "cell_type": "markdown",
   "metadata": {},
   "source": [
    "We are effectively computing a _histogram_, which is a statistical term for a set of counters (or frequencies).\n",
    "\n",
    "The `for` loop traverses the string. Each time through the loop, if the character `c` is not in the dictionary, we create a new item with key `c` and the initial value 1 (since we have seen this letter once). If `c` is already in the dictionary we increment `d[c]`.\n",
    "\n",
    "Here’s the output of the program:"
   ]
  },
  {
   "cell_type": "code",
   "execution_count": 30,
   "metadata": {},
   "outputs": [
    {
     "name": "stdout",
     "output_type": "stream",
     "text": [
      "{'b': 1, 'r': 2, 'o': 2, 'n': 1, 't': 1, 's': 2, 'a': 1, 'u': 2}\n"
     ]
    }
   ],
   "source": [
    "print(d)"
   ]
  },
  {
   "attachments": {},
   "cell_type": "markdown",
   "metadata": {},
   "source": [
    "The histogram indicates that the letters “a” and “b” appear once; “o” appears twice, and so on.\n",
    "\n",
    "Dictionaries have a method called `get` that takes a key and a default value. If the key appears in the dictionary, `get` returns the corresponding value; otherwise it returns the default value. For example:"
   ]
  },
  {
   "cell_type": "code",
   "execution_count": 32,
   "metadata": {},
   "outputs": [],
   "source": [
    "counts = { 'chuck' : 1 , 'annie' : 42, 'jan': 100}"
   ]
  },
  {
   "cell_type": "code",
   "execution_count": 33,
   "metadata": {},
   "outputs": [
    {
     "name": "stdout",
     "output_type": "stream",
     "text": [
      "100\n"
     ]
    }
   ],
   "source": [
    "print(counts.get('jan', 0))"
   ]
  },
  {
   "cell_type": "code",
   "execution_count": 34,
   "metadata": {},
   "outputs": [
    {
     "name": "stdout",
     "output_type": "stream",
     "text": [
      "0\n"
     ]
    }
   ],
   "source": [
    "print(counts.get('tim', 0))"
   ]
  },
  {
   "attachments": {},
   "cell_type": "markdown",
   "metadata": {},
   "source": [
    "We can use `get` to write our histogram loop more concisely. Because the `get` method automatically handles the case where a key is not in a dictionary, we can reduce four lines down to one and eliminate the `if` statement."
   ]
  },
  {
   "cell_type": "code",
   "execution_count": 37,
   "metadata": {},
   "outputs": [
    {
     "name": "stdout",
     "output_type": "stream",
     "text": [
      "{'b': 1, 'r': 2, 'o': 2, 'n': 1, 't': 1, 's': 2, 'a': 1, 'u': 2}\n"
     ]
    }
   ],
   "source": [
    "word = 'brontosaurus'\n",
    "d = dict()\n",
    "for c in word:\n",
    "    d[c] = d.get(c, 0) + 1\n",
    "print(d)"
   ]
  },
  {
   "attachments": {},
   "cell_type": "markdown",
   "metadata": {},
   "source": [
    "The use of the `get` method to simplify this counting loop ends up being a very commonly used “idiom” in Python and you can use this pattern when creating dictionaries for counting things. So you should take a moment and compare the loop using the `if` statement and `in` operator with the loop using the `get` method. They do exactly the same thing, but one is more succinct."
   ]
  },
  {
   "cell_type": "markdown",
   "metadata": {},
   "source": [
    "**Exercise 7.3**\n",
    "\n",
    "Write a function that counts how many times each number appears in a given list.\n",
    "\n",
    "Example input: [1, 2, 3, 3, 0, -5, -5, -5]\n",
    "\n",
    "Example output: {1: 1, 2: 1, 3: 2, 0: 1, -5: 3}"
   ]
  },
  {
   "cell_type": "code",
   "execution_count": 42,
   "metadata": {},
   "outputs": [],
   "source": [
    "# YOUR CODE HERE\n",
    "def counter_funcion(arr):\n",
    "    new_dict = dict()\n",
    "    for element in arr:\n",
    "        new_dict[element] = new_dict.get(element, 0) + 1\n",
    "    print(new_dict)"
   ]
  },
  {
   "cell_type": "code",
   "execution_count": 43,
   "metadata": {},
   "outputs": [
    {
     "name": "stdout",
     "output_type": "stream",
     "text": [
      "{1: 1, 2: 1, 3: 2, 0: 1, -5: 3}\n"
     ]
    }
   ],
   "source": [
    "counter_funcion([1, 2, 3, 3, 0, -5, -5, -5])"
   ]
  },
  {
   "attachments": {},
   "cell_type": "markdown",
   "metadata": {},
   "source": [
    "## 7.3 Looping and dictionaries"
   ]
  },
  {
   "attachments": {},
   "cell_type": "markdown",
   "metadata": {},
   "source": [
    "If you use a dictionary as the sequence in a `for` statement, it traverses the keys of the dictionary. This loop prints each key and the corresponding value:"
   ]
  },
  {
   "cell_type": "code",
   "execution_count": 44,
   "metadata": {},
   "outputs": [
    {
     "name": "stdout",
     "output_type": "stream",
     "text": [
      "chuck 1\n",
      "annie 42\n",
      "jan 100\n"
     ]
    }
   ],
   "source": [
    "counts = { 'chuck' : 1 , 'annie' : 42, 'jan': 100}\n",
    "for key in counts:\n",
    "    print(key, counts[key])"
   ]
  },
  {
   "attachments": {},
   "cell_type": "markdown",
   "metadata": {},
   "source": [
    "We can use this pattern to implement the various loop idioms that we have described earlier. For example if we wanted to find all the entries in a dictionary with a value above ten, we could write the following code:"
   ]
  },
  {
   "cell_type": "code",
   "execution_count": 45,
   "metadata": {},
   "outputs": [
    {
     "name": "stdout",
     "output_type": "stream",
     "text": [
      "annie 42\n",
      "jan 100\n"
     ]
    }
   ],
   "source": [
    "counts = { 'chuck' : 1 , 'annie' : 42, 'jan': 100}\n",
    "for key in counts:\n",
    "    if counts[key] > 10 :\n",
    "        print(key, counts[key])"
   ]
  },
  {
   "attachments": {},
   "cell_type": "markdown",
   "metadata": {},
   "source": [
    "We see only the entries with a value above 10.\n",
    "\n",
    "The `for` loop iterates through the keys of the dictionary, so we must use the index operator to retrieve the corresponding value for each key."
   ]
  },
  {
   "attachments": {},
   "cell_type": "markdown",
   "metadata": {},
   "source": [
    "If you want to print the keys in alphabetical order, you first make a list of the `keys` in the dictionary using the keys method available in dictionary objects, and then sort that list and loop through the sorted list, looking up each key and printing out key-value pairs in sorted order as follows:"
   ]
  },
  {
   "cell_type": "code",
   "execution_count": 46,
   "metadata": {},
   "outputs": [
    {
     "name": "stdout",
     "output_type": "stream",
     "text": [
      "['chuck', 'annie', 'jan']\n",
      "annie 42\n",
      "chuck 1\n",
      "jan 100\n"
     ]
    }
   ],
   "source": [
    "counts = { 'chuck' : 1 , 'annie' : 42, 'jan': 100}\n",
    "lst = list(counts.keys())\n",
    "print(lst)\n",
    "lst.sort()\n",
    "for key in lst:\n",
    "    print(key, counts[key])"
   ]
  },
  {
   "attachments": {},
   "cell_type": "markdown",
   "metadata": {},
   "source": [
    "First you see the list of keys in non-alphabetical order that we get from the keys method. Then we see the key-value pairs in alphabetical order from the for loop."
   ]
  },
  {
   "attachments": {},
   "cell_type": "markdown",
   "metadata": {},
   "source": [
    "## 7.4 Debugging"
   ]
  },
  {
   "attachments": {},
   "cell_type": "markdown",
   "metadata": {},
   "source": [
    "As you work with bigger datasets it can become unwieldy to debug by printing and checking data by hand. Here are some suggestions for debugging large datasets:\n",
    "\n",
    "**Scale down the input**\n",
    "\n",
    "If possible, reduce the size of the dataset. For example if the program reads a text file, start with just the first 10 lines, or with the smallest example you can find. You can either edit the files themselves, or (better) modify the program so it reads only the first `n` lines.\n",
    "\n",
    "If there is an error, you can reduce `n` to the smallest value that manifests the error, and then increase it gradually as you find and correct errors.\n",
    "\n",
    "**Check summaries and types**\n",
    "\n",
    "Instead of printing and checking the entire dataset, consider printing summaries of the data: for example, the number of items in a dictionary or the total of a list of numbers.\n",
    "\n",
    "A common cause of runtime errors is a value that is not the right type. For debugging this kind of error, it is often enough to print the type of a value.\n",
    "\n",
    "**Write self-checks**\n",
    "\n",
    "Sometimes you can write code to check for errors automatically. For example, if you are computing the average of a list of numbers, you could check that the result is not greater than the largest element in the list or less than the smallest. This is called a “sanity check” because it detects results that are “completely illogical”.\n",
    "\n",
    "Another kind of check compares the results of two different computations to see if they are consistent. This is called a “consistency check”.\n",
    "\n",
    "**Pretty print the output**\n",
    "\n",
    "Formatting debugging output can make it easier to spot an error.\n",
    "Again, time you spend building scaffolding can reduce the time you spend debugging."
   ]
  },
  {
   "attachments": {},
   "cell_type": "markdown",
   "metadata": {},
   "source": [
    "## 7.5 Exercises"
   ]
  },
  {
   "attachments": {},
   "cell_type": "markdown",
   "metadata": {},
   "source": [
    "You have given the following dataset, which contains monthly average temperatures for 3 Dutch cities.\n",
    "\n",
    "|City|Jan|Feb|Mar|Apr|May|Jun|Jul|Aug|Sep|Oct|Nov|Dec|\n",
    "|--|--|--|--|--|--|--|--|--|--|--|--|--|\n",
    "|Amsterdam|4.8|4.71|7.06|10.45|13.49|16.71|18.85|19.23|16.54|13.04|8.94|6.46|\n",
    "|Breda|3.8|4.5|8.22|12.92|16.14|19.73|21.72|21.33|17.51|13.06|8.25|5.21|\n",
    "|Eindhoven|3.6|4.27|7.8|12.26|15.31|18.72|20.61|20.24|16.62|12.39|7.83|4.94|\n",
    "\n",
    "The data is stored in a list as follows:"
   ]
  },
  {
   "cell_type": "code",
   "execution_count": null,
   "metadata": {},
   "outputs": [],
   "source": [
    "data = [\n",
    "    'Amsterdam,4.8,4.71,7.06,10.45,13.49,16.71,18.85,19.23,16.54,13.04,8.94,6.46',\n",
    "    'Breda,3.8,4.5,8.22,12.92,16.14,19.73,21.72,21.33,17.51,13.06,8.25,5.21',\n",
    "    'Eindhoven,3.6,4.27,7.8,12.26,15.31,18.72,20.61,20.24,16.62,12.39,7.83,4.94'\n",
    "    ]\n",
    "\n",
    "data"
   ]
  },
  {
   "attachments": {},
   "cell_type": "markdown",
   "metadata": {},
   "source": [
    "****Exercise 7.4****\n",
    "\n",
    "Write a function called `list_to_dict` that converts `data` into a dictionary called `data_dict` where keys are the cities and values are lists containing the temperatures.\n",
    "\n",
    "\n",
    "{\n",
    "'Amsterdam': ['4.8', '4.71', '7.06', '10.45', '13.49', '16.71', '18.85', '19.23', '16.54', '13.04', '8.94', '6.46'], \n",
    "\n",
    "'Breda': ['3.8', '4.5', '8.22', '12.92', '16.14', '19.73', '21.72', '21.33', '17.51', '13.06', '8.25', '5.21'],\n",
    "\n",
    "'Eindhoven': ['3.6', '4.27', '7.8', '12.26', '15.31', '18.72', '20.61', '20.24', '16.62', '12.39', '7.83', '4.94']\n",
    "}\n",
    "\n",
    "\n",
    "The function should work with any number of cities.\n",
    "\n",
    "`data_dict = list_to_dict(data)`"
   ]
  },
  {
   "cell_type": "code",
   "execution_count": 13,
   "metadata": {},
   "outputs": [
    {
     "ename": "SyntaxError",
     "evalue": "invalid syntax (1995696972.py, line 13)",
     "output_type": "error",
     "traceback": [
      "\u001b[0;36m  Cell \u001b[0;32mIn[13], line 13\u001b[0;36m\u001b[0m\n\u001b[0;31m    temperatures[]= var\u001b[0m\n\u001b[0m                 ^\u001b[0m\n\u001b[0;31mSyntaxError\u001b[0m\u001b[0;31m:\u001b[0m invalid syntax\n"
     ]
    }
   ],
   "source": [
    "# YOUR CODE HERE\n",
    "def list_to_dict(data):\n",
    "    data_dict = dict()\n",
    "    temperatures = []\n",
    "    city = []\n",
    "    for element in data:\n",
    "        #city, *temperatures = variable.split(',')\n",
    "        #data_dict[city] = temperatures\n",
    "        data = str(data)\n",
    "        data = data.split(\",\")\n",
    "        for var in data:\n",
    "            if type(var) == int:\n",
    "                temperaturesvar\n",
    "    return temperatures\n",
    "list_to_dict([\n",
    "    'Amsterdam,4.8,4.71,7.06,10.45,13.49,16.71,18.85,19.23,16.54,13.04,8.94,6.46',\n",
    "    'Breda,3.8,4.5,8.22,12.92,16.14,19.73,21.72,21.33,17.51,13.06,8.25,5.21',\n",
    "    'Eindhoven,3.6,4.27,7.8,12.26,15.31,18.72,20.61,20.24,16.62,12.39,7.83,4.94'\n",
    "    ])"
   ]
  },
  {
   "attachments": {},
   "cell_type": "markdown",
   "metadata": {},
   "source": [
    "**Exercise 7.5**\n",
    "\n",
    "Write a function called `mean_t_city` that accepts `city_name` as a string and `data_dict` as parameters, and returns the average yearly temperature for that city.\n",
    "\n",
    "- mean_t_city('Amsterdam', data_dict) -> 11.69\n",
    "- mean_t_city('Eindhoven', data_dict) -> 12.05\n",
    "- mean_t_city('Breda', data_dict) -> 12.70"
   ]
  },
  {
   "cell_type": "code",
   "execution_count": 10,
   "metadata": {},
   "outputs": [],
   "source": [
    "# YOUR CODE HERE\n",
    "def mean_t_city(city_name, data_dict):\n",
    "    total = 0\n",
    "    for i in data_dict[city_name]:\n",
    "        total += float(i)\n",
    "        avg = total / len(data_dict[city_name])\n",
    "    return avg"
   ]
  },
  {
   "cell_type": "code",
   "execution_count": 11,
   "metadata": {},
   "outputs": [
    {
     "data": {
      "text/plain": [
       "11.69"
      ]
     },
     "execution_count": 11,
     "metadata": {},
     "output_type": "execute_result"
    }
   ],
   "source": [
    "mean_t_city('Amsterdam', {'Amsterdam': ['4.8', '4.71', '7.06', '10.45', '13.49', '16.71', '18.85', '19.23', '16.54', '13.04', '8.94', '6.46']})"
   ]
  },
  {
   "attachments": {},
   "cell_type": "markdown",
   "metadata": {},
   "source": [
    "**Exercise 7.6**\n",
    "\n",
    "Write a function called `mean_t_month` that accepts `month_name` as a string and `data_dict` as parameters, and returns the average yearly temperature for that city.\n",
    "\n",
    "- mean_t_month('Jul', data_dict) -> 20.39\n",
    "- mean_t_month('Feb', data_dict) -> 4.49"
   ]
  },
  {
   "cell_type": "code",
   "execution_count": 6,
   "metadata": {},
   "outputs": [],
   "source": [
    "# YOUR CODE HERE\n",
    "import calendar\n",
    "def mean_t_month(month_name, data_dict):\n",
    "    months = [\"Jan\", \"Feb\", 'Mar', 'May', 'Jun', 'Jul', 'Aug','Sep', 'Oct', 'Nov', \"Dec\"]\n",
    "    months = list(calendar.month_abbr)\n",
    "    month_index = months.index(month_name)\n",
    "    t = []\n",
    "    for city_name in data_dict:\n",
    "        temps = data_dict[city_name]\n",
    "        t.append(float(temps[month_index]))\n",
    "    return sum(t)/len(t)"
   ]
  },
  {
   "cell_type": "code",
   "execution_count": 12,
   "metadata": {},
   "outputs": [
    {
     "data": {
      "text/plain": [
       "19.23"
      ]
     },
     "execution_count": 12,
     "metadata": {},
     "output_type": "execute_result"
    }
   ],
   "source": [
    "mean_t_month('Jul', {'Amsterdam': ['4.8', '4.71', '7.06', '10.45', '13.49', '16.71', '18.85', '19.23', '16.54', '13.04', '8.94', '6.46']})"
   ]
  },
  {
   "attachments": {},
   "cell_type": "markdown",
   "metadata": {},
   "source": [
    "**Exercise 7.7**\n",
    "\n",
    "Write a function called `coldest` that finds the coldest city by average yearly temperature, given `data_dict`. Use `mean_t_city` in the function `coldest`.\n",
    "\n",
    "coldest(data_dict) -> 'Amsterdam'"
   ]
  },
  {
   "cell_type": "code",
   "execution_count": 73,
   "metadata": {},
   "outputs": [],
   "source": [
    "# YOUR CODE HERE\n",
    "def coldest(data_dict):\n",
    "    avg = mean_t_city()\n",
    "    for city in data_dict:\n",
    "        "
   ]
  },
  {
   "cell_type": "code",
   "execution_count": null,
   "metadata": {},
   "outputs": [],
   "source": []
  }
 ],
 "metadata": {
  "kernelspec": {
   "display_name": "ml",
   "language": "python",
   "name": "python3"
  },
  "language_info": {
   "codemirror_mode": {
    "name": "ipython",
    "version": 3
   },
   "file_extension": ".py",
   "mimetype": "text/x-python",
   "name": "python",
   "nbconvert_exporter": "python",
   "pygments_lexer": "ipython3",
   "version": "3.8.16"
  },
  "orig_nbformat": 4
 },
 "nbformat": 4,
 "nbformat_minor": 2
}
