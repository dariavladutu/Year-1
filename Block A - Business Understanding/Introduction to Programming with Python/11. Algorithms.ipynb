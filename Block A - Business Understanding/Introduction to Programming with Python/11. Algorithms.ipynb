{
 "cells": [
  {
   "attachments": {},
   "cell_type": "markdown",
   "metadata": {},
   "source": [
    "# 11. Algorithms"
   ]
  },
  {
   "attachments": {},
   "cell_type": "markdown",
   "metadata": {},
   "source": [
    "Implement linear search and binary search, as explained in the online course.\n",
    "\n",
    "Let's first create an ordered list\n",
    "\n",
    "```numbers = [1, 2, 3, 4, ..., 100]```"
   ]
  },
  {
   "cell_type": "code",
   "execution_count": 20,
   "metadata": {},
   "outputs": [
    {
     "name": "stdout",
     "output_type": "stream",
     "text": [
      "100\n"
     ]
    }
   ],
   "source": [
    "numbers = []\n",
    "for i in range(1, 101):\n",
    "    numbers.append(i)\n",
    "print (len(numbers))"
   ]
  },
  {
   "attachments": {},
   "cell_type": "markdown",
   "metadata": {},
   "source": [
    "**Exercise 11.1**\n",
    "\n",
    "Write a function called `linear_search` that implements the linear search algorithm.\n",
    "\n",
    "The function takes two parameters:\n",
    "\n",
    "1. `numbers`: a list of unique integers, sorted from smallest to largest.\n",
    "2. `target`: an integer that is being searched in the list `numbers`\n",
    "\n",
    "If `target` is in `numbers`, the function should return the index of the `target`, otherwise `None`.\n",
    "\n",
    "Do not use Python's built-in `index` method.\n",
    "\n",
    "Example input/output pairs:\n",
    "\n",
    "- linear_search(numbers, 30) -> 29\n",
    "- linear_search(numbers, 300) -> `None`"
   ]
  },
  {
   "cell_type": "code",
   "execution_count": 15,
   "metadata": {},
   "outputs": [],
   "source": [
    "# YOUR CODE HERE\n",
    "def linear_search(numbers, target):\n",
    "    idx = -1\n",
    "    for element in numbers:\n",
    "        idx += 1\n",
    "        if element == target:\n",
    "            return idx\n",
    "    return None"
   ]
  },
  {
   "cell_type": "code",
   "execution_count": 19,
   "metadata": {},
   "outputs": [
    {
     "name": "stdout",
     "output_type": "stream",
     "text": [
      "29\n"
     ]
    }
   ],
   "source": [
    "print (linear_search(numbers, 30))"
   ]
  },
  {
   "attachments": {},
   "cell_type": "markdown",
   "metadata": {},
   "source": [
    "**Exercise 11.2**\n",
    "\n",
    "Write a function called `binary_search` that implements the binary search algorithm.\n",
    "\n",
    "The function takes two parameters:\n",
    "\n",
    "1. `numbers`: a list of unique integers, sorted from smallest to largest.\n",
    "2. `target`: an integer that is being searched in the list `numbers`\n",
    "\n",
    "If `target` is in `numbers`, the function should return the index of the `target`, otherwise `None`.\n",
    "\n",
    "Do not use Python's built-in `index` method.\n",
    "\n",
    "Example input/output pairs:\n",
    "\n",
    "- linear_search(numbers, 30) -> 29\n",
    "- linear_search(numbers, 300) -> `None`\n",
    "\n",
    "Note that these two algorithms are solving the same search problem, therefore their requirements are the same. But binary search is faster."
   ]
  },
  {
   "cell_type": "code",
   "execution_count": 30,
   "metadata": {},
   "outputs": [],
   "source": [
    "# YOUR CODE HERE\n",
    "def binary_search(numbers, target):\n",
    "    start = 0\n",
    "    end = len(numbers) -1\n",
    "    while start <= end:\n",
    "        middle = int((start + end) / 2)\n",
    "        if numbers[middle] == target:\n",
    "            return middle\n",
    "        elif numbers[middle] < target:\n",
    "            start = middle + 1\n",
    "        else:\n",
    "            end = middle - 1\n",
    "    print(numbers[middle])\n"
   ]
  },
  {
   "cell_type": "code",
   "execution_count": 31,
   "metadata": {},
   "outputs": [
    {
     "data": {
      "text/plain": [
       "29"
      ]
     },
     "execution_count": 31,
     "metadata": {},
     "output_type": "execute_result"
    }
   ],
   "source": [
    "binary_search(numbers, 30)"
   ]
  }
 ],
 "metadata": {
  "kernelspec": {
   "display_name": "ml",
   "language": "python",
   "name": "python3"
  },
  "language_info": {
   "codemirror_mode": {
    "name": "ipython",
    "version": 3
   },
   "file_extension": ".py",
   "mimetype": "text/x-python",
   "name": "python",
   "nbconvert_exporter": "python",
   "pygments_lexer": "ipython3",
   "version": "3.8.16"
  },
  "orig_nbformat": 4
 },
 "nbformat": 4,
 "nbformat_minor": 2
}
