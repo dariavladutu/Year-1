{
 "cells": [
  {
   "attachments": {},
   "cell_type": "markdown",
   "metadata": {},
   "source": [
    "# 8. Tuples"
   ]
  },
  {
   "attachments": {},
   "cell_type": "markdown",
   "metadata": {},
   "source": [
    "Here is the table of contents for this notebook:\n",
    "\n",
    "- 8.1 Tuples are immutable\n",
    "- 8.2 Comparing tuples\n",
    "- 8.3 Tuple assignments\n",
    "- 8.4 Dictionaries and tuples\n",
    "- 8.5 Multiple assignment with dictionaries\n",
    "- 8.6 Using tuples as keys in dictionaries\n",
    "- 8.7 Strings, Lists, Dictionaries, and Tuples - 😱\n",
    "- 8.8 Sets\n",
    "- 8.9 Exercises"
   ]
  },
  {
   "attachments": {},
   "cell_type": "markdown",
   "metadata": {},
   "source": [
    "## 8.1 Tuples are immutable"
   ]
  },
  {
   "attachments": {},
   "cell_type": "markdown",
   "metadata": {},
   "source": [
    "A tuple is a sequence of values much like a list. The values stored in a tuple can be any type, and they are indexed by integers. The important difference is that tuples are _immutable_. Tuples are also _comparable_ and _hashable_ so we can sort lists of them and use tuples as key values in Python dictionaries.\n",
    "\n",
    "Syntactically, a tuple is a comma-separated list of values:"
   ]
  },
  {
   "cell_type": "code",
   "execution_count": 1,
   "metadata": {},
   "outputs": [],
   "source": [
    "t = 'a', 'b', 'c', 'd', 'e'"
   ]
  },
  {
   "cell_type": "code",
   "execution_count": 2,
   "metadata": {},
   "outputs": [
    {
     "data": {
      "text/plain": [
       "tuple"
      ]
     },
     "execution_count": 2,
     "metadata": {},
     "output_type": "execute_result"
    }
   ],
   "source": [
    "type(t)"
   ]
  },
  {
   "attachments": {},
   "cell_type": "markdown",
   "metadata": {},
   "source": [
    "Although it is not necessary, it is common to enclose tuples in parentheses to help us quickly identify tuples when we look at Python code:"
   ]
  },
  {
   "cell_type": "code",
   "execution_count": 3,
   "metadata": {},
   "outputs": [
    {
     "data": {
      "text/plain": [
       "tuple"
      ]
     },
     "execution_count": 3,
     "metadata": {},
     "output_type": "execute_result"
    }
   ],
   "source": [
    "t = ('a', 'b', 'c', 'd', 'e')\n",
    "type(t)"
   ]
  },
  {
   "attachments": {},
   "cell_type": "markdown",
   "metadata": {},
   "source": [
    "To create a tuple with a single element, you have to include the final comma:"
   ]
  },
  {
   "cell_type": "code",
   "execution_count": 4,
   "metadata": {},
   "outputs": [
    {
     "data": {
      "text/plain": [
       "tuple"
      ]
     },
     "execution_count": 4,
     "metadata": {},
     "output_type": "execute_result"
    }
   ],
   "source": [
    "t = ('a',)\n",
    "type(t)"
   ]
  },
  {
   "attachments": {},
   "cell_type": "markdown",
   "metadata": {},
   "source": [
    "Without the comma Python treats `('a')` as an expression with a string in parentheses that evaluates to a string:"
   ]
  },
  {
   "cell_type": "code",
   "execution_count": 5,
   "metadata": {},
   "outputs": [
    {
     "data": {
      "text/plain": [
       "str"
      ]
     },
     "execution_count": 5,
     "metadata": {},
     "output_type": "execute_result"
    }
   ],
   "source": [
    "t = ('a')\n",
    "type(t)"
   ]
  },
  {
   "attachments": {},
   "cell_type": "markdown",
   "metadata": {},
   "source": [
    "Another way to construct a `tuple` is the built-in function tuple. With no argument, it creates an empty tuple:"
   ]
  },
  {
   "cell_type": "code",
   "execution_count": 6,
   "metadata": {},
   "outputs": [
    {
     "name": "stdout",
     "output_type": "stream",
     "text": [
      "()\n"
     ]
    }
   ],
   "source": [
    "t = tuple()\n",
    "print(t)"
   ]
  },
  {
   "attachments": {},
   "cell_type": "markdown",
   "metadata": {},
   "source": [
    "If the argument is a sequence (string, list, or tuple), the result of the call to tuple is a tuple with the elements of the sequence:"
   ]
  },
  {
   "cell_type": "code",
   "execution_count": 8,
   "metadata": {},
   "outputs": [
    {
     "name": "stdout",
     "output_type": "stream",
     "text": [
      "('l', 'u', 'p', 'i', 'n', 's')\n"
     ]
    }
   ],
   "source": [
    "t = tuple('lupins')\n",
    "print(t)"
   ]
  },
  {
   "cell_type": "code",
   "execution_count": 9,
   "metadata": {},
   "outputs": [
    {
     "name": "stdout",
     "output_type": "stream",
     "text": [
      "(0, 1, 2)\n"
     ]
    }
   ],
   "source": [
    "t = tuple([0, 1, 2])\n",
    "print(t)"
   ]
  },
  {
   "attachments": {},
   "cell_type": "markdown",
   "metadata": {},
   "source": [
    "Because `tuple` is the name of a constructor, you should avoid using it as a variable name.\n",
    "\n",
    "Most list operators also work on tuples. The bracket operator indexes an element:"
   ]
  },
  {
   "cell_type": "code",
   "execution_count": 10,
   "metadata": {},
   "outputs": [
    {
     "name": "stdout",
     "output_type": "stream",
     "text": [
      "a\n"
     ]
    }
   ],
   "source": [
    "t = ('a', 'b', 'c', 'd', 'e')\n",
    "print(t[0])"
   ]
  },
  {
   "attachments": {},
   "cell_type": "markdown",
   "metadata": {},
   "source": [
    "And the slice operator selects a range of elements."
   ]
  },
  {
   "cell_type": "code",
   "execution_count": 11,
   "metadata": {},
   "outputs": [
    {
     "name": "stdout",
     "output_type": "stream",
     "text": [
      "('b', 'c')\n"
     ]
    }
   ],
   "source": [
    "print(t[1:3])"
   ]
  },
  {
   "attachments": {},
   "cell_type": "markdown",
   "metadata": {},
   "source": [
    "But if you try to modify one of the elements of the tuple, you get an error:"
   ]
  },
  {
   "cell_type": "code",
   "execution_count": 12,
   "metadata": {},
   "outputs": [
    {
     "ename": "TypeError",
     "evalue": "'tuple' object does not support item assignment",
     "output_type": "error",
     "traceback": [
      "\u001b[0;31m---------------------------------------------------------------------------\u001b[0m",
      "\u001b[0;31mTypeError\u001b[0m                                 Traceback (most recent call last)",
      "\u001b[1;32m/Users/daria/Desktop/2023-24a-fai1-adsai-dariavladutu236578/Introduction to Programming with Python/8. Tuples.ipynb Cell 23\u001b[0m line \u001b[0;36m1\n\u001b[0;32m----> <a href='vscode-notebook-cell:/Users/daria/Desktop/2023-24a-fai1-adsai-dariavladutu236578/Introduction%20to%20Programming%20with%20Python/8.%20Tuples.ipynb#X31sZmlsZQ%3D%3D?line=0'>1</a>\u001b[0m t[\u001b[39m0\u001b[39;49m] \u001b[39m=\u001b[39m \u001b[39m'\u001b[39m\u001b[39mA\u001b[39m\u001b[39m'\u001b[39m\n",
      "\u001b[0;31mTypeError\u001b[0m: 'tuple' object does not support item assignment"
     ]
    }
   ],
   "source": [
    "t[0] = 'A'"
   ]
  },
  {
   "attachments": {},
   "cell_type": "markdown",
   "metadata": {},
   "source": [
    "You can’t modify the elements of a tuple, but you can replace one tuple with another:"
   ]
  },
  {
   "cell_type": "code",
   "execution_count": 13,
   "metadata": {},
   "outputs": [
    {
     "name": "stdout",
     "output_type": "stream",
     "text": [
      "('A', 'b', 'c', 'd', 'e')\n"
     ]
    }
   ],
   "source": [
    "t = ('A',) + t[1:]\n",
    "print(t)"
   ]
  },
  {
   "cell_type": "markdown",
   "metadata": {},
   "source": [
    "**Exercise 8.1**\n",
    "\n",
    "You are given a list of tuples, each representing a student's name and their corresponding test scores from a course. Students can have multiple tests in a single course. Each tuple contains two elements: the student's name (a string) and the test score (an integer). Your task is to write a function called `total_scores` that takes this list of tuples as input and returns the total score for each student as a dictionary.\n",
    "\n",
    "Input:\n",
    "[(\"Alice\", 85), (\"Bob\", 72), (\"Alice\", 90), (\"Bob\", 68), (\"Charlie\", 95)]\n",
    "\n",
    "Output:\n",
    "{\"Alice\": 175, \"Bob\": 140, \"Charlie\": 95}"
   ]
  },
  {
   "cell_type": "code",
   "execution_count": 15,
   "metadata": {},
   "outputs": [],
   "source": [
    "scores_list = [(\"Alice\", 85), (\"Bob\", 72), (\"Alice\", 90), (\"Bob\", 68), (\"Charlie\", 95)]"
   ]
  },
  {
   "cell_type": "code",
   "execution_count": 4,
   "metadata": {},
   "outputs": [],
   "source": [
    "def total_scores(scores_list):\n",
    "    d = {}\n",
    "    # YOUR CODE HERE\n",
    "    for element in scores_list:\n",
    "        student_name, score = element\n",
    "        d[student_name] = d.get (student_name, 0) + score\n",
    "        print(student_name, score)\n",
    "    pass"
   ]
  },
  {
   "cell_type": "code",
   "execution_count": 5,
   "metadata": {},
   "outputs": [
    {
     "name": "stdout",
     "output_type": "stream",
     "text": [
      "Alice 85\n",
      "Bob 72\n",
      "Alice 90\n",
      "Bob 68\n",
      "Charlie 95\n"
     ]
    }
   ],
   "source": [
    "total_scores([(\"Alice\", 85), (\"Bob\", 72), (\"Alice\", 90), (\"Bob\", 68), (\"Charlie\", 95)])"
   ]
  },
  {
   "attachments": {},
   "cell_type": "markdown",
   "metadata": {},
   "source": [
    "## 8.2 Comparing tuples"
   ]
  },
  {
   "attachments": {},
   "cell_type": "markdown",
   "metadata": {},
   "source": [
    "The comparison operators work with tuples and other sequences. Python starts by comparing the first element from each sequence. If they are equal, it goes on to the next element, and so on, until it finds elements that differ. Subsequent elements are not considered (even if they are really big)."
   ]
  },
  {
   "cell_type": "code",
   "execution_count": 23,
   "metadata": {},
   "outputs": [
    {
     "data": {
      "text/plain": [
       "True"
      ]
     },
     "execution_count": 23,
     "metadata": {},
     "output_type": "execute_result"
    }
   ],
   "source": [
    "(0, 1, 2) < (0, 3, 4)"
   ]
  },
  {
   "cell_type": "code",
   "execution_count": 24,
   "metadata": {},
   "outputs": [
    {
     "data": {
      "text/plain": [
       "True"
      ]
     },
     "execution_count": 24,
     "metadata": {},
     "output_type": "execute_result"
    }
   ],
   "source": [
    "(0, 1, 2000000) < (0, 3, 4)"
   ]
  },
  {
   "attachments": {},
   "cell_type": "markdown",
   "metadata": {},
   "source": [
    "The `sort` function works the same way. It sorts primarily by first element, but in the case of a tie, it sorts by second element, and so on.\n",
    "\n",
    "This feature lends itself to a pattern called _DSU_ for\n",
    "\n",
    "**Decorate**\n",
    "\n",
    "a sequence by building a list of tuples with one or more sort keys preceding the elements from the sequence,\n",
    "\n",
    "**Sort**\n",
    "\n",
    "the list of tuples using the Python built-in sort, and\n",
    "\n",
    "**Undecorate**\n",
    "\n",
    "by extracting the sorted elements of the sequence.\n",
    "\n",
    "For example, suppose you have a list of words and you want to sort them from longest to shortest:"
   ]
  },
  {
   "cell_type": "code",
   "execution_count": 25,
   "metadata": {},
   "outputs": [
    {
     "name": "stdout",
     "output_type": "stream",
     "text": [
      "[(3, 'but'), (4, 'soft'), (4, 'what'), (5, 'light'), (2, 'in'), (6, 'yonder'), (6, 'window'), (6, 'breaks')]\n"
     ]
    }
   ],
   "source": [
    "txt = 'but soft what light in yonder window breaks'\n",
    "words = txt.split()\n",
    "\n",
    "# Creating a list of tuples\n",
    "# First element will be word length\n",
    "t = []\n",
    "for word in words:\n",
    "    t.append((len(word), word))\n",
    "\n",
    "print(t)"
   ]
  },
  {
   "cell_type": "code",
   "execution_count": 26,
   "metadata": {},
   "outputs": [
    {
     "name": "stdout",
     "output_type": "stream",
     "text": [
      "[(6, 'yonder'), (6, 'window'), (6, 'breaks'), (5, 'light'), (4, 'what'), (4, 'soft'), (3, 'but'), (2, 'in')]\n"
     ]
    }
   ],
   "source": [
    "t.sort(reverse=True)\n",
    "print(t)"
   ]
  },
  {
   "cell_type": "code",
   "execution_count": 27,
   "metadata": {},
   "outputs": [
    {
     "name": "stdout",
     "output_type": "stream",
     "text": [
      "['yonder', 'window', 'breaks', 'light', 'what', 'soft', 'but', 'in']\n"
     ]
    }
   ],
   "source": [
    "# Now the words are sorted\n",
    "# We don't need the word lengths\n",
    "res = list()\n",
    "for length, word in t:\n",
    "    res.append(word)\n",
    "\n",
    "print(res)"
   ]
  },
  {
   "attachments": {},
   "cell_type": "markdown",
   "metadata": {},
   "source": [
    "The first loop builds a list of tuples, where each tuple is a word preceded by its length.\n",
    "\n",
    "`sort` compares the first element, length, first, and only considers the second element to break ties. The keyword argument `reverse=True` tells `sort` to go in decreasing order.\n",
    "\n",
    "The second loop traverses the list of tuples and builds a list of words in descending order of length. The four-character words are sorted in _reverse_ alphabetical order, so “what” appears before “soft” in the following list."
   ]
  },
  {
   "attachments": {},
   "cell_type": "markdown",
   "metadata": {},
   "source": [
    "## 8.3 Tuple assignment"
   ]
  },
  {
   "attachments": {},
   "cell_type": "markdown",
   "metadata": {},
   "source": [
    "One of the unique syntactic features of the Python language is the ability to have a tuple on the left side and a sequence on the right side of an assignment statement. This allows you to assign more than one variable at a time to the given sequence.\n",
    "\n",
    "In this example we have a two-element list (which is a sequence) and assign the first and second elements of the sequence to the variables `x` and `y` in a single statement."
   ]
  },
  {
   "cell_type": "code",
   "execution_count": 28,
   "metadata": {},
   "outputs": [],
   "source": [
    "m = [ 'have', 'fun' ]\n",
    "x, y = m"
   ]
  },
  {
   "cell_type": "code",
   "execution_count": 29,
   "metadata": {},
   "outputs": [
    {
     "name": "stdout",
     "output_type": "stream",
     "text": [
      "have\n",
      "fun\n"
     ]
    }
   ],
   "source": [
    "print(x)\n",
    "print(y)"
   ]
  },
  {
   "attachments": {},
   "cell_type": "markdown",
   "metadata": {},
   "source": [
    "As if you are doing:"
   ]
  },
  {
   "cell_type": "code",
   "execution_count": 30,
   "metadata": {},
   "outputs": [
    {
     "name": "stdout",
     "output_type": "stream",
     "text": [
      "have\n",
      "fun\n"
     ]
    }
   ],
   "source": [
    "m = [ 'have', 'fun' ]\n",
    "x = m[0]\n",
    "y = m[1]\n",
    "print(x)\n",
    "print(y)"
   ]
  },
  {
   "attachments": {},
   "cell_type": "markdown",
   "metadata": {},
   "source": [
    "Stylistically when we use a tuple on the left side of the assignment statement, we omit the parentheses, but the following is an equally valid syntax:"
   ]
  },
  {
   "cell_type": "code",
   "execution_count": 32,
   "metadata": {},
   "outputs": [
    {
     "name": "stdout",
     "output_type": "stream",
     "text": [
      "have\n",
      "fun\n"
     ]
    }
   ],
   "source": [
    "m = [ 'have', 'fun' ]\n",
    "(x, y) = m\n",
    "print(x)\n",
    "print(y)"
   ]
  },
  {
   "attachments": {},
   "cell_type": "markdown",
   "metadata": {},
   "source": [
    "A particularly clever application of tuple assignment allows us to swap the values of two variables in a single statement:"
   ]
  },
  {
   "cell_type": "code",
   "execution_count": 33,
   "metadata": {},
   "outputs": [
    {
     "name": "stdout",
     "output_type": "stream",
     "text": [
      "a is 3\n",
      "b is 5\n"
     ]
    }
   ],
   "source": [
    "a = 5\n",
    "b = 3\n",
    "a, b = b, a\n",
    "print(f'a is {a}')\n",
    "print(f'b is {b}')"
   ]
  },
  {
   "attachments": {},
   "cell_type": "markdown",
   "metadata": {},
   "source": [
    "Both sides of this statement are tuples, but the left side is a tuple of variables; the right side is a tuple of expressions. Each value on the right side is assigned to its respective variable on the left side. All the expressions on the right side are evaluated before any of the assignments.\n",
    "\n",
    "The number of variables on the left and the number of values on the right must be the same:"
   ]
  },
  {
   "cell_type": "code",
   "execution_count": 34,
   "metadata": {},
   "outputs": [
    {
     "ename": "ValueError",
     "evalue": "too many values to unpack (expected 2)",
     "output_type": "error",
     "traceback": [
      "\u001b[0;31m---------------------------------------------------------------------------\u001b[0m",
      "\u001b[0;31mValueError\u001b[0m                                Traceback (most recent call last)",
      "\u001b[1;32m/Users/daria/Desktop/2023-24a-fai1-adsai-dariavladutu236578/Introduction to Programming with Python/8. Tuples.ipynb Cell 50\u001b[0m line \u001b[0;36m1\n\u001b[0;32m----> <a href='vscode-notebook-cell:/Users/daria/Desktop/2023-24a-fai1-adsai-dariavladutu236578/Introduction%20to%20Programming%20with%20Python/8.%20Tuples.ipynb#X66sZmlsZQ%3D%3D?line=0'>1</a>\u001b[0m a, b \u001b[39m=\u001b[39m \u001b[39m1\u001b[39m, \u001b[39m2\u001b[39m, \u001b[39m3\u001b[39m\n",
      "\u001b[0;31mValueError\u001b[0m: too many values to unpack (expected 2)"
     ]
    }
   ],
   "source": [
    "a, b = 1, 2, 3"
   ]
  },
  {
   "attachments": {},
   "cell_type": "markdown",
   "metadata": {},
   "source": [
    "More generally, the right side can be any kind of sequence (string, list, or tuple). For example, to split an email address into a user name and a domain, you could write:"
   ]
  },
  {
   "cell_type": "code",
   "execution_count": 1,
   "metadata": {},
   "outputs": [],
   "source": [
    "address = 'monty@python.org'\n",
    "local_part, domain = address.split('@')"
   ]
  },
  {
   "attachments": {},
   "cell_type": "markdown",
   "metadata": {},
   "source": [
    "The return value from `split` is a list with two elements; the first element is assigned to `local_part`, the second to `domain`."
   ]
  },
  {
   "cell_type": "code",
   "execution_count": 2,
   "metadata": {},
   "outputs": [
    {
     "name": "stdout",
     "output_type": "stream",
     "text": [
      "monty\n",
      "python.org\n"
     ]
    }
   ],
   "source": [
    "print(local_part)\n",
    "print(domain)"
   ]
  },
  {
   "cell_type": "markdown",
   "metadata": {},
   "source": [
    "**Exercise 8.2**\n",
    "\n",
    "A rectangle can be defined by four numbers, coordinates of a corner x and y, together with is width and height. You given these numbers as a tuple (x, y, w, h). Use tuple assignment to extract width and height of the rectangle and calculate its area."
   ]
  },
  {
   "cell_type": "code",
   "execution_count": 5,
   "metadata": {},
   "outputs": [
    {
     "name": "stdout",
     "output_type": "stream",
     "text": [
      "500\n"
     ]
    }
   ],
   "source": [
    "rectangle = (0, 0, 10, 50)\n",
    "# YOUR CODE HERE\n",
    "x, y, w, h = rectangle\n",
    "area = w * h\n",
    "print(area)"
   ]
  },
  {
   "attachments": {},
   "cell_type": "markdown",
   "metadata": {},
   "source": [
    "## 8.4 Dictionaries and tuples"
   ]
  },
  {
   "attachments": {},
   "cell_type": "markdown",
   "metadata": {},
   "source": [
    "Dictionaries have a method called `items` that returns a list of tuples*, where each tuple is a key-value pair:"
   ]
  },
  {
   "cell_type": "code",
   "execution_count": 6,
   "metadata": {},
   "outputs": [
    {
     "data": {
      "text/plain": [
       "[('b', 1), ('a', 10), ('c', 22)]"
      ]
     },
     "execution_count": 6,
     "metadata": {},
     "output_type": "execute_result"
    }
   ],
   "source": [
    "d = {'b':1, 'a':10, 'c':22}\n",
    "t = list(d.items())\n",
    "t"
   ]
  },
  {
   "attachments": {},
   "cell_type": "markdown",
   "metadata": {},
   "source": [
    "As you should expect from a dictionary, the items are in non-alphabetical order.\n",
    "\n",
    "However, since the list of tuples is a list, and tuples are comparable, we can now sort the list of tuples. Converting a dictionary to a list of tuples is a way for us to output the contents of a dictionary sorted by key:"
   ]
  },
  {
   "cell_type": "code",
   "execution_count": 7,
   "metadata": {},
   "outputs": [
    {
     "data": {
      "text/plain": [
       "[('b', 1), ('a', 10), ('c', 22)]"
      ]
     },
     "execution_count": 7,
     "metadata": {},
     "output_type": "execute_result"
    }
   ],
   "source": [
    "d = {'b':1, 'a':10, 'c':22}\n",
    "t = list(d.items())\n",
    "t"
   ]
  },
  {
   "cell_type": "code",
   "execution_count": 8,
   "metadata": {},
   "outputs": [
    {
     "data": {
      "text/plain": [
       "[('a', 10), ('b', 1), ('c', 22)]"
      ]
     },
     "execution_count": 8,
     "metadata": {},
     "output_type": "execute_result"
    }
   ],
   "source": [
    "t.sort()\n",
    "t"
   ]
  },
  {
   "attachments": {},
   "cell_type": "markdown",
   "metadata": {},
   "source": [
    "The new list is sorted in ascending alphabetical order by the key value."
   ]
  },
  {
   "attachments": {},
   "cell_type": "markdown",
   "metadata": {},
   "source": [
    "### 🐍 *Advanced 🐍\n",
    "\n",
    "Notice that `d.items()` actually returns _dictionary view objects_, not a list. We use `list(d.items())` to get a list. Dictionary view objects are out of scope for this block, but if you would like to learn more, take a look at the documentation:\n",
    "\n",
    "https://docs.python.org/3/library/stdtypes.html#dict-views"
   ]
  },
  {
   "attachments": {},
   "cell_type": "markdown",
   "metadata": {},
   "source": [
    "## 8.5 Multiple assignment with dictionaries"
   ]
  },
  {
   "attachments": {},
   "cell_type": "markdown",
   "metadata": {},
   "source": [
    "Combining `items`, tuple assignment, and `for`, you can see a nice code pattern for traversing the keys and values of a dictionary in a single loop:"
   ]
  },
  {
   "cell_type": "code",
   "execution_count": 9,
   "metadata": {},
   "outputs": [
    {
     "name": "stdout",
     "output_type": "stream",
     "text": [
      "a 10\n",
      "b 1\n",
      "c 22\n"
     ]
    }
   ],
   "source": [
    "d = {'a':10, 'b':1, 'c':22}\n",
    "for key, val in d.items(): # list is not needed\n",
    "    print(key, val)"
   ]
  },
  {
   "attachments": {},
   "cell_type": "markdown",
   "metadata": {},
   "source": [
    "This loop has two _iteration variables_ `key`, `val` (tuple assignment) that successively iterates through each of the key-value pairs in the dictionary. For each iteration through the loop, both `key` and `value` are advanced to the next key-value pair in the dictionary.\n",
    "\n",
    "Using this, we can sort key - value pairs by value:"
   ]
  },
  {
   "cell_type": "code",
   "execution_count": 10,
   "metadata": {},
   "outputs": [
    {
     "name": "stdout",
     "output_type": "stream",
     "text": [
      "[(22, 'c'), (10, 'a'), (1, 'b')]\n"
     ]
    }
   ],
   "source": [
    "d = {'a':10, 'b':1, 'c':22}\n",
    "t = []\n",
    "for key, val in d.items() :\n",
    "    t.append((val, key)) # note the order is v, k not k, v\n",
    "t.sort(reverse=True)\n",
    "print(t)"
   ]
  },
  {
   "attachments": {},
   "cell_type": "markdown",
   "metadata": {},
   "source": [
    "By carefully constructing the list of tuples to have the value as the first element of each tuple, we can sort the list of tuples and get our dictionary contents sorted by value."
   ]
  },
  {
   "attachments": {},
   "cell_type": "markdown",
   "metadata": {},
   "source": [
    "## 8.6 Using tuples as keys in dictionaries"
   ]
  },
  {
   "attachments": {},
   "cell_type": "markdown",
   "metadata": {},
   "source": [
    "Because tuples are _hashable_ and lists are not, if we want to create a _composite_ key to use in a dictionary we must use a tuple as the key.\n",
    "\n",
    "We would encounter a composite key if we wanted to create a telephone directory that maps from last-name, first-name pairs to telephone numbers. Assuming that we have defined the variables `last`, `first`, and `number`, we could write a dictionary assignment statement as follows:"
   ]
  },
  {
   "cell_type": "code",
   "execution_count": 11,
   "metadata": {},
   "outputs": [],
   "source": [
    "directory = {}\n",
    "directory['Doe', 'Jane'] = '0686944967'\n",
    "directory['Doe', 'John'] = '0612483242'"
   ]
  },
  {
   "cell_type": "code",
   "execution_count": 12,
   "metadata": {},
   "outputs": [
    {
     "data": {
      "text/plain": [
       "{('Doe', 'Jane'): '0686944967', ('Doe', 'John'): '0612483242'}"
      ]
     },
     "execution_count": 12,
     "metadata": {},
     "output_type": "execute_result"
    }
   ],
   "source": [
    "directory"
   ]
  },
  {
   "attachments": {},
   "cell_type": "markdown",
   "metadata": {},
   "source": [
    "The expression in brackets is a `tuple`. We could use tuple assignment in a `for` loop to traverse this dictionary."
   ]
  },
  {
   "cell_type": "code",
   "execution_count": 13,
   "metadata": {},
   "outputs": [
    {
     "name": "stdout",
     "output_type": "stream",
     "text": [
      "Jane Doe 0686944967\n",
      "John Doe 0612483242\n"
     ]
    }
   ],
   "source": [
    "for last, first in directory:\n",
    "    print(first, last, directory[last,first])"
   ]
  },
  {
   "attachments": {},
   "cell_type": "markdown",
   "metadata": {},
   "source": [
    "This loop traverses the keys in `directory`, which are tuples. It assigns the elements of each tuple to `last` and `first`, then prints the name and corresponding telephone number."
   ]
  },
  {
   "attachments": {},
   "cell_type": "markdown",
   "metadata": {},
   "source": [
    "## 8.7 Strings, Lists, Dictionaries, and Tuples - 😱"
   ]
  },
  {
   "cell_type": "markdown",
   "metadata": {},
   "source": [
    "**Exercise**\n",
    "\n",
    "Now that you have seen all, you should be able to compare and contrast these data structures. Answer the following:\n",
    "\n",
    "- Briefly define each data structure.\n",
    "\n",
    "- Which data structures are mutable?\n",
    "\n",
    "- Which data structures are immutable?\n",
    "\n",
    "- What type of data each can hold?\n",
    "\n",
    "- What is the difference between lists and tuples? Why should you care about tuples, can't you just use lists for everything?\n",
    "\n",
    "- What is the advantage of dictionaries over lists? For example, I can create a list of tuples where each tuple is a key-value pair, would this be the same as a dictionary?"
   ]
  },
  {
   "cell_type": "markdown",
   "metadata": {},
   "source": [
    "- Strings are sequences of characters; Lists are sequences of values; Dictionaries are sequences of lists with indices of any type; Tuples are also sequences of values (of any type) that are immutable, comparable and hashable\n",
    "- Mutable: Lists and Dictionaries; Immutable: Tuples and Strings\n",
    "- Strings: sequences of characters; Lists: a wide variety of data types, including numbers (integers, floats), strings, other lists, dictionaries, and more; Dictionaries: key-value pairs, where values can be of any data type; Tuples: mixture of different data types\n",
    "- The differences lie in mutability (Lists are mutable, Tuples are not) and in their syntax (Lists use [], whereas Tuples use ()). Since Tuples are immutable, you should use them when you want to guarantee that data should not be modified. Additionally, Tuples can be used as dictionary keys, whereas Lists cannot.\n",
    "- When looking up a key value, Dictionaries are more efficient because you can look up the corresponding value, whereas tranversing a List takes longer. Moreover, Dictionaries accept various types of values, unlike Lists, which only accept integers and strings. Regarding the example, a list of tuples is less efficient for key-based access and retrieval compared to using a built-in dictionary"
   ]
  },
  {
   "cell_type": "markdown",
   "metadata": {},
   "source": [
    "## 8.8 Sets"
   ]
  },
  {
   "cell_type": "markdown",
   "metadata": {},
   "source": [
    "There is one more data structure we would like to cover, called _sets_. A set is an unordered collection with no duplicate elements. It is not as fundamental as the other data structures we have covered, but still useful for certain tasks."
   ]
  },
  {
   "cell_type": "code",
   "execution_count": 14,
   "metadata": {},
   "outputs": [
    {
     "data": {
      "text/plain": [
       "set"
      ]
     },
     "execution_count": 14,
     "metadata": {},
     "output_type": "execute_result"
    }
   ],
   "source": [
    "this_is_a_set = {1, 2, 3}\n",
    "type(this_is_a_set)"
   ]
  },
  {
   "cell_type": "markdown",
   "metadata": {},
   "source": [
    "The fact that a set has no duplicate elements can be used to find the unique elements in a sequence. Let's say we have a list and we would like to find all the unique elements in the list."
   ]
  },
  {
   "cell_type": "code",
   "execution_count": 15,
   "metadata": {},
   "outputs": [],
   "source": [
    "some_list = [1, 5, 4, 5, 10, 2, 4]"
   ]
  },
  {
   "cell_type": "markdown",
   "metadata": {},
   "source": [
    "we can do it with some loop patterns, but it is much easier if we use convert the list to a set:"
   ]
  },
  {
   "cell_type": "code",
   "execution_count": 16,
   "metadata": {},
   "outputs": [
    {
     "data": {
      "text/plain": [
       "{1, 2, 4, 5, 10}"
      ]
     },
     "execution_count": 16,
     "metadata": {},
     "output_type": "execute_result"
    }
   ],
   "source": [
    "set(some_list)"
   ]
  },
  {
   "cell_type": "markdown",
   "metadata": {},
   "source": [
    "Sets also support mathematical operations like union, intersection, difference, and symmetric difference:"
   ]
  },
  {
   "cell_type": "code",
   "execution_count": 17,
   "metadata": {},
   "outputs": [],
   "source": [
    "# Demonstrate set operations on unique letters from two words\n",
    "a = set('abracadabra')\n",
    "b = set('alacazam')"
   ]
  },
  {
   "cell_type": "code",
   "execution_count": 18,
   "metadata": {},
   "outputs": [
    {
     "data": {
      "text/plain": [
       "{'a', 'b', 'c', 'd', 'r'}"
      ]
     },
     "execution_count": 18,
     "metadata": {},
     "output_type": "execute_result"
    }
   ],
   "source": [
    "a # unique letters in a"
   ]
  },
  {
   "cell_type": "code",
   "execution_count": 19,
   "metadata": {},
   "outputs": [
    {
     "data": {
      "text/plain": [
       "{'b', 'd', 'r'}"
      ]
     },
     "execution_count": 19,
     "metadata": {},
     "output_type": "execute_result"
    }
   ],
   "source": [
    "a - b # letters in a but not in b"
   ]
  },
  {
   "cell_type": "code",
   "execution_count": 20,
   "metadata": {},
   "outputs": [
    {
     "data": {
      "text/plain": [
       "{'a', 'b', 'c', 'd', 'l', 'm', 'r', 'z'}"
      ]
     },
     "execution_count": 20,
     "metadata": {},
     "output_type": "execute_result"
    }
   ],
   "source": [
    "a | b # letters in a or b or both"
   ]
  },
  {
   "cell_type": "code",
   "execution_count": 21,
   "metadata": {},
   "outputs": [
    {
     "data": {
      "text/plain": [
       "{'a', 'c'}"
      ]
     },
     "execution_count": 21,
     "metadata": {},
     "output_type": "execute_result"
    }
   ],
   "source": [
    "a & b # letters in both a and b"
   ]
  },
  {
   "cell_type": "code",
   "execution_count": 22,
   "metadata": {},
   "outputs": [
    {
     "data": {
      "text/plain": [
       "{'b', 'd', 'l', 'm', 'r', 'z'}"
      ]
     },
     "execution_count": 22,
     "metadata": {},
     "output_type": "execute_result"
    }
   ],
   "source": [
    "a ^ b # letters in a or b but not both"
   ]
  },
  {
   "cell_type": "markdown",
   "metadata": {},
   "source": [
    "**Exercise 8.3**\n",
    "\n",
    "Write a function called `num_students` that returns the number of students in a `score_list` described in Exercise 8.1.\n",
    "\n",
    "Example input/output:\n",
    "\n",
    "[(\"Alice\", 85), (\"Bob\", 72), (\"Alice\", 90), (\"Bob\", 68), (\"Charlie\", 95)] -> 3"
   ]
  },
  {
   "cell_type": "code",
   "execution_count": null,
   "metadata": {},
   "outputs": [],
   "source": [
    "scores_list = [(\"Alice\", 85), (\"Bob\", 72), (\"Alice\", 90), (\"Bob\", 68), (\"Charlie\", 95)]"
   ]
  },
  {
   "cell_type": "code",
   "execution_count": 38,
   "metadata": {},
   "outputs": [],
   "source": [
    "def num_students(scores_list):\n",
    "    # YOUR CODE HERE\n",
    "    for student in scores_list:\n",
    "        if type(student) == str:\n",
    "            unique_students = set(student)\n",
    "    return len(unique_students)"
   ]
  },
  {
   "cell_type": "code",
   "execution_count": 39,
   "metadata": {},
   "outputs": [
    {
     "ename": "UnboundLocalError",
     "evalue": "local variable 'unique_students' referenced before assignment",
     "output_type": "error",
     "traceback": [
      "\u001b[0;31m---------------------------------------------------------------------------\u001b[0m",
      "\u001b[0;31mUnboundLocalError\u001b[0m                         Traceback (most recent call last)",
      "\u001b[1;32m/Users/daria/Desktop/2023-24a-fai1-adsai-dariavladutu236578/Introduction to Programming with Python/8. Tuples.ipynb Cell 98\u001b[0m line \u001b[0;36m1\n\u001b[0;32m----> <a href='vscode-notebook-cell:/Users/daria/Desktop/2023-24a-fai1-adsai-dariavladutu236578/Introduction%20to%20Programming%20with%20Python/8.%20Tuples.ipynb#Y212sZmlsZQ%3D%3D?line=0'>1</a>\u001b[0m num_students([(\u001b[39m\"\u001b[39;49m\u001b[39mAlice\u001b[39;49m\u001b[39m\"\u001b[39;49m, \u001b[39m85\u001b[39;49m), (\u001b[39m\"\u001b[39;49m\u001b[39mBob\u001b[39;49m\u001b[39m\"\u001b[39;49m, \u001b[39m72\u001b[39;49m), (\u001b[39m\"\u001b[39;49m\u001b[39mAlice\u001b[39;49m\u001b[39m\"\u001b[39;49m, \u001b[39m90\u001b[39;49m), (\u001b[39m\"\u001b[39;49m\u001b[39mBob\u001b[39;49m\u001b[39m\"\u001b[39;49m, \u001b[39m68\u001b[39;49m), (\u001b[39m\"\u001b[39;49m\u001b[39mCharlie\u001b[39;49m\u001b[39m\"\u001b[39;49m, \u001b[39m95\u001b[39;49m)])\n",
      "\u001b[1;32m/Users/daria/Desktop/2023-24a-fai1-adsai-dariavladutu236578/Introduction to Programming with Python/8. Tuples.ipynb Cell 98\u001b[0m line \u001b[0;36m7\n\u001b[1;32m      <a href='vscode-notebook-cell:/Users/daria/Desktop/2023-24a-fai1-adsai-dariavladutu236578/Introduction%20to%20Programming%20with%20Python/8.%20Tuples.ipynb#Y212sZmlsZQ%3D%3D?line=3'>4</a>\u001b[0m     \u001b[39mif\u001b[39;00m \u001b[39mtype\u001b[39m(student) \u001b[39m==\u001b[39m \u001b[39mstr\u001b[39m:\n\u001b[1;32m      <a href='vscode-notebook-cell:/Users/daria/Desktop/2023-24a-fai1-adsai-dariavladutu236578/Introduction%20to%20Programming%20with%20Python/8.%20Tuples.ipynb#Y212sZmlsZQ%3D%3D?line=4'>5</a>\u001b[0m         unique_students \u001b[39m=\u001b[39m \u001b[39mset\u001b[39m(student)\n\u001b[0;32m----> <a href='vscode-notebook-cell:/Users/daria/Desktop/2023-24a-fai1-adsai-dariavladutu236578/Introduction%20to%20Programming%20with%20Python/8.%20Tuples.ipynb#Y212sZmlsZQ%3D%3D?line=6'>7</a>\u001b[0m \u001b[39mreturn\u001b[39;00m \u001b[39mlen\u001b[39m(unique_students)\n",
      "\u001b[0;31mUnboundLocalError\u001b[0m: local variable 'unique_students' referenced before assignment"
     ]
    }
   ],
   "source": [
    "num_students([(\"Alice\", 85), (\"Bob\", 72), (\"Alice\", 90), (\"Bob\", 68), (\"Charlie\", 95)])"
   ]
  },
  {
   "cell_type": "markdown",
   "metadata": {},
   "source": [
    "**Exercise 8.4**\n",
    "\n",
    "Now consider you have `scores_list` from different courses. Write a function called `common_students` to find the students who take both courses."
   ]
  },
  {
   "cell_type": "code",
   "execution_count": null,
   "metadata": {},
   "outputs": [],
   "source": [
    "scores_list_course1 = [(\"Alice\", 90), (\"Bob\", 68), (\"Alice\", 85), (\"Bob\", 72), (\"Charlie\", 95)]\n",
    "scores_list_course2= [(\"Alice\", 98), (\"Bob\", 75), (\"Alice\", 90), (\"Bob\", 80), (\"Daphne\", 100)]"
   ]
  },
  {
   "cell_type": "markdown",
   "metadata": {},
   "source": [
    "for `scores_list_course1` and `scores_list_course2` as input, expected output is\n",
    "\n",
    "`['Alice', 'Bob']`"
   ]
  },
  {
   "cell_type": "code",
   "execution_count": 44,
   "metadata": {},
   "outputs": [],
   "source": [
    "def common_students(scores_list_course1, scores_list_course2):\n",
    "    # YOUR CODE HERE\n",
    "    for student in scores_list_course1:\n",
    "        for student in scores_list_course2:\n",
    "            a = set(scores_list_course1)\n",
    "            b = set(scores_list_course2)\n",
    "    return a&b\n",
    "    pass"
   ]
  },
  {
   "cell_type": "code",
   "execution_count": 45,
   "metadata": {},
   "outputs": [
    {
     "data": {
      "text/plain": [
       "{('Alice', 90)}"
      ]
     },
     "execution_count": 45,
     "metadata": {},
     "output_type": "execute_result"
    }
   ],
   "source": [
    "common_students([(\"Alice\", 90), (\"Bob\", 68), (\"Alice\", 85), (\"Bob\", 72), (\"Charlie\", 95)], [(\"Alice\", 98), (\"Bob\", 75), (\"Alice\", 90), (\"Bob\", 80), (\"Daphne\", 100)])"
   ]
  },
  {
   "attachments": {},
   "cell_type": "markdown",
   "metadata": {},
   "source": [
    "## 8.9 Exercises"
   ]
  },
  {
   "attachments": {},
   "cell_type": "markdown",
   "metadata": {},
   "source": [
    "**Exercise 8.5**\n",
    "\n",
    "Write a function called `letter_freq` that accepts a string as input and prints the letters in decreasing order of frequency.\n",
    "\n",
    "- The string can contain one ore more sentences.\n",
    "- Your program should convert all the input to lower case and only count the letters a-z.\n",
    "- Your program should not count spaces, commas and dots.\n",
    "\n",
    "Compare your results with the tables at https://wikipedia.org/wiki/Letter_frequencies.\n",
    "\n",
    "Some example input/output pairs:\n",
    "\n",
    "'The sun sets, painting the sky with hues of orange and pink. Stars twinkle, casting their ethereal glow upon the world.'\n",
    "\n",
    "```python\n",
    "t, 11.58%\n",
    "e, 11.58%\n",
    "n, 9.47%\n",
    "s, 8.42%\n",
    "i, 7.37%\n",
    "h, 7.37%\n",
    "a, 6.32%\n",
    "r, 5.26%\n",
    "o, 5.26%\n",
    "w, 4.21%\n",
    "l, 4.21%\n",
    "g, 4.21%\n",
    "u, 3.16%\n",
    "p, 3.16%\n",
    "k, 3.16%\n",
    "d, 2.11%\n",
    "y, 1.05%\n",
    "f, 1.05%\n",
    "c, 1.05%\n",
    "```\n",
    "\n",
    "'uncopyrightables'\n",
    "\n",
    "```python\n",
    "y, 6.25%\n",
    "u, 6.25%\n",
    "t, 6.25%\n",
    "s, 6.25%\n",
    "r, 6.25%\n",
    "p, 6.25%\n",
    "o, 6.25%\n",
    "n, 6.25%\n",
    "l, 6.25%\n",
    "i, 6.25%\n",
    "h, 6.25%\n",
    "g, 6.25%\n",
    "e, 6.25%\n",
    "c, 6.25%\n",
    "b, 6.25%\n",
    "a, 6.25%\n",
    "```"
   ]
  },
  {
   "cell_type": "code",
   "execution_count": 5,
   "metadata": {},
   "outputs": [],
   "source": [
    "test_case_1 = 'The sun sets, painting the sky with hues of orange and pink. Stars twinkle, casting their ethereal glow upon the world.'\n",
    "test_case_2 = 'uncopyrightables'"
   ]
  },
  {
   "cell_type": "code",
   "execution_count": 6,
   "metadata": {},
   "outputs": [
    {
     "name": "stdout",
     "output_type": "stream",
     "text": [
      "{'u': 6.25, 'n': 6.25, 'c': 6.25, 'o': 6.25, 'p': 6.25, 'y': 6.25, 'r': 6.25, 'i': 6.25, 'g': 6.25, 'h': 6.25, 't': 6.25, 'a': 6.25, 'b': 6.25, 'l': 6.25, 'e': 6.25, 's': 6.25}\n"
     ]
    }
   ],
   "source": [
    "# YOUR CODE HERE\n",
    "def letter_freq(input_string):\n",
    "    input_string = input_string.lower()\n",
    "    letter_frequencies =  {}\n",
    "    char_count = 0\n",
    "    for char in input_string:\n",
    "        if char.isalpha():\n",
    "            char_count +=1\n",
    "            if char in letter_frequencies:\n",
    "                letter_frequencies[char] += 1\n",
    "            else:\n",
    "                letter_frequencies[char] = 1\n",
    "    for key, value in letter_frequencies.items():\n",
    "        letter_frequencies[key] = round(value /  char_count * 100, 2)\n",
    "    return letter_frequencies\n",
    "print(letter_freq(test_case_2))"
   ]
  }
 ],
 "metadata": {
  "kernelspec": {
   "display_name": "ml",
   "language": "python",
   "name": "python3"
  },
  "language_info": {
   "codemirror_mode": {
    "name": "ipython",
    "version": 3
   },
   "file_extension": ".py",
   "mimetype": "text/x-python",
   "name": "python",
   "nbconvert_exporter": "python",
   "pygments_lexer": "ipython3",
   "version": "3.8.16"
  },
  "orig_nbformat": 4
 },
 "nbformat": 4,
 "nbformat_minor": 2
}
